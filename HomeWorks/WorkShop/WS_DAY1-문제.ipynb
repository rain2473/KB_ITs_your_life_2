{
 "cells": [
  {
   "cell_type": "markdown",
   "metadata": {},
   "source": [
    "### Q1\n",
    "- 아래의 값을 저장하고 있는 info 변수를 생성하세요.\n",
    "    - ['Park', '010-1234-5678', 'Seoul']\n",
    "- info의 두번째 값을 변수 phone에 저정하세요.\n",
    "    - 결과 : '010-1234-5678'\n",
    "- phone의 값을 '-'을 기준으로 분리하세요.\n",
    "    - 결과 : ['010', '1234', '5678']\n",
    "- 위의 리스트를 공백(' ')을 기준으로 연결하세요.\n",
    "    - 결과 : '010 1234 5678'"
   ]
  },
  {
   "cell_type": "code",
   "execution_count": 1,
   "metadata": {
    "ExecuteTime": {
     "end_time": "2022-02-11T06:47:17.399216Z",
     "start_time": "2022-02-11T06:47:17.382773Z"
    }
   },
   "outputs": [
    {
     "name": "stdout",
     "output_type": "stream",
     "text": [
      "010-1234-5678\n"
     ]
    }
   ],
   "source": [
    "# 아래의 값을 저장하고 있는 info 변수를 생성하세요.\n",
    "info=['Park', '010-1234-5678', 'Seoul']\n",
    "\n",
    "# info의 두번째 값을 변수 phone에 저정하세요.\n",
    "phone=info[1]\n",
    "\n",
    "# phone변수를 출력하세요\n",
    "print(phone)"
   ]
  },
  {
   "cell_type": "code",
   "execution_count": 2,
   "metadata": {
    "ExecuteTime": {
     "end_time": "2022-02-11T06:47:17.463562Z",
     "start_time": "2022-02-11T06:47:17.401382Z"
    }
   },
   "outputs": [
    {
     "name": "stdout",
     "output_type": "stream",
     "text": [
      "['010', '1234', '5678']\n"
     ]
    }
   ],
   "source": [
    "# phone의 값을 '-'을 기준으로 분리하여 phone에 저장하세요\n",
    "phone=phone.split(\"-\")\n",
    "# phone변수를 출력하세요\n",
    "print(phone)"
   ]
  },
  {
   "cell_type": "code",
   "execution_count": 3,
   "metadata": {
    "ExecuteTime": {
     "end_time": "2022-02-11T06:47:17.493935Z",
     "start_time": "2022-02-11T06:47:17.463562Z"
    }
   },
   "outputs": [
    {
     "name": "stdout",
     "output_type": "stream",
     "text": [
      "010 1234 5678\n"
     ]
    }
   ],
   "source": [
    "# 위의 결과를 공백(' ')을 기준으로 연결하세요.\n",
    "print(\" \".join(phone))"
   ]
  },
  {
   "cell_type": "markdown",
   "metadata": {},
   "source": [
    "<br/>\n",
    "<br/>\n",
    "<br/>\n",
    "<br/>"
   ]
  },
  {
   "cell_type": "markdown",
   "metadata": {},
   "source": [
    "### Q2\n",
    "- 아래의 값을 저장하고 있는 myList 변수를 생성하세요.\n",
    "    - myList = [1, 3, 12, 7, 10, 9]\n",
    "- myList를 역순으로 출력하세요.\n",
    "    - 결과: [9, 10, 7, 12, 3, 1]\n",
    "- temp에 [1,3,2]를 저장하고, 아래와 같은 결과가 나오도록 출력하세요.\n",
    "    - 결과: [9, 10, 7, 12, 3, 1, 1, 2, 3]"
   ]
  },
  {
   "cell_type": "code",
   "execution_count": 25,
   "metadata": {
    "ExecuteTime": {
     "end_time": "2022-02-11T06:47:17.509919Z",
     "start_time": "2022-02-11T06:47:17.493935Z"
    }
   },
   "outputs": [
    {
     "data": {
      "text/plain": [
       "[9, 10, 7, 12, 3, 1]"
      ]
     },
     "execution_count": 25,
     "metadata": {},
     "output_type": "execute_result"
    }
   ],
   "source": [
    "# 리스트를 생성하세요.\n",
    "myList=[1,3,12,7,10,9]\n",
    "\n",
    "# 역순으로 출력하세요.\n",
    "myList[::-1]"
   ]
  },
  {
   "cell_type": "code",
   "execution_count": 26,
   "metadata": {
    "ExecuteTime": {
     "end_time": "2022-02-11T06:47:17.525922Z",
     "start_time": "2022-02-11T06:47:17.509919Z"
    }
   },
   "outputs": [
    {
     "data": {
      "text/plain": [
       "[9, 10, 7, 12, 3, 1, 1, 3, 2]"
      ]
     },
     "execution_count": 26,
     "metadata": {},
     "output_type": "execute_result"
    }
   ],
   "source": [
    "# mylist와 temp를 사용하여 아래의 결과를 출력하세요.\n",
    "temp=[1,3,2]\n",
    "myList.reverse()\n",
    "myList=myList+temp\n",
    "myList"
   ]
  },
  {
   "cell_type": "markdown",
   "metadata": {},
   "source": [
    "<br/>\n",
    "<br/>\n",
    "<br/>\n",
    "<br/>"
   ]
  },
  {
   "cell_type": "markdown",
   "metadata": {},
   "source": [
    "### Q3\n",
    "- 아래의 값을 저장하고 있는 myList 변수를 생성하세요.\n",
    "    - myList = [[1,2,3], [4,5,6], [7,8]]\n",
    "- 결과와 같은 위치에 9를 추가하세요.\n",
    "    - 결과: [[1,2,3], [4,5,6], [7,8,9]]\n",
    "- 결과와 같은 위치에 [1,1,1]을 추가하세요.\n",
    "    - 결과: [[1,2,3], [1,1,1], [4,5,6], [7,8,9]]"
   ]
  },
  {
   "cell_type": "code",
   "execution_count": 38,
   "metadata": {
    "ExecuteTime": {
     "end_time": "2022-02-11T06:47:17.549940Z",
     "start_time": "2022-02-11T06:47:17.525922Z"
    }
   },
   "outputs": [
    {
     "data": {
      "text/plain": [
       "[[1, 2, 3], [4, 5, 6], [7, 8, 9]]"
      ]
     },
     "execution_count": 38,
     "metadata": {},
     "output_type": "execute_result"
    }
   ],
   "source": [
    "# 리스트를 생성하세요.\n",
    "myList=[[1,2,3],[4,5,6],[7,8]]\n",
    "\n",
    "# 9를 추가하세요.\n",
    "myList[2].append(9)\n",
    "myList"
   ]
  },
  {
   "cell_type": "code",
   "execution_count": 39,
   "metadata": {
    "ExecuteTime": {
     "end_time": "2022-02-11T06:47:17.565936Z",
     "start_time": "2022-02-11T06:47:17.549940Z"
    }
   },
   "outputs": [
    {
     "data": {
      "text/plain": [
       "[[1, 2, 3], [1, 1, 1], [4, 5, 6], [7, 8, 9]]"
      ]
     },
     "execution_count": 39,
     "metadata": {},
     "output_type": "execute_result"
    }
   ],
   "source": [
    "# [1,1,1] 를 추가하세요.\n",
    "myList.insert(1,[1,1,1])\n",
    "myList"
   ]
  },
  {
   "cell_type": "markdown",
   "metadata": {},
   "source": [
    "<br/>\n",
    "<br/>\n",
    "<br/>\n",
    "<br/>"
   ]
  },
  {
   "cell_type": "markdown",
   "metadata": {},
   "source": [
    "### Q4\n",
    "- 아래의 각 리스트를 region1과 region2에 저장하세요.\n",
    "    - ['서울', '서울', '대구', '강릉', '제주', '제주', '대전']\n",
    "    - ['인천', '광주', '부산', '대전', '제주']\n",
    "- region1의 중복값을 제거하세요.\n",
    "    - 결과 : ['서울', '대구', '제주', '강릉', '대전']\n",
    "- region1과 region2의 공통 값을 구하세요.\n",
    "    - 결과 : ['제주', '대전']"
   ]
  },
  {
   "cell_type": "code",
   "execution_count": 49,
   "metadata": {
    "ExecuteTime": {
     "end_time": "2022-02-11T06:47:17.581926Z",
     "start_time": "2022-02-11T06:47:17.565936Z"
    }
   },
   "outputs": [
    {
     "name": "stdout",
     "output_type": "stream",
     "text": [
      "['서울', '서울', '대구', '강릉', '제주', '제주', '대전']\n",
      "['대전', '서울', '제주', '대구', '강릉']\n"
     ]
    }
   ],
   "source": [
    "# region1, region2 리스트를 생성하세요.\n",
    "region1 = \"서울 서울 대구 강릉 제주 제주 대전\"\n",
    "region1 = region1.split(\" \")\n",
    "region2 = \"인천 광주 부산 대전 제주\"\n",
    "region2 = region2.split(\" \")\n",
    "print(region1)\n",
    "\n",
    "# region1의 중복값을 제거하세요.\n",
    "region1=list(set(region1))\n",
    "print(region1)"
   ]
  },
  {
   "cell_type": "code",
   "execution_count": 56,
   "metadata": {
    "ExecuteTime": {
     "end_time": "2022-02-11T06:47:17.597930Z",
     "start_time": "2022-02-11T06:47:17.581926Z"
    }
   },
   "outputs": [
    {
     "name": "stdout",
     "output_type": "stream",
     "text": [
      "['제주', '대전']\n"
     ]
    }
   ],
   "source": [
    "# region1과 region2의 공통 값을 구하세요.\n",
    "print(list(set(region1)&set(region2)))"
   ]
  },
  {
   "cell_type": "markdown",
   "metadata": {},
   "source": [
    "<br/>\n",
    "<br/>\n",
    "<br/>\n",
    "<br/>"
   ]
  },
  {
   "cell_type": "markdown",
   "metadata": {},
   "source": [
    "### Q5\n",
    "- 학생들의 이름과 점수를 key와 value로 가지는 score 변수를 생성하세요.\n",
    "    - 하준 90점, 서윤 86점, 지아 80점\n",
    "- 서윤의 점수를 76점으로 수정하세요.\n",
    "- score 변수에서 지아를 삭제하세요.\n",
    "- score 변수에 민우 100점을 추가하세요."
   ]
  },
  {
   "cell_type": "code",
   "execution_count": 57,
   "metadata": {
    "ExecuteTime": {
     "end_time": "2022-02-11T06:47:17.614179Z",
     "start_time": "2022-02-11T06:47:17.597930Z"
    }
   },
   "outputs": [
    {
     "data": {
      "text/plain": [
       "{'하준': 90, '서윤': 86, '지아': 80}"
      ]
     },
     "execution_count": 57,
     "metadata": {},
     "output_type": "execute_result"
    }
   ],
   "source": [
    "# 사전을 생성하세요.\n",
    "score={'하준':90,'서윤':86,'지아':80}\n",
    "score"
   ]
  },
  {
   "cell_type": "code",
   "execution_count": 61,
   "metadata": {
    "ExecuteTime": {
     "end_time": "2022-02-11T06:47:17.638200Z",
     "start_time": "2022-02-11T06:47:17.614179Z"
    }
   },
   "outputs": [
    {
     "data": {
      "text/plain": [
       "{'하준': 90, '서윤': 76, '지아': 80}"
      ]
     },
     "execution_count": 61,
     "metadata": {},
     "output_type": "execute_result"
    }
   ],
   "source": [
    "# 서윤의 점수를 76점으로 수정하세요.\n",
    "score['서윤']=76\n",
    "score"
   ]
  },
  {
   "cell_type": "code",
   "execution_count": 62,
   "metadata": {
    "ExecuteTime": {
     "end_time": "2022-02-11T06:47:17.654210Z",
     "start_time": "2022-02-11T06:47:17.638200Z"
    }
   },
   "outputs": [
    {
     "data": {
      "text/plain": [
       "{'하준': 90, '서윤': 76}"
      ]
     },
     "execution_count": 62,
     "metadata": {},
     "output_type": "execute_result"
    }
   ],
   "source": [
    "# 지아를 삭제하세요.\n",
    "score.pop('지아')\n",
    "score"
   ]
  },
  {
   "cell_type": "code",
   "execution_count": 64,
   "metadata": {
    "ExecuteTime": {
     "end_time": "2022-02-11T06:47:17.670200Z",
     "start_time": "2022-02-11T06:47:17.654210Z"
    }
   },
   "outputs": [
    {
     "data": {
      "text/plain": [
       "{'하준': 90, '서윤': 76, '민우': 100}"
      ]
     },
     "execution_count": 64,
     "metadata": {},
     "output_type": "execute_result"
    }
   ],
   "source": [
    "# 민우 100점을 추가하세요.\n",
    "score['민우']=100\n",
    "score"
   ]
  }
 ],
 "metadata": {
  "kernelspec": {
   "display_name": "Python 3",
   "language": "python",
   "name": "python3"
  },
  "language_info": {
   "codemirror_mode": {
    "name": "ipython",
    "version": 3
   },
   "file_extension": ".py",
   "mimetype": "text/x-python",
   "name": "python",
   "nbconvert_exporter": "python",
   "pygments_lexer": "ipython3",
   "version": "3.8.3"
  },
  "toc": {
   "base_numbering": 1,
   "nav_menu": {},
   "number_sections": true,
   "sideBar": true,
   "skip_h1_title": false,
   "title_cell": "Table of Contents",
   "title_sidebar": "Contents",
   "toc_cell": false,
   "toc_position": {},
   "toc_section_display": true,
   "toc_window_display": false
  },
  "varInspector": {
   "cols": {
    "lenName": 16,
    "lenType": 16,
    "lenVar": 40
   },
   "kernels_config": {
    "python": {
     "delete_cmd_postfix": "",
     "delete_cmd_prefix": "del ",
     "library": "var_list.py",
     "varRefreshCmd": "print(var_dic_list())"
    },
    "r": {
     "delete_cmd_postfix": ") ",
     "delete_cmd_prefix": "rm(",
     "library": "var_list.r",
     "varRefreshCmd": "cat(var_dic_list()) "
    }
   },
   "types_to_exclude": [
    "module",
    "function",
    "builtin_function_or_method",
    "instance",
    "_Feature"
   ],
   "window_display": false
  }
 },
 "nbformat": 4,
 "nbformat_minor": 4
}
