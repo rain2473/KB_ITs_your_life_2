{
 "cells": [
  {
   "cell_type": "markdown",
   "metadata": {},
   "source": [
    "### Q1\n",
    "- sleep 함수를 사용하면 일정 시간동안 실행중인 코드를 멈출 수 있습니다. ex. sleep(5) : 5초 동안 일시정지\n",
    "- for 반복문을 사용하여 구구단 2단 출력 후 1초 멈추고, 3단 출력 후 1초 멈추고, 4단을 출력하세요."
   ]
  },
  {
   "cell_type": "code",
   "execution_count": 2,
   "metadata": {
    "ExecuteTime": {
     "end_time": "2022-02-17T08:11:09.793395Z",
     "start_time": "2022-02-17T08:11:05.746241Z"
    }
   },
   "outputs": [
    {
     "name": "stdout",
     "output_type": "stream",
     "text": [
      "3\n",
      "2\n",
      "1\n",
      "Finish!!\n"
     ]
    }
   ],
   "source": [
    "# 코드를 실행하세요.\n",
    "from time import sleep\n",
    "\n",
    "# Start!! 출력하세요\n",
    "\n",
    "# 1초 쉬고 '3' 출력하세요\n",
    "sleep(1)\n",
    "print('3')\n",
    "# 1초 쉬고 '2' 출력하세요\n",
    "sleep(1)\n",
    "print('2')\n",
    "# 1초 쉬고 '1' 출력하세요\n",
    "sleep(1)\n",
    "print('1')\n",
    "# 1초 쉬고 'Finish!!' 출력하세요\n",
    "sleep(1)\n",
    "print('Finish!!')"
   ]
  },
  {
   "cell_type": "code",
   "execution_count": 9,
   "metadata": {
    "ExecuteTime": {
     "end_time": "2022-02-17T08:11:55.923289Z",
     "start_time": "2022-02-17T08:11:52.888032Z"
    }
   },
   "outputs": [
    {
     "name": "stdout",
     "output_type": "stream",
     "text": [
      "2*1=2\n",
      "2*2=4\n",
      "2*3=6\n",
      "2*4=8\n",
      "2*5=10\n",
      "2*6=12\n",
      "2*7=14\n",
      "2*8=16\n",
      "2*9=18\n",
      "3*1=3\n",
      "3*2=6\n",
      "3*3=9\n",
      "3*4=12\n",
      "3*5=15\n",
      "3*6=18\n",
      "3*7=21\n",
      "3*8=24\n",
      "3*9=27\n",
      "4*1=4\n",
      "4*2=8\n",
      "4*3=12\n",
      "4*4=16\n",
      "4*5=20\n",
      "4*6=24\n",
      "4*7=28\n",
      "4*8=32\n",
      "4*9=36\n"
     ]
    }
   ],
   "source": [
    "# 구구단 2단 출력 후 1초쉬고, 3단 출력 후 1초쉬고, 4단 출력하세요.\n",
    "for i in range(2,5):\n",
    "    for j in range(1,10):\n",
    "        print(f'{i}*{j}={i*j}')\n",
    "    sleep(1)"
   ]
  },
  {
   "cell_type": "markdown",
   "metadata": {},
   "source": [
    "<br/>\n",
    "<br/>\n",
    "<br/>\n",
    "<br/>"
   ]
  },
  {
   "cell_type": "markdown",
   "metadata": {},
   "source": [
    "### Q2\n",
    "- for 반복문을 사용하여 아래의 결과를 1초마다 한 줄씩 출력하세요.<br/>\n",
    "1<br/>\n",
    "1 3<br/>\n",
    "1 3 5<br/>\n",
    "1 3 5 7<br/>\n",
    "1 3 5 7 9"
   ]
  },
  {
   "cell_type": "code",
   "execution_count": 38,
   "metadata": {
    "ExecuteTime": {
     "end_time": "2022-02-17T08:13:35.196411Z",
     "start_time": "2022-02-17T08:13:20.021705Z"
    }
   },
   "outputs": [
    {
     "name": "stdout",
     "output_type": "stream",
     "text": [
      "1\n",
      "1 3\n",
      "1 3 5\n",
      "1 3 5 7\n",
      "1 3 5 7 9\n"
     ]
    }
   ],
   "source": [
    "for i in range(1,6):\n",
    "    for j in range(i):\n",
    "        if j!=i-1:\n",
    "            print(f'{2*j+1}',end=\" \")\n",
    "        else:\n",
    "            print(f'{2*j+1}')\n",
    "    sleep(1)"
   ]
  },
  {
   "cell_type": "markdown",
   "metadata": {},
   "source": [
    "<br/>\n",
    "<br/>\n",
    "<br/>\n",
    "<br/>"
   ]
  },
  {
   "cell_type": "markdown",
   "metadata": {},
   "source": [
    "### Q3\n",
    "- randint 함수는 무작위로 정수를 선택하는 함수입니다. ex. randint(10, 20) : 10이상 20이하의 정수를 무작위로 선택\n",
    "- while 반복문을 사용하여 로또 번호를 생성하는 코드를 작성하세요.\n",
    "    - 1이상 45이하의 중복되지않는 6개의 숫자 선택\n",
    "    - 오름차순으로 정렬 후 출력"
   ]
  },
  {
   "cell_type": "code",
   "execution_count": 48,
   "metadata": {
    "ExecuteTime": {
     "end_time": "2022-02-17T08:14:37.658641Z",
     "start_time": "2022-02-17T08:14:37.643030Z"
    }
   },
   "outputs": [
    {
     "data": {
      "text/plain": [
       "24"
      ]
     },
     "execution_count": 48,
     "metadata": {},
     "output_type": "execute_result"
    }
   ],
   "source": [
    "# 코드를 실행하세요.\n",
    "from random import randint\n",
    "\n",
    "randint(1,45)"
   ]
  },
  {
   "cell_type": "code",
   "execution_count": 158,
   "metadata": {
    "ExecuteTime": {
     "end_time": "2022-02-14T00:41:26.166312Z",
     "start_time": "2022-02-14T00:41:26.158330Z"
    }
   },
   "outputs": [
    {
     "name": "stdout",
     "output_type": "stream",
     "text": [
      "[1, 13, 26, 27, 37, 45]\n"
     ]
    }
   ],
   "source": [
    "# while 반복문을 사용하여 lotto 리스트에 6개의 로또 번호를 추가한 뒤 정렬하여 출력하세요.\n",
    "lotto=[]\n",
    "while len(lotto) != 6:\n",
    "    lotto.append(randint(1,45))\n",
    "    lotto=list(set(lotto))\n",
    "lotto.sort(reverse=False)\n",
    "print(lotto)"
   ]
  },
  {
   "cell_type": "markdown",
   "metadata": {},
   "source": [
    "<br/>\n",
    "<br/>\n",
    "<br/>\n",
    "<br/>"
   ]
  },
  {
   "cell_type": "markdown",
   "metadata": {},
   "source": [
    "### Q4\n",
    "- 현재 10000원이 있고, 물건과 수량을 랜덤으로 구매하려고 합니다.\n",
    "- 다음 조건을 만족시키면서 구매가 불가능하면 반복문을 종료하는 코드를 작성하세요.\n",
    "    - 한번에 물건 가격은 100이상 1000이하의 100단위, 수량은 1개 이상 5개 이하를 구매\n",
    "    - 구매가 가능하면 금액, 수량, 지불할 금액, 구매 후 남은 금액을 출력\n",
    "    - 구매가 불가능하면 금액, 수량, 지불할 금액, \"구매 불가\" 문구 출력 후 반복문 종료"
   ]
  },
  {
   "cell_type": "code",
   "execution_count": 165,
   "metadata": {
    "ExecuteTime": {
     "end_time": "2022-02-17T08:19:32.711582Z",
     "start_time": "2022-02-17T08:19:32.687429Z"
    }
   },
   "outputs": [
    {
     "name": "stdout",
     "output_type": "stream",
     "text": [
      "금액 : 600, 수량 : 2, 구매 후 남은 금액 : 8800\n",
      "금액 : 600, 수량 : 2, 구매 후 남은 금액 : 7600\n",
      "금액 : 400, 수량 : 2, 구매 후 남은 금액 : 6800\n",
      "금액 : 900, 수량 : 3, 구매 후 남은 금액 : 4100\n",
      "금액 : 700, 수량 : 2, 구매 후 남은 금액 : 2700\n",
      "금액 : 1000, 수량 : 2, 구매 후 남은 금액 : 700\n",
      "금액 : 500, 수량 : 4, 구매불가\n"
     ]
    }
   ],
   "source": [
    "balance = 10000 # 현재 금액\n",
    "import random\n",
    "pay_able = True\n",
    "\n",
    "while pay_able == True:\n",
    "    price = random.randint(1,10)*100\n",
    "    quntity = random.randint(1,5)\n",
    "    payment = price*quntity\n",
    "    if balance>=payment:\n",
    "        print(f'금액 : {price}, 수량 : {quntity}, 구매 후 남은 금액 : {balance-payment}')\n",
    "        balance=balance-payment\n",
    "    else:\n",
    "        print(f'금액 : {price}, 수량 : {quntity}, 구매불가')\n",
    "        pay_able = False"
   ]
  }
 ],
 "metadata": {
  "kernelspec": {
   "display_name": "Python 3",
   "language": "python",
   "name": "python3"
  },
  "language_info": {
   "codemirror_mode": {
    "name": "ipython",
    "version": 3
   },
   "file_extension": ".py",
   "mimetype": "text/x-python",
   "name": "python",
   "nbconvert_exporter": "python",
   "pygments_lexer": "ipython3",
   "version": "3.8.3"
  },
  "toc": {
   "base_numbering": 1,
   "nav_menu": {},
   "number_sections": true,
   "sideBar": true,
   "skip_h1_title": false,
   "title_cell": "Table of Contents",
   "title_sidebar": "Contents",
   "toc_cell": false,
   "toc_position": {},
   "toc_section_display": true,
   "toc_window_display": false
  },
  "varInspector": {
   "cols": {
    "lenName": 16,
    "lenType": 16,
    "lenVar": 40
   },
   "kernels_config": {
    "python": {
     "delete_cmd_postfix": "",
     "delete_cmd_prefix": "del ",
     "library": "var_list.py",
     "varRefreshCmd": "print(var_dic_list())"
    },
    "r": {
     "delete_cmd_postfix": ") ",
     "delete_cmd_prefix": "rm(",
     "library": "var_list.r",
     "varRefreshCmd": "cat(var_dic_list()) "
    }
   },
   "types_to_exclude": [
    "module",
    "function",
    "builtin_function_or_method",
    "instance",
    "_Feature"
   ],
   "window_display": false
  }
 },
 "nbformat": 4,
 "nbformat_minor": 4
}
