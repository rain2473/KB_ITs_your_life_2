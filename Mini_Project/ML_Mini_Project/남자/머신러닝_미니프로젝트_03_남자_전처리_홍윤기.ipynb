{
 "cells": [
  {
   "cell_type": "markdown",
   "id": "ff266328",
   "metadata": {},
   "source": [
    "# 남자 배구 전처리"
   ]
  },
  {
   "cell_type": "markdown",
   "id": "3bcc1df6",
   "metadata": {},
   "source": [
    "## 원본 파일 DF화 및 기초 전처리"
   ]
  },
  {
   "cell_type": "code",
   "execution_count": 1,
   "id": "554c4d63",
   "metadata": {},
   "outputs": [],
   "source": [
    "# Import module \n",
    "import pandas as pd"
   ]
  },
  {
   "cell_type": "code",
   "execution_count": 2,
   "id": "c48d4a59",
   "metadata": {},
   "outputs": [],
   "source": [
    "# 남자 배구 csv 데이터 파일 읽기\n",
    "df_male = pd.read_csv('./male_volleyball.csv')"
   ]
  },
  {
   "cell_type": "code",
   "execution_count": 3,
   "id": "6105fa28",
   "metadata": {},
   "outputs": [],
   "source": [
    "# 팀명 변경 : OK저축은행' -> 'OK금융그룹\n",
    "df_male['팀명'] = df_male['팀명'].replace({'OK저축은행':'OK금융그룹'})\n",
    "\n",
    "# 경기 날짜 datetime으로 타입 변경\n",
    "df_male['경기날짜'] = pd.to_datetime(df_male['경기날짜'])"
   ]
  },
  {
   "cell_type": "markdown",
   "id": "bbf3f8ab",
   "metadata": {},
   "source": [
    "## 피쳐(경기력) 전처리"
   ]
  },
  {
   "cell_type": "code",
   "execution_count": 4,
   "id": "d8388305",
   "metadata": {},
   "outputs": [],
   "source": [
    "# 필요한 컬럼 추출\n",
    "df_male_mod = df_male[['팀명', '경기날짜', '결과', '득점_득점',\n",
    "    '공격종합_시도', '공격종합_성공',\n",
    "    '후위_시도', '후위_성공',\n",
    "    '퀵오픈_시도', '퀵오픈_성공',\n",
    "    '서브_시도', '서브_성공',\n",
    "    '디그_시도', '디그_성공',\n",
    "    '세트_시도', '세트_성공',\n",
    "    '리시브_시도', '리시브_정확',\n",
    "    '블로킹_시도', '블로킹_성공']]\n",
    "\n",
    "# 팀명, 경기날짜 순으로 합계 그룹화\n",
    "df_male_mod = df_male_mod.groupby(['팀명', '경기날짜']).sum()\n",
    "\n",
    "# 결과 칼럼 값 변경 : 승리 - 1, 패배 - 0\n",
    "df_male_mod['결과'] = df_male_mod['결과'].apply(lambda x: 1 if x != 0 else 0)\n",
    "\n",
    "# 멀티인덱스 해제\n",
    "df_male_mod = df_male_mod.reset_index()\n",
    "\n",
    "# 각 조건별 성공률 컬럼 생성\n",
    "df_male_mod['공격종합성공률'] = df_male_mod['공격종합_성공'] / df_male_mod['공격종합_시도']\n",
    "df_male_mod.drop(columns=['공격종합_성공', '공격종합_시도'], inplace=True)\n",
    "\n",
    "df_male_mod['후위성공률'] = df_male_mod['후위_성공'] / df_male_mod['후위_시도']\n",
    "df_male_mod.drop(columns=['후위_성공', '후위_시도'], inplace=True)\n",
    "\n",
    "df_male_mod['퀵오픈성공률'] = df_male_mod['퀵오픈_성공'] / df_male_mod['퀵오픈_시도']\n",
    "df_male_mod.drop(columns=['퀵오픈_성공', '퀵오픈_시도'], inplace=True)\n",
    "\n",
    "df_male_mod['서브성공률'] = df_male_mod['서브_성공'] / df_male_mod['서브_시도']\n",
    "df_male_mod.drop(columns=['서브_성공', '서브_시도'], inplace=True)\n",
    "\n",
    "df_male_mod['디그성공률'] = df_male_mod['디그_성공'] / df_male_mod['디그_시도']\n",
    "df_male_mod.drop(columns=['디그_시도', '디그_성공'], inplace=True)\n",
    "\n",
    "df_male_mod['세트성공률'] = df_male_mod['세트_성공'] / df_male_mod['세트_시도']\n",
    "df_male_mod.drop(columns=['세트_성공', '세트_시도'], inplace=True)\n",
    "\n",
    "df_male_mod['리시브성공률'] = df_male_mod['리시브_정확'] / df_male_mod['리시브_시도']\n",
    "df_male_mod.drop(columns=['리시브_정확', '리시브_시도'], inplace=True)\n",
    "\n",
    "df_male_mod['블로킹성공률'] = df_male_mod['블로킹_성공'] / df_male_mod['블로킹_시도']\n",
    "df_male_mod.drop(columns=['블로킹_성공', '블로킹_시도'], inplace=True)"
   ]
  },
  {
   "cell_type": "markdown",
   "id": "f95620a0",
   "metadata": {},
   "source": [
    "## 결측치 처리"
   ]
  },
  {
   "cell_type": "code",
   "execution_count": 5,
   "id": "26534100",
   "metadata": {},
   "outputs": [],
   "source": [
    "# 결측치 제거\n",
    "df_male_mod.fillna(0, inplace=True)"
   ]
  },
  {
   "cell_type": "markdown",
   "id": "0fd03914",
   "metadata": {},
   "source": [
    "## 피쳐(상대전적) 전처리"
   ]
  },
  {
   "cell_type": "code",
   "execution_count": 6,
   "id": "41199a4a",
   "metadata": {},
   "outputs": [],
   "source": [
    "# 상대 전적 만들기\n",
    "df_male_vs = df_male[['팀명','경기날짜','결과']]\n",
    "\n",
    "# 중복 데이터 제거 (중복되는 첫 번째 행은 남김)\n",
    "df_male_vs = df_male_vs.drop_duplicates(keep = 'first')\n",
    "df_male_vs\n",
    "\n",
    "# 팀 이름, 경기날짜 리스트 생성\n",
    "team_list = df_male_vs['팀명'].unique()\n",
    "date_list = df_male_vs['경기날짜'].unique()\n",
    "\n",
    "# 조건 1 승리한 팀\n",
    "cond1 = df_male_vs['결과'] == 1\n",
    "\n",
    "# 조건 2 날짜별\n",
    "for date in date_list:\n",
    "    cond2 = df_male_vs['경기날짜'] == date\n",
    "    \n",
    "    # 상대팀 이름 변수에 저장\n",
    "    team1 = df_male_vs[cond1 & cond2]['팀명'].values[0]    # 승리팀\n",
    "    team2 = df_male_vs[~cond1 & cond2]['팀명'].values[0]   # 패배팀\n",
    "    \n",
    "    # '상대팀' 열에 상대팀 명 저장\n",
    "    df_male_vs.loc[cond1 & cond2,'상대팀'] = team2 # 승리팀의 상대팀 정보 저장\n",
    "    df_male_vs.loc[~cond1 & cond2,'상대팀'] = team1 # 패배팀의 상대팀 정보 저장"
   ]
  },
  {
   "cell_type": "markdown",
   "id": "44615e44",
   "metadata": {},
   "source": [
    "## 경기력과 상대전적 merge & One-Hot Encoding"
   ]
  },
  {
   "cell_type": "code",
   "execution_count": 7,
   "id": "4dfa25eb",
   "metadata": {},
   "outputs": [],
   "source": [
    "# 병합\n",
    "df_male_mod = pd.merge(df_male_mod, df_male_vs)\n",
    "\n",
    "# 팀명 원핫인코딩\n",
    "df_male_mod = pd.get_dummies(df_male_mod , columns=['팀명', '상대팀'])"
   ]
  },
  {
   "cell_type": "markdown",
   "id": "d0ff5b47",
   "metadata": {},
   "source": [
    "## 17.10 ~ 22.02 데이터와 22.03 ~ 04 데이터 분리"
   ]
  },
  {
   "cell_type": "code",
   "execution_count": 8,
   "id": "24fc4972",
   "metadata": {},
   "outputs": [
    {
     "name": "stderr",
     "output_type": "stream",
     "text": [
      "C:\\Users\\admin\\AppData\\Local\\Temp\\ipykernel_6640\\1555831880.py:10: SettingWithCopyWarning: \n",
      "A value is trying to be set on a copy of a slice from a DataFrame\n",
      "\n",
      "See the caveats in the documentation: https://pandas.pydata.org/pandas-docs/stable/user_guide/indexing.html#returning-a-view-versus-a-copy\n",
      "  train_male.drop(columns='경기날짜', inplace=True)\n",
      "C:\\Users\\admin\\AppData\\Local\\Temp\\ipykernel_6640\\1555831880.py:11: SettingWithCopyWarning: \n",
      "A value is trying to be set on a copy of a slice from a DataFrame\n",
      "\n",
      "See the caveats in the documentation: https://pandas.pydata.org/pandas-docs/stable/user_guide/indexing.html#returning-a-view-versus-a-copy\n",
      "  test_male.drop(columns='경기날짜', inplace=True)\n"
     ]
    }
   ],
   "source": [
    "# 2월 train 데이터와 3-4월 test 데이터 나누기\n",
    "year = df_male_mod['경기날짜'].dt.year\n",
    "month = df_male_mod['경기날짜'].dt.month\n",
    "cond_date = (year == 2022) & (month > 2)\n",
    "\n",
    "train_male = df_male_mod[~cond_date]\n",
    "test_male = df_male_mod[cond_date]\n",
    "\n",
    "# 경기 날짜 칼럼 제거\n",
    "train_male.drop(columns='경기날짜', inplace=True)\n",
    "test_male.drop(columns='경기날짜', inplace=True)"
   ]
  },
  {
   "cell_type": "markdown",
   "id": "7f9ac773",
   "metadata": {},
   "source": [
    "## CSV 파일 저장"
   ]
  },
  {
   "cell_type": "code",
   "execution_count": 9,
   "id": "19b0314f",
   "metadata": {},
   "outputs": [],
   "source": [
    "# csv 파일로 저장\n",
    "train_male.to_csv('train_male.csv')\n",
    "test_male.to_csv('test_male.csv')"
   ]
  }
 ],
 "metadata": {
  "kernelspec": {
   "display_name": "Python 3 (ipykernel)",
   "language": "python",
   "name": "python3"
  },
  "language_info": {
   "codemirror_mode": {
    "name": "ipython",
    "version": 3
   },
   "file_extension": ".py",
   "mimetype": "text/x-python",
   "name": "python",
   "nbconvert_exporter": "python",
   "pygments_lexer": "ipython3",
   "version": "3.9.12"
  }
 },
 "nbformat": 4,
 "nbformat_minor": 5
}
