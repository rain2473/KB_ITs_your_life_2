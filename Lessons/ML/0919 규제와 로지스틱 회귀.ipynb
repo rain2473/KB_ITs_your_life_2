{
 "cells": [
  {
   "cell_type": "markdown",
   "id": "3874086c",
   "metadata": {},
   "source": [
    "# 복습"
   ]
  },
  {
   "cell_type": "code",
   "execution_count": 84,
   "id": "c84bfa46",
   "metadata": {},
   "outputs": [],
   "source": [
    "import warnings\n",
    "warnings.filterwarnings(action='ignore')\n",
    "from sklearn import datasets\n",
    "from sklearn.model_selection import train_test_split\n",
    "from sklearn.linear_model import LinearRegression\n",
    "from sklearn.linear_model import LogisticRegression\n",
    "from sklearn.preprocessing import PolynomialFeatures\n",
    "from sklearn.preprocessing import MinMaxScaler\n",
    "from sklearn.linear_model import Ridge\n",
    "from sklearn.linear_model import Lasso\n",
    "import matplotlib.pyplot as plt\n",
    "import pandas as pd\n",
    "import numpy as np\n"
   ]
  },
  {
   "cell_type": "code",
   "execution_count": 10,
   "id": "8dd59c53",
   "metadata": {},
   "outputs": [
    {
     "data": {
      "text/html": [
       "<div>\n",
       "<style scoped>\n",
       "    .dataframe tbody tr th:only-of-type {\n",
       "        vertical-align: middle;\n",
       "    }\n",
       "\n",
       "    .dataframe tbody tr th {\n",
       "        vertical-align: top;\n",
       "    }\n",
       "\n",
       "    .dataframe thead th {\n",
       "        text-align: right;\n",
       "    }\n",
       "</style>\n",
       "<table border=\"1\" class=\"dataframe\">\n",
       "  <thead>\n",
       "    <tr style=\"text-align: right;\">\n",
       "      <th></th>\n",
       "      <th>CRIM</th>\n",
       "      <th>ZN</th>\n",
       "      <th>INDUS</th>\n",
       "      <th>CHAS</th>\n",
       "      <th>NOX</th>\n",
       "      <th>RM</th>\n",
       "      <th>AGE</th>\n",
       "      <th>DIS</th>\n",
       "      <th>RAD</th>\n",
       "      <th>TAX</th>\n",
       "      <th>PTRATIO</th>\n",
       "      <th>B</th>\n",
       "      <th>LSTAT</th>\n",
       "      <th>price</th>\n",
       "    </tr>\n",
       "  </thead>\n",
       "  <tbody>\n",
       "    <tr>\n",
       "      <th>0</th>\n",
       "      <td>0.00632</td>\n",
       "      <td>18.0</td>\n",
       "      <td>2.31</td>\n",
       "      <td>0.0</td>\n",
       "      <td>0.538</td>\n",
       "      <td>6.575</td>\n",
       "      <td>65.2</td>\n",
       "      <td>4.0900</td>\n",
       "      <td>1.0</td>\n",
       "      <td>296.0</td>\n",
       "      <td>15.3</td>\n",
       "      <td>396.90</td>\n",
       "      <td>4.98</td>\n",
       "      <td>24.0</td>\n",
       "    </tr>\n",
       "    <tr>\n",
       "      <th>1</th>\n",
       "      <td>0.02731</td>\n",
       "      <td>0.0</td>\n",
       "      <td>7.07</td>\n",
       "      <td>0.0</td>\n",
       "      <td>0.469</td>\n",
       "      <td>6.421</td>\n",
       "      <td>78.9</td>\n",
       "      <td>4.9671</td>\n",
       "      <td>2.0</td>\n",
       "      <td>242.0</td>\n",
       "      <td>17.8</td>\n",
       "      <td>396.90</td>\n",
       "      <td>9.14</td>\n",
       "      <td>21.6</td>\n",
       "    </tr>\n",
       "    <tr>\n",
       "      <th>2</th>\n",
       "      <td>0.02729</td>\n",
       "      <td>0.0</td>\n",
       "      <td>7.07</td>\n",
       "      <td>0.0</td>\n",
       "      <td>0.469</td>\n",
       "      <td>7.185</td>\n",
       "      <td>61.1</td>\n",
       "      <td>4.9671</td>\n",
       "      <td>2.0</td>\n",
       "      <td>242.0</td>\n",
       "      <td>17.8</td>\n",
       "      <td>392.83</td>\n",
       "      <td>4.03</td>\n",
       "      <td>34.7</td>\n",
       "    </tr>\n",
       "    <tr>\n",
       "      <th>3</th>\n",
       "      <td>0.03237</td>\n",
       "      <td>0.0</td>\n",
       "      <td>2.18</td>\n",
       "      <td>0.0</td>\n",
       "      <td>0.458</td>\n",
       "      <td>6.998</td>\n",
       "      <td>45.8</td>\n",
       "      <td>6.0622</td>\n",
       "      <td>3.0</td>\n",
       "      <td>222.0</td>\n",
       "      <td>18.7</td>\n",
       "      <td>394.63</td>\n",
       "      <td>2.94</td>\n",
       "      <td>33.4</td>\n",
       "    </tr>\n",
       "    <tr>\n",
       "      <th>4</th>\n",
       "      <td>0.06905</td>\n",
       "      <td>0.0</td>\n",
       "      <td>2.18</td>\n",
       "      <td>0.0</td>\n",
       "      <td>0.458</td>\n",
       "      <td>7.147</td>\n",
       "      <td>54.2</td>\n",
       "      <td>6.0622</td>\n",
       "      <td>3.0</td>\n",
       "      <td>222.0</td>\n",
       "      <td>18.7</td>\n",
       "      <td>396.90</td>\n",
       "      <td>5.33</td>\n",
       "      <td>36.2</td>\n",
       "    </tr>\n",
       "    <tr>\n",
       "      <th>...</th>\n",
       "      <td>...</td>\n",
       "      <td>...</td>\n",
       "      <td>...</td>\n",
       "      <td>...</td>\n",
       "      <td>...</td>\n",
       "      <td>...</td>\n",
       "      <td>...</td>\n",
       "      <td>...</td>\n",
       "      <td>...</td>\n",
       "      <td>...</td>\n",
       "      <td>...</td>\n",
       "      <td>...</td>\n",
       "      <td>...</td>\n",
       "      <td>...</td>\n",
       "    </tr>\n",
       "    <tr>\n",
       "      <th>501</th>\n",
       "      <td>0.06263</td>\n",
       "      <td>0.0</td>\n",
       "      <td>11.93</td>\n",
       "      <td>0.0</td>\n",
       "      <td>0.573</td>\n",
       "      <td>6.593</td>\n",
       "      <td>69.1</td>\n",
       "      <td>2.4786</td>\n",
       "      <td>1.0</td>\n",
       "      <td>273.0</td>\n",
       "      <td>21.0</td>\n",
       "      <td>391.99</td>\n",
       "      <td>9.67</td>\n",
       "      <td>22.4</td>\n",
       "    </tr>\n",
       "    <tr>\n",
       "      <th>502</th>\n",
       "      <td>0.04527</td>\n",
       "      <td>0.0</td>\n",
       "      <td>11.93</td>\n",
       "      <td>0.0</td>\n",
       "      <td>0.573</td>\n",
       "      <td>6.120</td>\n",
       "      <td>76.7</td>\n",
       "      <td>2.2875</td>\n",
       "      <td>1.0</td>\n",
       "      <td>273.0</td>\n",
       "      <td>21.0</td>\n",
       "      <td>396.90</td>\n",
       "      <td>9.08</td>\n",
       "      <td>20.6</td>\n",
       "    </tr>\n",
       "    <tr>\n",
       "      <th>503</th>\n",
       "      <td>0.06076</td>\n",
       "      <td>0.0</td>\n",
       "      <td>11.93</td>\n",
       "      <td>0.0</td>\n",
       "      <td>0.573</td>\n",
       "      <td>6.976</td>\n",
       "      <td>91.0</td>\n",
       "      <td>2.1675</td>\n",
       "      <td>1.0</td>\n",
       "      <td>273.0</td>\n",
       "      <td>21.0</td>\n",
       "      <td>396.90</td>\n",
       "      <td>5.64</td>\n",
       "      <td>23.9</td>\n",
       "    </tr>\n",
       "    <tr>\n",
       "      <th>504</th>\n",
       "      <td>0.10959</td>\n",
       "      <td>0.0</td>\n",
       "      <td>11.93</td>\n",
       "      <td>0.0</td>\n",
       "      <td>0.573</td>\n",
       "      <td>6.794</td>\n",
       "      <td>89.3</td>\n",
       "      <td>2.3889</td>\n",
       "      <td>1.0</td>\n",
       "      <td>273.0</td>\n",
       "      <td>21.0</td>\n",
       "      <td>393.45</td>\n",
       "      <td>6.48</td>\n",
       "      <td>22.0</td>\n",
       "    </tr>\n",
       "    <tr>\n",
       "      <th>505</th>\n",
       "      <td>0.04741</td>\n",
       "      <td>0.0</td>\n",
       "      <td>11.93</td>\n",
       "      <td>0.0</td>\n",
       "      <td>0.573</td>\n",
       "      <td>6.030</td>\n",
       "      <td>80.8</td>\n",
       "      <td>2.5050</td>\n",
       "      <td>1.0</td>\n",
       "      <td>273.0</td>\n",
       "      <td>21.0</td>\n",
       "      <td>396.90</td>\n",
       "      <td>7.88</td>\n",
       "      <td>11.9</td>\n",
       "    </tr>\n",
       "  </tbody>\n",
       "</table>\n",
       "<p>506 rows × 14 columns</p>\n",
       "</div>"
      ],
      "text/plain": [
       "        CRIM    ZN  INDUS  CHAS    NOX     RM   AGE     DIS  RAD    TAX  \\\n",
       "0    0.00632  18.0   2.31   0.0  0.538  6.575  65.2  4.0900  1.0  296.0   \n",
       "1    0.02731   0.0   7.07   0.0  0.469  6.421  78.9  4.9671  2.0  242.0   \n",
       "2    0.02729   0.0   7.07   0.0  0.469  7.185  61.1  4.9671  2.0  242.0   \n",
       "3    0.03237   0.0   2.18   0.0  0.458  6.998  45.8  6.0622  3.0  222.0   \n",
       "4    0.06905   0.0   2.18   0.0  0.458  7.147  54.2  6.0622  3.0  222.0   \n",
       "..       ...   ...    ...   ...    ...    ...   ...     ...  ...    ...   \n",
       "501  0.06263   0.0  11.93   0.0  0.573  6.593  69.1  2.4786  1.0  273.0   \n",
       "502  0.04527   0.0  11.93   0.0  0.573  6.120  76.7  2.2875  1.0  273.0   \n",
       "503  0.06076   0.0  11.93   0.0  0.573  6.976  91.0  2.1675  1.0  273.0   \n",
       "504  0.10959   0.0  11.93   0.0  0.573  6.794  89.3  2.3889  1.0  273.0   \n",
       "505  0.04741   0.0  11.93   0.0  0.573  6.030  80.8  2.5050  1.0  273.0   \n",
       "\n",
       "     PTRATIO       B  LSTAT  price  \n",
       "0       15.3  396.90   4.98   24.0  \n",
       "1       17.8  396.90   9.14   21.6  \n",
       "2       17.8  392.83   4.03   34.7  \n",
       "3       18.7  394.63   2.94   33.4  \n",
       "4       18.7  396.90   5.33   36.2  \n",
       "..       ...     ...    ...    ...  \n",
       "501     21.0  391.99   9.67   22.4  \n",
       "502     21.0  396.90   9.08   20.6  \n",
       "503     21.0  396.90   5.64   23.9  \n",
       "504     21.0  393.45   6.48   22.0  \n",
       "505     21.0  396.90   7.88   11.9  \n",
       "\n",
       "[506 rows x 14 columns]"
      ]
     },
     "execution_count": 10,
     "metadata": {},
     "output_type": "execute_result"
    }
   ],
   "source": [
    "# 불러오기 및 df 생성\n",
    "boston = datasets.load_boston()\n",
    "\n",
    "boston_df = pd.DataFrame(\n",
    "    boston['data'],\n",
    "    columns = boston['feature_names']\n",
    ")\n",
    "boston_df['price'] = boston['target']\n",
    "boston_df"
   ]
  },
  {
   "cell_type": "code",
   "execution_count": 11,
   "id": "a95ed3c0",
   "metadata": {},
   "outputs": [],
   "source": [
    "# 데이터 분할\n",
    "\n",
    "x = boston_df.drop(columns='price')\n",
    "y = boston_df['price']\n",
    "\n",
    "x_tr, x_te, y_tr, y_te = train_test_split(x,y,random_state=0)"
   ]
  },
  {
   "cell_type": "code",
   "execution_count": 12,
   "id": "1b0a6855",
   "metadata": {},
   "outputs": [
    {
     "name": "stdout",
     "output_type": "stream",
     "text": [
      "W:[-1.17735289e-01  4.40174969e-02 -5.76814314e-03  2.39341594e+00\n",
      " -1.55894211e+01  3.76896770e+00 -7.03517828e-03 -1.43495641e+00\n",
      "  2.40081086e-01 -1.12972810e-02 -9.85546732e-01  8.44443453e-03\n",
      " -4.99116797e-01]\n",
      "b:36.93325545711978\n"
     ]
    }
   ],
   "source": [
    "# 선형회귀\n",
    "\n",
    "model = LinearRegression().fit(x_tr, y_tr)\n",
    "\n",
    "print(f'W:{model.coef_}')\n",
    "print(f'b:{model.intercept_}')"
   ]
  },
  {
   "cell_type": "code",
   "execution_count": 13,
   "id": "8569efc4",
   "metadata": {},
   "outputs": [
    {
     "name": "stdout",
     "output_type": "stream",
     "text": [
      "trianing score :  0.7697699488741149\n",
      "testing score :  0.6354638433202124\n"
     ]
    }
   ],
   "source": [
    "# 모델 성능 평가\n",
    "print('trianing score : ', model.score(x_tr,y_tr))\n",
    "print('testing score : ', model.score(x_te, y_te))"
   ]
  },
  {
   "cell_type": "markdown",
   "id": "130dc2ef",
   "metadata": {},
   "source": [
    "# 다항회귀"
   ]
  },
  {
   "cell_type": "code",
   "execution_count": 6,
   "id": "c56f3600",
   "metadata": {},
   "outputs": [
    {
     "data": {
      "text/html": [
       "<div>\n",
       "<style scoped>\n",
       "    .dataframe tbody tr th:only-of-type {\n",
       "        vertical-align: middle;\n",
       "    }\n",
       "\n",
       "    .dataframe tbody tr th {\n",
       "        vertical-align: top;\n",
       "    }\n",
       "\n",
       "    .dataframe thead th {\n",
       "        text-align: right;\n",
       "    }\n",
       "</style>\n",
       "<table border=\"1\" class=\"dataframe\">\n",
       "  <thead>\n",
       "    <tr style=\"text-align: right;\">\n",
       "      <th></th>\n",
       "      <th>1</th>\n",
       "      <th>x0</th>\n",
       "      <th>x0^2</th>\n",
       "    </tr>\n",
       "  </thead>\n",
       "  <tbody>\n",
       "    <tr>\n",
       "      <th>0</th>\n",
       "      <td>1.0</td>\n",
       "      <td>0.0</td>\n",
       "      <td>0.0</td>\n",
       "    </tr>\n",
       "    <tr>\n",
       "      <th>1</th>\n",
       "      <td>1.0</td>\n",
       "      <td>1.0</td>\n",
       "      <td>1.0</td>\n",
       "    </tr>\n",
       "    <tr>\n",
       "      <th>2</th>\n",
       "      <td>1.0</td>\n",
       "      <td>2.0</td>\n",
       "      <td>4.0</td>\n",
       "    </tr>\n",
       "    <tr>\n",
       "      <th>3</th>\n",
       "      <td>1.0</td>\n",
       "      <td>3.0</td>\n",
       "      <td>9.0</td>\n",
       "    </tr>\n",
       "    <tr>\n",
       "      <th>4</th>\n",
       "      <td>1.0</td>\n",
       "      <td>4.0</td>\n",
       "      <td>16.0</td>\n",
       "    </tr>\n",
       "  </tbody>\n",
       "</table>\n",
       "</div>"
      ],
      "text/plain": [
       "     1   x0  x0^2\n",
       "0  1.0  0.0   0.0\n",
       "1  1.0  1.0   1.0\n",
       "2  1.0  2.0   4.0\n",
       "3  1.0  3.0   9.0\n",
       "4  1.0  4.0  16.0"
      ]
     },
     "execution_count": 6,
     "metadata": {},
     "output_type": "execute_result"
    }
   ],
   "source": [
    "# x0 특성을 2차항으로 변환(단일변수)\n",
    "p = PolynomialFeatures(degree=2)\n",
    "x = np.arange(5).reshape(-1,1)\n",
    "pd.DataFrame(p.fit_transform(x),columns=p.get_feature_names())"
   ]
  },
  {
   "cell_type": "code",
   "execution_count": 7,
   "id": "2e16d6a8",
   "metadata": {},
   "outputs": [
    {
     "data": {
      "text/html": [
       "<div>\n",
       "<style scoped>\n",
       "    .dataframe tbody tr th:only-of-type {\n",
       "        vertical-align: middle;\n",
       "    }\n",
       "\n",
       "    .dataframe tbody tr th {\n",
       "        vertical-align: top;\n",
       "    }\n",
       "\n",
       "    .dataframe thead th {\n",
       "        text-align: right;\n",
       "    }\n",
       "</style>\n",
       "<table border=\"1\" class=\"dataframe\">\n",
       "  <thead>\n",
       "    <tr style=\"text-align: right;\">\n",
       "      <th></th>\n",
       "      <th>1</th>\n",
       "      <th>x0</th>\n",
       "      <th>x1</th>\n",
       "      <th>x0^2</th>\n",
       "      <th>x0 x1</th>\n",
       "      <th>x1^2</th>\n",
       "    </tr>\n",
       "  </thead>\n",
       "  <tbody>\n",
       "    <tr>\n",
       "      <th>0</th>\n",
       "      <td>1.0</td>\n",
       "      <td>0.0</td>\n",
       "      <td>1.0</td>\n",
       "      <td>0.0</td>\n",
       "      <td>0.0</td>\n",
       "      <td>1.0</td>\n",
       "    </tr>\n",
       "    <tr>\n",
       "      <th>1</th>\n",
       "      <td>1.0</td>\n",
       "      <td>2.0</td>\n",
       "      <td>3.0</td>\n",
       "      <td>4.0</td>\n",
       "      <td>6.0</td>\n",
       "      <td>9.0</td>\n",
       "    </tr>\n",
       "    <tr>\n",
       "      <th>2</th>\n",
       "      <td>1.0</td>\n",
       "      <td>4.0</td>\n",
       "      <td>5.0</td>\n",
       "      <td>16.0</td>\n",
       "      <td>20.0</td>\n",
       "      <td>25.0</td>\n",
       "    </tr>\n",
       "    <tr>\n",
       "      <th>3</th>\n",
       "      <td>1.0</td>\n",
       "      <td>6.0</td>\n",
       "      <td>7.0</td>\n",
       "      <td>36.0</td>\n",
       "      <td>42.0</td>\n",
       "      <td>49.0</td>\n",
       "    </tr>\n",
       "    <tr>\n",
       "      <th>4</th>\n",
       "      <td>1.0</td>\n",
       "      <td>8.0</td>\n",
       "      <td>9.0</td>\n",
       "      <td>64.0</td>\n",
       "      <td>72.0</td>\n",
       "      <td>81.0</td>\n",
       "    </tr>\n",
       "  </tbody>\n",
       "</table>\n",
       "</div>"
      ],
      "text/plain": [
       "     1   x0   x1  x0^2  x0 x1  x1^2\n",
       "0  1.0  0.0  1.0   0.0    0.0   1.0\n",
       "1  1.0  2.0  3.0   4.0    6.0   9.0\n",
       "2  1.0  4.0  5.0  16.0   20.0  25.0\n",
       "3  1.0  6.0  7.0  36.0   42.0  49.0\n",
       "4  1.0  8.0  9.0  64.0   72.0  81.0"
      ]
     },
     "execution_count": 7,
     "metadata": {},
     "output_type": "execute_result"
    }
   ],
   "source": [
    "# x0,x1 특성을 2차항으로 변환(다변수)\n",
    "p = PolynomialFeatures(degree=2)\n",
    "x = np.arange(10).reshape(-1,2)\n",
    "pd.DataFrame(p.fit_transform(x),columns=p.get_feature_names())"
   ]
  },
  {
   "cell_type": "code",
   "execution_count": 14,
   "id": "8045cf95",
   "metadata": {},
   "outputs": [
    {
     "name": "stdout",
     "output_type": "stream",
     "text": [
      "trianing score :  0.952051960903273\n",
      "testing score :  0.6074721959725392\n"
     ]
    }
   ],
   "source": [
    "# 위의 보스턴을 2차항 다항회귀로 분석\n",
    "p = PolynomialFeatures(degree=2, include_bias=False)\n",
    "x_poly = p.fit_transform(x)\n",
    "column = p.get_feature_names_out()\n",
    "pd.DataFrame(x_poly,columns=column)\n",
    "\n",
    "# 데이터 분할\n",
    "x_tr, x_te, y_tr, y_te = train_test_split(x_poly,y,random_state=0)\n",
    "\n",
    "# 선형회귀\n",
    "\n",
    "model = LinearRegression().fit(x_tr, y_tr)\n",
    "\n",
    "# 모델 성능 평가\n",
    "print('trianing score : ', model.score(x_tr,y_tr))\n",
    "print('testing score : ', model.score(x_te, y_te))\n",
    "# tr_score는 크게 증가했으나, 막상 te_score는 감소함. => 과적합"
   ]
  },
  {
   "cell_type": "code",
   "execution_count": 15,
   "id": "adad6286",
   "metadata": {},
   "outputs": [
    {
     "name": "stdout",
     "output_type": "stream",
     "text": [
      "trianing score :  1.0\n",
      "testing score :  -9443.834174676314\n"
     ]
    }
   ],
   "source": [
    "# 위의 보스턴을 3차항 다항회귀로 분석\n",
    "p = PolynomialFeatures(degree=3, include_bias=False)\n",
    "x_poly = p.fit_transform(x)\n",
    "column = p.get_feature_names_out()\n",
    "pd.DataFrame(x_poly,columns=column)\n",
    "\n",
    "# 데이터 분할\n",
    "x_tr, x_te, y_tr, y_te = train_test_split(x_poly,y,random_state=0)\n",
    "\n",
    "# 선형회귀\n",
    "\n",
    "model = LinearRegression().fit(x_tr, y_tr)\n",
    "\n",
    "# 모델 성능 평가\n",
    "print('trianing score : ', model.score(x_tr,y_tr))\n",
    "print('testing score : ', model.score(x_te, y_te))\n",
    "# tr_score는 크게 증가했으나, 막상 te_score는 더 감소함. => 과적합"
   ]
  },
  {
   "cell_type": "code",
   "execution_count": 16,
   "id": "2818c32b",
   "metadata": {},
   "outputs": [
    {
     "name": "stdout",
     "output_type": "stream",
     "text": [
      "trianing score :  1.0\n",
      "testing score :  -135.30506302849497\n"
     ]
    }
   ],
   "source": [
    "# 위의 보스턴을 5차항 다항회귀로 분석\n",
    "p = PolynomialFeatures(degree=5, include_bias=False)\n",
    "x_poly = p.fit_transform(x)\n",
    "column = p.get_feature_names_out()\n",
    "pd.DataFrame(x_poly,columns=column)\n",
    "\n",
    "# 데이터 분할\n",
    "x_tr, x_te, y_tr, y_te = train_test_split(x_poly,y,random_state=0)\n",
    "\n",
    "# 선형회귀\n",
    "\n",
    "model = LinearRegression().fit(x_tr, y_tr)\n",
    "\n",
    "# 모델 성능 평가\n",
    "print('trianing score : ', model.score(x_tr,y_tr))\n",
    "print('testing score : ', model.score(x_te, y_te))\n",
    "# tr_score는 크게 증가했으나, 막상 te_score는 더 감소함. => 과적합"
   ]
  },
  {
   "cell_type": "markdown",
   "id": "a96e5902",
   "metadata": {},
   "source": [
    "## 규제화(Regulation)\n",
    "\n",
    "차수가 높아질수록 과적합 발생 => 성능저하  \n",
    "과적합 방지를 위해 가중치 크기 제어  \n",
    "기존 비용함수에 규제(penalty)를 추가하여 가중치 크기 제어  \n",
    "\n",
    "### 규제모델\n",
    "Ridge Regulation - L2 규제 가중치 => 더 완만한 곡선으로 변화  \n",
    "MSE가 최소가 되게하는 동시에, 가중치들의 제곱 합이 최소가 되도록 하는 적절한 가중치와 편향을 찾음.  \n",
    "Lasso Regulation - L1 규제 가중치 => 일부 점을 무시  \n",
    "MSE가 최소가 되게하는 동시에, 가중치들의 제곱 합이 최소가 되도록 하는 적절한 가중치와 편향을 찾음.  \n",
    "규제 효과로 가중치가 0이 되거나 수렴해야함.  \n",
    "모델에서 가장 중요한 특성이 두드러져 모델 해석력이 좋아짐  \n",
    "Elastic Regulation - L1 + L2 규제 가중치  "
   ]
  },
  {
   "cell_type": "code",
   "execution_count": 21,
   "id": "47c62bdb",
   "metadata": {},
   "outputs": [
    {
     "name": "stdout",
     "output_type": "stream",
     "text": [
      "trianing score :  0.9529484269152196\n",
      "testing score :  0.8111753209671624\n"
     ]
    }
   ],
   "source": [
    "# 보스턴 ridge 규제화 실습\n",
    "\n",
    "# 데이터 정규화 및 준비\n",
    "p = PolynomialFeatures(degree=5, include_bias=False)\n",
    "x_sclaed = MinMaxScaler().fit_transform(x)\n",
    "x_poly = p.fit_transform(x_sclaed)\n",
    "\n",
    "# 데이터 분할\n",
    "x_tr, x_te, y_tr, y_te = train_test_split(x_poly,y,random_state=0)\n",
    "\n",
    "# 선형회귀\n",
    "model = Ridge(alpha=1).fit(x_tr, y_tr)\n",
    "\n",
    "# 모델 성능 평가\n",
    "print('trianing score : ', model.score(x_tr,y_tr))\n",
    "print('testing score : ', model.score(x_te, y_te))\n",
    "\n",
    "# 과적합 해소 됨."
   ]
  },
  {
   "cell_type": "code",
   "execution_count": 49,
   "id": "718312cf",
   "metadata": {},
   "outputs": [],
   "source": [
    "#규제 강도에 따른 성능 비교. => 10의 배수\n",
    "\n",
    "# 규제강도 0.1\n",
    "\n",
    "# 선형회귀\n",
    "Ridge01 = Ridge(alpha=0.1).fit(boston['data'], boston['target'])\n",
    "Ridge01_coef = pd.Series(Ridge01.coef_, index=boston['feature_names'])\n",
    "\n",
    "# 규제강도 0.1\n",
    "\n",
    "# 선형회귀\n",
    "Ridge1 = Ridge(alpha=1).fit(boston['data'], boston['target'])\n",
    "Ridge1_coef = pd.Series(ridge1.coef_, index=boston['feature_names'])\n",
    "\n",
    "# 규제강도 10\n",
    "\n",
    "# 선형회귀\n",
    "Ridge10 = Ridge(alpha=10).fit(boston['data'], boston['target'])\n",
    "Ridge10_coef = pd.Series(ridge10.coef_, index=boston['feature_names'])"
   ]
  },
  {
   "cell_type": "code",
   "execution_count": 50,
   "id": "c167349e",
   "metadata": {},
   "outputs": [
    {
     "data": {
      "image/png": "[encoded data removed]",
      "text/plain": [
       "<Figure size 1080x360 with 3 Axes>"
      ]
     },
     "metadata": {
      "needs_background": "light"
     },
     "output_type": "display_data"
    }
   ],
   "source": [
    "plt.figure(figsize=(15, 5))\n",
    "plt.subplot(1, 3, 1)\n",
    "Ridge01_coef.sort_values().plot(kind='bar')\n",
    "plt.title('Alpha : 0.1')\n",
    "plt.subplot(1, 3, 2)\n",
    "Ridge1_coef.sort_values().plot(kind='bar')\n",
    "plt.title('Alpha : 1')\n",
    "plt.subplot(1, 3, 3)\n",
    "Ridge10_coef.sort_values().plot(kind='bar')\n",
    "plt.title('Alpha : 10')\n",
    "plt.show()"
   ]
  },
  {
   "cell_type": "code",
   "execution_count": 51,
   "id": "f1296029",
   "metadata": {},
   "outputs": [
    {
     "name": "stdout",
     "output_type": "stream",
     "text": [
      "trianing score :  0.2929003871909833\n",
      "testing score :  0.21305559861136192\n"
     ]
    }
   ],
   "source": [
    "# 보스턴 Lasso 규제화 실습\n",
    "\n",
    "# 데이터 정규화 및 준비\n",
    "p = PolynomialFeatures(degree=5, include_bias=False)\n",
    "x_sclaed = MinMaxScaler().fit_transform(x)\n",
    "x_poly = p.fit_transform(x_sclaed)\n",
    "\n",
    "# 데이터 분할\n",
    "x_tr, x_te, y_tr, y_te = train_test_split(x_poly,y,random_state=0)\n",
    "\n",
    "# 선형회귀\n",
    "model = Lasso(alpha=1).fit(x_tr, y_tr)\n",
    "\n",
    "# 모델 성능 평가\n",
    "print('trianing score : ', model.score(x_tr,y_tr))\n",
    "print('testing score : ', model.score(x_te, y_te))\n",
    "\n",
    "# 과적합 해소 됨."
   ]
  },
  {
   "cell_type": "markdown",
   "id": "9e73dca4",
   "metadata": {},
   "source": [
    "## Feature Engineering\n",
    "\n",
    "기법  \n",
    "더미  \n",
    "Lable encoding - 문자를 숫자로 치환하는 방법 : 숫자의 대소관계 특성이 작용하는 단점  \n",
    "One-Hot encoding - 특성값에 따라 새로운 특성 추가하는 방법 => 열을 새로 만들어 해당 값은 1, 나머지는 0  \n",
    "변형  \n",
    "스케일링  \n",
    "차원축소  \n",
    "비닝  "
   ]
  },
  {
   "cell_type": "code",
   "execution_count": 66,
   "id": "7b8eb45f",
   "metadata": {},
   "outputs": [
    {
     "data": {
      "text/html": [
       "<div>\n",
       "<style scoped>\n",
       "    .dataframe tbody tr th:only-of-type {\n",
       "        vertical-align: middle;\n",
       "    }\n",
       "\n",
       "    .dataframe tbody tr th {\n",
       "        vertical-align: top;\n",
       "    }\n",
       "\n",
       "    .dataframe thead th {\n",
       "        text-align: right;\n",
       "    }\n",
       "</style>\n",
       "<table border=\"1\" class=\"dataframe\">\n",
       "  <thead>\n",
       "    <tr style=\"text-align: right;\">\n",
       "      <th></th>\n",
       "      <th>number</th>\n",
       "      <th>string</th>\n",
       "    </tr>\n",
       "  </thead>\n",
       "  <tbody>\n",
       "    <tr>\n",
       "      <th>0</th>\n",
       "      <td>0</td>\n",
       "      <td>A</td>\n",
       "    </tr>\n",
       "    <tr>\n",
       "      <th>1</th>\n",
       "      <td>2</td>\n",
       "      <td>B</td>\n",
       "    </tr>\n",
       "    <tr>\n",
       "      <th>2</th>\n",
       "      <td>2</td>\n",
       "      <td>C</td>\n",
       "    </tr>\n",
       "    <tr>\n",
       "      <th>3</th>\n",
       "      <td>1</td>\n",
       "      <td>D</td>\n",
       "    </tr>\n",
       "  </tbody>\n",
       "</table>\n",
       "</div>"
      ],
      "text/plain": [
       "   number string\n",
       "0       0      A\n",
       "1       2      B\n",
       "2       2      C\n",
       "3       1      D"
      ]
     },
     "execution_count": 66,
     "metadata": {},
     "output_type": "execute_result"
    }
   ],
   "source": [
    "one_hot_df = pd.DataFrame({\n",
    "    'number':[0,2,2,1],\n",
    "    'string':['A',\"B\",'C','D']\n",
    "})\n",
    "one_hot_df"
   ]
  },
  {
   "cell_type": "code",
   "execution_count": 67,
   "id": "99affdad",
   "metadata": {},
   "outputs": [
    {
     "data": {
      "text/html": [
       "<div>\n",
       "<style scoped>\n",
       "    .dataframe tbody tr th:only-of-type {\n",
       "        vertical-align: middle;\n",
       "    }\n",
       "\n",
       "    .dataframe tbody tr th {\n",
       "        vertical-align: top;\n",
       "    }\n",
       "\n",
       "    .dataframe thead th {\n",
       "        text-align: right;\n",
       "    }\n",
       "</style>\n",
       "<table border=\"1\" class=\"dataframe\">\n",
       "  <thead>\n",
       "    <tr style=\"text-align: right;\">\n",
       "      <th></th>\n",
       "      <th>number</th>\n",
       "      <th>string_A</th>\n",
       "      <th>string_B</th>\n",
       "      <th>string_C</th>\n",
       "      <th>string_D</th>\n",
       "    </tr>\n",
       "  </thead>\n",
       "  <tbody>\n",
       "    <tr>\n",
       "      <th>0</th>\n",
       "      <td>0</td>\n",
       "      <td>1</td>\n",
       "      <td>0</td>\n",
       "      <td>0</td>\n",
       "      <td>0</td>\n",
       "    </tr>\n",
       "    <tr>\n",
       "      <th>1</th>\n",
       "      <td>2</td>\n",
       "      <td>0</td>\n",
       "      <td>1</td>\n",
       "      <td>0</td>\n",
       "      <td>0</td>\n",
       "    </tr>\n",
       "    <tr>\n",
       "      <th>2</th>\n",
       "      <td>2</td>\n",
       "      <td>0</td>\n",
       "      <td>0</td>\n",
       "      <td>1</td>\n",
       "      <td>0</td>\n",
       "    </tr>\n",
       "    <tr>\n",
       "      <th>3</th>\n",
       "      <td>1</td>\n",
       "      <td>0</td>\n",
       "      <td>0</td>\n",
       "      <td>0</td>\n",
       "      <td>1</td>\n",
       "    </tr>\n",
       "  </tbody>\n",
       "</table>\n",
       "</div>"
      ],
      "text/plain": [
       "   number  string_A  string_B  string_C  string_D\n",
       "0       0         1         0         0         0\n",
       "1       2         0         1         0         0\n",
       "2       2         0         0         1         0\n",
       "3       1         0         0         0         1"
      ]
     },
     "execution_count": 67,
     "metadata": {},
     "output_type": "execute_result"
    }
   ],
   "source": [
    "pd.get_dummies(one_hot_df)"
   ]
  },
  {
   "cell_type": "code",
   "execution_count": 69,
   "id": "a9393fd0",
   "metadata": {},
   "outputs": [
    {
     "data": {
      "text/html": [
       "<div>\n",
       "<style scoped>\n",
       "    .dataframe tbody tr th:only-of-type {\n",
       "        vertical-align: middle;\n",
       "    }\n",
       "\n",
       "    .dataframe tbody tr th {\n",
       "        vertical-align: top;\n",
       "    }\n",
       "\n",
       "    .dataframe thead th {\n",
       "        text-align: right;\n",
       "    }\n",
       "</style>\n",
       "<table border=\"1\" class=\"dataframe\">\n",
       "  <thead>\n",
       "    <tr style=\"text-align: right;\">\n",
       "      <th></th>\n",
       "      <th>number</th>\n",
       "      <th>string_A</th>\n",
       "      <th>string_B</th>\n",
       "      <th>string_C</th>\n",
       "      <th>string_D</th>\n",
       "    </tr>\n",
       "  </thead>\n",
       "  <tbody>\n",
       "    <tr>\n",
       "      <th>0</th>\n",
       "      <td>0</td>\n",
       "      <td>1</td>\n",
       "      <td>0</td>\n",
       "      <td>0</td>\n",
       "      <td>0</td>\n",
       "    </tr>\n",
       "    <tr>\n",
       "      <th>1</th>\n",
       "      <td>2</td>\n",
       "      <td>0</td>\n",
       "      <td>1</td>\n",
       "      <td>0</td>\n",
       "      <td>0</td>\n",
       "    </tr>\n",
       "    <tr>\n",
       "      <th>2</th>\n",
       "      <td>2</td>\n",
       "      <td>0</td>\n",
       "      <td>0</td>\n",
       "      <td>1</td>\n",
       "      <td>0</td>\n",
       "    </tr>\n",
       "    <tr>\n",
       "      <th>3</th>\n",
       "      <td>1</td>\n",
       "      <td>0</td>\n",
       "      <td>0</td>\n",
       "      <td>0</td>\n",
       "      <td>1</td>\n",
       "    </tr>\n",
       "  </tbody>\n",
       "</table>\n",
       "</div>"
      ],
      "text/plain": [
       "   number  string_A  string_B  string_C  string_D\n",
       "0       0         1         0         0         0\n",
       "1       2         0         1         0         0\n",
       "2       2         0         0         1         0\n",
       "3       1         0         0         0         1"
      ]
     },
     "execution_count": 69,
     "metadata": {},
     "output_type": "execute_result"
    }
   ],
   "source": [
    "pd.get_dummies(one_hot_df[['number','string']])"
   ]
  },
  {
   "cell_type": "code",
   "execution_count": 70,
   "id": "753e4460",
   "metadata": {},
   "outputs": [
    {
     "data": {
      "text/html": [
       "<div>\n",
       "<style scoped>\n",
       "    .dataframe tbody tr th:only-of-type {\n",
       "        vertical-align: middle;\n",
       "    }\n",
       "\n",
       "    .dataframe tbody tr th {\n",
       "        vertical-align: top;\n",
       "    }\n",
       "\n",
       "    .dataframe thead th {\n",
       "        text-align: right;\n",
       "    }\n",
       "</style>\n",
       "<table border=\"1\" class=\"dataframe\">\n",
       "  <thead>\n",
       "    <tr style=\"text-align: right;\">\n",
       "      <th></th>\n",
       "      <th>total_bill</th>\n",
       "      <th>tip</th>\n",
       "      <th>sex</th>\n",
       "      <th>smoker</th>\n",
       "      <th>day</th>\n",
       "      <th>time</th>\n",
       "      <th>size</th>\n",
       "    </tr>\n",
       "  </thead>\n",
       "  <tbody>\n",
       "    <tr>\n",
       "      <th>0</th>\n",
       "      <td>16.99</td>\n",
       "      <td>1.01</td>\n",
       "      <td>Female</td>\n",
       "      <td>No</td>\n",
       "      <td>Sun</td>\n",
       "      <td>Dinner</td>\n",
       "      <td>2</td>\n",
       "    </tr>\n",
       "    <tr>\n",
       "      <th>1</th>\n",
       "      <td>10.34</td>\n",
       "      <td>1.66</td>\n",
       "      <td>Male</td>\n",
       "      <td>No</td>\n",
       "      <td>Sun</td>\n",
       "      <td>Dinner</td>\n",
       "      <td>3</td>\n",
       "    </tr>\n",
       "    <tr>\n",
       "      <th>2</th>\n",
       "      <td>21.01</td>\n",
       "      <td>3.50</td>\n",
       "      <td>Male</td>\n",
       "      <td>No</td>\n",
       "      <td>Sun</td>\n",
       "      <td>Dinner</td>\n",
       "      <td>3</td>\n",
       "    </tr>\n",
       "    <tr>\n",
       "      <th>3</th>\n",
       "      <td>23.68</td>\n",
       "      <td>3.31</td>\n",
       "      <td>Male</td>\n",
       "      <td>No</td>\n",
       "      <td>Sun</td>\n",
       "      <td>Dinner</td>\n",
       "      <td>2</td>\n",
       "    </tr>\n",
       "    <tr>\n",
       "      <th>4</th>\n",
       "      <td>24.59</td>\n",
       "      <td>3.61</td>\n",
       "      <td>Female</td>\n",
       "      <td>No</td>\n",
       "      <td>Sun</td>\n",
       "      <td>Dinner</td>\n",
       "      <td>4</td>\n",
       "    </tr>\n",
       "    <tr>\n",
       "      <th>...</th>\n",
       "      <td>...</td>\n",
       "      <td>...</td>\n",
       "      <td>...</td>\n",
       "      <td>...</td>\n",
       "      <td>...</td>\n",
       "      <td>...</td>\n",
       "      <td>...</td>\n",
       "    </tr>\n",
       "    <tr>\n",
       "      <th>239</th>\n",
       "      <td>29.03</td>\n",
       "      <td>5.92</td>\n",
       "      <td>Male</td>\n",
       "      <td>No</td>\n",
       "      <td>Sat</td>\n",
       "      <td>Dinner</td>\n",
       "      <td>3</td>\n",
       "    </tr>\n",
       "    <tr>\n",
       "      <th>240</th>\n",
       "      <td>27.18</td>\n",
       "      <td>2.00</td>\n",
       "      <td>Female</td>\n",
       "      <td>Yes</td>\n",
       "      <td>Sat</td>\n",
       "      <td>Dinner</td>\n",
       "      <td>2</td>\n",
       "    </tr>\n",
       "    <tr>\n",
       "      <th>241</th>\n",
       "      <td>22.67</td>\n",
       "      <td>2.00</td>\n",
       "      <td>Male</td>\n",
       "      <td>Yes</td>\n",
       "      <td>Sat</td>\n",
       "      <td>Dinner</td>\n",
       "      <td>2</td>\n",
       "    </tr>\n",
       "    <tr>\n",
       "      <th>242</th>\n",
       "      <td>17.82</td>\n",
       "      <td>1.75</td>\n",
       "      <td>Male</td>\n",
       "      <td>No</td>\n",
       "      <td>Sat</td>\n",
       "      <td>Dinner</td>\n",
       "      <td>2</td>\n",
       "    </tr>\n",
       "    <tr>\n",
       "      <th>243</th>\n",
       "      <td>18.78</td>\n",
       "      <td>3.00</td>\n",
       "      <td>Female</td>\n",
       "      <td>No</td>\n",
       "      <td>Thur</td>\n",
       "      <td>Dinner</td>\n",
       "      <td>2</td>\n",
       "    </tr>\n",
       "  </tbody>\n",
       "</table>\n",
       "<p>244 rows × 7 columns</p>\n",
       "</div>"
      ],
      "text/plain": [
       "     total_bill   tip     sex smoker   day    time  size\n",
       "0         16.99  1.01  Female     No   Sun  Dinner     2\n",
       "1         10.34  1.66    Male     No   Sun  Dinner     3\n",
       "2         21.01  3.50    Male     No   Sun  Dinner     3\n",
       "3         23.68  3.31    Male     No   Sun  Dinner     2\n",
       "4         24.59  3.61  Female     No   Sun  Dinner     4\n",
       "..          ...   ...     ...    ...   ...     ...   ...\n",
       "239       29.03  5.92    Male     No   Sat  Dinner     3\n",
       "240       27.18  2.00  Female    Yes   Sat  Dinner     2\n",
       "241       22.67  2.00    Male    Yes   Sat  Dinner     2\n",
       "242       17.82  1.75    Male     No   Sat  Dinner     2\n",
       "243       18.78  3.00  Female     No  Thur  Dinner     2\n",
       "\n",
       "[244 rows x 7 columns]"
      ]
     },
     "execution_count": 70,
     "metadata": {},
     "output_type": "execute_result"
    }
   ],
   "source": [
    "import seaborn as sns\n",
    "tips = sns.load_dataset('tips')\n",
    "tips"
   ]
  },
  {
   "cell_type": "code",
   "execution_count": 78,
   "id": "231bf1ea",
   "metadata": {},
   "outputs": [],
   "source": [
    "# one hot encoding\n",
    "tips_ohe = pd.get_dummies(tips, columns=['sex','smoker','day','time'])\n",
    "\n",
    "# 분할\n",
    "y= tips_ohe['tip']\n",
    "x= tips_ohe.drop(columns='tip')"
   ]
  },
  {
   "cell_type": "code",
   "execution_count": 81,
   "id": "3e165754",
   "metadata": {},
   "outputs": [
    {
     "ename": "ValueError",
     "evalue": "X has 8567 features, but LinearRegression is expecting 12 features as input.",
     "output_type": "error",
     "traceback": [
      "\u001b[1;31m---------------------------------------------------------------------------\u001b[0m",
      "\u001b[1;31mValueError\u001b[0m                                Traceback (most recent call last)",
      "Input \u001b[1;32mIn [81]\u001b[0m, in \u001b[0;36m<cell line: 12>\u001b[1;34m()\u001b[0m\n\u001b[0;32m      9\u001b[0m model \u001b[38;5;241m=\u001b[39m LinearRegression()\u001b[38;5;241m.\u001b[39mfit(x_tr,y_tr)\n\u001b[0;32m     11\u001b[0m \u001b[38;5;66;03m# 성능 검사\u001b[39;00m\n\u001b[1;32m---> 12\u001b[0m \u001b[38;5;28mprint\u001b[39m(model\u001b[38;5;241m.\u001b[39mscore(x_tr,y_tr), \u001b[43mmodel\u001b[49m\u001b[38;5;241;43m.\u001b[39;49m\u001b[43mscore\u001b[49m\u001b[43m(\u001b[49m\u001b[43mx_te\u001b[49m\u001b[43m,\u001b[49m\u001b[43my_te\u001b[49m\u001b[43m)\u001b[49m)\n",
      "File \u001b[1;32m~\\anaconda3\\lib\\site-packages\\sklearn\\base.py:705\u001b[0m, in \u001b[0;36mRegressorMixin.score\u001b[1;34m(self, X, y, sample_weight)\u001b[0m\n\u001b[0;32m    663\u001b[0m \u001b[38;5;124;03m\"\"\"Return the coefficient of determination of the prediction.\u001b[39;00m\n\u001b[0;32m    664\u001b[0m \n\u001b[0;32m    665\u001b[0m \u001b[38;5;124;03mThe coefficient of determination :math:`R^2` is defined as\u001b[39;00m\n\u001b[1;32m   (...)\u001b[0m\n\u001b[0;32m    700\u001b[0m \u001b[38;5;124;03m:class:`~sklearn.multioutput.MultiOutputRegressor`).\u001b[39;00m\n\u001b[0;32m    701\u001b[0m \u001b[38;5;124;03m\"\"\"\u001b[39;00m\n\u001b[0;32m    703\u001b[0m \u001b[38;5;28;01mfrom\u001b[39;00m \u001b[38;5;21;01m.\u001b[39;00m\u001b[38;5;21;01mmetrics\u001b[39;00m \u001b[38;5;28;01mimport\u001b[39;00m r2_score\n\u001b[1;32m--> 705\u001b[0m y_pred \u001b[38;5;241m=\u001b[39m \u001b[38;5;28;43mself\u001b[39;49m\u001b[38;5;241;43m.\u001b[39;49m\u001b[43mpredict\u001b[49m\u001b[43m(\u001b[49m\u001b[43mX\u001b[49m\u001b[43m)\u001b[49m\n\u001b[0;32m    706\u001b[0m \u001b[38;5;28;01mreturn\u001b[39;00m r2_score(y, y_pred, sample_weight\u001b[38;5;241m=\u001b[39msample_weight)\n",
      "File \u001b[1;32m~\\anaconda3\\lib\\site-packages\\sklearn\\linear_model\\_base.py:362\u001b[0m, in \u001b[0;36mLinearModel.predict\u001b[1;34m(self, X)\u001b[0m\n\u001b[0;32m    348\u001b[0m \u001b[38;5;28;01mdef\u001b[39;00m \u001b[38;5;21mpredict\u001b[39m(\u001b[38;5;28mself\u001b[39m, X):\n\u001b[0;32m    349\u001b[0m     \u001b[38;5;124;03m\"\"\"\u001b[39;00m\n\u001b[0;32m    350\u001b[0m \u001b[38;5;124;03m    Predict using the linear model.\u001b[39;00m\n\u001b[0;32m    351\u001b[0m \n\u001b[1;32m   (...)\u001b[0m\n\u001b[0;32m    360\u001b[0m \u001b[38;5;124;03m        Returns predicted values.\u001b[39;00m\n\u001b[0;32m    361\u001b[0m \u001b[38;5;124;03m    \"\"\"\u001b[39;00m\n\u001b[1;32m--> 362\u001b[0m     \u001b[38;5;28;01mreturn\u001b[39;00m \u001b[38;5;28;43mself\u001b[39;49m\u001b[38;5;241;43m.\u001b[39;49m\u001b[43m_decision_function\u001b[49m\u001b[43m(\u001b[49m\u001b[43mX\u001b[49m\u001b[43m)\u001b[49m\n",
      "File \u001b[1;32m~\\anaconda3\\lib\\site-packages\\sklearn\\linear_model\\_base.py:345\u001b[0m, in \u001b[0;36mLinearModel._decision_function\u001b[1;34m(self, X)\u001b[0m\n\u001b[0;32m    342\u001b[0m \u001b[38;5;28;01mdef\u001b[39;00m \u001b[38;5;21m_decision_function\u001b[39m(\u001b[38;5;28mself\u001b[39m, X):\n\u001b[0;32m    343\u001b[0m     check_is_fitted(\u001b[38;5;28mself\u001b[39m)\n\u001b[1;32m--> 345\u001b[0m     X \u001b[38;5;241m=\u001b[39m \u001b[38;5;28;43mself\u001b[39;49m\u001b[38;5;241;43m.\u001b[39;49m\u001b[43m_validate_data\u001b[49m\u001b[43m(\u001b[49m\u001b[43mX\u001b[49m\u001b[43m,\u001b[49m\u001b[43m \u001b[49m\u001b[43maccept_sparse\u001b[49m\u001b[38;5;241;43m=\u001b[39;49m\u001b[43m[\u001b[49m\u001b[38;5;124;43m\"\u001b[39;49m\u001b[38;5;124;43mcsr\u001b[39;49m\u001b[38;5;124;43m\"\u001b[39;49m\u001b[43m,\u001b[49m\u001b[43m \u001b[49m\u001b[38;5;124;43m\"\u001b[39;49m\u001b[38;5;124;43mcsc\u001b[39;49m\u001b[38;5;124;43m\"\u001b[39;49m\u001b[43m,\u001b[49m\u001b[43m \u001b[49m\u001b[38;5;124;43m\"\u001b[39;49m\u001b[38;5;124;43mcoo\u001b[39;49m\u001b[38;5;124;43m\"\u001b[39;49m\u001b[43m]\u001b[49m\u001b[43m,\u001b[49m\u001b[43m \u001b[49m\u001b[43mreset\u001b[49m\u001b[38;5;241;43m=\u001b[39;49m\u001b[38;5;28;43;01mFalse\u001b[39;49;00m\u001b[43m)\u001b[49m\n\u001b[0;32m    346\u001b[0m     \u001b[38;5;28;01mreturn\u001b[39;00m safe_sparse_dot(X, \u001b[38;5;28mself\u001b[39m\u001b[38;5;241m.\u001b[39mcoef_\u001b[38;5;241m.\u001b[39mT, dense_output\u001b[38;5;241m=\u001b[39m\u001b[38;5;28;01mTrue\u001b[39;00m) \u001b[38;5;241m+\u001b[39m \u001b[38;5;28mself\u001b[39m\u001b[38;5;241m.\u001b[39mintercept_\n",
      "File \u001b[1;32m~\\anaconda3\\lib\\site-packages\\sklearn\\base.py:585\u001b[0m, in \u001b[0;36mBaseEstimator._validate_data\u001b[1;34m(self, X, y, reset, validate_separately, **check_params)\u001b[0m\n\u001b[0;32m    582\u001b[0m     out \u001b[38;5;241m=\u001b[39m X, y\n\u001b[0;32m    584\u001b[0m \u001b[38;5;28;01mif\u001b[39;00m \u001b[38;5;129;01mnot\u001b[39;00m no_val_X \u001b[38;5;129;01mand\u001b[39;00m check_params\u001b[38;5;241m.\u001b[39mget(\u001b[38;5;124m\"\u001b[39m\u001b[38;5;124mensure_2d\u001b[39m\u001b[38;5;124m\"\u001b[39m, \u001b[38;5;28;01mTrue\u001b[39;00m):\n\u001b[1;32m--> 585\u001b[0m     \u001b[38;5;28;43mself\u001b[39;49m\u001b[38;5;241;43m.\u001b[39;49m\u001b[43m_check_n_features\u001b[49m\u001b[43m(\u001b[49m\u001b[43mX\u001b[49m\u001b[43m,\u001b[49m\u001b[43m \u001b[49m\u001b[43mreset\u001b[49m\u001b[38;5;241;43m=\u001b[39;49m\u001b[43mreset\u001b[49m\u001b[43m)\u001b[49m\n\u001b[0;32m    587\u001b[0m \u001b[38;5;28;01mreturn\u001b[39;00m out\n",
      "File \u001b[1;32m~\\anaconda3\\lib\\site-packages\\sklearn\\base.py:400\u001b[0m, in \u001b[0;36mBaseEstimator._check_n_features\u001b[1;34m(self, X, reset)\u001b[0m\n\u001b[0;32m    397\u001b[0m     \u001b[38;5;28;01mreturn\u001b[39;00m\n\u001b[0;32m    399\u001b[0m \u001b[38;5;28;01mif\u001b[39;00m n_features \u001b[38;5;241m!=\u001b[39m \u001b[38;5;28mself\u001b[39m\u001b[38;5;241m.\u001b[39mn_features_in_:\n\u001b[1;32m--> 400\u001b[0m     \u001b[38;5;28;01mraise\u001b[39;00m \u001b[38;5;167;01mValueError\u001b[39;00m(\n\u001b[0;32m    401\u001b[0m         \u001b[38;5;124mf\u001b[39m\u001b[38;5;124m\"\u001b[39m\u001b[38;5;124mX has \u001b[39m\u001b[38;5;132;01m{\u001b[39;00mn_features\u001b[38;5;132;01m}\u001b[39;00m\u001b[38;5;124m features, but \u001b[39m\u001b[38;5;132;01m{\u001b[39;00m\u001b[38;5;28mself\u001b[39m\u001b[38;5;241m.\u001b[39m\u001b[38;5;18m__class__\u001b[39m\u001b[38;5;241m.\u001b[39m\u001b[38;5;18m__name__\u001b[39m\u001b[38;5;132;01m}\u001b[39;00m\u001b[38;5;124m \u001b[39m\u001b[38;5;124m\"\u001b[39m\n\u001b[0;32m    402\u001b[0m         \u001b[38;5;124mf\u001b[39m\u001b[38;5;124m\"\u001b[39m\u001b[38;5;124mis expecting \u001b[39m\u001b[38;5;132;01m{\u001b[39;00m\u001b[38;5;28mself\u001b[39m\u001b[38;5;241m.\u001b[39mn_features_in_\u001b[38;5;132;01m}\u001b[39;00m\u001b[38;5;124m features as input.\u001b[39m\u001b[38;5;124m\"\u001b[39m\n\u001b[0;32m    403\u001b[0m     )\n",
      "\u001b[1;31mValueError\u001b[0m: X has 8567 features, but LinearRegression is expecting 12 features as input."
     ]
    }
   ],
   "source": [
    "# 훈련, 평가 데이터로 분리\n",
    "\n",
    "x_tr,t_te,y_tr,y_te = train_test_split(\n",
    "    x,y,random_state=0\n",
    ")\n",
    "\n",
    "# 선형회귀\n",
    "\n",
    "model = LinearRegression().fit(x_tr,y_tr)\n",
    "\n",
    "# 성능 검사\n",
    "print(model.score(x_tr,y_tr), model.score(x_te,y_te))"
   ]
  },
  {
   "cell_type": "markdown",
   "id": "872e6443",
   "metadata": {},
   "source": [
    "## Logistic Regression 로지스틱 회귀\n",
    "\n",
    "회귀이지만, 분류용 => 확률(0 ~ 1) 회귀  \n",
    "선형 : y = Wx + b => -inp ~ inp  \n",
    "P(확률) : ax + b => 0 ~ 1 : -inp ~ inp 범위를 맞춰야함.  \n",
    "\n",
    "확률 -> odds로 변환    \n",
    "odds : 실패 확률 대비 성공확률(P(성공)/1-P)  \n",
    "ex) 5번중 1번 성공, 4번 실패 => 1/4  \n",
    "\n",
    "P/(1-P) : ax + b => 0 ~ inp : -inp ~ inp 좌극한 범위를 맞춰야함.  \n",
    "limlog(0) = - inp임을 이용.  \n",
    "\n",
    "log(P/(1-P)) = ax + b => -inp ~ inp  \n",
    "==> H = log(P/(1-P)) =ax + b\n",
    "==> P = 1/(1+e^-(ax + b))\n",
    "\n",
    "cost 함수 : cross entropy(U모양)\n",
    "cost 함수가 최소가 되는 W를 찾기(미분값, 경사하강법과 같은 원리)\n",
    "\n",
    "이항분류"
   ]
  },
  {
   "cell_type": "code",
   "execution_count": 82,
   "id": "0f6d9098",
   "metadata": {},
   "outputs": [
    {
     "data": {
      "image/png": "[encoded data removed]",
      "text/plain": [
       "<Figure size 432x288 with 1 Axes>"
      ]
     },
     "metadata": {
      "needs_background": "light"
     },
     "output_type": "display_data"
    }
   ],
   "source": [
    "x = np.array([1,2,3,4,5,6,7,8,9,11,13])\n",
    "y = np.array([0,0,0,0,0,0,0,1,1,1,1])\n",
    "\n",
    "plt.scatter(x,y)\n",
    "plt.show()"
   ]
  },
  {
   "cell_type": "code",
   "execution_count": 83,
   "id": "97755398",
   "metadata": {},
   "outputs": [
    {
     "data": {
      "image/png": "[encoded data removed]",
      "text/plain": [
       "<Figure size 432x288 with 1 Axes>"
      ]
     },
     "metadata": {
      "needs_background": "light"
     },
     "output_type": "display_data"
    }
   ],
   "source": [
    "# 선형회귀 모델\n",
    "model = LinearRegression().fit(x.reshape(-1,1),y)\n",
    "plt.scatter(x,y)\n",
    "plt.plot(x, model.predict(x.reshape(-1,1)),c='red')\n",
    "plt.show()\n",
    "# 0~1 범위(합격률 0%~100%)가 아니므로 부적합한 모델"
   ]
  },
  {
   "cell_type": "code",
   "execution_count": 85,
   "id": "42856845",
   "metadata": {},
   "outputs": [
    {
     "data": {
      "image/png": "[encoded data removed]",
      "text/plain": [
       "<Figure size 432x288 with 1 Axes>"
      ]
     },
     "metadata": {
      "needs_background": "light"
     },
     "output_type": "display_data"
    }
   ],
   "source": [
    "# 로지스틱 회귀 모델\n",
    "model = LogisticRegression().fit(x.reshape(-1,1),y)\n",
    "plt.scatter(x,y)\n",
    "plt.plot(x, model.predict(x.reshape(-1,1)),c='red')\n",
    "plt.show()\n",
    "# 0~1 범위 회귀 모델에 적절함."
   ]
  },
  {
   "cell_type": "code",
   "execution_count": 113,
   "id": "af0fe872",
   "metadata": {},
   "outputs": [
    {
     "data": {
      "text/plain": [
       "(0.9671361502347418, 0.9370629370629371)"
      ]
     },
     "execution_count": 113,
     "metadata": {},
     "output_type": "execute_result"
    }
   ],
   "source": [
    "# 위스콘신 유방암 진단\n",
    "from sklearn.datasets import load_breast_cancer\n",
    "\n",
    "cancer = load_breast_cancer()\n",
    "\n",
    "x_tr, x_te, y_tr, y_te = train_test_split(\n",
    "    cancer['data'],\n",
    "    cancer['target'],\n",
    "    stratify=cancer['target'],\n",
    "    random_state=0\n",
    ")\n",
    "\n",
    "model = LogisticRegression(max_iter=10000).fit(x_tr,y_tr)  # 최솟값이 나올 수 있는 최대 범위를 지정, 최솟값 나오면 반복 정지.\n",
    "model.score(x_tr,y_tr), model.score(x_te,y_te)"
   ]
  },
  {
   "cell_type": "code",
   "execution_count": 114,
   "id": "00e84d2a",
   "metadata": {},
   "outputs": [
    {
     "name": "stdout",
     "output_type": "stream",
     "text": [
      "0.9460093896713615 0.916083916083916\n"
     ]
    }
   ],
   "source": [
    "# 모델\n",
    "from sklearn.neighbors import KNeighborsClassifier\n",
    "model_KN = KNeighborsClassifier().fit(x_tr, y_tr)\n",
    "print(model_KN.score(x_tr, y_tr), model_KN.score(x_te, y_te), )"
   ]
  },
  {
   "cell_type": "code",
   "execution_count": 115,
   "id": "f2fdd640",
   "metadata": {},
   "outputs": [
    {
     "data": {
      "text/plain": [
       "array([1, 0, 0, 1, 0])"
      ]
     },
     "execution_count": 115,
     "metadata": {},
     "output_type": "execute_result"
    }
   ],
   "source": [
    "model.predict(x_te)[:5]"
   ]
  },
  {
   "cell_type": "code",
   "execution_count": 116,
   "id": "378ac491",
   "metadata": {},
   "outputs": [
    {
     "data": {
      "text/plain": [
       "array([[1.36938746e-02, 9.86306125e-01],\n",
       "       [9.99981942e-01, 1.80584058e-05],\n",
       "       [9.99993953e-01, 6.04687109e-06],\n",
       "       [3.95555904e-04, 9.99604444e-01],\n",
       "       [9.99525081e-01, 4.74918989e-04]])"
      ]
     },
     "execution_count": 116,
     "metadata": {},
     "output_type": "execute_result"
    }
   ],
   "source": [
    "model.predict_proba(x_te)[:5]"
   ]
  },
  {
   "cell_type": "code",
   "execution_count": 117,
   "id": "775976d7",
   "metadata": {},
   "outputs": [
    {
     "data": {
      "text/plain": [
       "array([  4.27701816, -10.92188123, -12.01596355,   7.8348228 ,\n",
       "        -7.65189129])"
      ]
     },
     "execution_count": 117,
     "metadata": {},
     "output_type": "execute_result"
    }
   ],
   "source": [
    "model.decision_function(x_te)[:5]"
   ]
  },
  {
   "cell_type": "code",
   "execution_count": 169,
   "id": "30182896",
   "metadata": {},
   "outputs": [
    {
     "data": {
      "text/html": [
       "<div>\n",
       "<style scoped>\n",
       "    .dataframe tbody tr th:only-of-type {\n",
       "        vertical-align: middle;\n",
       "    }\n",
       "\n",
       "    .dataframe tbody tr th {\n",
       "        vertical-align: top;\n",
       "    }\n",
       "\n",
       "    .dataframe thead th {\n",
       "        text-align: right;\n",
       "    }\n",
       "</style>\n",
       "<table border=\"1\" class=\"dataframe\">\n",
       "  <thead>\n",
       "    <tr style=\"text-align: right;\">\n",
       "      <th></th>\n",
       "      <th>age</th>\n",
       "      <th>pclass</th>\n",
       "      <th>sibsp</th>\n",
       "      <th>parch</th>\n",
       "    </tr>\n",
       "  </thead>\n",
       "  <tbody>\n",
       "    <tr>\n",
       "      <th>0</th>\n",
       "      <td>22.000000</td>\n",
       "      <td>3</td>\n",
       "      <td>1</td>\n",
       "      <td>0</td>\n",
       "    </tr>\n",
       "    <tr>\n",
       "      <th>1</th>\n",
       "      <td>38.000000</td>\n",
       "      <td>1</td>\n",
       "      <td>1</td>\n",
       "      <td>0</td>\n",
       "    </tr>\n",
       "    <tr>\n",
       "      <th>2</th>\n",
       "      <td>26.000000</td>\n",
       "      <td>3</td>\n",
       "      <td>0</td>\n",
       "      <td>0</td>\n",
       "    </tr>\n",
       "    <tr>\n",
       "      <th>3</th>\n",
       "      <td>35.000000</td>\n",
       "      <td>1</td>\n",
       "      <td>1</td>\n",
       "      <td>0</td>\n",
       "    </tr>\n",
       "    <tr>\n",
       "      <th>4</th>\n",
       "      <td>35.000000</td>\n",
       "      <td>3</td>\n",
       "      <td>0</td>\n",
       "      <td>0</td>\n",
       "    </tr>\n",
       "    <tr>\n",
       "      <th>...</th>\n",
       "      <td>...</td>\n",
       "      <td>...</td>\n",
       "      <td>...</td>\n",
       "      <td>...</td>\n",
       "    </tr>\n",
       "    <tr>\n",
       "      <th>886</th>\n",
       "      <td>27.000000</td>\n",
       "      <td>2</td>\n",
       "      <td>0</td>\n",
       "      <td>0</td>\n",
       "    </tr>\n",
       "    <tr>\n",
       "      <th>887</th>\n",
       "      <td>19.000000</td>\n",
       "      <td>1</td>\n",
       "      <td>0</td>\n",
       "      <td>0</td>\n",
       "    </tr>\n",
       "    <tr>\n",
       "      <th>888</th>\n",
       "      <td>29.699118</td>\n",
       "      <td>3</td>\n",
       "      <td>1</td>\n",
       "      <td>2</td>\n",
       "    </tr>\n",
       "    <tr>\n",
       "      <th>889</th>\n",
       "      <td>26.000000</td>\n",
       "      <td>1</td>\n",
       "      <td>0</td>\n",
       "      <td>0</td>\n",
       "    </tr>\n",
       "    <tr>\n",
       "      <th>890</th>\n",
       "      <td>32.000000</td>\n",
       "      <td>3</td>\n",
       "      <td>0</td>\n",
       "      <td>0</td>\n",
       "    </tr>\n",
       "  </tbody>\n",
       "</table>\n",
       "<p>891 rows × 4 columns</p>\n",
       "</div>"
      ],
      "text/plain": [
       "           age  pclass  sibsp  parch\n",
       "0    22.000000       3      1      0\n",
       "1    38.000000       1      1      0\n",
       "2    26.000000       3      0      0\n",
       "3    35.000000       1      1      0\n",
       "4    35.000000       3      0      0\n",
       "..         ...     ...    ...    ...\n",
       "886  27.000000       2      0      0\n",
       "887  19.000000       1      0      0\n",
       "888  29.699118       3      1      2\n",
       "889  26.000000       1      0      0\n",
       "890  32.000000       3      0      0\n",
       "\n",
       "[891 rows x 4 columns]"
      ]
     },
     "execution_count": 169,
     "metadata": {},
     "output_type": "execute_result"
    }
   ],
   "source": [
    "# 타이타닉 생존율\n",
    "import seaborn as sns\n",
    "ti = sns.load_dataset(\"titanic\")\n",
    "ti[\"age\"] = ti[\"age\"].fillna( ti[\"age\"].mean() )\n",
    "#\n",
    "y = ti[\"survived\"]\n",
    "X = ti[[\"age\",\"pclass\",\"sibsp\",\"parch\"]]\n",
    "#\n",
    "# 훈련, 평가 데이터로 분리\n",
    "from sklearn.model_selection import train_test_split\n",
    "x_tr,x_te,y_tr,y_te = train_test_split(\n",
    "    X,y,random_state=0, stratify=y\n",
    ")\n",
    "# 모델'\n",
    "from sklearn.linear_model import LogisticRegression\n",
    "model = LogisticRegression(max_iter=10000).fit(x_tr, y_tr)\n",
    "print(model.score(x_tr, y_tr), model.score(x_te, y_te), )\n",
    "\n",
    "# 모델'\n",
    "from sklearn.neighbors import KNeighborsClassifier\n",
    "model_kn = KNeighborsClassifier().fit(x_tr, y_tr)\n",
    "print(model_kn.score(x_tr, y_tr), model_kn.score(x_te, y_te), )"
   ]
  },
  {
   "cell_type": "code",
   "execution_count": 130,
   "id": "223fb805",
   "metadata": {},
   "outputs": [
    {
     "data": {
      "text/plain": [
       "dict_keys(['data', 'target', 'frame', 'feature_names', 'target_names', 'images', 'DESCR'])"
      ]
     },
     "execution_count": 130,
     "metadata": {},
     "output_type": "execute_result"
    }
   ],
   "source": [
    "# 손글씨 데이터셋\n",
    "from sklearn.datasets import load_digits\n",
    "digits = load_digits()\n",
    "digits.keys()"
   ]
  },
  {
   "cell_type": "code",
   "execution_count": 132,
   "id": "09cedb2f",
   "metadata": {},
   "outputs": [
    {
     "name": "stdout",
     "output_type": "stream",
     "text": [
      "[[ 0.  0.  0. 12. 13.  5.  0.  0.]\n",
      " [ 0.  0.  0. 11. 16.  9.  0.  0.]\n",
      " [ 0.  0.  3. 15. 16.  6.  0.  0.]\n",
      " [ 0.  7. 15. 16. 16.  2.  0.  0.]\n",
      " [ 0.  0.  1. 16. 16.  3.  0.  0.]\n",
      " [ 0.  0.  1. 16. 16.  6.  0.  0.]\n",
      " [ 0.  0.  1. 16. 16.  6.  0.  0.]\n",
      " [ 0.  0.  0. 11. 16. 10.  0.  0.]]\n"
     ]
    }
   ],
   "source": [
    "print(digits['images'][1])"
   ]
  },
  {
   "cell_type": "code",
   "execution_count": 135,
   "id": "0920f19f",
   "metadata": {},
   "outputs": [
    {
     "data": {
      "image/png": "[encoded data removed]",
      "text/plain": [
       "<Figure size 1440x720 with 10 Axes>"
      ]
     },
     "metadata": {
      "needs_background": "light"
     },
     "output_type": "display_data"
    }
   ],
   "source": [
    "plt.figure(figsize=(20,10))\n",
    "for index, image in enumerate(digits['images'][:10]):\n",
    "    plt.subplot(2,5,index+1)\n",
    "    plt.imshow(image)\n",
    "    plt.title(f'Label : {digits.target[index]}')\n",
    "plt.show()"
   ]
  },
  {
   "cell_type": "code",
   "execution_count": 136,
   "id": "9c828e12",
   "metadata": {},
   "outputs": [
    {
     "data": {
      "text/plain": [
       "(1.0, 0.9644444444444444)"
      ]
     },
     "execution_count": 136,
     "metadata": {},
     "output_type": "execute_result"
    }
   ],
   "source": [
    "x_train, x_test, y_train, y_test = train_test_split(digits['data'],\n",
    "                                                    digits['target'],\n",
    "                                                    stratify=digits['target'],\n",
    "                                                    random_state=0)\n",
    "\n",
    "model = LogisticRegression(max_iter=10000).fit(x_train, y_train)\n",
    "model.score(x_train, y_train), model.score(x_test, y_test)"
   ]
  },
  {
   "cell_type": "markdown",
   "id": "7cb9083b",
   "metadata": {},
   "source": [
    "## 분류분석 성능평가"
   ]
  },
  {
   "cell_type": "code",
   "execution_count": 158,
   "id": "c3a81827",
   "metadata": {},
   "outputs": [],
   "source": [
    "# 이진 분류를 위한 데이터세트 준비\n",
    "from sklearn.datasets import load_breast_cancer\n",
    "\n",
    "cancer = load_breast_cancer()\n",
    "X, Y = cancer['data'], cancer['target']\n",
    "\n",
    "# Train Test 분할\n",
    "from sklearn.model_selection import train_test_split\n",
    "X_train, X_test, Y_train, Y_test = train_test_split(X, Y)"
   ]
  },
  {
   "cell_type": "code",
   "execution_count": 159,
   "id": "56847d1d",
   "metadata": {},
   "outputs": [],
   "source": [
    "# 분류 알고리즘 생성 및 예측\n",
    "from sklearn.neighbors import KNeighborsClassifier\n",
    "from sklearn.linear_model import LogisticRegression\n",
    "from sklearn.tree import DecisionTreeClassifier\n",
    "from sklearn.ensemble import RandomForestClassifier\n",
    "from sklearn.ensemble import GradientBoostingClassifier\n",
    "from sklearn.svm import SVC\n",
    "from sklearn.neural_network import MLPClassifier\n",
    "\n",
    "knn = KNeighborsClassifier(n_neighbors=10).fit(X_train, Y_train)\n",
    "knn_pred = knn.predict(X_test)\n",
    "\n",
    "lr = LogisticRegression().fit(X_train, Y_train)\n",
    "lr_pred = lr.predict(X_test)\n",
    "\n",
    "dtc = DecisionTreeClassifier(max_depth=3).fit(X_train, Y_train)\n",
    "dtc_pred = dtc.predict(X_test)\n",
    "\n",
    "rfc = RandomForestClassifier(max_depth=3).fit(X_train, Y_train)\n",
    "rfc_pred = rfc.predict(X_test)\n",
    "\n",
    "gbc = GradientBoostingClassifier(max_depth=3).fit(X_train, Y_train)\n",
    "gbc_pred = gbc.predict(X_test)\n",
    "\n",
    "svm = SVC().fit(X_train, Y_train)\n",
    "svm_pred = svm.predict(X_test)\n",
    "\n",
    "mlp = MLPClassifier().fit(X_train, Y_train)\n",
    "mlp_pred = mlp.predict(X_test)"
   ]
  },
  {
   "cell_type": "code",
   "execution_count": 160,
   "id": "f2dbc0b8",
   "metadata": {},
   "outputs": [
    {
     "name": "stdout",
     "output_type": "stream",
     "text": [
      "KNN 정확도 : 97.20%\n",
      "Logistic Regression 정확도 : 96.50%\n",
      "Decision Tree 정확도 : 93.01%\n",
      "Random Forest 정확도 : 96.50%\n",
      "Gradient Boosting 정확도 : 97.90%\n",
      "SVM 정확도 : 96.50%\n",
      "MLP 정확도 : 95.80%\n"
     ]
    }
   ],
   "source": [
    "# 모델별 정확도 (accuracy) 출력\n",
    "print('KNN 정확도 : %.2f%%' % (knn.score(X_test, Y_test) * 100))\n",
    "print('Logistic Regression 정확도 : %.2f%%' % (lr.score(X_test, Y_test) * 100))\n",
    "print('Decision Tree 정확도 : %.2f%%' % (dtc.score(X_test, Y_test) * 100))\n",
    "print('Random Forest 정확도 : %.2f%%' % (rfc.score(X_test, Y_test) * 100))\n",
    "print('Gradient Boosting 정확도 : %.2f%%' % (gbc.score(X_test, Y_test) * 100))\n",
    "print('SVM 정확도 : %.2f%%' % (svm.score(X_test, Y_test) * 100))\n",
    "print('MLP 정확도 : %.2f%%' % (mlp.score(X_test, Y_test) * 100))"
   ]
  },
  {
   "cell_type": "code",
   "execution_count": 161,
   "id": "643594a8",
   "metadata": {},
   "outputs": [
    {
     "data": {
      "text/plain": [
       "(array([0.        , 0.04255319, 1.        ]),\n",
       " array([0.        , 0.97916667, 1.        ]),\n",
       " array([2, 1, 0]))"
      ]
     },
     "execution_count": 161,
     "metadata": {},
     "output_type": "execute_result"
    }
   ],
   "source": [
    "# ROC Curve를 위한 fpr 및 tpr 계산\n",
    "from sklearn.metrics import roc_curve\n",
    "\n",
    "fpr, tpr, thresholds = roc_curve(Y_test, knn_pred) # 실제값 예측값\n",
    "fpr, tpr, thresholds"
   ]
  },
  {
   "cell_type": "code",
   "execution_count": 162,
   "id": "a924a32e",
   "metadata": {},
   "outputs": [
    {
     "data": {
      "text/plain": [
       "0.9683067375886525"
      ]
     },
     "execution_count": 162,
     "metadata": {},
     "output_type": "execute_result"
    }
   ],
   "source": [
    "# AUC 계산\n",
    "from sklearn.metrics import auc\n",
    "knn_auc = auc(fpr, tpr) # RoC Curve를 그리는 요소인 fpr, tpr\n",
    "knn_auc"
   ]
  },
  {
   "cell_type": "code",
   "execution_count": 163,
   "id": "854a3bc7",
   "metadata": {},
   "outputs": [
    {
     "data": {
      "image/png": "[encoded data removed]",
      "text/plain": [
       "<Figure size 432x288 with 1 Axes>"
      ]
     },
     "metadata": {
      "needs_background": "light"
     },
     "output_type": "display_data"
    }
   ],
   "source": [
    "# Roc Curve 시각화\n",
    "import matplotlib.pyplot as plt\n",
    "label = \"KNN (AUC : %.2f)\" % knn_auc \n",
    "plt.plot([0, 1], [0, 1], 'k--', label=\"Random Prediction\")\n",
    "plt.plot(fpr, tpr, label=label)\n",
    "plt.xlabel('False Positive Rate')\n",
    "plt.ylabel('True Positive Rate')\n",
    "plt.title('Breast Cancer Classification Model Compare')\n",
    "plt.legend()\n",
    "plt.show()"
   ]
  },
  {
   "cell_type": "code",
   "execution_count": 164,
   "id": "ffce1d23",
   "metadata": {
    "scrolled": true
   },
   "outputs": [
    {
     "data": {
      "image/png": "[encoded data removed]",
      "text/plain": [
       "<Figure size 720x720 with 1 Axes>"
      ]
     },
     "metadata": {
      "needs_background": "light"
     },
     "output_type": "display_data"
    }
   ],
   "source": [
    "# 분류 알고리즘 ROC Curve 시각화\n",
    "plt.figure(figsize=(10,10))\n",
    "\n",
    "plt.plot([0, 1], [0, 1], 'k--', label=\"Random Prediction\")\n",
    "\n",
    "alogs = ['KNN', 'Logistic Regression', 'Decision Tree', 'Random Forest', \n",
    "        'Gradient Boosting','SVM', 'MLP']\n",
    "preds = [knn_pred, lr_pred, dtc_pred, rfc_pred, gbc_pred, svm_pred, mlp_pred]\n",
    "\n",
    "for alog, pred in zip(alogs, preds):\n",
    "    fpr, tpr, thresholds = roc_curve(Y_test, pred)\n",
    "    roc_auc = auc(fpr, tpr)\n",
    "    label = \"%s (AUC : %.2f)\" % (alog, roc_auc)\n",
    "    plt.plot(fpr, tpr, label=label)\n",
    "    \n",
    "plt.xlabel('False Positive Rate')\n",
    "plt.ylabel('True Positive Rate')\n",
    "plt.title('Breast Cancer Classification Model Compare')\n",
    "plt.legend()\n",
    "plt.show()"
   ]
  },
  {
   "cell_type": "code",
   "execution_count": 181,
   "id": "6e38885b",
   "metadata": {},
   "outputs": [
    {
     "name": "stdout",
     "output_type": "stream",
     "text": [
      "KNN 정확도 : 77.58%\n",
      "Logistic Regression 정확도 : 77.58%\n",
      "Decision Tree 정확도 : 79.82%\n",
      "Random Forest 정확도 : 79.82%\n",
      "Gradient Boosting 정확도 : 78.48%\n",
      "SVM 정확도 : 65.92%\n",
      "MLP 정확도 : 80.27%\n"
     ]
    },
    {
     "data": {
      "image/png": "[encoded data removed]",
      "text/plain": [
       "<Figure size 432x288 with 1 Axes>"
      ]
     },
     "metadata": {
      "needs_background": "light"
     },
     "output_type": "display_data"
    },
    {
     "data": {
      "image/png": "[encoded data removed]",
      "text/plain": [
       "<Figure size 720x720 with 1 Axes>"
      ]
     },
     "metadata": {
      "needs_background": "light"
     },
     "output_type": "display_data"
    }
   ],
   "source": [
    "# 타이타닉 데이터셋의 알고리즘별 분류분석 평가해보기\n",
    "\n",
    "# 이진 분류를 위한 데이터세트 준비\n",
    "import seaborn as sns\n",
    "ti = sns.load_dataset(\"titanic\")\n",
    "\n",
    "ti[\"age\"] = ti[\"age\"].fillna( ti[\"age\"].mean() )\n",
    "ti = pd.get_dummies(ti, columns=['sex','embarked','class'])\n",
    "\n",
    "Y = ti[\"survived\"]\n",
    "X = ti[[\"age\",\"pclass\",\"sibsp\",\"parch\",'sex_female' ,'sex_male','embarked_C' ,'embarked_Q','embarked_S','class_First','class_Second','class_Third']]\n",
    "\n",
    "# Train Test 분할\n",
    "from sklearn.model_selection import train_test_split\n",
    "X_train, X_test, Y_train, Y_test = train_test_split(X, Y)\n",
    "\n",
    "# 분류 알고리즘 생성 및 예측\n",
    "from sklearn.neighbors import KNeighborsClassifier\n",
    "from sklearn.linear_model import LogisticRegression\n",
    "from sklearn.tree import DecisionTreeClassifier\n",
    "from sklearn.ensemble import RandomForestClassifier\n",
    "from sklearn.ensemble import GradientBoostingClassifier\n",
    "from sklearn.svm import SVC\n",
    "from sklearn.neural_network import MLPClassifier\n",
    "\n",
    "knn = KNeighborsClassifier(n_neighbors=10).fit(X_train, Y_train)\n",
    "knn_pred = knn.predict(X_test)\n",
    "\n",
    "lr = LogisticRegression().fit(X_train, Y_train)\n",
    "lr_pred = lr.predict(X_test)\n",
    "\n",
    "dtc = DecisionTreeClassifier(max_depth=3).fit(X_train, Y_train)\n",
    "dtc_pred = dtc.predict(X_test)\n",
    "\n",
    "rfc = RandomForestClassifier(max_depth=3).fit(X_train, Y_train)\n",
    "rfc_pred = rfc.predict(X_test)\n",
    "\n",
    "gbc = GradientBoostingClassifier(max_depth=3).fit(X_train, Y_train)\n",
    "gbc_pred = gbc.predict(X_test)\n",
    "\n",
    "svm = SVC().fit(X_train, Y_train)\n",
    "svm_pred = svm.predict(X_test)\n",
    "\n",
    "mlp = MLPClassifier().fit(X_train, Y_train)\n",
    "mlp_pred = mlp.predict(X_test)\n",
    "\n",
    "# 모델별 정확도 (accuracy) 출력\n",
    "print('KNN 정확도 : %.2f%%' % (knn.score(X_test, Y_test) * 100))\n",
    "print('Logistic Regression 정확도 : %.2f%%' % (lr.score(X_test, Y_test) * 100))\n",
    "print('Decision Tree 정확도 : %.2f%%' % (dtc.score(X_test, Y_test) * 100))\n",
    "print('Random Forest 정확도 : %.2f%%' % (rfc.score(X_test, Y_test) * 100))\n",
    "print('Gradient Boosting 정확도 : %.2f%%' % (gbc.score(X_test, Y_test) * 100))\n",
    "print('SVM 정확도 : %.2f%%' % (svm.score(X_test, Y_test) * 100))\n",
    "print('MLP 정확도 : %.2f%%' % (mlp.score(X_test, Y_test) * 100))\n",
    "\n",
    "# ROC Curve를 위한 fpr 및 tpr 계산\n",
    "from sklearn.metrics import roc_curve\n",
    "\n",
    "fpr, tpr, thresholds = roc_curve(Y_test, knn_pred) # 실제값 예측값\n",
    "fpr, tpr, thresholds\n",
    "\n",
    "# AUC 계산\n",
    "from sklearn.metrics import auc\n",
    "knn_auc = auc(fpr, tpr) # RoC Curve를 그리는 요소인 fpr, tpr\n",
    "knn_auc\n",
    "\n",
    "# Roc Curve 시각화\n",
    "import matplotlib.pyplot as plt\n",
    "label = \"KNN (AUC : %.2f)\" % knn_auc \n",
    "plt.plot([0, 1], [0, 1], 'k--', label=\"Random Prediction\")\n",
    "plt.plot(fpr, tpr, label=label)\n",
    "plt.xlabel('False Positive Rate')\n",
    "plt.ylabel('True Positive Rate')\n",
    "plt.title('Breast Cancer Classification Model Compare')\n",
    "plt.legend()\n",
    "plt.show()\n",
    "\n",
    "# 분류 알고리즘 ROC Curve 시각화\n",
    "plt.figure(figsize=(10,10))\n",
    "\n",
    "plt.plot([0, 1], [0, 1], 'k--', label=\"Random Prediction\")\n",
    "\n",
    "alogs = ['KNN', 'Logistic Regression', 'Decision Tree', 'Random Forest', \n",
    "        'Gradient Boosting','SVM', 'MLP']\n",
    "preds = [knn_pred, lr_pred, dtc_pred, rfc_pred, gbc_pred, svm_pred, mlp_pred]\n",
    "\n",
    "for alog, pred in zip(alogs, preds):\n",
    "    fpr, tpr, thresholds = roc_curve(Y_test, pred)\n",
    "    roc_auc = auc(fpr, tpr)\n",
    "    label = \"%s (AUC : %.2f)\" % (alog, roc_auc)\n",
    "    plt.plot(fpr, tpr, label=label)\n",
    "    \n",
    "plt.xlabel('False Positive Rate')\n",
    "plt.ylabel('True Positive Rate')\n",
    "plt.title('Titanic Classification Model Compare')\n",
    "plt.legend()\n",
    "plt.show()"
   ]
  }
 ],
 "metadata": {
  "kernelspec": {
   "display_name": "Python 3 (ipykernel)",
   "language": "python",
   "name": "python3"
  },
  "language_info": {
   "codemirror_mode": {
    "name": "ipython",
    "version": 3
   },
   "file_extension": ".py",
   "mimetype": "text/x-python",
   "name": "python",
   "nbconvert_exporter": "python",
   "pygments_lexer": "ipython3",
   "version": "3.9.12"
  }
 },
 "nbformat": 4,
 "nbformat_minor": 5
}
