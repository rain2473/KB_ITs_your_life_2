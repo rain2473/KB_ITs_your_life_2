{
 "cells": [
  {
   "cell_type": "code",
   "execution_count": null,
   "id": "93523cc0",
   "metadata": {},
   "outputs": [],
   "source": [
    "from sklearn.cluster import KMeans\n",
    "from sklearn.preprocessing import MinMaxScaler\n",
    "import pandas as pd\n",
    "import matplotlib.pyplot as plt\n"
   ]
  },
  {
   "cell_type": "code",
   "execution_count": 1,
   "id": "ccb9314b",
   "metadata": {},
   "outputs": [
    {
     "data": {
      "text/html": [
       "<div>\n",
       "<style scoped>\n",
       "    .dataframe tbody tr th:only-of-type {\n",
       "        vertical-align: middle;\n",
       "    }\n",
       "\n",
       "    .dataframe tbody tr th {\n",
       "        vertical-align: top;\n",
       "    }\n",
       "\n",
       "    .dataframe thead th {\n",
       "        text-align: right;\n",
       "    }\n",
       "</style>\n",
       "<table border=\"1\" class=\"dataframe\">\n",
       "  <thead>\n",
       "    <tr style=\"text-align: right;\">\n",
       "      <th></th>\n",
       "      <th>Customer ID</th>\n",
       "      <th>ItemsBought</th>\n",
       "      <th>ItemsReturned</th>\n",
       "      <th>ZipCode</th>\n",
       "      <th>Product</th>\n",
       "    </tr>\n",
       "  </thead>\n",
       "  <tbody>\n",
       "    <tr>\n",
       "      <th>0</th>\n",
       "      <td>4</td>\n",
       "      <td>45</td>\n",
       "      <td>10</td>\n",
       "      <td>2</td>\n",
       "      <td>1365</td>\n",
       "    </tr>\n",
       "    <tr>\n",
       "      <th>1</th>\n",
       "      <td>5</td>\n",
       "      <td>42</td>\n",
       "      <td>18</td>\n",
       "      <td>5</td>\n",
       "      <td>2764</td>\n",
       "    </tr>\n",
       "    <tr>\n",
       "      <th>2</th>\n",
       "      <td>6</td>\n",
       "      <td>50</td>\n",
       "      <td>0</td>\n",
       "      <td>1</td>\n",
       "      <td>1343</td>\n",
       "    </tr>\n",
       "    <tr>\n",
       "      <th>3</th>\n",
       "      <td>8</td>\n",
       "      <td>13</td>\n",
       "      <td>12</td>\n",
       "      <td>4</td>\n",
       "      <td>2435</td>\n",
       "    </tr>\n",
       "    <tr>\n",
       "      <th>4</th>\n",
       "      <td>9</td>\n",
       "      <td>10</td>\n",
       "      <td>7</td>\n",
       "      <td>3</td>\n",
       "      <td>2435</td>\n",
       "    </tr>\n",
       "    <tr>\n",
       "      <th>5</th>\n",
       "      <td>10</td>\n",
       "      <td>34</td>\n",
       "      <td>17</td>\n",
       "      <td>6</td>\n",
       "      <td>2896</td>\n",
       "    </tr>\n",
       "    <tr>\n",
       "      <th>6</th>\n",
       "      <td>11</td>\n",
       "      <td>40</td>\n",
       "      <td>20</td>\n",
       "      <td>8</td>\n",
       "      <td>2869</td>\n",
       "    </tr>\n",
       "    <tr>\n",
       "      <th>7</th>\n",
       "      <td>12</td>\n",
       "      <td>40</td>\n",
       "      <td>8</td>\n",
       "      <td>2</td>\n",
       "      <td>1236</td>\n",
       "    </tr>\n",
       "    <tr>\n",
       "      <th>8</th>\n",
       "      <td>14</td>\n",
       "      <td>9</td>\n",
       "      <td>9</td>\n",
       "      <td>8</td>\n",
       "      <td>2435</td>\n",
       "    </tr>\n",
       "    <tr>\n",
       "      <th>9</th>\n",
       "      <td>15</td>\n",
       "      <td>36</td>\n",
       "      <td>7</td>\n",
       "      <td>2</td>\n",
       "      <td>1764</td>\n",
       "    </tr>\n",
       "    <tr>\n",
       "      <th>10</th>\n",
       "      <td>16</td>\n",
       "      <td>42</td>\n",
       "      <td>1</td>\n",
       "      <td>1</td>\n",
       "      <td>1547</td>\n",
       "    </tr>\n",
       "    <tr>\n",
       "      <th>11</th>\n",
       "      <td>17</td>\n",
       "      <td>46</td>\n",
       "      <td>1</td>\n",
       "      <td>1</td>\n",
       "      <td>1265</td>\n",
       "    </tr>\n",
       "    <tr>\n",
       "      <th>12</th>\n",
       "      <td>21</td>\n",
       "      <td>41</td>\n",
       "      <td>22</td>\n",
       "      <td>9</td>\n",
       "      <td>2465</td>\n",
       "    </tr>\n",
       "  </tbody>\n",
       "</table>\n",
       "</div>"
      ],
      "text/plain": [
       "    Customer ID  ItemsBought  ItemsReturned  ZipCode  Product\n",
       "0             4           45             10        2     1365\n",
       "1             5           42             18        5     2764\n",
       "2             6           50              0        1     1343\n",
       "3             8           13             12        4     2435\n",
       "4             9           10              7        3     2435\n",
       "5            10           34             17        6     2896\n",
       "6            11           40             20        8     2869\n",
       "7            12           40              8        2     1236\n",
       "8            14            9              9        8     2435\n",
       "9            15           36              7        2     1764\n",
       "10           16           42              1        1     1547\n",
       "11           17           46              1        1     1265\n",
       "12           21           41             22        9     2465"
      ]
     },
     "execution_count": 1,
     "metadata": {},
     "output_type": "execute_result"
    }
   ],
   "source": [
    "# 데이터 불러오기\n",
    "data = pd.read_excel('CustomerDataSet.xls')\n",
    "\n",
    "# 데이터 복사\n",
    "data2 = data.copy()\n",
    "data2"
   ]
  },
  {
   "cell_type": "code",
   "execution_count": 4,
   "id": "726c2e23",
   "metadata": {
    "scrolled": true
   },
   "outputs": [
    {
     "data": {
      "text/html": [
       "<div>\n",
       "<style scoped>\n",
       "    .dataframe tbody tr th:only-of-type {\n",
       "        vertical-align: middle;\n",
       "    }\n",
       "\n",
       "    .dataframe tbody tr th {\n",
       "        vertical-align: top;\n",
       "    }\n",
       "\n",
       "    .dataframe thead th {\n",
       "        text-align: right;\n",
       "    }\n",
       "</style>\n",
       "<table border=\"1\" class=\"dataframe\">\n",
       "  <thead>\n",
       "    <tr style=\"text-align: right;\">\n",
       "      <th></th>\n",
       "      <th>Customer ID</th>\n",
       "      <th>ItemsBought</th>\n",
       "      <th>ItemsReturned</th>\n",
       "      <th>ZipCode</th>\n",
       "      <th>Product</th>\n",
       "    </tr>\n",
       "  </thead>\n",
       "  <tbody>\n",
       "    <tr>\n",
       "      <th>0</th>\n",
       "      <td>4</td>\n",
       "      <td>0.878049</td>\n",
       "      <td>0.454545</td>\n",
       "      <td>2</td>\n",
       "      <td>1365</td>\n",
       "    </tr>\n",
       "    <tr>\n",
       "      <th>1</th>\n",
       "      <td>5</td>\n",
       "      <td>0.804878</td>\n",
       "      <td>0.818182</td>\n",
       "      <td>5</td>\n",
       "      <td>2764</td>\n",
       "    </tr>\n",
       "    <tr>\n",
       "      <th>2</th>\n",
       "      <td>6</td>\n",
       "      <td>1.000000</td>\n",
       "      <td>0.000000</td>\n",
       "      <td>1</td>\n",
       "      <td>1343</td>\n",
       "    </tr>\n",
       "    <tr>\n",
       "      <th>3</th>\n",
       "      <td>8</td>\n",
       "      <td>0.097561</td>\n",
       "      <td>0.545455</td>\n",
       "      <td>4</td>\n",
       "      <td>2435</td>\n",
       "    </tr>\n",
       "    <tr>\n",
       "      <th>4</th>\n",
       "      <td>9</td>\n",
       "      <td>0.024390</td>\n",
       "      <td>0.318182</td>\n",
       "      <td>3</td>\n",
       "      <td>2435</td>\n",
       "    </tr>\n",
       "    <tr>\n",
       "      <th>5</th>\n",
       "      <td>10</td>\n",
       "      <td>0.609756</td>\n",
       "      <td>0.772727</td>\n",
       "      <td>6</td>\n",
       "      <td>2896</td>\n",
       "    </tr>\n",
       "    <tr>\n",
       "      <th>6</th>\n",
       "      <td>11</td>\n",
       "      <td>0.756098</td>\n",
       "      <td>0.909091</td>\n",
       "      <td>8</td>\n",
       "      <td>2869</td>\n",
       "    </tr>\n",
       "    <tr>\n",
       "      <th>7</th>\n",
       "      <td>12</td>\n",
       "      <td>0.756098</td>\n",
       "      <td>0.363636</td>\n",
       "      <td>2</td>\n",
       "      <td>1236</td>\n",
       "    </tr>\n",
       "    <tr>\n",
       "      <th>8</th>\n",
       "      <td>14</td>\n",
       "      <td>0.000000</td>\n",
       "      <td>0.409091</td>\n",
       "      <td>8</td>\n",
       "      <td>2435</td>\n",
       "    </tr>\n",
       "    <tr>\n",
       "      <th>9</th>\n",
       "      <td>15</td>\n",
       "      <td>0.658537</td>\n",
       "      <td>0.318182</td>\n",
       "      <td>2</td>\n",
       "      <td>1764</td>\n",
       "    </tr>\n",
       "    <tr>\n",
       "      <th>10</th>\n",
       "      <td>16</td>\n",
       "      <td>0.804878</td>\n",
       "      <td>0.045455</td>\n",
       "      <td>1</td>\n",
       "      <td>1547</td>\n",
       "    </tr>\n",
       "    <tr>\n",
       "      <th>11</th>\n",
       "      <td>17</td>\n",
       "      <td>0.902439</td>\n",
       "      <td>0.045455</td>\n",
       "      <td>1</td>\n",
       "      <td>1265</td>\n",
       "    </tr>\n",
       "    <tr>\n",
       "      <th>12</th>\n",
       "      <td>21</td>\n",
       "      <td>0.780488</td>\n",
       "      <td>1.000000</td>\n",
       "      <td>9</td>\n",
       "      <td>2465</td>\n",
       "    </tr>\n",
       "  </tbody>\n",
       "</table>\n",
       "</div>"
      ],
      "text/plain": [
       "    Customer ID  ItemsBought  ItemsReturned  ZipCode  Product\n",
       "0             4     0.878049       0.454545        2     1365\n",
       "1             5     0.804878       0.818182        5     2764\n",
       "2             6     1.000000       0.000000        1     1343\n",
       "3             8     0.097561       0.545455        4     2435\n",
       "4             9     0.024390       0.318182        3     2435\n",
       "5            10     0.609756       0.772727        6     2896\n",
       "6            11     0.756098       0.909091        8     2869\n",
       "7            12     0.756098       0.363636        2     1236\n",
       "8            14     0.000000       0.409091        8     2435\n",
       "9            15     0.658537       0.318182        2     1764\n",
       "10           16     0.804878       0.045455        1     1547\n",
       "11           17     0.902439       0.045455        1     1265\n",
       "12           21     0.780488       1.000000        9     2465"
      ]
     },
     "execution_count": 4,
     "metadata": {},
     "output_type": "execute_result"
    }
   ],
   "source": [
    "# 정규화 전처리\n",
    "data2[['ItemsBought','ItemsReturned']] = MinMaxScaler().fit_transform(data2[['ItemsBought','ItemsReturned']])\n",
    "data2"
   ]
  },
  {
   "cell_type": "code",
   "execution_count": 26,
   "id": "00f30507",
   "metadata": {},
   "outputs": [
    {
     "data": {
      "image/png": "[encoded data removed]",
      "text/plain": [
       "<Figure size 1080x720 with 6 Axes>"
      ]
     },
     "metadata": {
      "needs_background": "light"
     },
     "output_type": "display_data"
    }
   ],
   "source": [
    "plt.figure(figsize=(15,10))\n",
    "for k in range(2,8):\n",
    "    model = KMeans(n_clusters=k)\n",
    "    pred = model.fit_predict(data2[['ItemsBought','ItemsReturned']])\n",
    "    \n",
    "    plt.subplot(2,3,k-1)\n",
    "    plt.title(f'K={k}')\n",
    "    plt.xlabel('ItemsBought')\n",
    "    plt.ylabel('ItemsReturned')\n",
    "    plt.scatter(data2['ItemsBought'],data2['ItemsReturned'],c=pred)"
   ]
  },
  {
   "cell_type": "code",
   "execution_count": 32,
   "id": "a286389a",
   "metadata": {
    "scrolled": true
   },
   "outputs": [
    {
     "data": {
      "text/plain": [
       "array([3, 1, 0, 2, 2, 1, 1, 3, 2, 3, 0, 0, 1])"
      ]
     },
     "execution_count": 32,
     "metadata": {},
     "output_type": "execute_result"
    }
   ],
   "source": [
    "# 군집분석\n",
    "model = KMeans(n_clusters=4)\n",
    "pred = model.fit_predict(data2[['ItemsBought','ItemsReturned']])\n",
    "pred"
   ]
  },
  {
   "cell_type": "code",
   "execution_count": 40,
   "id": "8a0073ff",
   "metadata": {},
   "outputs": [
    {
     "data": {
      "image/png": "[encoded data removed]",
      "text/plain": [
       "<Figure size 432x288 with 1 Axes>"
      ]
     },
     "metadata": {
      "needs_background": "light"
     },
     "output_type": "display_data"
    }
   ],
   "source": [
    "# 시각화\n",
    "plt.scatter(data2['ItemsBought'],data2['ItemsReturned'],c=pred)\n",
    "plt.xlabel('ItemsBought')\n",
    "plt.ylabel('ItemsReturned')\n",
    "plt.show()"
   ]
  },
  {
   "cell_type": "code",
   "execution_count": 43,
   "id": "76678182",
   "metadata": {},
   "outputs": [
    {
     "data": {
      "image/png": "[encoded data removed]",
      "text/plain": [
       "<Figure size 432x288 with 1 Axes>"
      ]
     },
     "metadata": {
      "needs_background": "light"
     },
     "output_type": "display_data"
    }
   ],
   "source": [
    "# 시각화 - 각 데이터 제품번호 출력\n",
    "for index,c_id,bought,returned,zipcode,product in data2.itertuples():\n",
    "    plt.annotate(f'{pred[index]}:{product}:{zipcode}',(bought-0.05,returned+0.05))\n",
    "plt.scatter(data2['ItemsBought'],data2['ItemsReturned'],c=pred)\n",
    "plt.xlabel('ItemsBought')\n",
    "plt.ylabel('ItemsReturned')\n",
    "plt.show()"
   ]
  },
  {
   "cell_type": "code",
   "execution_count": 28,
   "id": "ae3e887e",
   "metadata": {},
   "outputs": [
    {
     "data": {
      "text/plain": [
       "[Pandas(Index=0, _1=4, ItemsBought=0.878048780487805, ItemsReturned=0.4545454545454546, ZipCode=2, Product=1365),\n",
       " Pandas(Index=1, _1=5, ItemsBought=0.8048780487804879, ItemsReturned=0.8181818181818182, ZipCode=5, Product=2764),\n",
       " Pandas(Index=2, _1=6, ItemsBought=1.0, ItemsReturned=0.0, ZipCode=1, Product=1343),\n",
       " Pandas(Index=3, _1=8, ItemsBought=0.0975609756097561, ItemsReturned=0.5454545454545454, ZipCode=4, Product=2435),\n",
       " Pandas(Index=4, _1=9, ItemsBought=0.02439024390243902, ItemsReturned=0.3181818181818182, ZipCode=3, Product=2435),\n",
       " Pandas(Index=5, _1=10, ItemsBought=0.6097560975609757, ItemsReturned=0.7727272727272727, ZipCode=6, Product=2896),\n",
       " Pandas(Index=6, _1=11, ItemsBought=0.7560975609756098, ItemsReturned=0.9090909090909092, ZipCode=8, Product=2869),\n",
       " Pandas(Index=7, _1=12, ItemsBought=0.7560975609756098, ItemsReturned=0.36363636363636365, ZipCode=2, Product=1236),\n",
       " Pandas(Index=8, _1=14, ItemsBought=0.0, ItemsReturned=0.4090909090909091, ZipCode=8, Product=2435),\n",
       " Pandas(Index=9, _1=15, ItemsBought=0.6585365853658537, ItemsReturned=0.3181818181818182, ZipCode=2, Product=1764),\n",
       " Pandas(Index=10, _1=16, ItemsBought=0.8048780487804879, ItemsReturned=0.045454545454545456, ZipCode=1, Product=1547),\n",
       " Pandas(Index=11, _1=17, ItemsBought=0.902439024390244, ItemsReturned=0.045454545454545456, ZipCode=1, Product=1265),\n",
       " Pandas(Index=12, _1=21, ItemsBought=0.7804878048780488, ItemsReturned=1.0, ZipCode=9, Product=2465)]"
      ]
     },
     "execution_count": 28,
     "metadata": {},
     "output_type": "execute_result"
    }
   ],
   "source": [
    "list(data2.itertuples())"
   ]
  }
 ],
 "metadata": {
  "kernelspec": {
   "display_name": "Python 3 (ipykernel)",
   "language": "python",
   "name": "python3"
  },
  "language_info": {
   "codemirror_mode": {
    "name": "ipython",
    "version": 3
   },
   "file_extension": ".py",
   "mimetype": "text/x-python",
   "name": "python",
   "nbconvert_exporter": "python",
   "pygments_lexer": "ipython3",
   "version": "3.9.12"
  }
 },
 "nbformat": 4,
 "nbformat_minor": 5
}
