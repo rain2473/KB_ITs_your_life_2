{
 "cells": [
  {
   "cell_type": "markdown",
   "id": "d79648d1",
   "metadata": {},
   "source": [
    "# 머신러닝"
   ]
  },
  {
   "cell_type": "markdown",
   "id": "fcbfdcc0",
   "metadata": {},
   "source": [
    "## 지도학습\n",
    "\n",
    "입력과 결과가 있는 경우  \n",
    "데이터와 해석 모델을 만들고 이를 통해 새로운 데이터 추정  \n",
    "많은 양질의 데이터 필요  \n",
    "분류, 회귀 문제에서 사용  \n",
    "분류 : 양자화 된 정수값을 추정  \n",
    "회귀 : 실수 값을 추정  "
   ]
  },
  {
   "cell_type": "markdown",
   "id": "047d9b4c",
   "metadata": {},
   "source": [
    "##  비지도 학습\n",
    "\n",
    "입력은 있느나 결과는 없는 경우  \n",
    "패턴과 특성, 구졸르 스스로 찾아서 학습  \n",
    "결과가 지도학습보단 좋지 않음  \n",
    "군집 문제에서 사용\n",
    "\n",
    "### 준지도 학습\n",
    "\n",
    "지도학습 + 비지도 학습\n",
    "\n",
    "### 강화 학습\n",
    "\n",
    "동작이 적절한지 피드백을 반영하면서 학습->보상  \n",
    "보상을 통해 학습 상태를 인식하게 하여 보상이 최대화 되도록 최적화된 행동을 수행하도록 학습\n"
   ]
  },
  {
   "cell_type": "markdown",
   "id": "c937b910",
   "metadata": {},
   "source": [
    "## 적합\n",
    "과소적합, 과대 적합 둘다 피해야 함.  \n",
    "bias, variance 둘 다 최소화  "
   ]
  },
  {
   "cell_type": "markdown",
   "id": "5d5063a5",
   "metadata": {},
   "source": [
    "## 레이블과 특성\n",
    "\n",
    "레이블(label, class) : 종속 변수 => 답을 의미함.\n",
    "특성(feature) : 독립 변수 => 답을 찾기 위한 변수들, 위험 인자, 설명 변수라고도 함"
   ]
  },
  {
   "cell_type": "code",
   "execution_count": 3,
   "id": "a1d7a74c",
   "metadata": {},
   "outputs": [
    {
     "data": {
      "text/plain": [
       "(sklearn.utils.Bunch,\n",
       " dict_keys(['data', 'target', 'frame', 'target_names', 'DESCR', 'feature_names', 'filename', 'data_module']))"
      ]
     },
     "execution_count": 3,
     "metadata": {},
     "output_type": "execute_result"
    }
   ],
   "source": [
    "from sklearn.datasets import load_iris\n",
    "iris_bunch = load_iris()  #dict 타입\n",
    "type(iris_bunch), iris_bunch.keys()"
   ]
  },
  {
   "cell_type": "code",
   "execution_count": 13,
   "id": "45675e4e",
   "metadata": {},
   "outputs": [
    {
     "data": {
      "text/html": [
       "<div>\n",
       "<style scoped>\n",
       "    .dataframe tbody tr th:only-of-type {\n",
       "        vertical-align: middle;\n",
       "    }\n",
       "\n",
       "    .dataframe tbody tr th {\n",
       "        vertical-align: top;\n",
       "    }\n",
       "\n",
       "    .dataframe thead th {\n",
       "        text-align: right;\n",
       "    }\n",
       "</style>\n",
       "<table border=\"1\" class=\"dataframe\">\n",
       "  <thead>\n",
       "    <tr style=\"text-align: right;\">\n",
       "      <th></th>\n",
       "      <th>sepal_length</th>\n",
       "      <th>sepal_width</th>\n",
       "      <th>petal_length</th>\n",
       "      <th>petal_width</th>\n",
       "      <th>species</th>\n",
       "    </tr>\n",
       "  </thead>\n",
       "  <tbody>\n",
       "    <tr>\n",
       "      <th>0</th>\n",
       "      <td>5.1</td>\n",
       "      <td>3.5</td>\n",
       "      <td>1.4</td>\n",
       "      <td>0.2</td>\n",
       "      <td>setosa</td>\n",
       "    </tr>\n",
       "    <tr>\n",
       "      <th>1</th>\n",
       "      <td>4.9</td>\n",
       "      <td>3.0</td>\n",
       "      <td>1.4</td>\n",
       "      <td>0.2</td>\n",
       "      <td>setosa</td>\n",
       "    </tr>\n",
       "    <tr>\n",
       "      <th>2</th>\n",
       "      <td>4.7</td>\n",
       "      <td>3.2</td>\n",
       "      <td>1.3</td>\n",
       "      <td>0.2</td>\n",
       "      <td>setosa</td>\n",
       "    </tr>\n",
       "    <tr>\n",
       "      <th>3</th>\n",
       "      <td>4.6</td>\n",
       "      <td>3.1</td>\n",
       "      <td>1.5</td>\n",
       "      <td>0.2</td>\n",
       "      <td>setosa</td>\n",
       "    </tr>\n",
       "    <tr>\n",
       "      <th>4</th>\n",
       "      <td>5.0</td>\n",
       "      <td>3.6</td>\n",
       "      <td>1.4</td>\n",
       "      <td>0.2</td>\n",
       "      <td>setosa</td>\n",
       "    </tr>\n",
       "    <tr>\n",
       "      <th>...</th>\n",
       "      <td>...</td>\n",
       "      <td>...</td>\n",
       "      <td>...</td>\n",
       "      <td>...</td>\n",
       "      <td>...</td>\n",
       "    </tr>\n",
       "    <tr>\n",
       "      <th>145</th>\n",
       "      <td>6.7</td>\n",
       "      <td>3.0</td>\n",
       "      <td>5.2</td>\n",
       "      <td>2.3</td>\n",
       "      <td>virginica</td>\n",
       "    </tr>\n",
       "    <tr>\n",
       "      <th>146</th>\n",
       "      <td>6.3</td>\n",
       "      <td>2.5</td>\n",
       "      <td>5.0</td>\n",
       "      <td>1.9</td>\n",
       "      <td>virginica</td>\n",
       "    </tr>\n",
       "    <tr>\n",
       "      <th>147</th>\n",
       "      <td>6.5</td>\n",
       "      <td>3.0</td>\n",
       "      <td>5.2</td>\n",
       "      <td>2.0</td>\n",
       "      <td>virginica</td>\n",
       "    </tr>\n",
       "    <tr>\n",
       "      <th>148</th>\n",
       "      <td>6.2</td>\n",
       "      <td>3.4</td>\n",
       "      <td>5.4</td>\n",
       "      <td>2.3</td>\n",
       "      <td>virginica</td>\n",
       "    </tr>\n",
       "    <tr>\n",
       "      <th>149</th>\n",
       "      <td>5.9</td>\n",
       "      <td>3.0</td>\n",
       "      <td>5.1</td>\n",
       "      <td>1.8</td>\n",
       "      <td>virginica</td>\n",
       "    </tr>\n",
       "  </tbody>\n",
       "</table>\n",
       "<p>150 rows × 5 columns</p>\n",
       "</div>"
      ],
      "text/plain": [
       "     sepal_length  sepal_width  petal_length  petal_width    species\n",
       "0             5.1          3.5           1.4          0.2     setosa\n",
       "1             4.9          3.0           1.4          0.2     setosa\n",
       "2             4.7          3.2           1.3          0.2     setosa\n",
       "3             4.6          3.1           1.5          0.2     setosa\n",
       "4             5.0          3.6           1.4          0.2     setosa\n",
       "..            ...          ...           ...          ...        ...\n",
       "145           6.7          3.0           5.2          2.3  virginica\n",
       "146           6.3          2.5           5.0          1.9  virginica\n",
       "147           6.5          3.0           5.2          2.0  virginica\n",
       "148           6.2          3.4           5.4          2.3  virginica\n",
       "149           5.9          3.0           5.1          1.8  virginica\n",
       "\n",
       "[150 rows x 5 columns]"
      ]
     },
     "execution_count": 13,
     "metadata": {},
     "output_type": "execute_result"
    }
   ],
   "source": [
    "import seaborn as sns\n",
    "iris2 = sns.load_dataset('iris')\n",
    "iris2"
   ]
  },
  {
   "cell_type": "code",
   "execution_count": 4,
   "id": "9475645f",
   "metadata": {},
   "outputs": [
    {
     "name": "stdout",
     "output_type": "stream",
     "text": [
      ".. _iris_dataset:\n",
      "\n",
      "Iris plants dataset\n",
      "--------------------\n",
      "\n",
      "**Data Set Characteristics:**\n",
      "\n",
      "    :Number of Instances: 150 (50 in each of three classes)\n",
      "    :Number of Attributes: 4 numeric, predictive attributes and the class\n",
      "    :Attribute Information:\n",
      "        - sepal length in cm\n",
      "        - sepal width in cm\n",
      "        - petal length in cm\n",
      "        - petal width in cm\n",
      "        - class:\n",
      "                - Iris-Setosa\n",
      "                - Iris-Versicolour\n",
      "                - Iris-Virginica\n",
      "                \n",
      "    :Summary Statistics:\n",
      "\n",
      "    ============== ==== ==== ======= ===== ====================\n",
      "                    Min  Max   Mean    SD   Class Correlation\n",
      "    ============== ==== ==== ======= ===== ====================\n",
      "    sepal length:   4.3  7.9   5.84   0.83    0.7826\n",
      "    sepal width:    2.0  4.4   3.05   0.43   -0.4194\n",
      "    petal length:   1.0  6.9   3.76   1.76    0.9490  (high!)\n",
      "    petal width:    0.1  2.5   1.20   0.76    0.9565  (high!)\n",
      "    ============== ==== ==== ======= ===== ====================\n",
      "\n",
      "    :Missing Attribute Values: None\n",
      "    :Class Distribution: 33.3% for each of 3 classes.\n",
      "    :Creator: R.A. Fisher\n",
      "    :Donor: Michael Marshall (MARSHALL%PLU@io.arc.nasa.gov)\n",
      "    :Date: July, 1988\n",
      "\n",
      "The famous Iris database, first used by Sir R.A. Fisher. The dataset is taken\n",
      "from Fisher's paper. Note that it's the same as in R, but not as in the UCI\n",
      "Machine Learning Repository, which has two wrong data points.\n",
      "\n",
      "This is perhaps the best known database to be found in the\n",
      "pattern recognition literature.  Fisher's paper is a classic in the field and\n",
      "is referenced frequently to this day.  (See Duda & Hart, for example.)  The\n",
      "data set contains 3 classes of 50 instances each, where each class refers to a\n",
      "type of iris plant.  One class is linearly separable from the other 2; the\n",
      "latter are NOT linearly separable from each other.\n",
      "\n",
      ".. topic:: References\n",
      "\n",
      "   - Fisher, R.A. \"The use of multiple measurements in taxonomic problems\"\n",
      "     Annual Eugenics, 7, Part II, 179-188 (1936); also in \"Contributions to\n",
      "     Mathematical Statistics\" (John Wiley, NY, 1950).\n",
      "   - Duda, R.O., & Hart, P.E. (1973) Pattern Classification and Scene Analysis.\n",
      "     (Q327.D83) John Wiley & Sons.  ISBN 0-471-22361-1.  See page 218.\n",
      "   - Dasarathy, B.V. (1980) \"Nosing Around the Neighborhood: A New System\n",
      "     Structure and Classification Rule for Recognition in Partially Exposed\n",
      "     Environments\".  IEEE Transactions on Pattern Analysis and Machine\n",
      "     Intelligence, Vol. PAMI-2, No. 1, 67-71.\n",
      "   - Gates, G.W. (1972) \"The Reduced Nearest Neighbor Rule\".  IEEE Transactions\n",
      "     on Information Theory, May 1972, 431-433.\n",
      "   - See also: 1988 MLC Proceedings, 54-64.  Cheeseman et al\"s AUTOCLASS II\n",
      "     conceptual clustering system finds 3 classes in the data.\n",
      "   - Many, many more ...\n"
     ]
    }
   ],
   "source": [
    "print(iris_bunch.DESCR)"
   ]
  },
  {
   "cell_type": "code",
   "execution_count": 5,
   "id": "f142b71b",
   "metadata": {},
   "outputs": [
    {
     "data": {
      "text/plain": [
       "(numpy.ndarray,\n",
       " array([[5.1, 3.5, 1.4, 0.2],\n",
       "        [4.9, 3. , 1.4, 0.2],\n",
       "        [4.7, 3.2, 1.3, 0.2],\n",
       "        [4.6, 3.1, 1.5, 0.2],\n",
       "        [5. , 3.6, 1.4, 0.2]]),\n",
       " (150, 4))"
      ]
     },
     "execution_count": 5,
     "metadata": {},
     "output_type": "execute_result"
    }
   ],
   "source": [
    "type(iris_bunch.data), iris_bunch.data[:5], iris_bunch.data.shape"
   ]
  },
  {
   "cell_type": "code",
   "execution_count": 6,
   "id": "7bab1724",
   "metadata": {},
   "outputs": [
    {
     "data": {
      "text/plain": [
       "['sepal length (cm)',\n",
       " 'sepal width (cm)',\n",
       " 'petal length (cm)',\n",
       " 'petal width (cm)']"
      ]
     },
     "execution_count": 6,
     "metadata": {},
     "output_type": "execute_result"
    }
   ],
   "source": [
    "iris_bunch.feature_names"
   ]
  },
  {
   "cell_type": "code",
   "execution_count": 7,
   "id": "0987b9c2",
   "metadata": {},
   "outputs": [
    {
     "data": {
      "text/plain": [
       "(numpy.ndarray,\n",
       " array([0, 0, 0, 0, 0, 0, 0, 0, 0, 0, 0, 0, 0, 0, 0, 0, 0, 0, 0, 0, 0, 0,\n",
       "        0, 0, 0, 0, 0, 0, 0, 0, 0, 0, 0, 0, 0, 0, 0, 0, 0, 0, 0, 0, 0, 0,\n",
       "        0, 0, 0, 0, 0, 0, 1, 1, 1, 1, 1, 1, 1, 1, 1, 1, 1, 1, 1, 1, 1, 1,\n",
       "        1, 1, 1, 1, 1, 1, 1, 1, 1, 1, 1, 1, 1, 1, 1, 1, 1, 1, 1, 1, 1, 1,\n",
       "        1, 1, 1, 1, 1, 1, 1, 1, 1, 1, 1, 1, 2, 2, 2, 2, 2, 2, 2, 2, 2, 2,\n",
       "        2, 2, 2, 2, 2, 2, 2, 2, 2, 2, 2, 2, 2, 2, 2, 2, 2, 2, 2, 2, 2, 2,\n",
       "        2, 2, 2, 2, 2, 2, 2, 2, 2, 2, 2, 2, 2, 2, 2, 2, 2, 2]),\n",
       " (150,))"
      ]
     },
     "execution_count": 7,
     "metadata": {},
     "output_type": "execute_result"
    }
   ],
   "source": [
    "type(iris_bunch.target), iris_bunch.target, iris_bunch.target.shape"
   ]
  },
  {
   "cell_type": "code",
   "execution_count": 8,
   "id": "6bd6641f",
   "metadata": {},
   "outputs": [
    {
     "data": {
      "text/plain": [
       "array(['setosa', 'versicolor', 'virginica'], dtype='<U10')"
      ]
     },
     "execution_count": 8,
     "metadata": {},
     "output_type": "execute_result"
    }
   ],
   "source": [
    "iris_bunch.target_names"
   ]
  },
  {
   "cell_type": "code",
   "execution_count": 10,
   "id": "744e173b",
   "metadata": {},
   "outputs": [
    {
     "name": "stdout",
     "output_type": "stream",
     "text": [
      "['setosa', 'setosa', 'setosa', 'setosa', 'setosa', 'setosa', 'setosa', 'setosa', 'setosa', 'setosa', 'setosa', 'setosa', 'setosa', 'setosa', 'setosa', 'setosa', 'setosa', 'setosa', 'setosa', 'setosa', 'setosa', 'setosa', 'setosa', 'setosa', 'setosa', 'setosa', 'setosa', 'setosa', 'setosa', 'setosa', 'setosa', 'setosa', 'setosa', 'setosa', 'setosa', 'setosa', 'setosa', 'setosa', 'setosa', 'setosa', 'setosa', 'setosa', 'setosa', 'setosa', 'setosa', 'setosa', 'setosa', 'setosa', 'setosa', 'setosa', 'versicolor', 'versicolor', 'versicolor', 'versicolor', 'versicolor', 'versicolor', 'versicolor', 'versicolor', 'versicolor', 'versicolor', 'versicolor', 'versicolor', 'versicolor', 'versicolor', 'versicolor', 'versicolor', 'versicolor', 'versicolor', 'versicolor', 'versicolor', 'versicolor', 'versicolor', 'versicolor', 'versicolor', 'versicolor', 'versicolor', 'versicolor', 'versicolor', 'versicolor', 'versicolor', 'versicolor', 'versicolor', 'versicolor', 'versicolor', 'versicolor', 'versicolor', 'versicolor', 'versicolor', 'versicolor', 'versicolor', 'versicolor', 'versicolor', 'versicolor', 'versicolor', 'versicolor', 'versicolor', 'versicolor', 'versicolor', 'versicolor', 'versicolor', 'virginica', 'virginica', 'virginica', 'virginica', 'virginica', 'virginica', 'virginica', 'virginica', 'virginica', 'virginica', 'virginica', 'virginica', 'virginica', 'virginica', 'virginica', 'virginica', 'virginica', 'virginica', 'virginica', 'virginica', 'virginica', 'virginica', 'virginica', 'virginica', 'virginica', 'virginica', 'virginica', 'virginica', 'virginica', 'virginica', 'virginica', 'virginica', 'virginica', 'virginica', 'virginica', 'virginica', 'virginica', 'virginica', 'virginica', 'virginica', 'virginica', 'virginica', 'virginica', 'virginica', 'virginica', 'virginica', 'virginica', 'virginica', 'virginica', 'virginica']\n"
     ]
    }
   ],
   "source": [
    "print([iris_bunch.target_names[target] for target in iris_bunch.target])"
   ]
  },
  {
   "cell_type": "markdown",
   "id": "a442dd5e",
   "metadata": {},
   "source": [
    "##  데이터 분할\n",
    "\n",
    "학습용 : 평가용 => 7:3 정도(기본 75:25)  \n",
    "학습용 : 검증용 : 평가용 => 5:3:2  \n",
    "train_test_split => sklearn.model_selection, 데이터 분할에 사용"
   ]
  },
  {
   "cell_type": "code",
   "execution_count": 15,
   "id": "a5bbc605",
   "metadata": {},
   "outputs": [
    {
     "name": "stdout",
     "output_type": "stream",
     "text": [
      "[0 3 1 4 2 7 9]\n",
      "[6 8 5]\n"
     ]
    }
   ],
   "source": [
    "import numpy as np\n",
    "from sklearn.model_selection import train_test_split\n",
    "\n",
    "x = np.arange(10)\n",
    "\n",
    "x_train, x_test = train_test_split(x)\n",
    "print(x_train)\n",
    "print(x_test)"
   ]
  },
  {
   "cell_type": "code",
   "execution_count": 18,
   "id": "9680da60",
   "metadata": {},
   "outputs": [
    {
     "data": {
      "text/plain": [
       "((105, 4), (45, 4), (105,), (45,))"
      ]
     },
     "execution_count": 18,
     "metadata": {},
     "output_type": "execute_result"
    }
   ],
   "source": [
    "x_train, x_test, y_train, y_test = train_test_split(iris_bunch.data,iris_bunch.target, test_size=0.3)\n",
    "x_train.shape, x_test.shape, y_train.shape, y_test.shape"
   ]
  },
  {
   "cell_type": "code",
   "execution_count": 19,
   "id": "d1297871",
   "metadata": {},
   "outputs": [
    {
     "data": {
      "text/plain": [
       "((105, 4), (45, 4), (105,), (45,))"
      ]
     },
     "execution_count": 19,
     "metadata": {},
     "output_type": "execute_result"
    }
   ],
   "source": [
    "from sklearn.model_selection import train_test_split\n",
    "\n",
    "x_tra, x_te, y_tra, y_te = train_test_split(\n",
    "    iris_bunch['data'],\n",
    "    iris_bunch['target'], \n",
    "    test_size=0.3\n",
    ")\n",
    "x_tra.shape, x_te.shape, y_tra.shape, y_te.shape"
   ]
  },
  {
   "cell_type": "code",
   "execution_count": 22,
   "id": "0c48b432",
   "metadata": {},
   "outputs": [
    {
     "data": {
      "text/plain": [
       "(array([[4.8, 3.4, 1.9, 0.2],\n",
       "        [6.7, 3.1, 4.7, 1.5],\n",
       "        [5.9, 3.2, 4.8, 1.8],\n",
       "        [7.6, 3. , 6.6, 2.1],\n",
       "        [5.9, 3. , 5.1, 1.8],\n",
       "        [4.6, 3.1, 1.5, 0.2],\n",
       "        [5.8, 2.7, 5.1, 1.9],\n",
       "        [6.8, 3. , 5.5, 2.1],\n",
       "        [5.1, 3.3, 1.7, 0.5],\n",
       "        [5.6, 3. , 4.5, 1.5],\n",
       "        [5.1, 3.8, 1.6, 0.2],\n",
       "        [6.4, 3.2, 4.5, 1.5],\n",
       "        [5.4, 3.4, 1.5, 0.4],\n",
       "        [6.1, 3. , 4.6, 1.4],\n",
       "        [5.5, 3.5, 1.3, 0.2],\n",
       "        [6.6, 3. , 4.4, 1.4],\n",
       "        [6.3, 2.8, 5.1, 1.5],\n",
       "        [6.5, 3. , 5.8, 2.2],\n",
       "        [5.7, 3.8, 1.7, 0.3],\n",
       "        [7.4, 2.8, 6.1, 1.9],\n",
       "        [7.7, 2.8, 6.7, 2. ],\n",
       "        [6.1, 2.8, 4.7, 1.2],\n",
       "        [4.8, 3. , 1.4, 0.1],\n",
       "        [5.4, 3.9, 1.3, 0.4],\n",
       "        [5.4, 3. , 4.5, 1.5],\n",
       "        [5.8, 2.8, 5.1, 2.4],\n",
       "        [6. , 2.2, 4. , 1. ],\n",
       "        [5.1, 3.4, 1.5, 0.2],\n",
       "        [4.9, 3.1, 1.5, 0.2],\n",
       "        [7.2, 3.6, 6.1, 2.5],\n",
       "        [4.6, 3.2, 1.4, 0.2],\n",
       "        [6.4, 2.8, 5.6, 2.1],\n",
       "        [6. , 3. , 4.8, 1.8],\n",
       "        [5.1, 3.7, 1.5, 0.4],\n",
       "        [6.5, 3. , 5.2, 2. ],\n",
       "        [6.7, 2.5, 5.8, 1.8],\n",
       "        [5.1, 3.8, 1.9, 0.4],\n",
       "        [4.4, 3. , 1.3, 0.2],\n",
       "        [5. , 3.4, 1.5, 0.2],\n",
       "        [4.9, 2.4, 3.3, 1. ],\n",
       "        [6.4, 3.1, 5.5, 1.8],\n",
       "        [5. , 2.3, 3.3, 1. ],\n",
       "        [5.3, 3.7, 1.5, 0.2],\n",
       "        [6.4, 2.9, 4.3, 1.3],\n",
       "        [5.7, 2.8, 4.5, 1.3],\n",
       "        [4.8, 3.1, 1.6, 0.2],\n",
       "        [6. , 2.2, 5. , 1.5],\n",
       "        [5.8, 2.6, 4. , 1.2],\n",
       "        [5.7, 2.9, 4.2, 1.3],\n",
       "        [6.1, 2.8, 4. , 1.3],\n",
       "        [5.6, 3. , 4.1, 1.3],\n",
       "        [6.9, 3.2, 5.7, 2.3],\n",
       "        [5.5, 2.5, 4. , 1.3],\n",
       "        [5.7, 3. , 4.2, 1.2],\n",
       "        [6.7, 3.3, 5.7, 2.1],\n",
       "        [4.7, 3.2, 1.3, 0.2],\n",
       "        [5. , 3.4, 1.6, 0.4],\n",
       "        [4.8, 3. , 1.4, 0.3],\n",
       "        [6. , 2.9, 4.5, 1.5],\n",
       "        [5.4, 3.9, 1.7, 0.4],\n",
       "        [6.1, 2.9, 4.7, 1.4],\n",
       "        [5.8, 2.7, 4.1, 1. ],\n",
       "        [5.1, 3.5, 1.4, 0.3],\n",
       "        [5.7, 2.6, 3.5, 1. ],\n",
       "        [5.7, 2.8, 4.1, 1.3],\n",
       "        [6.3, 3.4, 5.6, 2.4],\n",
       "        [5.4, 3.4, 1.7, 0.2],\n",
       "        [6.3, 2.3, 4.4, 1.3],\n",
       "        [5.2, 3.5, 1.5, 0.2],\n",
       "        [6.6, 2.9, 4.6, 1.3],\n",
       "        [5.5, 4.2, 1.4, 0.2],\n",
       "        [6.9, 3.1, 5.4, 2.1],\n",
       "        [6. , 2.7, 5.1, 1.6],\n",
       "        [5.2, 3.4, 1.4, 0.2],\n",
       "        [6.7, 3.1, 5.6, 2.4],\n",
       "        [5. , 3. , 1.6, 0.2],\n",
       "        [5.6, 2.8, 4.9, 2. ],\n",
       "        [4.4, 3.2, 1.3, 0.2],\n",
       "        [6.3, 2.5, 4.9, 1.5],\n",
       "        [6.2, 3.4, 5.4, 2.3],\n",
       "        [6.5, 3.2, 5.1, 2. ],\n",
       "        [5. , 3.2, 1.2, 0.2],\n",
       "        [5. , 3.5, 1.3, 0.3],\n",
       "        [6.7, 3. , 5. , 1.7],\n",
       "        [4.9, 3.6, 1.4, 0.1],\n",
       "        [5.6, 2.5, 3.9, 1.1],\n",
       "        [7.7, 2.6, 6.9, 2.3],\n",
       "        [6.4, 2.7, 5.3, 1.9],\n",
       "        [4.6, 3.6, 1. , 0.2],\n",
       "        [5.8, 2.7, 5.1, 1.9],\n",
       "        [6.2, 2.2, 4.5, 1.5],\n",
       "        [5.4, 3.7, 1.5, 0.2],\n",
       "        [5.5, 2.3, 4. , 1.3],\n",
       "        [7.2, 3.2, 6. , 1.8],\n",
       "        [5.5, 2.4, 3.7, 1. ],\n",
       "        [5.5, 2.6, 4.4, 1.2],\n",
       "        [6.7, 3. , 5.2, 2.3],\n",
       "        [4.8, 3.4, 1.6, 0.2],\n",
       "        [4.9, 2.5, 4.5, 1.7],\n",
       "        [6.8, 3.2, 5.9, 2.3],\n",
       "        [7.7, 3. , 6.1, 2.3],\n",
       "        [6.2, 2.9, 4.3, 1.3],\n",
       "        [6.7, 3.1, 4.4, 1.4],\n",
       "        [6.2, 2.8, 4.8, 1.8],\n",
       "        [6.9, 3.1, 5.1, 2.3]]),\n",
       " array([[6.5, 3. , 5.8, 2.2],\n",
       "        [6. , 2.2, 4. , 1. ],\n",
       "        [5.1, 3.8, 1.6, 0.2],\n",
       "        [6.3, 2.5, 5. , 1.9],\n",
       "        [7.7, 2.8, 6.7, 2. ],\n",
       "        [6.1, 2.6, 5.6, 1.4],\n",
       "        [5.6, 3. , 4.5, 1.5],\n",
       "        [4.8, 3.4, 1.6, 0.2],\n",
       "        [7. , 3.2, 4.7, 1.4],\n",
       "        [5.8, 2.7, 4.1, 1. ],\n",
       "        [6.7, 2.5, 5.8, 1.8],\n",
       "        [5.6, 2.5, 3.9, 1.1],\n",
       "        [5.7, 2.8, 4.5, 1.3],\n",
       "        [6. , 3. , 4.8, 1.8],\n",
       "        [6.4, 2.9, 4.3, 1.3],\n",
       "        [6.7, 3.1, 4.4, 1.4],\n",
       "        [5. , 3.2, 1.2, 0.2],\n",
       "        [4.4, 3.2, 1.3, 0.2],\n",
       "        [5.6, 2.9, 3.6, 1.3],\n",
       "        [6.7, 3.3, 5.7, 2.1],\n",
       "        [5. , 3. , 1.6, 0.2],\n",
       "        [5.1, 2.5, 3. , 1.1],\n",
       "        [5.9, 3. , 5.1, 1.8],\n",
       "        [5.1, 3.3, 1.7, 0.5],\n",
       "        [4.6, 3.2, 1.4, 0.2],\n",
       "        [6.3, 2.7, 4.9, 1.8],\n",
       "        [6.9, 3.1, 5.1, 2.3],\n",
       "        [6.7, 3. , 5.2, 2.3],\n",
       "        [6.1, 3. , 4.9, 1.8],\n",
       "        [5.6, 3. , 4.1, 1.3],\n",
       "        [5.1, 3.4, 1.5, 0.2],\n",
       "        [4.6, 3.1, 1.5, 0.2],\n",
       "        [5.8, 2.7, 3.9, 1.2],\n",
       "        [4.8, 3. , 1.4, 0.1],\n",
       "        [4.9, 2.5, 4.5, 1.7],\n",
       "        [5.7, 2.6, 3.5, 1. ],\n",
       "        [5.4, 3.4, 1.5, 0.4],\n",
       "        [7.1, 3. , 5.9, 2.1],\n",
       "        [5.1, 3.5, 1.4, 0.2],\n",
       "        [6.5, 3.2, 5.1, 2. ],\n",
       "        [5.1, 3.8, 1.5, 0.3],\n",
       "        [5.2, 3.4, 1.4, 0.2],\n",
       "        [4.9, 3.6, 1.4, 0.1],\n",
       "        [6.2, 2.2, 4.5, 1.5],\n",
       "        [6.4, 3.2, 5.3, 2.3],\n",
       "        [7.2, 3.2, 6. , 1.8],\n",
       "        [6.3, 2.5, 4.9, 1.5],\n",
       "        [6.1, 2.9, 4.7, 1.4],\n",
       "        [6.9, 3.2, 5.7, 2.3],\n",
       "        [5. , 3.5, 1.3, 0.3],\n",
       "        [4.9, 2.4, 3.3, 1. ],\n",
       "        [6.2, 2.9, 4.3, 1.3],\n",
       "        [4.6, 3.6, 1. , 0.2],\n",
       "        [4.8, 3.1, 1.6, 0.2],\n",
       "        [6.4, 2.7, 5.3, 1.9],\n",
       "        [5.5, 2.4, 3.8, 1.1],\n",
       "        [6.7, 3.1, 5.6, 2.4],\n",
       "        [5. , 3.5, 1.6, 0.6],\n",
       "        [6.7, 3. , 5. , 1.7],\n",
       "        [6.3, 2.9, 5.6, 1.8],\n",
       "        [4.9, 3.1, 1.5, 0.2],\n",
       "        [6.9, 3.1, 5.4, 2.1],\n",
       "        [6.4, 3.2, 4.5, 1.5],\n",
       "        [4.8, 3. , 1.4, 0.3],\n",
       "        [6.8, 3.2, 5.9, 2.3],\n",
       "        [4.7, 3.2, 1.6, 0.2],\n",
       "        [5. , 2. , 3.5, 1. ],\n",
       "        [5. , 3.6, 1.4, 0.2],\n",
       "        [5.8, 2.7, 5.1, 1.9],\n",
       "        [5.2, 4.1, 1.5, 0.1],\n",
       "        [6. , 3.4, 4.5, 1.6],\n",
       "        [6.3, 3.4, 5.6, 2.4],\n",
       "        [7.2, 3.6, 6.1, 2.5],\n",
       "        [4.5, 2.3, 1.3, 0.3],\n",
       "        [4.6, 3.4, 1.4, 0.3],\n",
       "        [6.3, 2.8, 5.1, 1.5],\n",
       "        [5.7, 3.8, 1.7, 0.3],\n",
       "        [6.2, 2.8, 4.8, 1.8],\n",
       "        [6.5, 3. , 5.2, 2. ],\n",
       "        [5.4, 3.4, 1.7, 0.2],\n",
       "        [5.8, 2.8, 5.1, 2.4],\n",
       "        [5.4, 3.7, 1.5, 0.2],\n",
       "        [5.7, 2.8, 4.1, 1.3],\n",
       "        [4.4, 2.9, 1.4, 0.2],\n",
       "        [5.8, 2.7, 5.1, 1.9],\n",
       "        [5. , 2.3, 3.3, 1. ],\n",
       "        [6.3, 3.3, 6. , 2.5],\n",
       "        [5.7, 2.9, 4.2, 1.3],\n",
       "        [7.7, 3. , 6.1, 2.3],\n",
       "        [6. , 2.7, 5.1, 1.6],\n",
       "        [6.9, 3.1, 4.9, 1.5],\n",
       "        [6.6, 2.9, 4.6, 1.3],\n",
       "        [5.7, 2.5, 5. , 2. ],\n",
       "        [6.4, 2.8, 5.6, 2.1],\n",
       "        [5.5, 3.5, 1.3, 0.2],\n",
       "        [5.6, 2.8, 4.9, 2. ],\n",
       "        [5.2, 3.5, 1.5, 0.2],\n",
       "        [7.7, 3.8, 6.7, 2.2],\n",
       "        [6.3, 2.3, 4.4, 1.3],\n",
       "        [6.8, 2.8, 4.8, 1.4],\n",
       "        [6.1, 3. , 4.6, 1.4],\n",
       "        [4.8, 3.4, 1.9, 0.2],\n",
       "        [4.3, 3. , 1.1, 0.1],\n",
       "        [5.6, 2.7, 4.2, 1.3],\n",
       "        [4.4, 3. , 1.3, 0.2]]))"
      ]
     },
     "execution_count": 22,
     "metadata": {},
     "output_type": "execute_result"
    }
   ],
   "source": [
    "x_tra, x_train    # 랜덤이라 시행마다 다름 => 결과값이 다름. => 검증 불가능"
   ]
  },
  {
   "cell_type": "code",
   "execution_count": 24,
   "id": "805ab03e",
   "metadata": {
    "collapsed": true
   },
   "outputs": [
    {
     "data": {
      "text/plain": [
       "array([[4.6, 3.4, 1.4, 0.3],\n",
       "       [5. , 3. , 1.6, 0.2],\n",
       "       [5.1, 3.7, 1.5, 0.4],\n",
       "       [5.8, 2.6, 4. , 1.2],\n",
       "       [4.9, 3.1, 1.5, 0.1],\n",
       "       [5.1, 3.3, 1.7, 0.5],\n",
       "       [5. , 3.2, 1.2, 0.2],\n",
       "       [6.5, 2.8, 4.6, 1.5],\n",
       "       [7.9, 3.8, 6.4, 2. ],\n",
       "       [6.1, 3. , 4.9, 1.8],\n",
       "       [5.4, 3. , 4.5, 1.5],\n",
       "       [6.4, 2.7, 5.3, 1.9],\n",
       "       [5.7, 2.9, 4.2, 1.3],\n",
       "       [7.7, 3.8, 6.7, 2.2],\n",
       "       [6.5, 3.2, 5.1, 2. ],\n",
       "       [5.8, 2.7, 3.9, 1.2],\n",
       "       [4.6, 3.6, 1. , 0.2],\n",
       "       [6.9, 3.1, 5.4, 2.1],\n",
       "       [6.7, 3.3, 5.7, 2.1],\n",
       "       [6.3, 2.8, 5.1, 1.5],\n",
       "       [5.5, 4.2, 1.4, 0.2],\n",
       "       [4.4, 3.2, 1.3, 0.2],\n",
       "       [5.8, 2.7, 5.1, 1.9],\n",
       "       [5.4, 3.9, 1.7, 0.4],\n",
       "       [5.5, 3.5, 1.3, 0.2],\n",
       "       [5. , 3.5, 1.6, 0.6],\n",
       "       [6.9, 3.1, 4.9, 1.5],\n",
       "       [6.5, 3. , 5.8, 2.2],\n",
       "       [6.7, 3.3, 5.7, 2.5],\n",
       "       [6.1, 2.6, 5.6, 1.4],\n",
       "       [5.4, 3.7, 1.5, 0.2],\n",
       "       [6. , 3.4, 4.5, 1.6],\n",
       "       [5.9, 3.2, 4.8, 1.8],\n",
       "       [4.6, 3.1, 1.5, 0.2],\n",
       "       [6.8, 2.8, 4.8, 1.4],\n",
       "       [4.9, 2.4, 3.3, 1. ],\n",
       "       [6.2, 2.8, 4.8, 1.8],\n",
       "       [5.1, 3.5, 1.4, 0.2],\n",
       "       [6. , 2.9, 4.5, 1.5],\n",
       "       [5.6, 3. , 4.1, 1.3],\n",
       "       [6. , 2.7, 5.1, 1.6],\n",
       "       [7. , 3.2, 4.7, 1.4],\n",
       "       [6.2, 2.2, 4.5, 1.5],\n",
       "       [5.7, 3. , 4.2, 1.2],\n",
       "       [6.4, 2.8, 5.6, 2.2],\n",
       "       [5.7, 2.5, 5. , 2. ],\n",
       "       [4.3, 3. , 1.1, 0.1],\n",
       "       [6.3, 2.5, 4.9, 1.5],\n",
       "       [5.1, 3.5, 1.4, 0.3],\n",
       "       [6.4, 2.9, 4.3, 1.3],\n",
       "       [7.2, 3. , 5.8, 1.6],\n",
       "       [6.4, 3.1, 5.5, 1.8],\n",
       "       [4.9, 2.5, 4.5, 1.7],\n",
       "       [5.6, 2.9, 3.6, 1.3],\n",
       "       [5.7, 3.8, 1.7, 0.3],\n",
       "       [5.1, 3.8, 1.9, 0.4],\n",
       "       [4.4, 3. , 1.3, 0.2],\n",
       "       [5.1, 3.4, 1.5, 0.2],\n",
       "       [5.6, 2.8, 4.9, 2. ],\n",
       "       [5.3, 3.7, 1.5, 0.2],\n",
       "       [4.8, 3.1, 1.6, 0.2],\n",
       "       [6.3, 3.3, 4.7, 1.6],\n",
       "       [5.2, 3.5, 1.5, 0.2],\n",
       "       [6.7, 3.1, 5.6, 2.4],\n",
       "       [6.1, 2.9, 4.7, 1.4],\n",
       "       [6.9, 3.1, 5.1, 2.3],\n",
       "       [5.1, 3.8, 1.5, 0.3],\n",
       "       [5.8, 2.7, 5.1, 1.9],\n",
       "       [7.6, 3. , 6.6, 2.1],\n",
       "       [4.7, 3.2, 1.3, 0.2],\n",
       "       [5.5, 2.4, 3.8, 1.1],\n",
       "       [6.1, 2.8, 4. , 1.3],\n",
       "       [5.7, 2.8, 4.5, 1.3],\n",
       "       [6.8, 3.2, 5.9, 2.3],\n",
       "       [5.9, 3. , 4.2, 1.5],\n",
       "       [6.7, 3.1, 4.4, 1.4],\n",
       "       [4.6, 3.2, 1.4, 0.2],\n",
       "       [5. , 3.3, 1.4, 0.2],\n",
       "       [5. , 3.4, 1.5, 0.2],\n",
       "       [6.5, 3. , 5.2, 2. ],\n",
       "       [5.2, 2.7, 3.9, 1.4],\n",
       "       [6.1, 3. , 4.6, 1.4],\n",
       "       [5. , 3.6, 1.4, 0.2],\n",
       "       [6.3, 3.3, 6. , 2.5],\n",
       "       [6.7, 2.5, 5.8, 1.8],\n",
       "       [7.4, 2.8, 6.1, 1.9],\n",
       "       [6.7, 3.1, 4.7, 1.5],\n",
       "       [5. , 2.3, 3.3, 1. ],\n",
       "       [6.6, 2.9, 4.6, 1.3],\n",
       "       [5. , 2. , 3.5, 1. ],\n",
       "       [7.3, 2.9, 6.3, 1.8],\n",
       "       [6.2, 3.4, 5.4, 2.3],\n",
       "       [4.9, 3.1, 1.5, 0.2],\n",
       "       [5.8, 4. , 1.2, 0.2],\n",
       "       [5.6, 3. , 4.5, 1.5],\n",
       "       [5.5, 2.3, 4. , 1.3],\n",
       "       [5.1, 2.5, 3. , 1.1],\n",
       "       [5.6, 2.7, 4.2, 1.3],\n",
       "       [6. , 3. , 4.8, 1.8],\n",
       "       [5.7, 2.6, 3.5, 1. ],\n",
       "       [6.3, 2.3, 4.4, 1.3],\n",
       "       [6.3, 2.9, 5.6, 1.8],\n",
       "       [5.8, 2.7, 4.1, 1. ],\n",
       "       [4.8, 3.4, 1.9, 0.2],\n",
       "       [4.4, 2.9, 1.4, 0.2]])"
      ]
     },
     "execution_count": 24,
     "metadata": {},
     "output_type": "execute_result"
    }
   ],
   "source": [
    "from sklearn.model_selection import train_test_split\n",
    "\n",
    "x_tra, x_te, y_tra, y_te = train_test_split(\n",
    "    iris_bunch['data'],\n",
    "    iris_bunch['target'], \n",
    "    test_size=0.3,\n",
    "    random_state= 100   # 난수생성 기준숫자\n",
    ")\n",
    "x_tra"
   ]
  },
  {
   "cell_type": "code",
   "execution_count": 25,
   "id": "851ef0f4",
   "metadata": {},
   "outputs": [
    {
     "data": {
      "text/plain": [
       "array([[4.6, 3.4, 1.4, 0.3],\n",
       "       [5. , 3. , 1.6, 0.2],\n",
       "       [5.1, 3.7, 1.5, 0.4],\n",
       "       [5.8, 2.6, 4. , 1.2],\n",
       "       [4.9, 3.1, 1.5, 0.1]])"
      ]
     },
     "execution_count": 25,
     "metadata": {},
     "output_type": "execute_result"
    }
   ],
   "source": [
    "x_tra[:5]"
   ]
  },
  {
   "cell_type": "code",
   "execution_count": 26,
   "id": "8f1292b0",
   "metadata": {},
   "outputs": [
    {
     "data": {
      "text/plain": [
       "array([0, 0, 0, 1, 0])"
      ]
     },
     "execution_count": 26,
     "metadata": {},
     "output_type": "execute_result"
    }
   ],
   "source": [
    "y_tra[:5]"
   ]
  },
  {
   "cell_type": "code",
   "execution_count": 27,
   "id": "a63dcb02",
   "metadata": {},
   "outputs": [
    {
     "data": {
      "text/plain": [
       "(array([[6.4, 2.8, 5.6, 2.1],\n",
       "        [4.8, 3.4, 1.6, 0.2]]),\n",
       " array([2, 0]))"
      ]
     },
     "execution_count": 27,
     "metadata": {},
     "output_type": "execute_result"
    }
   ],
   "source": [
    "x_te[0:2], y_te[0:2]"
   ]
  },
  {
   "cell_type": "code",
   "execution_count": 63,
   "id": "d52db23f",
   "metadata": {},
   "outputs": [
    {
     "name": "stdout",
     "output_type": "stream",
     "text": [
      "예측값 :  [2 0 2 0 2 2 0 0 2 0 0 2 0 0 2 1 1 1 2 2 2 0 2 0 1 2 1 0 1 2 1 1 1 0 0 1 0\n",
      " 1 2 2 0 1 2 2 0]\n",
      "실제값 :  [2 0 2 0 2 2 0 0 2 0 0 2 0 0 2 1 1 1 2 2 2 0 2 0 1 2 1 0 1 2 1 1 2 0 0 1 0\n",
      " 1 2 2 0 1 2 2 0]\n",
      "0.98\n",
      "학습 데이터 성능 :  1.0\n",
      "평가 데이터 성능 :  0.98\n"
     ]
    }
   ],
   "source": [
    "from sklearn.neighbors import KNeighborsClassifier\n",
    "\n",
    "model = KNeighborsClassifier(n_neighbors=1)\n",
    "model.fit(x_tra, y_tra)   # 훈련 데이터로 훈련\n",
    "\n",
    "# 값 예측 출력\n",
    "\n",
    "# 입력 값에 대한 예측값 출력 - 오류\n",
    "# 오류 발생 : model.predict([6.4, 2.8, 5.6, 2.1]) \n",
    "# ==> ValueError: Expected 2D array, got 1D array instead: 입력 값 1차원, 입력값은 반드시 2차원\n",
    "\n",
    "# 입력 값에 대한 예측값 출력\n",
    "model.predict([[6.4, 2.8, 5.6, 2.1]])  # 예측 : 2, 실제 2\n",
    "model.predict([[4.8, 3.4, 1.6, 0.2]])  # 예측 : 0, 실제 0\n",
    "# 비효율 => 변수로\n",
    "model.predict([x_te[0]])  # 인덱싱\n",
    "model.predict(x_te[0:50]) # 슬라이싱\n",
    "\n",
    "# 예측값과 실제 값과의 비교\n",
    "print('예측값 : ', model.predict(x_te))\n",
    "print('실제값 : ', y_te)\n",
    "\n",
    "# 정확도 계산 (모델 평가)\n",
    "print(round(model.score(x_te,y_te),2))\n",
    "\n",
    "# 학습 데이터/ 평가데이터 평가\n",
    "print('학습 데이터 성능 : ', round(model.score(x_tra,y_tra),2))\n",
    "print('평가 데이터 성능 : ', round(model.score(x_te,y_te),2))"
   ]
  },
  {
   "cell_type": "code",
   "execution_count": 67,
   "id": "82987615",
   "metadata": {},
   "outputs": [
    {
     "data": {
      "text/html": [
       "<div>\n",
       "<style scoped>\n",
       "    .dataframe tbody tr th:only-of-type {\n",
       "        vertical-align: middle;\n",
       "    }\n",
       "\n",
       "    .dataframe tbody tr th {\n",
       "        vertical-align: top;\n",
       "    }\n",
       "\n",
       "    .dataframe thead th {\n",
       "        text-align: right;\n",
       "    }\n",
       "</style>\n",
       "<table border=\"1\" class=\"dataframe\">\n",
       "  <thead>\n",
       "    <tr style=\"text-align: right;\">\n",
       "      <th></th>\n",
       "      <th>sepal_length</th>\n",
       "      <th>sepal_width</th>\n",
       "      <th>petal_length</th>\n",
       "      <th>petal_width</th>\n",
       "      <th>species</th>\n",
       "    </tr>\n",
       "  </thead>\n",
       "  <tbody>\n",
       "    <tr>\n",
       "      <th>0</th>\n",
       "      <td>5.1</td>\n",
       "      <td>3.5</td>\n",
       "      <td>1.4</td>\n",
       "      <td>0.2</td>\n",
       "      <td>setosa</td>\n",
       "    </tr>\n",
       "    <tr>\n",
       "      <th>1</th>\n",
       "      <td>4.9</td>\n",
       "      <td>3.0</td>\n",
       "      <td>1.4</td>\n",
       "      <td>0.2</td>\n",
       "      <td>setosa</td>\n",
       "    </tr>\n",
       "    <tr>\n",
       "      <th>2</th>\n",
       "      <td>4.7</td>\n",
       "      <td>3.2</td>\n",
       "      <td>1.3</td>\n",
       "      <td>0.2</td>\n",
       "      <td>setosa</td>\n",
       "    </tr>\n",
       "    <tr>\n",
       "      <th>3</th>\n",
       "      <td>4.6</td>\n",
       "      <td>3.1</td>\n",
       "      <td>1.5</td>\n",
       "      <td>0.2</td>\n",
       "      <td>setosa</td>\n",
       "    </tr>\n",
       "    <tr>\n",
       "      <th>4</th>\n",
       "      <td>5.0</td>\n",
       "      <td>3.6</td>\n",
       "      <td>1.4</td>\n",
       "      <td>0.2</td>\n",
       "      <td>setosa</td>\n",
       "    </tr>\n",
       "    <tr>\n",
       "      <th>...</th>\n",
       "      <td>...</td>\n",
       "      <td>...</td>\n",
       "      <td>...</td>\n",
       "      <td>...</td>\n",
       "      <td>...</td>\n",
       "    </tr>\n",
       "    <tr>\n",
       "      <th>145</th>\n",
       "      <td>6.7</td>\n",
       "      <td>3.0</td>\n",
       "      <td>5.2</td>\n",
       "      <td>2.3</td>\n",
       "      <td>virginica</td>\n",
       "    </tr>\n",
       "    <tr>\n",
       "      <th>146</th>\n",
       "      <td>6.3</td>\n",
       "      <td>2.5</td>\n",
       "      <td>5.0</td>\n",
       "      <td>1.9</td>\n",
       "      <td>virginica</td>\n",
       "    </tr>\n",
       "    <tr>\n",
       "      <th>147</th>\n",
       "      <td>6.5</td>\n",
       "      <td>3.0</td>\n",
       "      <td>5.2</td>\n",
       "      <td>2.0</td>\n",
       "      <td>virginica</td>\n",
       "    </tr>\n",
       "    <tr>\n",
       "      <th>148</th>\n",
       "      <td>6.2</td>\n",
       "      <td>3.4</td>\n",
       "      <td>5.4</td>\n",
       "      <td>2.3</td>\n",
       "      <td>virginica</td>\n",
       "    </tr>\n",
       "    <tr>\n",
       "      <th>149</th>\n",
       "      <td>5.9</td>\n",
       "      <td>3.0</td>\n",
       "      <td>5.1</td>\n",
       "      <td>1.8</td>\n",
       "      <td>virginica</td>\n",
       "    </tr>\n",
       "  </tbody>\n",
       "</table>\n",
       "<p>150 rows × 5 columns</p>\n",
       "</div>"
      ],
      "text/plain": [
       "     sepal_length  sepal_width  petal_length  petal_width    species\n",
       "0             5.1          3.5           1.4          0.2     setosa\n",
       "1             4.9          3.0           1.4          0.2     setosa\n",
       "2             4.7          3.2           1.3          0.2     setosa\n",
       "3             4.6          3.1           1.5          0.2     setosa\n",
       "4             5.0          3.6           1.4          0.2     setosa\n",
       "..            ...          ...           ...          ...        ...\n",
       "145           6.7          3.0           5.2          2.3  virginica\n",
       "146           6.3          2.5           5.0          1.9  virginica\n",
       "147           6.5          3.0           5.2          2.0  virginica\n",
       "148           6.2          3.4           5.4          2.3  virginica\n",
       "149           5.9          3.0           5.1          1.8  virginica\n",
       "\n",
       "[150 rows x 5 columns]"
      ]
     },
     "execution_count": 67,
     "metadata": {},
     "output_type": "execute_result"
    }
   ],
   "source": [
    "# DF로 모델 평가하기\n",
    "\n",
    "import seaborn as sns\n",
    "\n",
    "iris2 = sns.load_dataset('iris')\n",
    "iris2"
   ]
  },
  {
   "cell_type": "code",
   "execution_count": 72,
   "id": "d4fe29f8",
   "metadata": {},
   "outputs": [],
   "source": [
    "x = iris2.drop(columns=['species'])\n",
    "y = iris2['species']"
   ]
  },
  {
   "cell_type": "code",
   "execution_count": 73,
   "id": "8e1fbf81",
   "metadata": {},
   "outputs": [
    {
     "data": {
      "text/plain": [
       "((105, 4), (45, 4), (105,), (45,))"
      ]
     },
     "execution_count": 73,
     "metadata": {},
     "output_type": "execute_result"
    }
   ],
   "source": [
    "from sklearn.model_selection import train_test_split\n",
    "\n",
    "x_tr, x_te, y_tr, y_te = train_test_split(\n",
    "    x,\n",
    "    y,\n",
    "    test_size= 0.3,\n",
    "    random_state= 100\n",
    ")\n",
    "x_tr.shape, x_te.shape, y_tr.shape, y_te.shape"
   ]
  },
  {
   "cell_type": "code",
   "execution_count": 74,
   "id": "0793943c",
   "metadata": {},
   "outputs": [
    {
     "name": "stdout",
     "output_type": "stream",
     "text": [
      "학습 데이터 성능 :  0.0\n",
      "평가 데이터 성능 :  0.98\n"
     ]
    },
    {
     "name": "stderr",
     "output_type": "stream",
     "text": [
      "C:\\Users\\admin\\anaconda3\\lib\\site-packages\\sklearn\\base.py:450: UserWarning: X does not have valid feature names, but KNeighborsClassifier was fitted with feature names\n",
      "  warnings.warn(\n"
     ]
    }
   ],
   "source": [
    "from sklearn.neighbors import KNeighborsClassifier\n",
    "\n",
    "model = KNeighborsClassifier(n_neighbors=1)\n",
    "model.fit(x_tr, y_tr)   # 훈련 데이터로 훈련\n",
    "\n",
    "\n",
    "# 학습 데이터/ 평가데이터 평가\n",
    "print('학습 데이터 성능 : ', round(model.score(x_tra,y_tra),2))\n",
    "print('평가 데이터 성능 : ', round(model.score(x_te,y_te),2))"
   ]
  },
  {
   "cell_type": "markdown",
   "id": "b5f32348",
   "metadata": {},
   "source": [
    "## fish.csv를 읽어 KNN으로 훈련, 성능평가 점수 출력."
   ]
  },
  {
   "cell_type": "code",
   "execution_count": 111,
   "id": "d9e246e9",
   "metadata": {},
   "outputs": [
    {
     "name": "stdout",
     "output_type": "stream",
     "text": [
      "학습 데이터 성능 :  1.0\n",
      "평가 데이터 성능 :  0.62\n"
     ]
    }
   ],
   "source": [
    "import pandas as pd\n",
    "from sklearn.neighbors import KNeighborsClassifier\n",
    "from sklearn.model_selection import train_test_split\n",
    "\n",
    "# csv 파일 읽기\n",
    "data = pd.read_csv('fish.csv')\n",
    "\n",
    "# label과 feature 구분\n",
    "x = data.drop(columns=['Species'])\n",
    "y = data['Species']\n",
    "\n",
    "# 데이터 분할\n",
    "x_tr, x_te, y_tr, y_te = train_test_split(\n",
    "    x,\n",
    "    y,\n",
    "    test_size= 0.3,\n",
    "    random_state= 4,\n",
    "    stratify = y # y 기준 동일 비율로 분할\n",
    ")\n",
    "\n",
    "# 모델 객체 생성\n",
    "model = KNeighborsClassifier(n_neighbors=1)\n",
    "model.fit(x_tr, y_tr)   # 훈련 데이터로 훈련\n",
    "\n",
    "\n",
    "# 학습 데이터/ 평가데이터 평가\n",
    "print('학습 데이터 성능 : ', round(model.score(x_tr,y_tr),2))\n",
    "print('평가 데이터 성능 : ', round(model.score(x_te,y_te),2))"
   ]
  },
  {
   "cell_type": "code",
   "execution_count": 106,
   "id": "2e1cb697",
   "metadata": {},
   "outputs": [
    {
     "data": {
      "text/plain": [
       "(array(['Bream', 'Roach', 'Whitefish', 'Parkki', 'Perch', 'Pike', 'Smelt'],\n",
       "       dtype=object),\n",
       " 7,\n",
       " 7)"
      ]
     },
     "execution_count": 106,
     "metadata": {},
     "output_type": "execute_result"
    }
   ],
   "source": [
    "# 어종 갯수\n",
    "y.unique(), len(y.unique()), y.nunique()"
   ]
  },
  {
   "cell_type": "code",
   "execution_count": 114,
   "id": "9283e87b",
   "metadata": {},
   "outputs": [
    {
     "name": "stderr",
     "output_type": "stream",
     "text": [
      "C:\\Users\\admin\\anaconda3\\lib\\site-packages\\sklearn\\base.py:450: UserWarning: X does not have valid feature names, but KNeighborsClassifier was fitted with feature names\n",
      "  warnings.warn(\n"
     ]
    },
    {
     "ename": "ValueError",
     "evalue": "X has 4 features, but KNeighborsClassifier is expecting 5 features as input.",
     "output_type": "error",
     "traceback": [
      "\u001b[1;31m---------------------------------------------------------------------------\u001b[0m",
      "\u001b[1;31mValueError\u001b[0m                                Traceback (most recent call last)",
      "Input \u001b[1;32mIn [114]\u001b[0m, in \u001b[0;36m<cell line: 1>\u001b[1;34m()\u001b[0m\n\u001b[1;32m----> 1\u001b[0m pd\u001b[38;5;241m.\u001b[39mDataFrame(\u001b[43mmodel\u001b[49m\u001b[38;5;241;43m.\u001b[39;49m\u001b[43mpredict_proba\u001b[49m\u001b[43m(\u001b[49m\u001b[43mx_test\u001b[49m\u001b[43m)\u001b[49m, columns \u001b[38;5;241m=\u001b[39m [\u001b[38;5;124m'\u001b[39m\u001b[38;5;124m0일 확률\u001b[39m\u001b[38;5;124m'\u001b[39m, \u001b[38;5;124m'\u001b[39m\u001b[38;5;124m1일 확률\u001b[39m\u001b[38;5;124m'\u001b[39m])\u001b[38;5;241m.\u001b[39mhead()\n",
      "File \u001b[1;32m~\\anaconda3\\lib\\site-packages\\sklearn\\neighbors\\_classification.py:256\u001b[0m, in \u001b[0;36mKNeighborsClassifier.predict_proba\u001b[1;34m(self, X)\u001b[0m\n\u001b[0;32m    240\u001b[0m \u001b[38;5;28;01mdef\u001b[39;00m \u001b[38;5;21mpredict_proba\u001b[39m(\u001b[38;5;28mself\u001b[39m, X):\n\u001b[0;32m    241\u001b[0m     \u001b[38;5;124;03m\"\"\"Return probability estimates for the test data X.\u001b[39;00m\n\u001b[0;32m    242\u001b[0m \n\u001b[0;32m    243\u001b[0m \u001b[38;5;124;03m    Parameters\u001b[39;00m\n\u001b[1;32m   (...)\u001b[0m\n\u001b[0;32m    254\u001b[0m \u001b[38;5;124;03m        by lexicographic order.\u001b[39;00m\n\u001b[0;32m    255\u001b[0m \u001b[38;5;124;03m    \"\"\"\u001b[39;00m\n\u001b[1;32m--> 256\u001b[0m     neigh_dist, neigh_ind \u001b[38;5;241m=\u001b[39m \u001b[38;5;28;43mself\u001b[39;49m\u001b[38;5;241;43m.\u001b[39;49m\u001b[43mkneighbors\u001b[49m\u001b[43m(\u001b[49m\u001b[43mX\u001b[49m\u001b[43m)\u001b[49m\n\u001b[0;32m    258\u001b[0m     classes_ \u001b[38;5;241m=\u001b[39m \u001b[38;5;28mself\u001b[39m\u001b[38;5;241m.\u001b[39mclasses_\n\u001b[0;32m    259\u001b[0m     _y \u001b[38;5;241m=\u001b[39m \u001b[38;5;28mself\u001b[39m\u001b[38;5;241m.\u001b[39m_y\n",
      "File \u001b[1;32m~\\anaconda3\\lib\\site-packages\\sklearn\\neighbors\\_base.py:717\u001b[0m, in \u001b[0;36mKNeighborsMixin.kneighbors\u001b[1;34m(self, X, n_neighbors, return_distance)\u001b[0m\n\u001b[0;32m    715\u001b[0m         X \u001b[38;5;241m=\u001b[39m _check_precomputed(X)\n\u001b[0;32m    716\u001b[0m     \u001b[38;5;28;01melse\u001b[39;00m:\n\u001b[1;32m--> 717\u001b[0m         X \u001b[38;5;241m=\u001b[39m \u001b[38;5;28;43mself\u001b[39;49m\u001b[38;5;241;43m.\u001b[39;49m\u001b[43m_validate_data\u001b[49m\u001b[43m(\u001b[49m\u001b[43mX\u001b[49m\u001b[43m,\u001b[49m\u001b[43m \u001b[49m\u001b[43maccept_sparse\u001b[49m\u001b[38;5;241;43m=\u001b[39;49m\u001b[38;5;124;43m\"\u001b[39;49m\u001b[38;5;124;43mcsr\u001b[39;49m\u001b[38;5;124;43m\"\u001b[39;49m\u001b[43m,\u001b[49m\u001b[43m \u001b[49m\u001b[43mreset\u001b[49m\u001b[38;5;241;43m=\u001b[39;49m\u001b[38;5;28;43;01mFalse\u001b[39;49;00m\u001b[43m)\u001b[49m\n\u001b[0;32m    718\u001b[0m \u001b[38;5;28;01melse\u001b[39;00m:\n\u001b[0;32m    719\u001b[0m     query_is_train \u001b[38;5;241m=\u001b[39m \u001b[38;5;28;01mTrue\u001b[39;00m\n",
      "File \u001b[1;32m~\\anaconda3\\lib\\site-packages\\sklearn\\base.py:585\u001b[0m, in \u001b[0;36mBaseEstimator._validate_data\u001b[1;34m(self, X, y, reset, validate_separately, **check_params)\u001b[0m\n\u001b[0;32m    582\u001b[0m     out \u001b[38;5;241m=\u001b[39m X, y\n\u001b[0;32m    584\u001b[0m \u001b[38;5;28;01mif\u001b[39;00m \u001b[38;5;129;01mnot\u001b[39;00m no_val_X \u001b[38;5;129;01mand\u001b[39;00m check_params\u001b[38;5;241m.\u001b[39mget(\u001b[38;5;124m\"\u001b[39m\u001b[38;5;124mensure_2d\u001b[39m\u001b[38;5;124m\"\u001b[39m, \u001b[38;5;28;01mTrue\u001b[39;00m):\n\u001b[1;32m--> 585\u001b[0m     \u001b[38;5;28;43mself\u001b[39;49m\u001b[38;5;241;43m.\u001b[39;49m\u001b[43m_check_n_features\u001b[49m\u001b[43m(\u001b[49m\u001b[43mX\u001b[49m\u001b[43m,\u001b[49m\u001b[43m \u001b[49m\u001b[43mreset\u001b[49m\u001b[38;5;241;43m=\u001b[39;49m\u001b[43mreset\u001b[49m\u001b[43m)\u001b[49m\n\u001b[0;32m    587\u001b[0m \u001b[38;5;28;01mreturn\u001b[39;00m out\n",
      "File \u001b[1;32m~\\anaconda3\\lib\\site-packages\\sklearn\\base.py:400\u001b[0m, in \u001b[0;36mBaseEstimator._check_n_features\u001b[1;34m(self, X, reset)\u001b[0m\n\u001b[0;32m    397\u001b[0m     \u001b[38;5;28;01mreturn\u001b[39;00m\n\u001b[0;32m    399\u001b[0m \u001b[38;5;28;01mif\u001b[39;00m n_features \u001b[38;5;241m!=\u001b[39m \u001b[38;5;28mself\u001b[39m\u001b[38;5;241m.\u001b[39mn_features_in_:\n\u001b[1;32m--> 400\u001b[0m     \u001b[38;5;28;01mraise\u001b[39;00m \u001b[38;5;167;01mValueError\u001b[39;00m(\n\u001b[0;32m    401\u001b[0m         \u001b[38;5;124mf\u001b[39m\u001b[38;5;124m\"\u001b[39m\u001b[38;5;124mX has \u001b[39m\u001b[38;5;132;01m{\u001b[39;00mn_features\u001b[38;5;132;01m}\u001b[39;00m\u001b[38;5;124m features, but \u001b[39m\u001b[38;5;132;01m{\u001b[39;00m\u001b[38;5;28mself\u001b[39m\u001b[38;5;241m.\u001b[39m\u001b[38;5;18m__class__\u001b[39m\u001b[38;5;241m.\u001b[39m\u001b[38;5;18m__name__\u001b[39m\u001b[38;5;132;01m}\u001b[39;00m\u001b[38;5;124m \u001b[39m\u001b[38;5;124m\"\u001b[39m\n\u001b[0;32m    402\u001b[0m         \u001b[38;5;124mf\u001b[39m\u001b[38;5;124m\"\u001b[39m\u001b[38;5;124mis expecting \u001b[39m\u001b[38;5;132;01m{\u001b[39;00m\u001b[38;5;28mself\u001b[39m\u001b[38;5;241m.\u001b[39mn_features_in_\u001b[38;5;132;01m}\u001b[39;00m\u001b[38;5;124m features as input.\u001b[39m\u001b[38;5;124m\"\u001b[39m\n\u001b[0;32m    403\u001b[0m     )\n",
      "\u001b[1;31mValueError\u001b[0m: X has 4 features, but KNeighborsClassifier is expecting 5 features as input."
     ]
    }
   ],
   "source": [
    "pd.DataFrame(model.predict_proba(x_test), columns = ['0일 확률', '1일 확률']).head()"
   ]
  },
  {
   "cell_type": "code",
   "execution_count": 123,
   "id": "c11dad89",
   "metadata": {},
   "outputs": [
    {
     "name": "stdout",
     "output_type": "stream",
     "text": [
      "[1.0, 0.74, 0.72, 0.68, 0.67, 0.59, 0.6, 0.55, 0.52, 0.5, 0.5, 0.52, 0.5, 0.49, 0.48, 0.51, 0.5, 0.52, 0.52, 0.51, 0.5, 0.5, 0.5, 0.51, 0.48, 0.5, 0.42, 0.43, 0.42, 0.41, 0.41, 0.41, 0.41, 0.41, 0.41, 0.41, 0.41, 0.41, 0.41, 0.41, 0.41, 0.41, 0.41, 0.41, 0.41, 0.41, 0.41, 0.41, 0.41, 0.41, 0.41, 0.41, 0.41, 0.41, 0.41, 0.41, 0.41, 0.41, 0.4, 0.4, 0.39, 0.38, 0.38, 0.38, 0.38, 0.38, 0.38, 0.38, 0.38, 0.38, 0.41, 0.43, 0.4, 0.42, 0.35, 0.35, 0.35, 0.35, 0.35, 0.35, 0.35, 0.35, 0.35, 0.35, 0.35, 0.35, 0.35, 0.35, 0.35, 0.35, 0.35, 0.35, 0.35, 0.35, 0.35, 0.35, 0.35, 0.35, 0.35, 0.35]\n",
      "[0.62, 0.65, 0.54, 0.62, 0.54, 0.54, 0.56, 0.48, 0.54, 0.58, 0.56, 0.58, 0.58, 0.58, 0.54, 0.6, 0.56, 0.58, 0.54, 0.56, 0.5, 0.5, 0.52, 0.56, 0.5, 0.56, 0.46, 0.46, 0.44, 0.44, 0.44, 0.44, 0.44, 0.42, 0.44, 0.44, 0.44, 0.44, 0.44, 0.44, 0.44, 0.44, 0.44, 0.44, 0.44, 0.42, 0.42, 0.42, 0.42, 0.44, 0.42, 0.42, 0.42, 0.42, 0.42, 0.42, 0.42, 0.42, 0.4, 0.4, 0.35, 0.35, 0.35, 0.35, 0.35, 0.35, 0.35, 0.35, 0.35, 0.35, 0.35, 0.35, 0.31, 0.4, 0.35, 0.35, 0.35, 0.35, 0.35, 0.35, 0.35, 0.35, 0.35, 0.35, 0.35, 0.35, 0.35, 0.35, 0.35, 0.35, 0.35, 0.35, 0.35, 0.35, 0.35, 0.35, 0.35, 0.35, 0.35, 0.35]\n"
     ]
    }
   ],
   "source": [
    "import pandas as pd\n",
    "from sklearn.neighbors import KNeighborsClassifier\n",
    "from sklearn.model_selection import train_test_split\n",
    "\n",
    "# csv 파일 읽기\n",
    "data = pd.read_csv('fish.csv')\n",
    "\n",
    "# label과 feature 구분\n",
    "x = data.drop(columns=['Species'])\n",
    "y = data['Species']\n",
    "\n",
    "# 데이터 분할\n",
    "x_tr, x_te, y_tr, y_te = train_test_split(\n",
    "    x,\n",
    "    y,\n",
    "    test_size= 0.3,\n",
    "    random_state= 4,\n",
    "    stratify = y # y 기준 동일 비율로 분할\n",
    ")\n",
    "\n",
    "# 최적 결과 산출 준비\n",
    "k_range = range(1,101)\n",
    "train_score = []\n",
    "test_score = []\n",
    "\n",
    "# 모델 객체 생성 for 문 추가\n",
    "for k in k_range:\n",
    "    model = KNeighborsClassifier(n_neighbors=k).fit(x_tr, y_tr)   # 훈련 데이터로 훈련\n",
    "    train_score.append(round(model.score(x_tr,y_tr),2))\n",
    "    test_score.append(round(model.score(x_te,y_te),2))\n",
    "\n",
    "# 학습 데이터/ 평가데이터 평가\n",
    "print(train_score)\n",
    "print(test_score)"
   ]
  },
  {
   "cell_type": "code",
   "execution_count": 147,
   "id": "b0cf56a4",
   "metadata": {},
   "outputs": [
    {
     "name": "stdout",
     "output_type": "stream",
     "text": [
      "[1.0, 0.99, 0.97, 0.98, 0.98, 0.97, 0.98, 0.96, 0.96, 0.96, 0.97, 0.97, 0.96, 0.96, 0.96, 0.95, 0.95, 0.95, 0.95, 0.96, 0.95, 0.96, 0.95, 0.96, 0.95, 0.95, 0.96, 0.95, 0.95, 0.96, 0.96, 0.97, 0.96, 0.96, 0.96, 0.96, 0.95, 0.93, 0.93, 0.93, 0.94, 0.91, 0.94, 0.93, 0.94, 0.92, 0.93, 0.91, 0.93, 0.93]\n",
      "[0.96, 0.91, 0.96, 0.96, 1.0, 0.93, 0.98, 0.93, 0.98, 0.93, 0.96, 0.93, 0.98, 0.93, 0.96, 0.93, 0.93, 0.89, 0.91, 0.91, 0.91, 0.89, 0.89, 0.89, 0.91, 0.89, 0.93, 0.91, 0.93, 0.91, 0.91, 0.91, 0.93, 0.91, 0.91, 0.91, 0.91, 0.91, 0.91, 0.89, 0.89, 0.87, 0.87, 0.89, 0.89, 0.89, 0.84, 0.82, 0.84, 0.82]\n"
     ]
    },
    {
     "data": {
      "image/png": "[encoded data removed]",
      "text/plain": [
       "<Figure size 432x288 with 1 Axes>"
      ]
     },
     "metadata": {
      "needs_background": "light"
     },
     "output_type": "display_data"
    }
   ],
   "source": [
    "from sklearn.model_selection import train_test_split\n",
    "from sklearn.neighbors import KNeighborsClassifier\n",
    "import matplotlib.pyplot as plt\n",
    "import seaborn as sns\n",
    "\n",
    "\n",
    "iris = sns.load_dataset('iris')\n",
    "\n",
    "x = iris.drop(columns=['species'])\n",
    "y = iris['species']\n",
    "\n",
    "\n",
    "x_tr, x_te, y_tr, y_te = train_test_split(\n",
    "    x,\n",
    "    y,\n",
    "    test_size= 0.3,\n",
    "    random_state= 100,\n",
    "    stratify = y # y 기준 동일 비율로 분할\n",
    ")\n",
    "\n",
    "# k 값 선택\n",
    "k_range = range(1,51)\n",
    "train_score = []\n",
    "test_score = []\n",
    "\n",
    "# 모델 객체 생성 for 문 추가\n",
    "for k in k_range:\n",
    "    model = KNeighborsClassifier(n_neighbors=k).fit(x_tr, y_tr)   # 훈련 데이터로 훈련\n",
    "    train_score.append(round(model.score(x_tr,y_tr),2))\n",
    "    test_score.append(round(model.score(x_te,y_te),2))\n",
    "\n",
    "# 학습 데이터/ 평가데이터 평가\n",
    "print(train_score)\n",
    "print(test_score)\n",
    "\n",
    "# 평가 결과 시각화\n",
    "plt.plot(k_range, train_score, label = 'Train Accuracy')\n",
    "plt.plot(k_range, test_score, label = 'Test Accuracy')\n",
    "plt.xticks(k_range)\n",
    "plt.title('Find Best K-Value in iris')\n",
    "plt.legend()\n",
    "plt.grid()\n",
    "plt.show()"
   ]
  },
  {
   "cell_type": "code",
   "execution_count": 137,
   "id": "83f0890f",
   "metadata": {},
   "outputs": [
    {
     "data": {
      "image/png": "[encoded data removed]",
      "text/plain": [
       "<Figure size 432x288 with 1 Axes>"
      ]
     },
     "metadata": {
      "needs_background": "light"
     },
     "output_type": "display_data"
    }
   ],
   "source": [
    "# 평가 결과 시각화\n",
    "plt.plot(k_range, train_score, label = 'Train Accuracy')\n",
    "plt.plot(k_range, test_score, label = 'Test Accuracy')\n",
    "plt.xticks(k_range)\n",
    "plt.title('Find Best K-Value in iris')\n",
    "plt.legend()\n",
    "plt.grid()\n",
    "plt.show()"
   ]
  },
  {
   "cell_type": "code",
   "execution_count": 171,
   "id": "766d0bff",
   "metadata": {},
   "outputs": [
    {
     "name": "stdout",
     "output_type": "stream",
     "text": [
      "[1.0, 0.97, 0.95, 0.95, 0.94, 0.94, 0.93, 0.94, 0.93, 0.93, 0.93, 0.94, 0.93, 0.93, 0.93, 0.93, 0.93, 0.93, 0.93, 0.93, 0.92, 0.93, 0.92, 0.92]\n",
      "[0.91, 0.92, 0.94, 0.94, 0.94, 0.94, 0.94, 0.94, 0.94, 0.94, 0.94, 0.94, 0.94, 0.93, 0.93, 0.93, 0.94, 0.94, 0.95, 0.95, 0.95, 0.95, 0.94, 0.95]\n"
     ]
    },
    {
     "data": {
      "image/png": "[encoded data removed]",
      "text/plain": [
       "<Figure size 432x288 with 1 Axes>"
      ]
     },
     "metadata": {
      "needs_background": "light"
     },
     "output_type": "display_data"
    }
   ],
   "source": [
    "from sklearn.datasets import load_breast_cancer\n",
    "from sklearn.model_selection import train_test_split\n",
    "from sklearn.neighbors import KNeighborsClassifier\n",
    "import matplotlib.pyplot as plt\n",
    "import seaborn as sns\n",
    "import numpy as np\n",
    "\n",
    "data = load_breast_cancer()\n",
    "\n",
    "x = data['data']\n",
    "y = data['target']\n",
    "\n",
    "x_tr, x_te, y_tr, y_te = train_test_split(\n",
    "    x,\n",
    "    y,\n",
    "    test_size= 0.3,\n",
    "    random_state= 100,\n",
    "    stratify = y # y 기준 동일 비율로 분할\n",
    ")\n",
    "\n",
    "# k 값 선택\n",
    "k_range = range(1,25)\n",
    "train_score = []\n",
    "test_score = []\n",
    "\n",
    "# 모델 객체 생성 for 문 추가\n",
    "for k in k_range:\n",
    "    model = KNeighborsClassifier(n_neighbors=k).fit(x_tr, y_tr)   # 훈련 데이터로 훈련\n",
    "    train_score.append(round(model.score(x_tr,y_tr),2))\n",
    "    test_score.append(round(model.score(x_te,y_te),2))\n",
    "\n",
    "# 학습 데이터/ 평가데이터 평가\n",
    "print(train_score)\n",
    "print(test_score)\n",
    "\n",
    "# 평가 결과 시각화\n",
    "plt.plot(k_range, train_score, label = 'Train Accuracy')\n",
    "plt.plot(k_range, test_score, label = 'Test Accuracy')\n",
    "plt.xticks(k_range)\n",
    "plt.title('Find Best K-Value in iris')\n",
    "plt.legend()\n",
    "plt.grid()\n",
    "plt.show()"
   ]
  },
  {
   "cell_type": "code",
   "execution_count": 166,
   "id": "fef2b8f6",
   "metadata": {},
   "outputs": [
    {
     "name": "stdout",
     "output_type": "stream",
     "text": [
      ".. _breast_cancer_dataset:\n",
      "\n",
      "Breast cancer wisconsin (diagnostic) dataset\n",
      "--------------------------------------------\n",
      "\n",
      "**Data Set Characteristics:**\n",
      "\n",
      "    :Number of Instances: 569\n",
      "\n",
      "    :Number of Attributes: 30 numeric, predictive attributes and the class\n",
      "\n",
      "    :Attribute Information:\n",
      "        - radius (mean of distances from center to points on the perimeter)\n",
      "        - texture (standard deviation of gray-scale values)\n",
      "        - perimeter\n",
      "        - area\n",
      "        - smoothness (local variation in radius lengths)\n",
      "        - compactness (perimeter^2 / area - 1.0)\n",
      "        - concavity (severity of concave portions of the contour)\n",
      "        - concave points (number of concave portions of the contour)\n",
      "        - symmetry\n",
      "        - fractal dimension (\"coastline approximation\" - 1)\n",
      "\n",
      "        The mean, standard error, and \"worst\" or largest (mean of the three\n",
      "        worst/largest values) of these features were computed for each image,\n",
      "        resulting in 30 features.  For instance, field 0 is Mean Radius, field\n",
      "        10 is Radius SE, field 20 is Worst Radius.\n",
      "\n",
      "        - class:\n",
      "                - WDBC-Malignant\n",
      "                - WDBC-Benign\n",
      "\n",
      "    :Summary Statistics:\n",
      "\n",
      "    ===================================== ====== ======\n",
      "                                           Min    Max\n",
      "    ===================================== ====== ======\n",
      "    radius (mean):                        6.981  28.11\n",
      "    texture (mean):                       9.71   39.28\n",
      "    perimeter (mean):                     43.79  188.5\n",
      "    area (mean):                          143.5  2501.0\n",
      "    smoothness (mean):                    0.053  0.163\n",
      "    compactness (mean):                   0.019  0.345\n",
      "    concavity (mean):                     0.0    0.427\n",
      "    concave points (mean):                0.0    0.201\n",
      "    symmetry (mean):                      0.106  0.304\n",
      "    fractal dimension (mean):             0.05   0.097\n",
      "    radius (standard error):              0.112  2.873\n",
      "    texture (standard error):             0.36   4.885\n",
      "    perimeter (standard error):           0.757  21.98\n",
      "    area (standard error):                6.802  542.2\n",
      "    smoothness (standard error):          0.002  0.031\n",
      "    compactness (standard error):         0.002  0.135\n",
      "    concavity (standard error):           0.0    0.396\n",
      "    concave points (standard error):      0.0    0.053\n",
      "    symmetry (standard error):            0.008  0.079\n",
      "    fractal dimension (standard error):   0.001  0.03\n",
      "    radius (worst):                       7.93   36.04\n",
      "    texture (worst):                      12.02  49.54\n",
      "    perimeter (worst):                    50.41  251.2\n",
      "    area (worst):                         185.2  4254.0\n",
      "    smoothness (worst):                   0.071  0.223\n",
      "    compactness (worst):                  0.027  1.058\n",
      "    concavity (worst):                    0.0    1.252\n",
      "    concave points (worst):               0.0    0.291\n",
      "    symmetry (worst):                     0.156  0.664\n",
      "    fractal dimension (worst):            0.055  0.208\n",
      "    ===================================== ====== ======\n",
      "\n",
      "    :Missing Attribute Values: None\n",
      "\n",
      "    :Class Distribution: 212 - Malignant, 357 - Benign\n",
      "\n",
      "    :Creator:  Dr. William H. Wolberg, W. Nick Street, Olvi L. Mangasarian\n",
      "\n",
      "    :Donor: Nick Street\n",
      "\n",
      "    :Date: November, 1995\n",
      "\n",
      "This is a copy of UCI ML Breast Cancer Wisconsin (Diagnostic) datasets.\n",
      "https://goo.gl/U2Uwz2\n",
      "\n",
      "Features are computed from a digitized image of a fine needle\n",
      "aspirate (FNA) of a breast mass.  They describe\n",
      "characteristics of the cell nuclei present in the image.\n",
      "\n",
      "Separating plane described above was obtained using\n",
      "Multisurface Method-Tree (MSM-T) [K. P. Bennett, \"Decision Tree\n",
      "Construction Via Linear Programming.\" Proceedings of the 4th\n",
      "Midwest Artificial Intelligence and Cognitive Science Society,\n",
      "pp. 97-101, 1992], a classification method which uses linear\n",
      "programming to construct a decision tree.  Relevant features\n",
      "were selected using an exhaustive search in the space of 1-4\n",
      "features and 1-3 separating planes.\n",
      "\n",
      "The actual linear program used to obtain the separating plane\n",
      "in the 3-dimensional space is that described in:\n",
      "[K. P. Bennett and O. L. Mangasarian: \"Robust Linear\n",
      "Programming Discrimination of Two Linearly Inseparable Sets\",\n",
      "Optimization Methods and Software 1, 1992, 23-34].\n",
      "\n",
      "This database is also available through the UW CS ftp server:\n",
      "\n",
      "ftp ftp.cs.wisc.edu\n",
      "cd math-prog/cpo-dataset/machine-learn/WDBC/\n",
      "\n",
      ".. topic:: References\n",
      "\n",
      "   - W.N. Street, W.H. Wolberg and O.L. Mangasarian. Nuclear feature extraction \n",
      "     for breast tumor diagnosis. IS&T/SPIE 1993 International Symposium on \n",
      "     Electronic Imaging: Science and Technology, volume 1905, pages 861-870,\n",
      "     San Jose, CA, 1993.\n",
      "   - O.L. Mangasarian, W.N. Street and W.H. Wolberg. Breast cancer diagnosis and \n",
      "     prognosis via linear programming. Operations Research, 43(4), pages 570-577, \n",
      "     July-August 1995.\n",
      "   - W.H. Wolberg, W.N. Street, and O.L. Mangasarian. Machine learning techniques\n",
      "     to diagnose breast cancer from fine-needle aspirates. Cancer Letters 77 (1994) \n",
      "     163-171.\n"
     ]
    }
   ],
   "source": [
    "print(data.DESCR)"
   ]
  },
  {
   "cell_type": "code",
   "execution_count": 221,
   "id": "7c77ab6d",
   "metadata": {},
   "outputs": [
    {
     "name": "stdout",
     "output_type": "stream",
     "text": [
      "<class 'pandas.core.frame.DataFrame'>\n",
      "RangeIndex: 891 entries, 0 to 890\n",
      "Data columns (total 9 columns):\n",
      " #   Column    Non-Null Count  Dtype  \n",
      "---  ------    --------------  -----  \n",
      " 0   survived  891 non-null    int64  \n",
      " 1   pclass    891 non-null    int64  \n",
      " 2   sex       891 non-null    int64  \n",
      " 3   age       891 non-null    float64\n",
      " 4   sibsp     891 non-null    int64  \n",
      " 5   parch     891 non-null    int64  \n",
      " 6   fare      891 non-null    float64\n",
      " 7   embarked  889 non-null    float64\n",
      " 8   class     891 non-null    int32  \n",
      "dtypes: float64(3), int32(1), int64(5)\n",
      "memory usage: 59.3 KB\n"
     ]
    }
   ],
   "source": [
    "import seaborn as sns\n",
    "data = sns.load_dataset('titanic')\n",
    "\n",
    "# 결측치 해결\n",
    "data['age'] = data['age'].fillna(data['age'].mean())\n",
    "data['embark_town'] = data['embark_town'].fillna(str(data['embark_town'].mode()))\n",
    "data = data.drop(columns=['deck','alive','adult_male','who','alone','embark_town'])\n",
    "data['sex'] = data['sex'].replace({'female':0,'male':1})\n",
    "data['embarked'] = data['embarked'].replace({'S':0,'C':1,'Q':2})\n",
    "data['class'] = data['class'].replace({'First':0,'Second':1,'Third':2}).astype('int')\n",
    "\n",
    "# x = data.drop(columns=['survived'])\n",
    "# y = data['survived']\n",
    "\n",
    "# x_tr, x_te, y_tr, y_te = train_test_split(\n",
    "#     x,\n",
    "#     y,\n",
    "#     test_size= 0.3,\n",
    "#     random_state= 100,\n",
    "#     stratify = y # y 기준 동일 비율로 분할\n",
    "# )\n",
    "\n",
    "# # k 값 선택\n",
    "# k_range = range(1,30)\n",
    "# train_score = []\n",
    "# test_score = []\n",
    "\n",
    "# # 모델 객체 생성 for 문 추가\n",
    "# for k in k_range:\n",
    "#     model = KNeighborsClassifier(n_neighbors=k).fit(x_tr, y_tr)   # 훈련 데이터로 훈련\n",
    "#     train_score.append(round(model.score(x_tr,y_tr),2))\n",
    "#     test_score.append(round(model.score(x_te,y_te),2))\n",
    "\n",
    "# # 학습 데이터/ 평가데이터 평가\n",
    "# print(train_score)\n",
    "# print(test_score)\n",
    "\n",
    "# # 평가 결과 시각화\n",
    "# plt.plot(k_range, train_score, label = 'Train Accuracy')\n",
    "# plt.plot(k_range, test_score, label = 'Test Accuracy')\n",
    "# plt.xticks(k_range)\n",
    "# plt.title('Find Best K-Value in iris')\n",
    "# plt.legend()\n",
    "# plt.grid()\n",
    "# plt.show()\n",
    "\n",
    "data.info()"
   ]
  }
 ],
 "metadata": {
  "kernelspec": {
   "display_name": "Python 3 (ipykernel)",
   "language": "python",
   "name": "python3"
  },
  "language_info": {
   "codemirror_mode": {
    "name": "ipython",
    "version": 3
   },
   "file_extension": ".py",
   "mimetype": "text/x-python",
   "name": "python",
   "nbconvert_exporter": "python",
   "pygments_lexer": "ipython3",
   "version": "3.9.12"
  }
 },
 "nbformat": 4,
 "nbformat_minor": 5
}
