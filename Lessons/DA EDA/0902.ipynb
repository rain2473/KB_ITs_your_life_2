{
 "cells": [
  {
   "cell_type": "code",
   "execution_count": 1,
   "metadata": {},
   "outputs": [
    {
     "name": "stdout",
     "output_type": "stream",
     "text": [
      "None\n"
     ]
    }
   ],
   "source": [
    "# 파라미터 전달\n",
    "def my_prn():\n",
    "    a=3\n",
    "    \n",
    "ans = my_prn()    # 반환값이 없는 함수를 호출하면 None반환\n",
    "print(ans)"
   ]
  },
  {
   "cell_type": "code",
   "execution_count": 2,
   "metadata": {},
   "outputs": [
    {
     "name": "stdout",
     "output_type": "stream",
     "text": [
      "30\n",
      "17\n"
     ]
    }
   ],
   "source": [
    "def calc_many(choice, *args):\n",
    "    if choice == 'mul':\n",
    "        ret = 1\n",
    "        for a in args:\n",
    "            ret *= a\n",
    "        return ret\n",
    "    \n",
    "    if choice == 'sum':\n",
    "        return sum(args)\n",
    "print(calc_many('mul',2,3,5))\n",
    "print(calc_many('sum',2,3,5,7))"
   ]
  },
  {
   "cell_type": "code",
   "execution_count": 3,
   "metadata": {},
   "outputs": [
    {
     "data": {
      "text/plain": [
       "70.0"
      ]
     },
     "execution_count": 3,
     "metadata": {},
     "output_type": "execute_result"
    }
   ],
   "source": [
    "class StudentManager():\n",
    "    def __init__(self):\n",
    "        self.names=['홍','김','박']\n",
    "        self.eng_score=[70,80,60]\n",
    "        \n",
    "    def calc_avg(self):\n",
    "        return sum(self.eng_score)/len(self.names)\n",
    "    \n",
    "sm = StudentManager()\n",
    "sm.calc_avg()"
   ]
  },
  {
   "cell_type": "markdown",
   "metadata": {},
   "source": [
    "# selenium"
   ]
  },
  {
   "cell_type": "code",
   "execution_count": 4,
   "metadata": {},
   "outputs": [
    {
     "name": "stdout",
     "output_type": "stream",
     "text": [
      "Requirement already satisfied: selenium in c:\\users\\admin\\appdata\\roaming\\python\\python38\\site-packages (4.4.3)Note: you may need to restart the kernel to use updated packages.\n",
      "Requirement already satisfied: certifi>=2021.10.8 in c:\\users\\admin\\appdata\\roaming\\python\\python38\\site-packages (from selenium) (2022.6.15)\n",
      "Requirement already satisfied: trio-websocket~=0.9 in c:\\programdata\\anaconda3\\lib\\site-packages (from selenium) (0.9.2)\n",
      "Requirement already satisfied: urllib3[socks]~=1.26 in c:\\users\\admin\\appdata\\roaming\\python\\python38\\site-packages (from selenium) (1.26.12)\n",
      "Requirement already satisfied: trio~=0.17 in c:\\programdata\\anaconda3\\lib\\site-packages (from selenium) (0.21.0)\n",
      "Requirement already satisfied: async-generator>=1.10 in c:\\programdata\\anaconda3\\lib\\site-packages (from trio-websocket~=0.9->selenium) (1.10)\n",
      "Requirement already satisfied: wsproto>=0.14 in c:\\programdata\\anaconda3\\lib\\site-packages (from trio-websocket~=0.9->selenium) (1.2.0)\n",
      "Requirement already satisfied: PySocks!=1.5.7,<2.0,>=1.5.6; extra == \"socks\" in c:\\programdata\\anaconda3\\lib\\site-packages (from urllib3[socks]~=1.26->selenium) (1.7.1)\n",
      "Requirement already satisfied: sniffio in c:\\programdata\\anaconda3\\lib\\site-packages (from trio~=0.17->selenium) (1.3.0)\n",
      "Requirement already satisfied: sortedcontainers in c:\\programdata\\anaconda3\\lib\\site-packages (from trio~=0.17->selenium) (2.2.2)\n",
      "Requirement already satisfied: outcome in c:\\programdata\\anaconda3\\lib\\site-packages (from trio~=0.17->selenium) (1.2.0)\n",
      "Requirement already satisfied: cffi>=1.14; os_name == \"nt\" and implementation_name != \"pypy\" in c:\\programdata\\anaconda3\\lib\\site-packages (from trio~=0.17->selenium) (1.14.0)\n",
      "Requirement already satisfied: attrs>=19.2.0 in c:\\programdata\\anaconda3\\lib\\site-packages (from trio~=0.17->selenium) (19.3.0)\n",
      "Requirement already satisfied: idna in c:\\programdata\\anaconda3\\lib\\site-packages (from trio~=0.17->selenium) (2.10)\n",
      "Requirement already satisfied: h11<1,>=0.9.0 in c:\\programdata\\anaconda3\\lib\\site-packages (from wsproto>=0.14->trio-websocket~=0.9->selenium) (0.13.0)\n",
      "Requirement already satisfied: pycparser in c:\\programdata\\anaconda3\\lib\\site-packages (from cffi>=1.14; os_name == \"nt\" and implementation_name != \"pypy\"->trio~=0.17->selenium) (2.20)\n",
      "\n"
     ]
    }
   ],
   "source": [
    "pip install selenium --user"
   ]
  },
  {
   "cell_type": "code",
   "execution_count": null,
   "metadata": {},
   "outputs": [],
   "source": [
    "import time\n",
    "from selenium import webdriver\n",
    "from selenium.webdriver.common.by import By\n",
    "\n",
    "driver = webdriver.Firefox()\n",
    "driver.get('http://www.google.com/');\n",
    "time.sleep(1)\n",
    "search_box = driver.find_element(By.NAME,'q')\n",
    "search_box.send_keys('악어')\n",
    "search_box.submit()\n",
    "time.sleep(10)\n",
    "driver.quit()"
   ]
  },
  {
   "cell_type": "markdown",
   "metadata": {},
   "source": [
    "# Numpy"
   ]
  },
  {
   "cell_type": "code",
   "execution_count": null,
   "metadata": {},
   "outputs": [],
   "source": [
    "import numpy as np\n",
    "my_list =[1,2,3,4]\n",
    "arr1 = np.array(my_list)\n",
    "\n",
    "arr1, my_list"
   ]
  },
  {
   "cell_type": "code",
   "execution_count": null,
   "metadata": {},
   "outputs": [],
   "source": [
    "# arr1*10     #element wise 연산, 원소값을 각각 연산\n",
    "# my_list *10    # 원소의 개수가 10배 됨. 반복"
   ]
  },
  {
   "cell_type": "code",
   "execution_count": null,
   "metadata": {},
   "outputs": [],
   "source": [
    "my_list2 = [[1,2,3],[4,5,6],[7,8,9]]\n",
    "my_list2[1]     #추출은 가능하지만 열 추출이 불가능"
   ]
  },
  {
   "cell_type": "code",
   "execution_count": null,
   "metadata": {},
   "outputs": [],
   "source": [
    "arr2 = np.array(my_list2)\n",
    "arr2[:,1] #열추출 가능\n",
    "arr2[1,:] #행추출"
   ]
  },
  {
   "cell_type": "code",
   "execution_count": null,
   "metadata": {},
   "outputs": [],
   "source": [
    "arr2[:,[0,2]]    #띄엄띄엄==>팬시인덱싱"
   ]
  },
  {
   "cell_type": "code",
   "execution_count": null,
   "metadata": {},
   "outputs": [],
   "source": [
    "tensor = np.array(\n",
    "    [\n",
    "        [\n",
    "            [0,1,2,3],\n",
    "            [4,5,6,7],\n",
    "            [8,9,10,11]\n",
    "        ],\n",
    "        [\n",
    "         [12,13,14,15],\n",
    "         [16,17,18,19],\n",
    "         [20,21,22,23]\n",
    "        ]\n",
    "    ]\n",
    ")#2면 2행 3열"
   ]
  },
  {
   "cell_type": "code",
   "execution_count": null,
   "metadata": {},
   "outputs": [],
   "source": [
    "# range(1,10.5) 정수 아니면 오류발생\n",
    "np.arange(0,3,0.1)"
   ]
  },
  {
   "cell_type": "code",
   "execution_count": null,
   "metadata": {},
   "outputs": [],
   "source": [
    "np.linspace(1,10,3)"
   ]
  },
  {
   "cell_type": "code",
   "execution_count": null,
   "metadata": {},
   "outputs": [],
   "source": [
    "np.ones((2,2)), np.zeros((2,2)), np.full((2,2),-1), np.eye(2)"
   ]
  },
  {
   "cell_type": "code",
   "execution_count": null,
   "metadata": {},
   "outputs": [],
   "source": [
    "arr1.ndim, arr2.ndim, tensor.ndim "
   ]
  },
  {
   "cell_type": "code",
   "execution_count": null,
   "metadata": {},
   "outputs": [],
   "source": [
    "arr1.shape, arr2.shape, tensor.shape"
   ]
  },
  {
   "cell_type": "code",
   "execution_count": null,
   "metadata": {},
   "outputs": [],
   "source": [
    "arr1.size, arr2.size, tensor.size "
   ]
  },
  {
   "cell_type": "code",
   "execution_count": null,
   "metadata": {},
   "outputs": [],
   "source": [
    "np.array([1.0,2,'3'])  # 숫자의 타입 통일됨   문자형 > 실수형 > 정수형  : dtype='<U32' 유니코드 32자 이내"
   ]
  },
  {
   "cell_type": "code",
   "execution_count": null,
   "metadata": {},
   "outputs": [],
   "source": [
    "# reshape\n",
    "list_tmp = []\n",
    "for i in range(60):\n",
    "    list_tmp.append(i)\n",
    "array_tmp = np.array(list_tmp)\n",
    "tensor_3rd = array_tmp.reshape(4,5,3)\n",
    "matrix_2nd = array_tmp.reshape(6,10)\n",
    "vector_1st = array_tmp.reshape(60)\n",
    "array_tmp, tensor_3rd, matrix_2nd, vector_1st"
   ]
  },
  {
   "cell_type": "code",
   "execution_count": null,
   "metadata": {},
   "outputs": [],
   "source": [
    "array_tmp.astype(np.float), array_tmp.astype(np.str), array_tmp.astype(np.int32), "
   ]
  },
  {
   "cell_type": "code",
   "execution_count": null,
   "metadata": {},
   "outputs": [],
   "source": [
    "array_tmp.astype('float'), array_tmp.astype('str'), array_tmp.astype('int'), "
   ]
  },
  {
   "cell_type": "code",
   "execution_count": null,
   "metadata": {},
   "outputs": [],
   "source": [
    "arr2 + np.eye(3)"
   ]
  },
  {
   "cell_type": "code",
   "execution_count": null,
   "metadata": {},
   "outputs": [],
   "source": [
    "# 아파트 실거래 데이터 읽기\n",
    "import pandas as pd\n",
    "apt_price = pd.read_csv('./apt_price_2022.csv', encoding='cp949', skiprows=15, thousands=',')"
   ]
  },
  {
   "cell_type": "code",
   "execution_count": null,
   "metadata": {},
   "outputs": [],
   "source": [
    "apt_price.shape, apt_price.size"
   ]
  },
  {
   "cell_type": "code",
   "execution_count": null,
   "metadata": {},
   "outputs": [],
   "source": [
    "apt_price"
   ]
  },
  {
   "cell_type": "code",
   "execution_count": null,
   "metadata": {},
   "outputs": [],
   "source": [
    "평 = apt_price[\"전용면적(㎡)\"] / 3.03\n",
    "평당가 = apt_price['거래금액(만원)']  / 평\n",
    "평당가"
   ]
  },
  {
   "cell_type": "code",
   "execution_count": null,
   "metadata": {},
   "outputs": [],
   "source": [
    "import random as rd\n",
    "import numpy as np\n",
    "list_tmp = []\n",
    "for i in range(8):\n",
    "    list_tmp.append(rd.randint(1,100))\n",
    "arr_tmp = np.array(list_tmp)\n",
    "arr_tmp = arr_tmp.reshape(2,4)\n",
    "list_tmp = np.vsplit(arr_tmp,2)\n",
    "arr1 = list_tmp[0].reshape(2,2)\n",
    "arr2 = list_tmp[1].reshape(2,2)\n",
    "arr1 , arr2"
   ]
  },
  {
   "cell_type": "code",
   "execution_count": null,
   "metadata": {},
   "outputs": [],
   "source": [
    "arr2[1,1], arr2[1][1]"
   ]
  },
  {
   "cell_type": "code",
   "execution_count": null,
   "metadata": {},
   "outputs": [],
   "source": [
    "arr1 % 2 ==0, arr2 % 2 ==0"
   ]
  },
  {
   "cell_type": "code",
   "execution_count": null,
   "metadata": {},
   "outputs": [],
   "source": [
    "arr1[arr1%2 ==0], arr2[arr2%2 ==0]"
   ]
  },
  {
   "cell_type": "code",
   "execution_count": null,
   "metadata": {},
   "outputs": [],
   "source": [
    "tensor[tensor % 3 != 0]"
   ]
  },
  {
   "cell_type": "code",
   "execution_count": null,
   "metadata": {},
   "outputs": [],
   "source": [
    "apt_price[apt_price['층']==2]"
   ]
  },
  {
   "cell_type": "code",
   "execution_count": null,
   "metadata": {},
   "outputs": [],
   "source": [
    "apt_price[apt_price['시군구']=='서울특별시 강동구 암사동']"
   ]
  },
  {
   "cell_type": "code",
   "execution_count": null,
   "metadata": {},
   "outputs": [],
   "source": [
    "arr5 = np.array([0,1,2,3,4,5,6,7,8]).reshape(3,3)\n",
    "print(arr5)\n",
    "row = [0,1]\n",
    "col = [2,1]\n",
    "print(arr5[row, col])\n",
    "print(arr5[[0,1],[2,1]])\n",
    "print(arr5[0,2],arr5[1,1])"
   ]
  },
  {
   "cell_type": "code",
   "execution_count": null,
   "metadata": {},
   "outputs": [],
   "source": [
    "arr5[0,:]   # 행 : 0 1개 * 열 : 전부 3개"
   ]
  },
  {
   "cell_type": "code",
   "execution_count": null,
   "metadata": {},
   "outputs": [],
   "source": [
    "arr5[:,0]   # 행 : 전부 3개 * 열 : 0 1개"
   ]
  },
  {
   "cell_type": "code",
   "execution_count": null,
   "metadata": {},
   "outputs": [],
   "source": [
    "arr5[:2,1:]   # 행 : 0~1 2개 * 열 : 1~2 2개"
   ]
  },
  {
   "cell_type": "code",
   "execution_count": null,
   "metadata": {},
   "outputs": [],
   "source": [
    "arr5[-1:,1:3]  #2차원 배열 [[7,8]]로 해야 맞음  행 : -1 1개 * 열 : 1~2 2개"
   ]
  },
  {
   "cell_type": "markdown",
   "metadata": {},
   "source": [
    "# 슬라이싱은 원본 참조임"
   ]
  },
  {
   "cell_type": "code",
   "execution_count": null,
   "metadata": {},
   "outputs": [],
   "source": [
    "b = arr5[:,1]\n",
    "b"
   ]
  },
  {
   "cell_type": "code",
   "execution_count": null,
   "metadata": {},
   "outputs": [],
   "source": [
    "b[0]= 10\n",
    "arr5"
   ]
  },
  {
   "cell_type": "code",
   "execution_count": null,
   "metadata": {},
   "outputs": [],
   "source": [
    "b = arr5[:,1].copy()\n",
    "b"
   ]
  },
  {
   "cell_type": "code",
   "execution_count": null,
   "metadata": {},
   "outputs": [],
   "source": [
    "b[0]= 1\n",
    "arr5"
   ]
  },
  {
   "cell_type": "markdown",
   "metadata": {},
   "source": [
    "### where"
   ]
  },
  {
   "cell_type": "code",
   "execution_count": null,
   "metadata": {},
   "outputs": [],
   "source": [
    "np.where(arr5 % 2 == 0)"
   ]
  },
  {
   "cell_type": "code",
   "execution_count": null,
   "metadata": {},
   "outputs": [],
   "source": [
    "np.where(arr5 % 2 == 0,'짝수','홀수')"
   ]
  },
  {
   "cell_type": "code",
   "execution_count": null,
   "metadata": {},
   "outputs": [],
   "source": [
    "#조건에 맞는 항목은 '짝수', 아니면 원래값 유지\n",
    "np.where(arr5 % 2 == 0,'짝수',arr5)     # 문자열로 변환 됨. ===> 넘파이 무조건 동일 타입 (11자 이하 유니코드)"
   ]
  },
  {
   "cell_type": "markdown",
   "metadata": {},
   "source": [
    "## statistical Function"
   ]
  },
  {
   "cell_type": "code",
   "execution_count": null,
   "metadata": {},
   "outputs": [],
   "source": [
    "arr5.sum()"
   ]
  },
  {
   "cell_type": "code",
   "execution_count": null,
   "metadata": {},
   "outputs": [],
   "source": [
    "arr5.sum(axis=0)  #열 별 통계, 행별 연산 결과 ====> 행별로 합쳐서 결과물이 하나 나옴. 열은 안건드므로 열별 통계가 나옴"
   ]
  },
  {
   "cell_type": "code",
   "execution_count": null,
   "metadata": {},
   "outputs": [],
   "source": [
    "arr5.sum(axis=1)  #행 별 통계, 열별 연산 결과 ====> 열별로 합쳐서 결과물이 하나 나옴. 행은 안건드므로 열별 통계가 나옴"
   ]
  }
 ],
 "metadata": {
  "kernelspec": {
   "display_name": "Python 3 (ipykernel)",
   "language": "python",
   "name": "python3"
  },
  "language_info": {
   "codemirror_mode": {
    "name": "ipython",
    "version": 3
   },
   "file_extension": ".py",
   "mimetype": "text/x-python",
   "name": "python",
   "nbconvert_exporter": "python",
   "pygments_lexer": "ipython3",
   "version": "3.9.12"
  }
 },
 "nbformat": 4,
 "nbformat_minor": 4
}
