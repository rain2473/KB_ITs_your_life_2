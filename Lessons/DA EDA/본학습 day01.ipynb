{
 "cells": [
  {
   "cell_type": "code",
   "execution_count": 13,
   "metadata": {},
   "outputs": [
    {
     "name": "stdout",
     "output_type": "stream",
     "text": [
      "2 X 1 = 2\n",
      "2 X 2 = 4\n",
      "2 X 3 = 6\n",
      "2 X 4 = 8\n",
      "2 X 5 = 10\n",
      "2 X 6 = 12\n",
      "2 X 7 = 14\n",
      "2 X 8 = 16\n",
      "2 X 9 = 18\n"
     ]
    }
   ],
   "source": [
    "i = 1\n",
    "while i < 10:\n",
    "    print(f'2 X {i} = {2*i}')\n",
    "    i += 1"
   ]
  },
  {
   "cell_type": "code",
   "execution_count": 14,
   "metadata": {},
   "outputs": [
    {
     "name": "stdout",
     "output_type": "stream",
     "text": [
      "2 X 1 = 2\n",
      "2 X 2 = 4\n",
      "2 X 3 = 6\n",
      "2 X 4 = 8\n",
      "2 X 5 = 10\n",
      "2 X 6 = 12\n",
      "2 X 7 = 14\n",
      "2 X 8 = 16\n",
      "2 X 9 = 18\n"
     ]
    }
   ],
   "source": [
    "for i in range(1,10):\n",
    "    print(f'2 X {i} = {2*i}')"
   ]
  },
  {
   "cell_type": "code",
   "execution_count": 17,
   "metadata": {},
   "outputs": [
    {
     "name": "stdout",
     "output_type": "stream",
     "text": [
      "A B:3 2\n",
      "5\n"
     ]
    }
   ],
   "source": [
    "tmp = input('A B:')\n",
    "tmp = tmp.split(\" \")\n",
    "A = int(tmp[0])\n",
    "B = int(tmp[1])\n",
    "print(A+B)"
   ]
  },
  {
   "cell_type": "code",
   "execution_count": 1,
   "metadata": {},
   "outputs": [
    {
     "name": "stdout",
     "output_type": "stream",
     "text": [
      "9\n",
      "24\n"
     ]
    }
   ],
   "source": [
    "def calc_many(choice,*args):\n",
    "    if choice == 'sum':\n",
    "        return sum(args)\n",
    "    if choice == 'mul':\n",
    "        tmp = 1\n",
    "        for i in args:\n",
    "            tmp = tmp *i\n",
    "        return tmp\n",
    "    \n",
    "print(calc_many('sum', 1,3,5))\n",
    "print(calc_many('mul', 3,2,4))"
   ]
  },
  {
   "cell_type": "code",
   "execution_count": 25,
   "metadata": {},
   "outputs": [
    {
     "name": "stdout",
     "output_type": "stream",
     "text": [
      "3\n",
      "2 sggr\n",
      "4 ht\n",
      "5 sfg\n",
      "ssggggrr\n",
      "hhhhtttt\n",
      "sssssfffffggggg\n"
     ]
    }
   ],
   "source": [
    "T = int(input())\n",
    "ans = []\n",
    "for t in range(T):\n",
    "    result = []\n",
    "    r, s = input().split()\n",
    "    r = int(r)\n",
    "    s = list(s) \n",
    "    for i in range(len(s)):\n",
    "        for j in range(r):\n",
    "            result.append(s[i])\n",
    "    result = \"\".join(result)\n",
    "    ans.append(result)\n",
    "\n",
    "for word in ans:\n",
    "    print(f'{word}')"
   ]
  }
 ],
 "metadata": {
  "kernelspec": {
   "display_name": "Python 3 (ipykernel)",
   "language": "python",
   "name": "python3"
  },
  "language_info": {
   "codemirror_mode": {
    "name": "ipython",
    "version": 3
   },
   "file_extension": ".py",
   "mimetype": "text/x-python",
   "name": "python",
   "nbconvert_exporter": "python",
   "pygments_lexer": "ipython3",
   "version": "3.9.12"
  }
 },
 "nbformat": 4,
 "nbformat_minor": 4
}
