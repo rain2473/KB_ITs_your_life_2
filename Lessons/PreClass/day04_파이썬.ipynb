{
 "cells": [
  {
   "cell_type": "markdown",
   "metadata": {},
   "source": [
    "# 클래스"
   ]
  },
  {
   "cell_type": "markdown",
   "metadata": {},
   "source": [
    "### int float str -> 단일 정보\n",
    "### list, set, dict -> 복합정보\n",
    "### 항목 : 값 \n",
    "### ex) 상품정보 - 이름 : \"냉장고\" , 크기 : 200, 가격 : 100만, 제조사: '어디', 제품명 : '어떤거', 상품코드 : '몰?루 1234' 등"
   ]
  },
  {
   "cell_type": "code",
   "execution_count": 35,
   "metadata": {},
   "outputs": [
    {
     "name": "stdout",
     "output_type": "stream",
     "text": [
      "냉장고 LG 200 1000000\n",
      "세탁기 삼성 10 500000\n"
     ]
    }
   ],
   "source": [
    "# 상품정보 전용 데이터 타입\n",
    "class Product:\n",
    "    count = 0\n",
    "    \n",
    "    def __init__(self, type, 제조사,크기, 가격):\n",
    "        self.type = type\n",
    "        self.제조사 = 제조사\n",
    "        self.크기 = 크기\n",
    "        self.가격 = 가격\n",
    "        Product.count += 1\n",
    "        \n",
    "    def __del__(self):\n",
    "        print('Obeject Removed!!')\n",
    "        Product.count -= 1\n",
    "              \n",
    "    def print_info(self):\n",
    "        print(self.type, self.제조사, self.크기, self. 가격)\n",
    "        \n",
    "p1 = Product(type = '냉장고', 제조사 = 'LG', 크기 = 200, 가격 = 1000000)\n",
    "p1.print_info()\n",
    "p2 = Product(type = '세탁기', 제조사 = '삼성', 크기 = 10, 가격 = 500000)\n",
    "p2.print_info()"
   ]
  },
  {
   "cell_type": "code",
   "execution_count": 42,
   "metadata": {},
   "outputs": [
    {
     "data": {
      "text/plain": [
       "0"
      ]
     },
     "execution_count": 42,
     "metadata": {},
     "output_type": "execute_result"
    }
   ],
   "source": [
    "Product.count#, p1.count, p2.count #개수는 Class 단위"
   ]
  },
  {
   "cell_type": "code",
   "execution_count": 37,
   "metadata": {},
   "outputs": [
    {
     "name": "stdout",
     "output_type": "stream",
     "text": [
      "Obeject Removed!!\n"
     ]
    }
   ],
   "source": [
    "del p1"
   ]
  },
  {
   "cell_type": "code",
   "execution_count": 39,
   "metadata": {},
   "outputs": [],
   "source": [
    "p3 = p2\n",
    "del p2"
   ]
  },
  {
   "cell_type": "code",
   "execution_count": 41,
   "metadata": {},
   "outputs": [
    {
     "name": "stdout",
     "output_type": "stream",
     "text": [
      "Obeject Removed!!\n"
     ]
    }
   ],
   "source": [
    "del p3"
   ]
  },
  {
   "cell_type": "code",
   "execution_count": 86,
   "metadata": {},
   "outputs": [],
   "source": [
    "class Person:\n",
    "    def __init__(self,name):\n",
    "        self.name = name\n",
    "        \n",
    "    def print_info(self):\n",
    "        print(self.name)\n",
    "    \n",
    "    def __str__(self):              #문자열로 반환\n",
    "        return self.name    \n",
    "        \n",
    "class Student(Person):\n",
    "    def __init__(self,name, 학과, 학번):\n",
    "        super().__init__(name)\n",
    "        self.학과 = 학과\n",
    "        self.학번 = 학번\n",
    "    def print_info(self):\n",
    "        super().print_info()\n",
    "        print(self.학과, self.학번) \n",
    "    def __str__(self):              #문자열로 반환\n",
    "        return f'{super().__str__()},{self.학과},{self.학번}'\n",
    "    \n",
    "class EMP(Person):\n",
    "    def __init__(self,name, 부서, ID):\n",
    "        super().__init__(name)\n",
    "        self.부서 = 부서\n",
    "        self.ID = ID\n",
    "    def print_info(self):\n",
    "        super().print_info()\n",
    "        print(self.부서, self.ID) \n",
    "        \n",
    "class Teacher(Person):\n",
    "    def __init__(self,name, 학과, 교번):\n",
    "        super().__init__(name)\n",
    "        self.학과 = 학과\n",
    "        self.교번 = 교번\n",
    "    def print_info(self):\n",
    "        super().print_info()\n",
    "        print(self.학과, self.교번) "
   ]
  },
  {
   "cell_type": "code",
   "execution_count": 87,
   "metadata": {},
   "outputs": [
    {
     "name": "stdout",
     "output_type": "stream",
     "text": [
      "김길동\n",
      "홍길동\n",
      "학과 11213\n",
      "김대리\n",
      "개발1팀 95011\n",
      "박교수\n",
      "컴공 2011\n"
     ]
    }
   ],
   "source": [
    "p1= Person('김길동')\n",
    "s1= Student('홍길동', '학과', 11213)\n",
    "e1= EMP('김대리', '개발1팀', 95011)\n",
    "t1= Teacher('박교수', '컴공', 2011)\n",
    "p1.print_info()\n",
    "s1.print_info()\n",
    "e1.print_info()\n",
    "t1.print_info()\n"
   ]
  },
  {
   "cell_type": "code",
   "execution_count": 88,
   "metadata": {},
   "outputs": [
    {
     "name": "stdout",
     "output_type": "stream",
     "text": [
      "김길동\n",
      "홍길동,학과,11213\n"
     ]
    }
   ],
   "source": [
    "print(p1)\n",
    "print(s1)"
   ]
  },
  {
   "cell_type": "code",
   "execution_count": 93,
   "metadata": {},
   "outputs": [],
   "source": [
    "class Person:\n",
    "    def __init__(self,name):\n",
    "        self.name = name\n",
    "        \n",
    "    def print_info(self):\n",
    "        print(self.name)\n",
    "    \n",
    "    def __repr__(self):              #문자열로 반환\n",
    "        return f'Person(\"{self.name}\")'\n",
    "        \n",
    "class Student(Person):\n",
    "    def __init__(self,name, 학과, 학번):\n",
    "        super().__init__(name)\n",
    "        self.학과 = 학과\n",
    "        self.학번 = 학번\n",
    "    def print_info(self):\n",
    "        super().print_info()\n",
    "        print(self.학과, self.학번) \n",
    "    def __repr__(self):              #문자열로 반환\n",
    "        return f'{super().__repr__()},{self.학과},{self.학번}'\n",
    "    \n",
    "class EMP(Person):\n",
    "    def __init__(self,name, 부서, ID):\n",
    "        super().__init__(name)\n",
    "        self.부서 = 부서\n",
    "        self.ID = ID\n",
    "    def print_info(self):\n",
    "        super().print_info()\n",
    "        print(self.부서, self.ID) \n",
    "        \n",
    "class Teacher(Person):\n",
    "    def __init__(self,name, 학과, 교번):\n",
    "        super().__init__(name)\n",
    "        self.학과 = 학과\n",
    "        self.교번 = 교번\n",
    "    def print_info(self):\n",
    "        super().print_info()\n",
    "        print(self.학과, self.교번) "
   ]
  },
  {
   "cell_type": "code",
   "execution_count": 94,
   "metadata": {},
   "outputs": [
    {
     "name": "stdout",
     "output_type": "stream",
     "text": [
      "김길동\n",
      "홍길동,학과,11213\n"
     ]
    }
   ],
   "source": [
    "print(p1)\n",
    "print(s1)"
   ]
  },
  {
   "cell_type": "markdown",
   "metadata": {},
   "source": [
    "# 모듈"
   ]
  },
  {
   "cell_type": "code",
   "execution_count": 8,
   "metadata": {},
   "outputs": [
    {
     "data": {
      "text/plain": [
       "2"
      ]
     },
     "execution_count": 8,
     "metadata": {},
     "output_type": "execute_result"
    }
   ],
   "source": [
    "import random\n",
    "random.randint(1,3)\n",
    "\n",
    "import random as rd\n",
    "rd.randint(1,3)\n",
    "\n",
    "from random import randint\n",
    "randint(1,3)\n",
    "\n",
    "from random import randint as rdi\n",
    "rdi(1,3)"
   ]
  },
  {
   "cell_type": "code",
   "execution_count": 7,
   "metadata": {},
   "outputs": [
    {
     "name": "stdout",
     "output_type": "stream",
     "text": [
      "Overwriting my_calc.py\n"
     ]
    }
   ],
   "source": [
    "%%writefile my_calc.py\n",
    "myname = '홍길동'\n",
    "\n",
    "def plus(a,b):\n",
    "    return a+b\n",
    "\n",
    "def minus(a,b):\n",
    "    return a-b\n",
    "\n",
    "#모듈로 사용되는 경우 : __name__는 모듈명 저장\n",
    "#독립실행된느 경우 : __main__로 저장\n",
    "\n",
    "if __name__ == \"__main__\":           #모듈로 사용되는 경우 테스트코드 실행 안되게 함\n",
    "    print(f'3+4={str(plus(3,4))}')"
   ]
  },
  {
   "cell_type": "code",
   "execution_count": 8,
   "metadata": {},
   "outputs": [
    {
     "name": "stdout",
     "output_type": "stream",
     "text": [
      "7\n",
      "-1\n",
      "홍길동\n",
      "my_calc\n"
     ]
    }
   ],
   "source": [
    "import my_calc as mc\n",
    "print(mc.plus(3,4))\n",
    "print(mc.minus(3,4))\n",
    "print(mc.myname)\n",
    "print(mc.__name__)"
   ]
  },
  {
   "cell_type": "code",
   "execution_count": 12,
   "metadata": {},
   "outputs": [
    {
     "name": "stdout",
     "output_type": "stream",
     "text": [
      "숫자를 맞춰 보세요 (1~100)45\n",
      "1회 시도\n",
      "up\n",
      "숫자를 맞춰 보세요 (1~100)68\n",
      "2회 시도\n",
      "up\n",
      "숫자를 맞춰 보세요 (1~100)78\n",
      "3회 시도\n",
      "up\n",
      "숫자를 맞춰 보세요 (1~100)88\n",
      "4회 시도\n",
      "up\n",
      "숫자를 맞춰 보세요 (1~100)95\n",
      "5회 시도\n",
      "up\n",
      "숫자를 맞춰 보세요 (1~100)97\n",
      "6회 시도\n",
      "up\n",
      "숫자를 맞춰 보세요 (1~100)98\n",
      "7회 시도\n",
      "up\n",
      "숫자를 맞춰 보세요 (1~100)99\n",
      "8회 시도\n",
      "up\n",
      "숫자를 맞춰 보세요 (1~100)100\n",
      "9회 시도\n",
      "정답\n"
     ]
    }
   ],
   "source": [
    "import find_number as fn\n",
    "fn.start_game()"
   ]
  },
  {
   "cell_type": "code",
   "execution_count": 25,
   "metadata": {},
   "outputs": [
    {
     "name": "stdout",
     "output_type": "stream",
     "text": [
      "숫자를 맞춰 보세요 (1~100)50\n",
      "1회 시도\n",
      "down\n",
      "숫자를 맞춰 보세요 (1~100)25\n",
      "2회 시도\n",
      "down\n",
      "숫자를 맞춰 보세요 (1~100)15\n",
      "3회 시도\n",
      "down\n",
      "숫자를 맞춰 보세요 (1~100)10\n",
      "4회 시도\n",
      "down\n",
      "숫자를 맞춰 보세요 (1~100)5\n",
      "5회 시도\n",
      "down\n",
      "숫자를 맞춰 보세요 (1~100)2\n",
      "6회 시도\n",
      "up\n",
      "숫자를 맞춰 보세요 (1~100)3\n",
      "7회 시도\n",
      "up\n",
      "숫자를 맞춰 보세요 (1~100)4\n",
      "8회 시도\n",
      "정답\n"
     ]
    }
   ],
   "source": [
    "import find_number as fn\n",
    "fn.start_game()"
   ]
  },
  {
   "cell_type": "code",
   "execution_count": 104,
   "metadata": {},
   "outputs": [
    {
     "ename": "AttributeError",
     "evalue": "module 'find_mine' has no attribute 'game_start'",
     "output_type": "error",
     "traceback": [
      "\u001b[1;31m---------------------------------------------------------------------------\u001b[0m",
      "\u001b[1;31mAttributeError\u001b[0m                            Traceback (most recent call last)",
      "\u001b[1;32m<ipython-input-104-93fc3e71e164>\u001b[0m in \u001b[0;36m<module>\u001b[1;34m\u001b[0m\n\u001b[0;32m      1\u001b[0m \u001b[1;32mimport\u001b[0m \u001b[0mfind_mine\u001b[0m \u001b[1;32mas\u001b[0m \u001b[0mfm\u001b[0m\u001b[1;33m\u001b[0m\u001b[1;33m\u001b[0m\u001b[0m\n\u001b[1;32m----> 2\u001b[1;33m \u001b[0mfm\u001b[0m\u001b[1;33m.\u001b[0m\u001b[0mgame_start\u001b[0m\u001b[1;33m(\u001b[0m\u001b[1;33m)\u001b[0m\u001b[1;33m\u001b[0m\u001b[1;33m\u001b[0m\u001b[0m\n\u001b[0m",
      "\u001b[1;31mAttributeError\u001b[0m: module 'find_mine' has no attribute 'game_start'"
     ]
    }
   ],
   "source": [
    "import find_mine as fm\n",
    "fm.game_start()"
   ]
  },
  {
   "cell_type": "code",
   "execution_count": 80,
   "metadata": {},
   "outputs": [
    {
     "name": "stdout",
     "output_type": "stream",
     "text": [
      "lines: ['동해물과 백두산이\\n', '마르고 닳도록\\n', '하느님이 보우하사\\n', '우리나라만세\\n', '무궁화 삼천리 화려강산\\n', '대한사람 대한으로 길이 보전하세\\n']\n",
      "close file\n"
     ]
    }
   ],
   "source": [
    "f=None\n",
    "try:\n",
    "    f=open(\"my_poem.txt\",\"r\",encoding='utf-8')\n",
    "except FileNotFoundError:\n",
    "    print(\"파일이 없습니다\")\n",
    "else:\n",
    "    try:\n",
    "        lines = f.readlines()\n",
    "        print('lines:',lines)   \n",
    "    except UnicodeDecodeError:\n",
    "        print(\"encoding error, 파라미터를 utf-8로 지정하세요\")\n",
    "finally:\n",
    "    if f != None:\n",
    "        f.close()\n",
    "    print(\"close file\")"
   ]
  },
  {
   "cell_type": "code",
   "execution_count": 81,
   "metadata": {},
   "outputs": [
    {
     "name": "stdout",
     "output_type": "stream",
     "text": [
      "Overwriting my_poem.txt\n"
     ]
    }
   ],
   "source": [
    "%%writefile my_poem.txt\n",
    "동해물과 백두산이\n",
    "마르고 닳도록\n",
    "하느님이 보우하사\n",
    "우리나라만세\n",
    "무궁화 삼천리 화려강산\n",
    "대한사람 대한으로 길이 보전하세"
   ]
  },
  {
   "cell_type": "code",
   "execution_count": 33,
   "metadata": {},
   "outputs": [
    {
     "name": "stdout",
     "output_type": "stream",
     "text": [
      "***구구단 시작***\n",
      "구구단 오류: error msg : 2~9단만 가능\n"
     ]
    }
   ],
   "source": [
    "class OperException(Exception):\n",
    "    def __init__(self,msg):\n",
    "        self.msg=msg\n",
    "    def __str__(self):\n",
    "        return \"error msg : {}\".format(self.msg)\n",
    "    \n",
    "def printGugudan(dan):\n",
    "    if dan<2 or dan>9:\n",
    "        raise OperException(\"2~9단만 가능\")\n",
    "    for i in range(1,10):\n",
    "        print(\"{0}*{1}={2}\".format(dan,i,dan*i))\n",
    "        \n",
    "try:\n",
    "    print(\"***구구단 시작***\")\n",
    "    printGugudan(1)\n",
    "    print(\"***구구단 끝***\")\n",
    "\n",
    "except OperException as e:\n",
    "    print('구구단 오류:',e)"
   ]
  },
  {
   "cell_type": "code",
   "execution_count": 94,
   "metadata": {
    "scrolled": true
   },
   "outputs": [
    {
     "name": "stdout",
     "output_type": "stream",
     "text": [
      "동해물과 백두산이\n",
      "마르고 닳도록\n",
      "하느님이 보우하사\n",
      "우리나라만세\n",
      "무궁화 삼천리 화려강산\n",
      "대한사람 대한으로 길이 보전하세\n"
     ]
    }
   ],
   "source": [
    "f = open('my_poem.txt', 'rt',encoding='utf-8')\n",
    "lines=f.readlines()\n",
    "f.close()\n",
    "lines=[s.strip() for s in lines]\n",
    "for s in lines:\n",
    "    print(s)"
   ]
  },
  {
   "cell_type": "code",
   "execution_count": 101,
   "metadata": {},
   "outputs": [
    {
     "name": "stdout",
     "output_type": "stream",
     "text": [
      "동해물과 백두산이\n",
      "마르고 닳도록\n",
      "하느님이 보우하사\n",
      "우리나라만세\n",
      "무궁화 삼천리 화려강산\n",
      "대한사람 대한으로 길이 보전하세\n"
     ]
    }
   ],
   "source": [
    "with open('my_poem.txt','rt',encoding='utf-8') as f:\n",
    "    lines=[s.strip() for s in list(f.readlines())]\n",
    "    for s in lines:\n",
    "        print(s)"
   ]
  }
 ],
 "metadata": {
  "kernelspec": {
   "display_name": "Python 3",
   "language": "python",
   "name": "python3"
  },
  "language_info": {
   "codemirror_mode": {
    "name": "ipython",
    "version": 3
   },
   "file_extension": ".py",
   "mimetype": "text/x-python",
   "name": "python",
   "nbconvert_exporter": "python",
   "pygments_lexer": "ipython3",
   "version": "3.8.3"
  }
 },
 "nbformat": 4,
 "nbformat_minor": 4
}
