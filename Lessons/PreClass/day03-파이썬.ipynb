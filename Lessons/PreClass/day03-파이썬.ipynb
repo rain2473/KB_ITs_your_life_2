{
 "cells": [
  {
   "cell_type": "code",
   "execution_count": 4,
   "metadata": {},
   "outputs": [
    {
     "name": "stdout",
     "output_type": "stream",
     "text": [
      "홍의 점수는 70\n",
      "김의 점수는 80\n",
      "박의 점수는 90\n"
     ]
    }
   ],
   "source": [
    "# comprehension\n",
    "\n",
    "score_dict = {\"홍\":70, \"김\":80, \"박\":90}\n",
    "\n",
    "# {  1,2,3 } -> Set\n",
    "# { 1:10, 2:20 } -> dictionary\n",
    "\n",
    "# for s in score_dict: #키 추출\n",
    "#     print(s)\n",
    "for k,v in score_dict.items():\n",
    "    print( f\"{k}의 점수는 {v}\")\n"
   ]
  },
  {
   "cell_type": "code",
   "execution_count": 4,
   "metadata": {},
   "outputs": [
    {
     "name": "stdout",
     "output_type": "stream",
     "text": [
      "ans= Hello 홍길동\n"
     ]
    }
   ],
   "source": [
    "def hello(name):\n",
    "    return \"Hello \" + name\n",
    "\n",
    "# ans = hello() # -> Hello\n",
    "# print(\"ans=\",ans)\n",
    "ans = hello(\"홍길동\") # -> Hello 홍길동\n",
    "print(\"ans=\", ans)"
   ]
  },
  {
   "cell_type": "code",
   "execution_count": 13,
   "metadata": {},
   "outputs": [
    {
     "name": "stdout",
     "output_type": "stream",
     "text": [
      "<function hello at 0x0000027412284820>\n",
      "<function hello at 0x0000027412284820>\n"
     ]
    },
    {
     "data": {
      "text/plain": [
       "'Hello 김길동'"
      ]
     },
     "execution_count": 13,
     "metadata": {},
     "output_type": "execute_result"
    }
   ],
   "source": [
    "print( hello )\n",
    "aa = hello\n",
    "print(aa)\n",
    "aa(\"김길동\")"
   ]
  },
  {
   "cell_type": "code",
   "execution_count": 8,
   "metadata": {},
   "outputs": [
    {
     "ename": "TypeError",
     "evalue": "hello() missing 1 required positional argument: 'name'",
     "output_type": "error",
     "traceback": [
      "\u001b[1;31m---------------------------------------------------------------------------\u001b[0m",
      "\u001b[1;31mTypeError\u001b[0m                                 Traceback (most recent call last)",
      "Input \u001b[1;32mIn [8]\u001b[0m, in \u001b[0;36m<cell line: 2>\u001b[1;34m()\u001b[0m\n\u001b[0;32m      1\u001b[0m \u001b[38;5;66;03m# hello = 100\u001b[39;00m\n\u001b[1;32m----> 2\u001b[0m \u001b[43mhello\u001b[49m\u001b[43m(\u001b[49m\u001b[43m)\u001b[49m\n",
      "\u001b[1;31mTypeError\u001b[0m: hello() missing 1 required positional argument: 'name'"
     ]
    }
   ],
   "source": [
    "# hello = 100\n",
    "hello()"
   ]
  },
  {
   "cell_type": "code",
   "execution_count": 12,
   "metadata": {},
   "outputs": [
    {
     "ename": "TypeError",
     "evalue": "calc_minus() takes 2 positional arguments but 3 were given",
     "output_type": "error",
     "traceback": [
      "\u001b[1;31m---------------------------------------------------------------------------\u001b[0m",
      "\u001b[1;31mTypeError\u001b[0m                                 Traceback (most recent call last)",
      "Input \u001b[1;32mIn [12]\u001b[0m, in \u001b[0;36m<cell line: 4>\u001b[1;34m()\u001b[0m\n\u001b[0;32m      1\u001b[0m \u001b[38;5;28;01mdef\u001b[39;00m \u001b[38;5;21mcalc_minus\u001b[39m(n1, n2):\n\u001b[0;32m      2\u001b[0m     \u001b[38;5;28;01mreturn\u001b[39;00m n1 \u001b[38;5;241m-\u001b[39m n2\n\u001b[1;32m----> 4\u001b[0m \u001b[43mcalc_minus\u001b[49m\u001b[43m(\u001b[49m\u001b[43m \u001b[49m\u001b[38;5;241;43m4\u001b[39;49m\u001b[43m,\u001b[49m\u001b[43m \u001b[49m\u001b[38;5;241;43m3\u001b[39;49m\u001b[43m,\u001b[49m\u001b[43m \u001b[49m\u001b[38;5;241;43m2\u001b[39;49m\u001b[43m \u001b[49m\u001b[43m)\u001b[49m\n",
      "\u001b[1;31mTypeError\u001b[0m: calc_minus() takes 2 positional arguments but 3 were given"
     ]
    }
   ],
   "source": [
    "def calc_minus(n1, n2):\n",
    "    return n1 - n2\n",
    "\n",
    "calc_minus( 4, 3, 2 )"
   ]
  },
  {
   "cell_type": "code",
   "execution_count": 25,
   "metadata": {},
   "outputs": [
    {
     "name": "stdout",
     "output_type": "stream",
     "text": [
      "2 4 6 8 10 12 14 16 18 \n",
      "3 6 9 12 15 18 21 24 27 \n",
      "3 6 9 12 15 18 21 24 27 \n",
      "4 8 12 16 20 24 28 32 36 \n",
      "5 10 15 20 25 30 35 40 45 \n"
     ]
    }
   ],
   "source": [
    "# 구구단출력 함수\n",
    "def gugudan(dan=2, dan2=0):\n",
    "    \"\"\"구구단  출력함수\n",
    "    \"\"\"\n",
    "    if dan2==0:\n",
    "        dan2 = dan\n",
    "    for d in range(dan,dan2+1): # 출력 단 범위\n",
    "        for i in range(1, 10):\n",
    "            print(f\"{d*i}\", end=\" \")\n",
    "        print()\n",
    "\n",
    "gugudan() #2단 구구단 출력\n",
    "gugudan(3) #3단 구구단 출력\n",
    "gugudan(3, 5) # 3단~5단 까지 출력"
   ]
  },
  {
   "cell_type": "code",
   "execution_count": 50,
   "metadata": {},
   "outputs": [
    {
     "name": "stdout",
     "output_type": "stream",
     "text": [
      "count= 3\n"
     ]
    }
   ],
   "source": [
    "# 회원등록함수 - 클로저(Closure)\n",
    "\n",
    "def add_member( ):\n",
    "    members = [] #전역변수 global variable\n",
    "    count = 0\n",
    "    def add( *mems ):\n",
    "        nonlocal count\n",
    "        members.extend(mems) #.extend(mems)\n",
    "        count = count + len(mems)\n",
    "        \n",
    "    def print_info():\n",
    "        print(\"count=\",count)\n",
    "        \n",
    "    return add, print_info    \n",
    "\n",
    "a, p = add_member()\n",
    "a(\"홍길동\")\n",
    "a(\"홍길동\", \"김길동\")\n",
    "p()"
   ]
  },
  {
   "cell_type": "code",
   "execution_count": 52,
   "metadata": {},
   "outputs": [
    {
     "name": "stdout",
     "output_type": "stream",
     "text": [
      "(20, 30)\n"
     ]
    }
   ],
   "source": [
    "def my_plus( a, *args ):\n",
    "    print(args)\n",
    "\n",
    "my_plus( 10,20,30 )"
   ]
  },
  {
   "cell_type": "code",
   "execution_count": 54,
   "metadata": {},
   "outputs": [
    {
     "name": "stdout",
     "output_type": "stream",
     "text": [
      "100\n",
      "120\n"
     ]
    }
   ],
   "source": [
    "def calc_many(choice, *args):\n",
    "    if choice == \"sum\":\n",
    "        return sum(args)\n",
    "    if choice == \"mul\":\n",
    "        tot = 1\n",
    "        for i in args:\n",
    "            tot *= i\n",
    "        return tot\n",
    "\n",
    "print( calc_many(\"sum\", 10,20,30,40) )\n",
    "print( calc_many(\"mul\", 2,3,4,5) )"
   ]
  },
  {
   "cell_type": "code",
   "execution_count": 57,
   "metadata": {
    "scrolled": false
   },
   "outputs": [
    {
     "data": {
      "text/plain": [
       "['ArithmeticError',\n",
       " 'AssertionError',\n",
       " 'AttributeError',\n",
       " 'BaseException',\n",
       " 'BlockingIOError',\n",
       " 'BrokenPipeError',\n",
       " 'BufferError',\n",
       " 'BytesWarning',\n",
       " 'ChildProcessError',\n",
       " 'ConnectionAbortedError',\n",
       " 'ConnectionError',\n",
       " 'ConnectionRefusedError',\n",
       " 'ConnectionResetError',\n",
       " 'DeprecationWarning',\n",
       " 'EOFError',\n",
       " 'Ellipsis',\n",
       " 'EnvironmentError',\n",
       " 'Exception',\n",
       " 'False',\n",
       " 'FileExistsError',\n",
       " 'FileNotFoundError',\n",
       " 'FloatingPointError',\n",
       " 'FutureWarning',\n",
       " 'GeneratorExit',\n",
       " 'IOError',\n",
       " 'ImportError',\n",
       " 'ImportWarning',\n",
       " 'IndentationError',\n",
       " 'IndexError',\n",
       " 'InterruptedError',\n",
       " 'IsADirectoryError',\n",
       " 'KeyError',\n",
       " 'KeyboardInterrupt',\n",
       " 'LookupError',\n",
       " 'MemoryError',\n",
       " 'ModuleNotFoundError',\n",
       " 'NameError',\n",
       " 'None',\n",
       " 'NotADirectoryError',\n",
       " 'NotImplemented',\n",
       " 'NotImplementedError',\n",
       " 'OSError',\n",
       " 'OverflowError',\n",
       " 'PendingDeprecationWarning',\n",
       " 'PermissionError',\n",
       " 'ProcessLookupError',\n",
       " 'RecursionError',\n",
       " 'ReferenceError',\n",
       " 'ResourceWarning',\n",
       " 'RuntimeError',\n",
       " 'RuntimeWarning',\n",
       " 'StopAsyncIteration',\n",
       " 'StopIteration',\n",
       " 'SyntaxError',\n",
       " 'SyntaxWarning',\n",
       " 'SystemError',\n",
       " 'SystemExit',\n",
       " 'TabError',\n",
       " 'TimeoutError',\n",
       " 'True',\n",
       " 'TypeError',\n",
       " 'UnboundLocalError',\n",
       " 'UnicodeDecodeError',\n",
       " 'UnicodeEncodeError',\n",
       " 'UnicodeError',\n",
       " 'UnicodeTranslateError',\n",
       " 'UnicodeWarning',\n",
       " 'UserWarning',\n",
       " 'ValueError',\n",
       " 'Warning',\n",
       " 'WindowsError',\n",
       " 'ZeroDivisionError',\n",
       " '__IPYTHON__',\n",
       " '__build_class__',\n",
       " '__debug__',\n",
       " '__doc__',\n",
       " '__import__',\n",
       " '__loader__',\n",
       " '__name__',\n",
       " '__package__',\n",
       " '__spec__',\n",
       " 'abs',\n",
       " 'all',\n",
       " 'any',\n",
       " 'ascii',\n",
       " 'bin',\n",
       " 'bool',\n",
       " 'breakpoint',\n",
       " 'bytearray',\n",
       " 'bytes',\n",
       " 'callable',\n",
       " 'chr',\n",
       " 'classmethod',\n",
       " 'compile',\n",
       " 'complex',\n",
       " 'copyright',\n",
       " 'credits',\n",
       " 'delattr',\n",
       " 'dict',\n",
       " 'dir',\n",
       " 'display',\n",
       " 'divmod',\n",
       " 'enumerate',\n",
       " 'eval',\n",
       " 'exec',\n",
       " 'execfile',\n",
       " 'filter',\n",
       " 'float',\n",
       " 'format',\n",
       " 'frozenset',\n",
       " 'get_ipython',\n",
       " 'getattr',\n",
       " 'globals',\n",
       " 'hasattr',\n",
       " 'hash',\n",
       " 'help',\n",
       " 'hex',\n",
       " 'id',\n",
       " 'input',\n",
       " 'int',\n",
       " 'isinstance',\n",
       " 'issubclass',\n",
       " 'iter',\n",
       " 'len',\n",
       " 'license',\n",
       " 'list',\n",
       " 'locals',\n",
       " 'map',\n",
       " 'max',\n",
       " 'memoryview',\n",
       " 'min',\n",
       " 'next',\n",
       " 'object',\n",
       " 'oct',\n",
       " 'open',\n",
       " 'ord',\n",
       " 'pow',\n",
       " 'print',\n",
       " 'property',\n",
       " 'range',\n",
       " 'repr',\n",
       " 'reversed',\n",
       " 'round',\n",
       " 'runfile',\n",
       " 'set',\n",
       " 'setattr',\n",
       " 'slice',\n",
       " 'sorted',\n",
       " 'staticmethod',\n",
       " 'str',\n",
       " 'sum',\n",
       " 'super',\n",
       " 'tuple',\n",
       " 'type',\n",
       " 'vars',\n",
       " 'zip']"
      ]
     },
     "execution_count": 57,
     "metadata": {},
     "output_type": "execute_result"
    }
   ],
   "source": [
    "dir(__builtin__)"
   ]
  },
  {
   "cell_type": "code",
   "execution_count": 58,
   "metadata": {},
   "outputs": [
    {
     "name": "stdout",
     "output_type": "stream",
     "text": [
      "0 a\n",
      "1 b\n",
      "2 c\n"
     ]
    }
   ],
   "source": [
    "aa = ['a','b','c']\n",
    "for i,v in enumerate(aa):\n",
    "    print( i,v)"
   ]
  },
  {
   "cell_type": "code",
   "execution_count": 61,
   "metadata": {},
   "outputs": [
    {
     "name": "stdout",
     "output_type": "stream",
     "text": [
      "홍 70 80\n",
      "김 80 90\n",
      "이 90 70\n"
     ]
    }
   ],
   "source": [
    "names=[\"홍\",\"김\",\"이\"]\n",
    "scores_eng=[70,80,90]\n",
    "scores_math=[80,90,70]\n",
    "for n,s, m in zip(names, scores_eng, scores_math):\n",
    "    print(n,s, m)"
   ]
  },
  {
   "cell_type": "code",
   "execution_count": 66,
   "metadata": {},
   "outputs": [
    {
     "data": {
      "text/plain": [
       "[1, 4, 9, 16]"
      ]
     },
     "execution_count": 66,
     "metadata": {},
     "output_type": "execute_result"
    }
   ],
   "source": [
    "# map\n",
    "a = [1,2,3,4]\n",
    "\n",
    "def sq(x):\n",
    "    return x**2\n",
    "\n",
    "list(map(lambda x: x**2, a))\n",
    "list(map(sq, a))"
   ]
  },
  {
   "cell_type": "code",
   "execution_count": 65,
   "metadata": {},
   "outputs": [
    {
     "data": {
      "text/plain": [
       "[1, 2, 3, 4]"
      ]
     },
     "execution_count": 65,
     "metadata": {},
     "output_type": "execute_result"
    }
   ],
   "source": [
    "list(range(1,5))"
   ]
  },
  {
   "cell_type": "code",
   "execution_count": 77,
   "metadata": {},
   "outputs": [
    {
     "data": {
      "text/plain": [
       "[2, 4, 6, 8, 10]"
      ]
     },
     "execution_count": 77,
     "metadata": {},
     "output_type": "execute_result"
    }
   ],
   "source": [
    "a = range(1,11)\n",
    "def is_even(x):\n",
    "    return x%2==0\n",
    "\n",
    "list(filter( lambda x:x%2==0 , a))\n",
    "list(filter( is_even , a))"
   ]
  },
  {
   "cell_type": "code",
   "execution_count": 69,
   "metadata": {},
   "outputs": [],
   "source": [
    "filter?"
   ]
  },
  {
   "cell_type": "code",
   "execution_count": 101,
   "metadata": {},
   "outputs": [
    {
     "data": {
      "text/plain": [
       "[[0, 0, 1, 9, 10, 2, 9, 1, 0, 0],\n",
       " [1, 2, 3, 3, 2, 2, 1, 1, 0, 0],\n",
       " [2, 11, 9, 2, 1, 1, 0, 0, 0, 0],\n",
       " [9, 3, 2, 2, 9, 1, 0, 0, 0, 0],\n",
       " [1, 1, 0, 1, 1, 1, 0, 0, 0, 0],\n",
       " [0, 0, 0, 0, 1, 1, 1, 0, 0, 0],\n",
       " [1, 1, 0, 0, 1, 9, 1, 0, 0, 0],\n",
       " [9, 1, 0, 0, 1, 1, 1, 0, 0, 0],\n",
       " [1, 1, 0, 0, 0, 0, 0, 0, 1, 1],\n",
       " [0, 0, 0, 0, 0, 0, 0, 0, 1, 9]]"
      ]
     },
     "execution_count": 101,
     "metadata": {},
     "output_type": "execute_result"
    }
   ],
   "source": [
    "# 지뢰찾기(빨리찾아 터트리기)\n",
    "# 필드(2차원 리스트 10*10)\n",
    "fields = list() # 저장타입?? 2차원 리스트\n",
    "for i in range(10):\n",
    "    fields.append([0]*10)\n",
    "fields\n",
    "# 10개의 지뢰를 임의의 위치에 저장\n",
    "import random\n",
    "nums = list(range(100))\n",
    "for i in random.sample(nums, 10):\n",
    "    row = i // 10 #행 몫\n",
    "    col = i % 10#열 나머지\n",
    "    fields[row][col] = 9 # 지뢰위치\n",
    "    #8방위치 1증가\n",
    "    if row < (len(fields)-1):\n",
    "        fields[row+1][col] += 1 #남\n",
    "    if row < (len(fields)-1) and col < (len(fields)-1):\n",
    "        fields[row+1][col+1] += 1 #남동\n",
    "    if col < (len(fields)-1):\n",
    "        fields[row][col+1] += 1 #동\n",
    "    if row > 0 and col < (len(fields)-1):\n",
    "        fields[row-1][col+1] += 1 #북동\n",
    "    if row > 0 :\n",
    "        fields[row-1][col] += 1 #북\n",
    "    if row > 0 and col > 0:\n",
    "        fields[row-1][col-1] += 1 #북서\n",
    "    if col > 0:\n",
    "        fields[row][col-1] += 1 #서\n",
    "    if row < (len(fields)-1) and col > 0:\n",
    "        fields[row+1][col-1] += 1 #남서\n",
    "fields"
   ]
  },
  {
   "cell_type": "code",
   "execution_count": 107,
   "metadata": {},
   "outputs": [
    {
     "name": "stdout",
     "output_type": "stream",
     "text": [
      "행좌표 입력(0~9) 3\n",
      "열좌표 입력(0~9) 3\n"
     ]
    },
    {
     "data": {
      "text/plain": [
       "[['-', '-', '-', '-', '-', '-', '-', '-', '-', '-'],\n",
       " ['-', '-', '-', '-', '-', '-', '-', '-', '-', '-'],\n",
       " ['-', '-', '-', '-', '-', '-', '-', '-', '-', '-'],\n",
       " ['-', '-', '-', '2', '-', '-', '-', '-', '-', '-'],\n",
       " ['-', '-', '-', '-', '-', '-', '-', '-', '-', '-'],\n",
       " ['-', '-', '-', '-', '-', '-', '-', '-', '-', '-'],\n",
       " ['-', '-', '-', '-', '-', '-', '-', '-', '-', '-'],\n",
       " ['-', '-', '-', '-', '-', '-', '-', '-', '-', '-'],\n",
       " ['-', '-', '-', '-', '-', '-', '-', '-', '-', '-'],\n",
       " ['-', '-', '-', '-', '-', '-', '-', '-', '-', '-']]"
      ]
     },
     "metadata": {},
     "output_type": "display_data"
    },
    {
     "name": "stdout",
     "output_type": "stream",
     "text": [
      "행좌표 입력(0~9) 1\n",
      "열좌표 입력(0~9) 2\n"
     ]
    },
    {
     "data": {
      "text/plain": [
       "[['-', '-', '-', '-', '-', '-', '-', '-', '-', '-'],\n",
       " ['-', '-', '3', '-', '-', '-', '-', '-', '-', '-'],\n",
       " ['-', '-', '-', '-', '-', '-', '-', '-', '-', '-'],\n",
       " ['-', '-', '-', '2', '-', '-', '-', '-', '-', '-'],\n",
       " ['-', '-', '-', '-', '-', '-', '-', '-', '-', '-'],\n",
       " ['-', '-', '-', '-', '-', '-', '-', '-', '-', '-'],\n",
       " ['-', '-', '-', '-', '-', '-', '-', '-', '-', '-'],\n",
       " ['-', '-', '-', '-', '-', '-', '-', '-', '-', '-'],\n",
       " ['-', '-', '-', '-', '-', '-', '-', '-', '-', '-'],\n",
       " ['-', '-', '-', '-', '-', '-', '-', '-', '-', '-']]"
      ]
     },
     "metadata": {},
     "output_type": "display_data"
    },
    {
     "name": "stdout",
     "output_type": "stream",
     "text": [
      "행좌표 입력(0~9) 1\n",
      "열좌표 입력(0~9) 2\n"
     ]
    },
    {
     "data": {
      "text/plain": [
       "[['-', '-', '-', '-', '-', '-', '-', '-', '-', '-'],\n",
       " ['-', '-', '3', '-', '-', '-', '-', '-', '-', '-'],\n",
       " ['-', '-', '-', '-', '-', '-', '-', '-', '-', '-'],\n",
       " ['-', '-', '-', '2', '-', '-', '-', '-', '-', '-'],\n",
       " ['-', '-', '-', '-', '-', '-', '-', '-', '-', '-'],\n",
       " ['-', '-', '-', '-', '-', '-', '-', '-', '-', '-'],\n",
       " ['-', '-', '-', '-', '-', '-', '-', '-', '-', '-'],\n",
       " ['-', '-', '-', '-', '-', '-', '-', '-', '-', '-'],\n",
       " ['-', '-', '-', '-', '-', '-', '-', '-', '-', '-'],\n",
       " ['-', '-', '-', '-', '-', '-', '-', '-', '-', '-']]"
      ]
     },
     "metadata": {},
     "output_type": "display_data"
    },
    {
     "name": "stdout",
     "output_type": "stream",
     "text": [
      "행좌표 입력(0~9) 2\n",
      "열좌표 입력(0~9) 1\n"
     ]
    },
    {
     "data": {
      "text/plain": [
       "[['-', '-', '-', '-', '-', '-', '-', '-', '-', '-'],\n",
       " ['-', '-', '3', '-', '-', '-', '-', '-', '-', '-'],\n",
       " ['-', '11', '-', '-', '-', '-', '-', '-', '-', '-'],\n",
       " ['-', '-', '-', '2', '-', '-', '-', '-', '-', '-'],\n",
       " ['-', '-', '-', '-', '-', '-', '-', '-', '-', '-'],\n",
       " ['-', '-', '-', '-', '-', '-', '-', '-', '-', '-'],\n",
       " ['-', '-', '-', '-', '-', '-', '-', '-', '-', '-'],\n",
       " ['-', '-', '-', '-', '-', '-', '-', '-', '-', '-'],\n",
       " ['-', '-', '-', '-', '-', '-', '-', '-', '-', '-'],\n",
       " ['-', '-', '-', '-', '-', '-', '-', '-', '-', '-']]"
      ]
     },
     "metadata": {},
     "output_type": "display_data"
    },
    {
     "name": "stdout",
     "output_type": "stream",
     "text": [
      "** 지뢰를 찾았습니다 **\n",
      "9개 남았읍니다\n",
      "행좌표 입력(0~9) 0\n",
      "열좌표 입력(0~9) 0\n"
     ]
    },
    {
     "data": {
      "text/plain": [
       "[['0', '-', '-', '-', '-', '-', '-', '-', '-', '-'],\n",
       " ['-', '-', '3', '-', '-', '-', '-', '-', '-', '-'],\n",
       " ['-', '11', '-', '-', '-', '-', '-', '-', '-', '-'],\n",
       " ['-', '-', '-', '2', '-', '-', '-', '-', '-', '-'],\n",
       " ['-', '-', '-', '-', '-', '-', '-', '-', '-', '-'],\n",
       " ['-', '-', '-', '-', '-', '-', '-', '-', '-', '-'],\n",
       " ['-', '-', '-', '-', '-', '-', '-', '-', '-', '-'],\n",
       " ['-', '-', '-', '-', '-', '-', '-', '-', '-', '-'],\n",
       " ['-', '-', '-', '-', '-', '-', '-', '-', '-', '-'],\n",
       " ['-', '-', '-', '-', '-', '-', '-', '-', '-', '-']]"
      ]
     },
     "metadata": {},
     "output_type": "display_data"
    },
    {
     "name": "stdout",
     "output_type": "stream",
     "text": [
      "행좌표 입력(0~9) 1\n",
      "열좌표 입력(0~9) 1\n"
     ]
    },
    {
     "data": {
      "text/plain": [
       "[['0', '-', '-', '-', '-', '-', '-', '-', '-', '-'],\n",
       " ['-', '2', '3', '-', '-', '-', '-', '-', '-', '-'],\n",
       " ['-', '11', '-', '-', '-', '-', '-', '-', '-', '-'],\n",
       " ['-', '-', '-', '2', '-', '-', '-', '-', '-', '-'],\n",
       " ['-', '-', '-', '-', '-', '-', '-', '-', '-', '-'],\n",
       " ['-', '-', '-', '-', '-', '-', '-', '-', '-', '-'],\n",
       " ['-', '-', '-', '-', '-', '-', '-', '-', '-', '-'],\n",
       " ['-', '-', '-', '-', '-', '-', '-', '-', '-', '-'],\n",
       " ['-', '-', '-', '-', '-', '-', '-', '-', '-', '-'],\n",
       " ['-', '-', '-', '-', '-', '-', '-', '-', '-', '-']]"
      ]
     },
     "metadata": {},
     "output_type": "display_data"
    },
    {
     "name": "stdout",
     "output_type": "stream",
     "text": [
      "행좌표 입력(0~9) 2\n",
      "열좌표 입력(0~9) 2\n"
     ]
    },
    {
     "data": {
      "text/plain": [
       "[['0', '-', '-', '-', '-', '-', '-', '-', '-', '-'],\n",
       " ['-', '2', '3', '-', '-', '-', '-', '-', '-', '-'],\n",
       " ['-', '11', '9', '-', '-', '-', '-', '-', '-', '-'],\n",
       " ['-', '-', '-', '2', '-', '-', '-', '-', '-', '-'],\n",
       " ['-', '-', '-', '-', '-', '-', '-', '-', '-', '-'],\n",
       " ['-', '-', '-', '-', '-', '-', '-', '-', '-', '-'],\n",
       " ['-', '-', '-', '-', '-', '-', '-', '-', '-', '-'],\n",
       " ['-', '-', '-', '-', '-', '-', '-', '-', '-', '-'],\n",
       " ['-', '-', '-', '-', '-', '-', '-', '-', '-', '-'],\n",
       " ['-', '-', '-', '-', '-', '-', '-', '-', '-', '-']]"
      ]
     },
     "metadata": {},
     "output_type": "display_data"
    },
    {
     "name": "stdout",
     "output_type": "stream",
     "text": [
      "** 지뢰를 찾았습니다 **\n",
      "8개 남았읍니다\n",
      "행좌표 입력(0~9) 0\n",
      "열좌표 입력(0~9) 3\n"
     ]
    },
    {
     "data": {
      "text/plain": [
       "[['0', '-', '-', '9', '-', '-', '-', '-', '-', '-'],\n",
       " ['-', '2', '3', '-', '-', '-', '-', '-', '-', '-'],\n",
       " ['-', '11', '9', '-', '-', '-', '-', '-', '-', '-'],\n",
       " ['-', '-', '-', '2', '-', '-', '-', '-', '-', '-'],\n",
       " ['-', '-', '-', '-', '-', '-', '-', '-', '-', '-'],\n",
       " ['-', '-', '-', '-', '-', '-', '-', '-', '-', '-'],\n",
       " ['-', '-', '-', '-', '-', '-', '-', '-', '-', '-'],\n",
       " ['-', '-', '-', '-', '-', '-', '-', '-', '-', '-'],\n",
       " ['-', '-', '-', '-', '-', '-', '-', '-', '-', '-'],\n",
       " ['-', '-', '-', '-', '-', '-', '-', '-', '-', '-']]"
      ]
     },
     "metadata": {},
     "output_type": "display_data"
    },
    {
     "name": "stdout",
     "output_type": "stream",
     "text": [
      "** 지뢰를 찾았습니다 **\n",
      "7개 남았읍니다\n",
      "행좌표 입력(0~9) 0\n",
      "열좌표 입력(0~9) 4\n"
     ]
    },
    {
     "data": {
      "text/plain": [
       "[['0', '-', '-', '9', '10', '-', '-', '-', '-', '-'],\n",
       " ['-', '2', '3', '-', '-', '-', '-', '-', '-', '-'],\n",
       " ['-', '11', '9', '-', '-', '-', '-', '-', '-', '-'],\n",
       " ['-', '-', '-', '2', '-', '-', '-', '-', '-', '-'],\n",
       " ['-', '-', '-', '-', '-', '-', '-', '-', '-', '-'],\n",
       " ['-', '-', '-', '-', '-', '-', '-', '-', '-', '-'],\n",
       " ['-', '-', '-', '-', '-', '-', '-', '-', '-', '-'],\n",
       " ['-', '-', '-', '-', '-', '-', '-', '-', '-', '-'],\n",
       " ['-', '-', '-', '-', '-', '-', '-', '-', '-', '-'],\n",
       " ['-', '-', '-', '-', '-', '-', '-', '-', '-', '-']]"
      ]
     },
     "metadata": {},
     "output_type": "display_data"
    },
    {
     "name": "stdout",
     "output_type": "stream",
     "text": [
      "** 지뢰를 찾았습니다 **\n",
      "6개 남았읍니다\n",
      "행좌표 입력(0~9) 0\n",
      "열좌표 입력(0~9) 6\n"
     ]
    },
    {
     "data": {
      "text/plain": [
       "[['0', '-', '-', '9', '10', '-', '9', '-', '-', '-'],\n",
       " ['-', '2', '3', '-', '-', '-', '-', '-', '-', '-'],\n",
       " ['-', '11', '9', '-', '-', '-', '-', '-', '-', '-'],\n",
       " ['-', '-', '-', '2', '-', '-', '-', '-', '-', '-'],\n",
       " ['-', '-', '-', '-', '-', '-', '-', '-', '-', '-'],\n",
       " ['-', '-', '-', '-', '-', '-', '-', '-', '-', '-'],\n",
       " ['-', '-', '-', '-', '-', '-', '-', '-', '-', '-'],\n",
       " ['-', '-', '-', '-', '-', '-', '-', '-', '-', '-'],\n",
       " ['-', '-', '-', '-', '-', '-', '-', '-', '-', '-'],\n",
       " ['-', '-', '-', '-', '-', '-', '-', '-', '-', '-']]"
      ]
     },
     "metadata": {},
     "output_type": "display_data"
    },
    {
     "name": "stdout",
     "output_type": "stream",
     "text": [
      "** 지뢰를 찾았습니다 **\n",
      "5개 남았읍니다\n",
      "행좌표 입력(0~9) 3\n",
      "열좌표 입력(0~9) 0\n"
     ]
    },
    {
     "data": {
      "text/plain": [
       "[['0', '-', '-', '9', '10', '-', '9', '-', '-', '-'],\n",
       " ['-', '2', '3', '-', '-', '-', '-', '-', '-', '-'],\n",
       " ['-', '11', '9', '-', '-', '-', '-', '-', '-', '-'],\n",
       " ['9', '-', '-', '2', '-', '-', '-', '-', '-', '-'],\n",
       " ['-', '-', '-', '-', '-', '-', '-', '-', '-', '-'],\n",
       " ['-', '-', '-', '-', '-', '-', '-', '-', '-', '-'],\n",
       " ['-', '-', '-', '-', '-', '-', '-', '-', '-', '-'],\n",
       " ['-', '-', '-', '-', '-', '-', '-', '-', '-', '-'],\n",
       " ['-', '-', '-', '-', '-', '-', '-', '-', '-', '-'],\n",
       " ['-', '-', '-', '-', '-', '-', '-', '-', '-', '-']]"
      ]
     },
     "metadata": {},
     "output_type": "display_data"
    },
    {
     "name": "stdout",
     "output_type": "stream",
     "text": [
      "** 지뢰를 찾았습니다 **\n",
      "4개 남았읍니다\n",
      "행좌표 입력(0~9) 6\n",
      "열좌표 입력(0~9) 0\n"
     ]
    },
    {
     "data": {
      "text/plain": [
       "[['0', '-', '-', '9', '10', '-', '9', '-', '-', '-'],\n",
       " ['-', '2', '3', '-', '-', '-', '-', '-', '-', '-'],\n",
       " ['-', '11', '9', '-', '-', '-', '-', '-', '-', '-'],\n",
       " ['9', '-', '-', '2', '-', '-', '-', '-', '-', '-'],\n",
       " ['-', '-', '-', '-', '-', '-', '-', '-', '-', '-'],\n",
       " ['-', '-', '-', '-', '-', '-', '-', '-', '-', '-'],\n",
       " ['1', '-', '-', '-', '-', '-', '-', '-', '-', '-'],\n",
       " ['-', '-', '-', '-', '-', '-', '-', '-', '-', '-'],\n",
       " ['-', '-', '-', '-', '-', '-', '-', '-', '-', '-'],\n",
       " ['-', '-', '-', '-', '-', '-', '-', '-', '-', '-']]"
      ]
     },
     "metadata": {},
     "output_type": "display_data"
    },
    {
     "name": "stdout",
     "output_type": "stream",
     "text": [
      "행좌표 입력(0~9) 7\n",
      "열좌표 입력(0~9) 0\n"
     ]
    },
    {
     "data": {
      "text/plain": [
       "[['0', '-', '-', '9', '10', '-', '9', '-', '-', '-'],\n",
       " ['-', '2', '3', '-', '-', '-', '-', '-', '-', '-'],\n",
       " ['-', '11', '9', '-', '-', '-', '-', '-', '-', '-'],\n",
       " ['9', '-', '-', '2', '-', '-', '-', '-', '-', '-'],\n",
       " ['-', '-', '-', '-', '-', '-', '-', '-', '-', '-'],\n",
       " ['-', '-', '-', '-', '-', '-', '-', '-', '-', '-'],\n",
       " ['1', '-', '-', '-', '-', '-', '-', '-', '-', '-'],\n",
       " ['9', '-', '-', '-', '-', '-', '-', '-', '-', '-'],\n",
       " ['-', '-', '-', '-', '-', '-', '-', '-', '-', '-'],\n",
       " ['-', '-', '-', '-', '-', '-', '-', '-', '-', '-']]"
      ]
     },
     "metadata": {},
     "output_type": "display_data"
    },
    {
     "name": "stdout",
     "output_type": "stream",
     "text": [
      "** 지뢰를 찾았습니다 **\n",
      "3개 남았읍니다\n",
      "행좌표 입력(0~9) 6\n",
      "열좌표 입력(0~9) 5\n"
     ]
    },
    {
     "data": {
      "text/plain": [
       "[['0', '-', '-', '9', '10', '-', '9', '-', '-', '-'],\n",
       " ['-', '2', '3', '-', '-', '-', '-', '-', '-', '-'],\n",
       " ['-', '11', '9', '-', '-', '-', '-', '-', '-', '-'],\n",
       " ['9', '-', '-', '2', '-', '-', '-', '-', '-', '-'],\n",
       " ['-', '-', '-', '-', '-', '-', '-', '-', '-', '-'],\n",
       " ['-', '-', '-', '-', '-', '-', '-', '-', '-', '-'],\n",
       " ['1', '-', '-', '-', '-', '9', '-', '-', '-', '-'],\n",
       " ['9', '-', '-', '-', '-', '-', '-', '-', '-', '-'],\n",
       " ['-', '-', '-', '-', '-', '-', '-', '-', '-', '-'],\n",
       " ['-', '-', '-', '-', '-', '-', '-', '-', '-', '-']]"
      ]
     },
     "metadata": {},
     "output_type": "display_data"
    },
    {
     "name": "stdout",
     "output_type": "stream",
     "text": [
      "** 지뢰를 찾았습니다 **\n",
      "2개 남았읍니다\n",
      "행좌표 입력(0~9) 9\n",
      "열좌표 입력(0~9) 9\n"
     ]
    },
    {
     "data": {
      "text/plain": [
       "[['0', '-', '-', '9', '10', '-', '9', '-', '-', '-'],\n",
       " ['-', '2', '3', '-', '-', '-', '-', '-', '-', '-'],\n",
       " ['-', '11', '9', '-', '-', '-', '-', '-', '-', '-'],\n",
       " ['9', '-', '-', '2', '-', '-', '-', '-', '-', '-'],\n",
       " ['-', '-', '-', '-', '-', '-', '-', '-', '-', '-'],\n",
       " ['-', '-', '-', '-', '-', '-', '-', '-', '-', '-'],\n",
       " ['1', '-', '-', '-', '-', '9', '-', '-', '-', '-'],\n",
       " ['9', '-', '-', '-', '-', '-', '-', '-', '-', '-'],\n",
       " ['-', '-', '-', '-', '-', '-', '-', '-', '-', '-'],\n",
       " ['-', '-', '-', '-', '-', '-', '-', '-', '-', '9']]"
      ]
     },
     "metadata": {},
     "output_type": "display_data"
    },
    {
     "name": "stdout",
     "output_type": "stream",
     "text": [
      "** 지뢰를 찾았습니다 **\n",
      "1개 남았읍니다\n",
      "행좌표 입력(0~9) 3\n",
      "열좌표 입력(0~9) 4\n"
     ]
    },
    {
     "data": {
      "text/plain": [
       "[['0', '-', '-', '9', '10', '-', '9', '-', '-', '-'],\n",
       " ['-', '2', '3', '-', '-', '-', '-', '-', '-', '-'],\n",
       " ['-', '11', '9', '-', '-', '-', '-', '-', '-', '-'],\n",
       " ['9', '-', '-', '2', '9', '-', '-', '-', '-', '-'],\n",
       " ['-', '-', '-', '-', '-', '-', '-', '-', '-', '-'],\n",
       " ['-', '-', '-', '-', '-', '-', '-', '-', '-', '-'],\n",
       " ['1', '-', '-', '-', '-', '9', '-', '-', '-', '-'],\n",
       " ['9', '-', '-', '-', '-', '-', '-', '-', '-', '-'],\n",
       " ['-', '-', '-', '-', '-', '-', '-', '-', '-', '-'],\n",
       " ['-', '-', '-', '-', '-', '-', '-', '-', '-', '9']]"
      ]
     },
     "metadata": {},
     "output_type": "display_data"
    },
    {
     "name": "stdout",
     "output_type": "stream",
     "text": [
      "** 지뢰를 찾았습니다 **\n",
      "0개 남았읍니다\n"
     ]
    }
   ],
   "source": [
    "# 1 오픈한 자리의 숫자를 출력하기위한 2차원 리스트 만들기\n",
    "fields2 = []\n",
    "for i in range(10):\n",
    "    fields2.append([\"-\"]*10)\n",
    "fields2\n",
    "findMineCounter = 0 #찾은 지뢰갯수\n",
    "while findMineCounter != 10:\n",
    "    # 2 오픈할 좌표 입력받기\n",
    "    row = int(input(\"행좌표 입력(0~9) \"))\n",
    "    col = int(input(\"열좌표 입력(0~9) \"))\n",
    "    # 3 fields의 오픈할 좌표값을 출력용 2차원배열에 복사\n",
    "    fields2[row][col] = str(fields[row][col])\n",
    "    # 4 출력용 2차원배열 출력\n",
    "    display(fields2)\n",
    "    # 5 만약 지뢰좌표이면 남은 지뢰수 표시.\n",
    "    if fields[row][col] >= 9:\n",
    "        findMineCounter += 1\n",
    "        print(\"** 지뢰를 찾았습니다 **\")\n",
    "        print( f\"{10-findMineCounter}개 남았읍니다\")\n",
    "    # 6 만약 모든지뢰오픈했으면 게임 종료, 아니면 2번부터 다시"
   ]
  }
 ],
 "metadata": {
  "kernelspec": {
   "display_name": "Python 3",
   "language": "python",
   "name": "python3"
  },
  "language_info": {
   "codemirror_mode": {
    "name": "ipython",
    "version": 3
   },
   "file_extension": ".py",
   "mimetype": "text/x-python",
   "name": "python",
   "nbconvert_exporter": "python",
   "pygments_lexer": "ipython3",
   "version": "3.8.3"
  }
 },
 "nbformat": 4,
 "nbformat_minor": 5
}
