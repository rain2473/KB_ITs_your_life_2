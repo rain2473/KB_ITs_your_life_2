{
 "cells": [
  {
   "cell_type": "code",
   "execution_count": 8,
   "metadata": {},
   "outputs": [
    {
     "name": "stdout",
     "output_type": "stream",
     "text": [
      "PS5의 가격은 300000원 입니다~!\n",
      "냉장고의 가격은 1000000원 입니다~!\n",
      "미즈노 프로의 가격은 500000원 입니다~!\n",
      "제트 프로스테이터스의 가격은 400000원 입니다~!\n"
     ]
    }
   ],
   "source": [
    "class Product:\n",
    "    name=''\n",
    "    price=''\n",
    "    def __init__(self,name,price):\n",
    "        self.name=name\n",
    "        self.price=price\n",
    "        \n",
    "    def __del__(self):\n",
    "        pass\n",
    "    \n",
    "    def print_info(self):\n",
    "        print(f'{self.name}의 가격은 {self.price}원 입니다~!')\n",
    "    \n",
    "p1 = Product(\"PS5\",300000)\n",
    "p1.print_info()\n",
    "p2 = Product(\"냉장고\",1000000)\n",
    "p2.print_info()\n",
    "p3 = Product(\"미즈노 프로\",500000)\n",
    "p3.print_info()\n",
    "p4 = Product(\"제트 프로스테이터스\",400000)\n",
    "p4.print_info()"
   ]
  }
 ],
 "metadata": {
  "kernelspec": {
   "display_name": "Python 3",
   "language": "python",
   "name": "python3"
  },
  "language_info": {
   "codemirror_mode": {
    "name": "ipython",
    "version": 3
   },
   "file_extension": ".py",
   "mimetype": "text/x-python",
   "name": "python",
   "nbconvert_exporter": "python",
   "pygments_lexer": "ipython3",
   "version": "3.8.3"
  }
 },
 "nbformat": 4,
 "nbformat_minor": 4
}
