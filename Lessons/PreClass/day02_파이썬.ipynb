{
 "cells": [
  {
   "cell_type": "code",
   "execution_count": 2,
   "metadata": {},
   "outputs": [],
   "source": [
    "arr1=[[1,3,5],[3,5,7],[5,7,9]]"
   ]
  },
  {
   "cell_type": "code",
   "execution_count": 5,
   "metadata": {},
   "outputs": [
    {
     "data": {
      "text/plain": [
       "([1, 3, 5], [3, 5, 7], [5, 7, 9])"
      ]
     },
     "execution_count": 5,
     "metadata": {},
     "output_type": "execute_result"
    }
   ],
   "source": [
    "arr1[0],arr1[1],arr1[2]"
   ]
  },
  {
   "cell_type": "code",
   "execution_count": 8,
   "metadata": {},
   "outputs": [
    {
     "data": {
      "text/plain": [
       "(1, 3, 5)"
      ]
     },
     "execution_count": 8,
     "metadata": {},
     "output_type": "execute_result"
    }
   ],
   "source": [
    "arr1[0][0],arr1[0][1],arr1[0][2]"
   ]
  },
  {
   "cell_type": "code",
   "execution_count": 14,
   "metadata": {},
   "outputs": [
    {
     "data": {
      "text/plain": [
       "[1, 2, 4]"
      ]
     },
     "execution_count": 14,
     "metadata": {},
     "output_type": "execute_result"
    }
   ],
   "source": [
    "a=[1,2,3]\n",
    "a[2]=4\n",
    "a"
   ]
  },
  {
   "cell_type": "code",
   "execution_count": 15,
   "metadata": {},
   "outputs": [
    {
     "data": {
      "text/plain": [
       "[1, 'c', 'd', 'e', 4]"
      ]
     },
     "execution_count": 15,
     "metadata": {},
     "output_type": "execute_result"
    }
   ],
   "source": [
    "a[1:2]=[\"c\",'d','e']     #=a[1]\n",
    "a"
   ]
  },
  {
   "cell_type": "code",
   "execution_count": 17,
   "metadata": {},
   "outputs": [
    {
     "data": {
      "text/plain": [
       "[1, ['c', 'd', 'e'], 'd', 'e', 4]"
      ]
     },
     "execution_count": 17,
     "metadata": {},
     "output_type": "execute_result"
    }
   ],
   "source": [
    "a[1]=[\"c\",'d','e']\n",
    "a"
   ]
  },
  {
   "cell_type": "code",
   "execution_count": 41,
   "metadata": {},
   "outputs": [
    {
     "data": {
      "text/plain": [
       "[18, 36, 37, 45, 42, 17]"
      ]
     },
     "execution_count": 41,
     "metadata": {},
     "output_type": "execute_result"
    }
   ],
   "source": [
    "import random\n",
    "lotto=[]\n",
    "lotto=[\n",
    "    random.randint(1,45),\n",
    "    random.randint(1,45),\n",
    "    random.randint(1,45),\n",
    "    random.randint(1,45),\n",
    "    random.randint(1,45),\n",
    "    random.randint(1,45),\n",
    "]\n",
    "lotto"
   ]
  },
  {
   "cell_type": "code",
   "execution_count": 102,
   "metadata": {},
   "outputs": [
    {
     "data": {
      "text/plain": [
       "[27, 29, 22, 10, 26, 7]"
      ]
     },
     "execution_count": 102,
     "metadata": {},
     "output_type": "execute_result"
    }
   ],
   "source": [
    "import random\n",
    "lotto=[]\n",
    "r=random.randint(1,45)   #, 들어가면 튜플로 저장, 수정 불가\n",
    "lotto.append(r)\n",
    "lotto.append(random.randint(1,45) )\n",
    "lotto.append(random.randint(1,45) )\n",
    "lotto.append(random.randint(1,45) )\n",
    "lotto.append(random.randint(1,45) )\n",
    "lotto.append(random.randint(1,45) )\n",
    "lotto"
   ]
  },
  {
   "cell_type": "code",
   "execution_count": 103,
   "metadata": {},
   "outputs": [
    {
     "data": {
      "text/plain": [
       "[7, 10, 22, 26, 27, 29]"
      ]
     },
     "execution_count": 103,
     "metadata": {},
     "output_type": "execute_result"
    }
   ],
   "source": [
    "lotto.sort(reverse=True)   #내부정렬\n",
    "lotto.reverse()\n",
    "lotto"
   ]
  },
  {
   "cell_type": "code",
   "execution_count": 78,
   "metadata": {},
   "outputs": [
    {
     "data": {
      "text/plain": [
       "[4, 1, 2, 5, 3, 6]"
      ]
     },
     "execution_count": 78,
     "metadata": {},
     "output_type": "execute_result"
    }
   ],
   "source": [
    "a=[1,2,3]\n",
    "a.insert(0,4)\n",
    "a.insert(-1,5)\n",
    "a.insert(99,6)\n",
    "a"
   ]
  },
  {
   "cell_type": "code",
   "execution_count": 104,
   "metadata": {},
   "outputs": [
    {
     "data": {
      "text/plain": [
       "29"
      ]
     },
     "execution_count": 104,
     "metadata": {},
     "output_type": "execute_result"
    }
   ],
   "source": [
    "lotto.pop()"
   ]
  },
  {
   "cell_type": "code",
   "execution_count": 105,
   "metadata": {},
   "outputs": [
    {
     "data": {
      "text/plain": [
       "[7, 10, 22, 26, 27]"
      ]
     },
     "execution_count": 105,
     "metadata": {},
     "output_type": "execute_result"
    }
   ],
   "source": [
    "lotto"
   ]
  },
  {
   "cell_type": "code",
   "execution_count": 106,
   "metadata": {},
   "outputs": [
    {
     "data": {
      "text/plain": [
       "22"
      ]
     },
     "execution_count": 106,
     "metadata": {},
     "output_type": "execute_result"
    }
   ],
   "source": [
    "lotto.pop(2)"
   ]
  },
  {
   "cell_type": "code",
   "execution_count": 107,
   "metadata": {},
   "outputs": [
    {
     "data": {
      "text/plain": [
       "[7, 10, 26, 27]"
      ]
     },
     "execution_count": 107,
     "metadata": {},
     "output_type": "execute_result"
    }
   ],
   "source": [
    "lotto"
   ]
  },
  {
   "cell_type": "code",
   "execution_count": 108,
   "metadata": {},
   "outputs": [
    {
     "data": {
      "text/plain": [
       "[7, 26, 27]"
      ]
     },
     "execution_count": 108,
     "metadata": {},
     "output_type": "execute_result"
    }
   ],
   "source": [
    "lotto.remove(10)\n",
    "lotto"
   ]
  },
  {
   "cell_type": "code",
   "execution_count": 111,
   "metadata": {},
   "outputs": [
    {
     "data": {
      "text/plain": [
       "[7, 27]"
      ]
     },
     "execution_count": 111,
     "metadata": {},
     "output_type": "execute_result"
    }
   ],
   "source": [
    "del lotto[1]\n",
    "lotto"
   ]
  },
  {
   "cell_type": "code",
   "execution_count": 116,
   "metadata": {},
   "outputs": [
    {
     "data": {
      "text/plain": [
       "([2, 4, 5, 3, 1], [1, 3, 5, 4, 2])"
      ]
     },
     "execution_count": 116,
     "metadata": {},
     "output_type": "execute_result"
    }
   ],
   "source": [
    "a=[1,3,5,4,2]\n",
    "a[::-1],a"
   ]
  },
  {
   "cell_type": "code",
   "execution_count": 120,
   "metadata": {},
   "outputs": [
    {
     "data": {
      "text/plain": [
       "[2, 4, 5, 3, 1]"
      ]
     },
     "execution_count": 120,
     "metadata": {},
     "output_type": "execute_result"
    }
   ],
   "source": [
    "a=[1,3,5,4,2]\n",
    "a.reverse()\n",
    "a"
   ]
  },
  {
   "cell_type": "code",
   "execution_count": 113,
   "metadata": {},
   "outputs": [
    {
     "data": {
      "text/plain": [
       "'Python is too interesting'"
      ]
     },
     "execution_count": 113,
     "metadata": {},
     "output_type": "execute_result"
    }
   ],
   "source": [
    "b=['Python','is','too','interesting']\n",
    "\" \".join(b)"
   ]
  },
  {
   "cell_type": "code",
   "execution_count": 122,
   "metadata": {},
   "outputs": [],
   "source": [
    "#c=[1,2,3]\n",
    "#\"\".join(c)\n",
    "#sequence item 0: expected str instance, int found"
   ]
  },
  {
   "cell_type": "code",
   "execution_count": 128,
   "metadata": {},
   "outputs": [
    {
     "data": {
      "text/plain": [
       "(1, 2, 3)"
      ]
     },
     "execution_count": 128,
     "metadata": {},
     "output_type": "execute_result"
    }
   ],
   "source": [
    "t=1,2,3\n",
    "t"
   ]
  },
  {
   "cell_type": "code",
   "execution_count": 130,
   "metadata": {},
   "outputs": [],
   "source": [
    "#t[1]=25\n",
    "#'tuple' object does not support item assignment"
   ]
  },
  {
   "cell_type": "code",
   "execution_count": 131,
   "metadata": {},
   "outputs": [
    {
     "data": {
      "text/plain": [
       "(1, 2, 3)"
      ]
     },
     "execution_count": 131,
     "metadata": {},
     "output_type": "execute_result"
    }
   ],
   "source": [
    "arr=[]\n",
    "arr=t\n",
    "arr"
   ]
  },
  {
   "cell_type": "code",
   "execution_count": 132,
   "metadata": {},
   "outputs": [
    {
     "data": {
      "text/plain": [
       "(['p', 'y', 't', 'h', 'o', 'n'], ('p', 'y', 't', 'h', 'o', 'n'))"
      ]
     },
     "execution_count": 132,
     "metadata": {},
     "output_type": "execute_result"
    }
   ],
   "source": [
    "str='python'\n",
    "list(str),tuple(str)"
   ]
  },
  {
   "cell_type": "code",
   "execution_count": 134,
   "metadata": {},
   "outputs": [
    {
     "name": "stdout",
     "output_type": "stream",
     "text": [
      "abc abc\n"
     ]
    }
   ],
   "source": [
    "mylist=['a','b','c']\n",
    "mytuple=('a','b','c')\n",
    "print(\"\".join(mylist), \"\".join(mytuple))"
   ]
  },
  {
   "cell_type": "code",
   "execution_count": 151,
   "metadata": {},
   "outputs": [
    {
     "data": {
      "text/plain": [
       "{'김', '박', '이', '최', '홍'}"
      ]
     },
     "execution_count": 151,
     "metadata": {},
     "output_type": "execute_result"
    }
   ],
   "source": [
    "참석자=set()\n",
    "day1={'홍','김','이'}\n",
    "참석자.update(day1)\n",
    "day2={'홍','박','최'}\n",
    "참석자.update(day2)\n",
    "참석자"
   ]
  },
  {
   "cell_type": "code",
   "execution_count": 152,
   "metadata": {},
   "outputs": [
    {
     "data": {
      "text/plain": [
       "{'김', '박', '이', '홍'}"
      ]
     },
     "execution_count": 152,
     "metadata": {},
     "output_type": "execute_result"
    }
   ],
   "source": [
    "참석자.remove('최')\n",
    "참석자"
   ]
  },
  {
   "cell_type": "code",
   "execution_count": 154,
   "metadata": {},
   "outputs": [
    {
     "data": {
      "text/plain": [
       "{'박'}"
      ]
     },
     "execution_count": 154,
     "metadata": {},
     "output_type": "execute_result"
    }
   ],
   "source": [
    "참석자-day1"
   ]
  },
  {
   "cell_type": "code",
   "execution_count": 155,
   "metadata": {},
   "outputs": [
    {
     "data": {
      "text/plain": [
       "{'홍'}"
      ]
     },
     "execution_count": 155,
     "metadata": {},
     "output_type": "execute_result"
    }
   ],
   "source": [
    "day1&day2"
   ]
  },
  {
   "cell_type": "code",
   "execution_count": 157,
   "metadata": {},
   "outputs": [
    {
     "data": {
      "text/plain": [
       "{'김', '박', '이', '최', '홍'}"
      ]
     },
     "execution_count": 157,
     "metadata": {},
     "output_type": "execute_result"
    }
   ],
   "source": [
    "day1|day2"
   ]
  },
  {
   "cell_type": "code",
   "execution_count": 192,
   "metadata": {},
   "outputs": [
    {
     "data": {
      "text/plain": [
       "[7, 6, 5, 4, 3, 2, 1]"
      ]
     },
     "execution_count": 192,
     "metadata": {},
     "output_type": "execute_result"
    }
   ],
   "source": [
    "a=[1,1,2,2,3,4,4,5,6,7,2]\n",
    "a=set(a)\n",
    "a=list(a)\n",
    "a.sort(reverse=True)\n",
    "a"
   ]
  },
  {
   "cell_type": "code",
   "execution_count": 191,
   "metadata": {},
   "outputs": [
    {
     "name": "stdout",
     "output_type": "stream",
     "text": [
      "[7, 6, 5, 4, 3, 2, 1]\n"
     ]
    }
   ],
   "source": [
    "a=[1,1,2,2,3,4,4,5,6,7,2]\n",
    "print(list(set(a))[::-1])"
   ]
  },
  {
   "cell_type": "code",
   "execution_count": 198,
   "metadata": {},
   "outputs": [
    {
     "data": {
      "text/plain": [
       "{'홍': 70, '김': 90, '이': 80}"
      ]
     },
     "execution_count": 198,
     "metadata": {},
     "output_type": "execute_result"
    }
   ],
   "source": [
    "names=[\"홍\",'김',\"이\"]\n",
    "scores=[70,90,80]\n",
    "score_dict={\"홍\":70,\"김\":90,\"이\":80}\n",
    "score_dict"
   ]
  },
  {
   "cell_type": "code",
   "execution_count": 204,
   "metadata": {},
   "outputs": [
    {
     "name": "stdout",
     "output_type": "stream",
     "text": [
      "None\n"
     ]
    }
   ],
   "source": [
    "score_dict.get(\"김\")\n",
    "print(score_dict.get(\"최\"))\n",
    "dic=score_dict"
   ]
  },
  {
   "cell_type": "code",
   "execution_count": 213,
   "metadata": {},
   "outputs": [
    {
     "data": {
      "text/plain": [
       "80.0"
      ]
     },
     "execution_count": 213,
     "metadata": {},
     "output_type": "execute_result"
    }
   ],
   "source": [
    "v=list(dic.values())\n",
    "sum(v), len(v)\n",
    "sum(v)/len(v)"
   ]
  },
  {
   "cell_type": "code",
   "execution_count": 218,
   "metadata": {},
   "outputs": [
    {
     "data": {
      "text/plain": [
       "True"
      ]
     },
     "execution_count": 218,
     "metadata": {},
     "output_type": "execute_result"
    }
   ],
   "source": [
    "\"홍\" in list(dic.keys())"
   ]
  },
  {
   "cell_type": "code",
   "execution_count": 228,
   "metadata": {},
   "outputs": [
    {
     "name": "stdout",
     "output_type": "stream",
     "text": [
      "80\n",
      "{'a': 90, 'c': 70}\n"
     ]
    }
   ],
   "source": [
    "A={\"a\":90,\"b\":80,\"c\":70}\n",
    "print(A.pop('b'))\n",
    "print(A)"
   ]
  },
  {
   "cell_type": "code",
   "execution_count": 98,
   "metadata": {},
   "outputs": [
    {
     "name": "stdout",
     "output_type": "stream",
     "text": [
      "[2, 6, 12, 15, 30, 34]\n"
     ]
    }
   ],
   "source": [
    "import random\n",
    "lotto=set()\n",
    "while len(lotto)!=6:\n",
    "    lotto.add(random.randint(1,45) )\n",
    "lotto=list(lotto)\n",
    "lotto.sort()\n",
    "print(lotto)"
   ]
  },
  {
   "cell_type": "code",
   "execution_count": 286,
   "metadata": {},
   "outputs": [
    {
     "name": "stdout",
     "output_type": "stream",
     "text": [
      "성별을 입력하세요(male,female) adsf\n",
      "오류\n"
     ]
    }
   ],
   "source": [
    "gender = input(\"성별을 입력하세요(male,female) \")\n",
    "if gender == \"male\":\n",
    "    print(\"남성\")\n",
    "elif gender == \"female\":\n",
    "    print(\"여성\")\n",
    "else:\n",
    "    print(\"오류\")"
   ]
  },
  {
   "cell_type": "code",
   "execution_count": 81,
   "metadata": {},
   "outputs": [
    {
     "name": "stdout",
     "output_type": "stream",
     "text": [
      "나이입력: 55\n"
     ]
    },
    {
     "data": {
      "text/plain": [
       "1968"
      ]
     },
     "execution_count": 81,
     "metadata": {},
     "output_type": "execute_result"
    }
   ],
   "source": [
    "ans = int(input('나이입력: '))\n",
    "2022 - ans +1"
   ]
  },
  {
   "cell_type": "code",
   "execution_count": 100,
   "metadata": {},
   "outputs": [
    {
     "name": "stdout",
     "output_type": "stream",
     "text": [
      "키 입력: 170\n",
      "무게 입력: 74\n",
      "비만수치: 4\n",
      " 당신은 비만입니다!\n"
     ]
    }
   ],
   "source": [
    "h= int(input(\"키 입력: \"))\n",
    "w= int(input(\"무게 입력: \"))\n",
    "a= w+100-h\n",
    "if a>0:\n",
    "    print(\"비만수치: %d\\n\"%a,\"당신은 비만입니다!\")"
   ]
  },
  {
   "cell_type": "code",
   "execution_count": 36,
   "metadata": {},
   "outputs": [],
   "source": [
    "import random\n",
    "com = random.randint(1,100)\n",
    "count = 0"
   ]
  },
  {
   "cell_type": "code",
   "execution_count": 27,
   "metadata": {},
   "outputs": [
    {
     "name": "stdout",
     "output_type": "stream",
     "text": [
      "숫자를 맞춰 보세요 (1~100)6\n",
      "up\n",
      "바보\n"
     ]
    }
   ],
   "source": [
    "user = int(input(\"숫자를 맞춰 보세요 (1~100)\"))\n",
    "count = count +1\n",
    "\n",
    "if com == user:\n",
    "    print(\"정답\")\n",
    "elif com< user:\n",
    "    print(\"down\")\n",
    "else:\n",
    "    print(\"up\")\n",
    "if count > 10:\n",
    "    print(\"바보\")"
   ]
  },
  {
   "cell_type": "code",
   "execution_count": 11,
   "metadata": {},
   "outputs": [],
   "source": [
    "import random\n",
    "com = random.randint(1,100)\n",
    "count = 0\n",
    "user=0\n",
    "correct=False"
   ]
  },
  {
   "cell_type": "code",
   "execution_count": 12,
   "metadata": {},
   "outputs": [
    {
     "name": "stdout",
     "output_type": "stream",
     "text": [
      "숫자를 맞춰 보세요 (1~100)1\n",
      "1회 시도\n",
      "up\n",
      "숫자를 맞춰 보세요 (1~100)1\n",
      "2회 시도\n",
      "up\n",
      "숫자를 맞춰 보세요 (1~100)1\n",
      "3회 시도\n",
      "up\n",
      "숫자를 맞춰 보세요 (1~100)1\n",
      "4회 시도\n",
      "up\n",
      "숫자를 맞춰 보세요 (1~100)1\n",
      "5회 시도\n",
      "up\n",
      "숫자를 맞춰 보세요 (1~100)1\n",
      "6회 시도\n",
      "up\n",
      "숫자를 맞춰 보세요 (1~100)1\n",
      "7회 시도\n",
      "up\n",
      "숫자를 맞춰 보세요 (1~100)1\n",
      "8회 시도\n",
      "up\n",
      "숫자를 맞춰 보세요 (1~100)1\n",
      "9회 시도\n",
      "up\n",
      "숫자를 맞춰 보세요 (1~100)1\n",
      "10회 시도\n",
      "up\n",
      "바보\n"
     ]
    }
   ],
   "source": [
    "while com!=user and count<10:\n",
    "    user = int(input(\"숫자를 맞춰 보세요 (1~100)\"))\n",
    "    count = count +1\n",
    "    print(\"%d회 시도\"%count)\n",
    "    if com == user:\n",
    "        print(\"정답\")\n",
    "        correct = True\n",
    "    elif com< user:\n",
    "        print(\"down\")\n",
    "    else:\n",
    "        print(\"up\")\n",
    "if count == 10 and correct == False:  \n",
    "        print(\"바보\")"
   ]
  },
  {
   "cell_type": "code",
   "execution_count": 27,
   "metadata": {},
   "outputs": [
    {
     "data": {
      "text/plain": [
       "'A'"
      ]
     },
     "execution_count": 27,
     "metadata": {},
     "output_type": "execute_result"
    }
   ],
   "source": [
    "#학점 판정 A: 90이상 B: 80 C: 70, 그외 ㅇ\n",
    "score =97\n",
    "grade = 'A' if score>=90 else (\"B\"if score>=80 else ('C'if score>=70 else 'D'))\n",
    "grade"
   ]
  },
  {
   "cell_type": "code",
   "execution_count": 6,
   "metadata": {},
   "outputs": [
    {
     "name": "stdout",
     "output_type": "stream",
     "text": [
      "red\n",
      "green\n",
      "blue\n"
     ]
    }
   ],
   "source": [
    "colars = ['red','green','blue']\n",
    "for c in colars:\n",
    "    print(c)"
   ]
  },
  {
   "cell_type": "code",
   "execution_count": 7,
   "metadata": {},
   "outputs": [
    {
     "name": "stdout",
     "output_type": "stream",
     "text": [
      "80.0\n"
     ]
    }
   ],
   "source": [
    "scores=[70,80,90]\n",
    "tot=0\n",
    "for s in scores:\n",
    "    tot+=s\n",
    "print(tot/len(scores))"
   ]
  },
  {
   "cell_type": "code",
   "execution_count": 41,
   "metadata": {},
   "outputs": [],
   "source": [
    "import random\n",
    "com = random.randint(1,100)\n",
    "user=0\n",
    "correct=False"
   ]
  },
  {
   "cell_type": "code",
   "execution_count": 2,
   "metadata": {},
   "outputs": [
    {
     "name": "stdout",
     "output_type": "stream",
     "text": [
      "숫자를 맞춰 보세요 (1~100)45\n",
      "1회 시도\n",
      "down\n",
      "숫자를 맞춰 보세요 (1~100)30\n",
      "2회 시도\n",
      "up\n",
      "숫자를 맞춰 보세요 (1~100)35\n",
      "3회 시도\n",
      "up\n",
      "숫자를 맞춰 보세요 (1~100)37\n",
      "4회 시도\n",
      "정답\n"
     ]
    }
   ],
   "source": [
    "import random\n",
    "com = random.randint(1,100)\n",
    "user=0\n",
    "correct=False\n",
    "for count in range(1,11):\n",
    "    user = int(input(\"숫자를 맞춰 보세요 (1~100)\"))\n",
    "    print(\"%d회 시도\"%count)\n",
    "    if com == user:\n",
    "        print(\"정답\")\n",
    "        correct = True\n",
    "        break\n",
    "    elif com< user:\n",
    "        print(\"down\")\n",
    "    else:\n",
    "        print(\"up\")\n",
    "    if count==10 and correct == False:  \n",
    "        print(\"바보\")"
   ]
  },
  {
   "cell_type": "code",
   "execution_count": 48,
   "metadata": {},
   "outputs": [
    {
     "name": "stdout",
     "output_type": "stream",
     "text": [
      "5050\n"
     ]
    }
   ],
   "source": [
    "tot=0\n",
    "for s in range(1,101):\n",
    "    tot+=s\n",
    "print(tot)"
   ]
  },
  {
   "cell_type": "code",
   "execution_count": 62,
   "metadata": {
    "scrolled": true
   },
   "outputs": [
    {
     "name": "stdout",
     "output_type": "stream",
     "text": [
      "2*1=2 2*2=4 2*3=6 2*4=8 2*5=10 2*6=12 2*7=14 2*8=16 2*9=18 \n",
      "\n",
      "3*1=3 3*2=6 3*3=9 3*4=12 3*5=15 3*6=18 3*7=21 3*8=24 3*9=27 \n",
      "\n",
      "4*1=4 4*2=8 4*3=12 4*4=16 4*5=20 4*6=24 4*7=28 4*8=32 4*9=36 \n",
      "\n",
      "5*1=5 5*2=10 5*3=15 5*4=20 5*5=25 5*6=30 5*7=35 5*8=40 5*9=45 \n",
      "\n",
      "6*1=6 6*2=12 6*3=18 6*4=24 6*5=30 6*6=36 6*7=42 6*8=48 6*9=54 \n",
      "\n",
      "7*1=7 7*2=14 7*3=21 7*4=28 7*5=35 7*6=42 7*7=49 7*8=56 7*9=63 \n",
      "\n",
      "8*1=8 8*2=16 8*3=24 8*4=32 8*5=40 8*6=48 8*7=56 8*8=64 8*9=72 \n",
      "\n",
      "9*1=9 9*2=18 9*3=27 9*4=36 9*5=45 9*6=54 9*7=63 9*8=72 9*9=81 \n",
      "\n"
     ]
    }
   ],
   "source": [
    "for i in range(2,10):\n",
    "    for j in range(1,10):\n",
    "        print(f\"{i}*{j}={i*j}\", end=\" \")\n",
    "    print('\\n')"
   ]
  },
  {
   "cell_type": "code",
   "execution_count": 80,
   "metadata": {},
   "outputs": [
    {
     "name": "stdout",
     "output_type": "stream",
     "text": [
      "1 2 3 4 5 6 7 8 9 10 "
     ]
    }
   ],
   "source": [
    "test2D=[[1,2,3],[4,5,6],[7,8,9,10]]\n",
    "for i in range(3):\n",
    "    for j in range(len(test2D[i])):\n",
    "        print(test2D[i][j], end=\" \")"
   ]
  },
  {
   "cell_type": "code",
   "execution_count": 87,
   "metadata": {},
   "outputs": [
    {
     "name": "stdout",
     "output_type": "stream",
     "text": [
      "1 2 3 4 5 6 7 8 9 10 "
     ]
    }
   ],
   "source": [
    "test2D=[[1,2,3],[4,5,6],[7,8,9,10]]\n",
    "for i in test2D:\n",
    "    for j in i:\n",
    "        print(j, end=\" \")"
   ]
  },
  {
   "cell_type": "code",
   "execution_count": 68,
   "metadata": {},
   "outputs": [
    {
     "name": "stdout",
     "output_type": "stream",
     "text": [
      "20\n"
     ]
    }
   ],
   "source": [
    "cnt =0\n",
    "for i in range(10):\n",
    "    pass\n",
    "cnt=2*(i+1)\n",
    "print(cnt)"
   ]
  },
  {
   "cell_type": "code",
   "execution_count": 70,
   "metadata": {},
   "outputs": [
    {
     "data": {
      "text/plain": [
       "[0, 1, 4, 9, 16, 25, 36, 49, 64, 81]"
      ]
     },
     "execution_count": 70,
     "metadata": {},
     "output_type": "execute_result"
    }
   ],
   "source": [
    "s= [x**2 for x in range(10)]\n",
    "s"
   ]
  },
  {
   "cell_type": "code",
   "execution_count": 71,
   "metadata": {},
   "outputs": [
    {
     "data": {
      "text/plain": [
       "[1, 2, 4, 8, 16, 32, 64, 128, 256, 512, 1024, 2048, 4096]"
      ]
     },
     "execution_count": 71,
     "metadata": {},
     "output_type": "execute_result"
    }
   ],
   "source": [
    "v=[2**x for x in range(13)]\n",
    "v"
   ]
  },
  {
   "cell_type": "code",
   "execution_count": 72,
   "metadata": {},
   "outputs": [
    {
     "data": {
      "text/plain": [
       "[0, 4, 16, 36, 64]"
      ]
     },
     "execution_count": 72,
     "metadata": {},
     "output_type": "execute_result"
    }
   ],
   "source": [
    "m=[x for x in s if x%2==0]\n",
    "m"
   ]
  },
  {
   "cell_type": "code",
   "execution_count": 78,
   "metadata": {},
   "outputs": [
    {
     "data": {
      "text/plain": [
       "'7-8-9'"
      ]
     },
     "execution_count": 78,
     "metadata": {},
     "output_type": "execute_result"
    }
   ],
   "source": [
    "scores=[70,80,90]\n",
    "scores=[s//10 for s in scores]\n",
    "scores=[str(s) for s in scores]\n",
    "\"-\".join(scores)"
   ]
  },
  {
   "cell_type": "code",
   "execution_count": 130,
   "metadata": {},
   "outputs": [
    {
     "name": "stdout",
     "output_type": "stream",
     "text": [
      "바위\n"
     ]
    }
   ],
   "source": [
    "#컴 123 난수 생성, if 없이 가위바위보 출력\n",
    "import random\n",
    "num= random.randint(1,3)\n",
    "가위바위보 = ['가위','바위','보']\n",
    "print(가위바위보[num-1])"
   ]
  },
  {
   "cell_type": "code",
   "execution_count": 153,
   "metadata": {},
   "outputs": [
    {
     "name": "stdout",
     "output_type": "stream",
     "text": [
      "보\n"
     ]
    }
   ],
   "source": [
    "#컴 123 난수 생성, if 없이 가위바위보 출력\n",
    "import random\n",
    "num= random.randint(1,3)\n",
    "가위바위보 = {1:'가위',2:'바위',3:'보'}\n",
    "print(가위바위보[num])"
   ]
  },
  {
   "cell_type": "code",
   "execution_count": 182,
   "metadata": {},
   "outputs": [
    {
     "name": "stdout",
     "output_type": "stream",
     "text": [
      "HELLO!\n",
      "HELLO!\n",
      "<function my_hello at 0x00000136F8999CA0>\n",
      "<function my_hello at 0x00000136F8999CA0>\n",
      "HELLO!\n"
     ]
    },
    {
     "ename": "NameError",
     "evalue": "name '홍길동' is not defined",
     "output_type": "error",
     "traceback": [
      "\u001b[1;31m---------------------------------------------------------------------------\u001b[0m",
      "\u001b[1;31mNameError\u001b[0m                                 Traceback (most recent call last)",
      "Input \u001b[1;32mIn [182]\u001b[0m, in \u001b[0;36m<cell line: 16>\u001b[1;34m()\u001b[0m\n\u001b[0;32m     13\u001b[0m \u001b[38;5;28;01mdef\u001b[39;00m \u001b[38;5;21mmy_mello\u001b[39m(name):\n\u001b[0;32m     14\u001b[0m     \u001b[38;5;28;01mreturn\u001b[39;00m(name \u001b[38;5;241m+\u001b[39m \u001b[38;5;124m'\u001b[39m\u001b[38;5;124mHELLO!\u001b[39m\u001b[38;5;124m'\u001b[39m)\n\u001b[1;32m---> 16\u001b[0m \u001b[38;5;28mprint\u001b[39m(my_mello(\u001b[43m홍길동\u001b[49m))\n",
      "\u001b[1;31mNameError\u001b[0m: name '홍길동' is not defined"
     ]
    }
   ],
   "source": [
    "def my_hello():\n",
    "    return(\"HELLO!\")\n",
    "\n",
    "ans = my_hello()\n",
    "print(ans)\n",
    "print(my_hello())\n",
    "aa= my_hello\n",
    "print(my_hello)\n",
    "print(aa)\n",
    "print(aa())\n",
    "\n",
    "\n",
    "def my_mello(name):\n",
    "    return(name + 'HELLO!')\n",
    "           \n",
    "print(my_mello(홍길동))"
   ]
  }
 ],
 "metadata": {
  "kernelspec": {
   "display_name": "Python 3",
   "language": "python",
   "name": "python3"
  },
  "language_info": {
   "codemirror_mode": {
    "name": "ipython",
    "version": 3
   },
   "file_extension": ".py",
   "mimetype": "text/x-python",
   "name": "python",
   "nbconvert_exporter": "python",
   "pygments_lexer": "ipython3",
   "version": "3.8.3"
  }
 },
 "nbformat": 4,
 "nbformat_minor": 5
}
