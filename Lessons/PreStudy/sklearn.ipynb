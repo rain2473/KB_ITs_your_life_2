{
 "cells": [
  {
   "cell_type": "code",
   "execution_count": 44,
   "metadata": {},
   "outputs": [
    {
     "data": {
      "text/html": [
       "<div>\n",
       "<style scoped>\n",
       "    .dataframe tbody tr th:only-of-type {\n",
       "        vertical-align: middle;\n",
       "    }\n",
       "\n",
       "    .dataframe tbody tr th {\n",
       "        vertical-align: top;\n",
       "    }\n",
       "\n",
       "    .dataframe thead th {\n",
       "        text-align: right;\n",
       "    }\n",
       "</style>\n",
       "<table border=\"1\" class=\"dataframe\">\n",
       "  <thead>\n",
       "    <tr style=\"text-align: right;\">\n",
       "      <th></th>\n",
       "      <th>2017-07-01 09:00:00</th>\n",
       "      <th>2017-08-01 09:00:00</th>\n",
       "      <th>2017-09-01 09:00:00</th>\n",
       "      <th>2017-10-01 09:00:00</th>\n",
       "      <th>2017-11-01 09:00:00</th>\n",
       "      <th>2017-12-01 09:00:00</th>\n",
       "      <th>2018-01-01 09:00:00</th>\n",
       "      <th>2018-02-01 09:00:00</th>\n",
       "      <th>2018-03-01 09:00:00</th>\n",
       "      <th>2018-04-01 09:00:00</th>\n",
       "      <th>...</th>\n",
       "      <th>2021-10-01 09:00:00</th>\n",
       "      <th>2021-11-01 09:00:00</th>\n",
       "      <th>2021-12-01 09:00:00</th>\n",
       "      <th>2022-01-01 09:00:00</th>\n",
       "      <th>2022-02-01 09:00:00</th>\n",
       "      <th>2022-03-01 09:00:00</th>\n",
       "      <th>2022-04-01 09:00:00</th>\n",
       "      <th>2022-05-01 09:00:00</th>\n",
       "      <th>2022-06-01 09:00:00</th>\n",
       "      <th>2022-07-01 09:00:00</th>\n",
       "    </tr>\n",
       "    <tr>\n",
       "      <th>지역명</th>\n",
       "      <th></th>\n",
       "      <th></th>\n",
       "      <th></th>\n",
       "      <th></th>\n",
       "      <th></th>\n",
       "      <th></th>\n",
       "      <th></th>\n",
       "      <th></th>\n",
       "      <th></th>\n",
       "      <th></th>\n",
       "      <th></th>\n",
       "      <th></th>\n",
       "      <th></th>\n",
       "      <th></th>\n",
       "      <th></th>\n",
       "      <th></th>\n",
       "      <th></th>\n",
       "      <th></th>\n",
       "      <th></th>\n",
       "      <th></th>\n",
       "      <th></th>\n",
       "    </tr>\n",
       "  </thead>\n",
       "  <tbody>\n",
       "    <tr>\n",
       "      <th>전국</th>\n",
       "      <td>73.149</td>\n",
       "      <td>73.358</td>\n",
       "      <td>73.399</td>\n",
       "      <td>73.472</td>\n",
       "      <td>73.568</td>\n",
       "      <td>73.657</td>\n",
       "      <td>73.81</td>\n",
       "      <td>73.961</td>\n",
       "      <td>74.163</td>\n",
       "      <td>74.263</td>\n",
       "      <td>...</td>\n",
       "      <td>97.563</td>\n",
       "      <td>99.065</td>\n",
       "      <td>99.685</td>\n",
       "      <td>100</td>\n",
       "      <td>100.163</td>\n",
       "      <td>100.266</td>\n",
       "      <td>100.460</td>\n",
       "      <td>100.712</td>\n",
       "      <td>100.752</td>\n",
       "      <td>100.678</td>\n",
       "    </tr>\n",
       "    <tr>\n",
       "      <th>서울</th>\n",
       "      <td>63.009</td>\n",
       "      <td>63.671</td>\n",
       "      <td>63.766</td>\n",
       "      <td>64.05</td>\n",
       "      <td>64.447</td>\n",
       "      <td>64.873</td>\n",
       "      <td>65.602</td>\n",
       "      <td>66.249</td>\n",
       "      <td>67.08</td>\n",
       "      <td>67.624</td>\n",
       "      <td>...</td>\n",
       "      <td>98.269</td>\n",
       "      <td>99.31</td>\n",
       "      <td>99.768</td>\n",
       "      <td>100</td>\n",
       "      <td>100.092</td>\n",
       "      <td>100.147</td>\n",
       "      <td>100.256</td>\n",
       "      <td>100.469</td>\n",
       "      <td>100.603</td>\n",
       "      <td>100.638</td>\n",
       "    </tr>\n",
       "    <tr>\n",
       "      <th>종로구</th>\n",
       "      <td>74.69</td>\n",
       "      <td>75.14</td>\n",
       "      <td>75.377</td>\n",
       "      <td>75.755</td>\n",
       "      <td>75.965</td>\n",
       "      <td>76.32</td>\n",
       "      <td>76.823</td>\n",
       "      <td>77.001</td>\n",
       "      <td>77.831</td>\n",
       "      <td>78.296</td>\n",
       "      <td>...</td>\n",
       "      <td>97.772</td>\n",
       "      <td>99.186</td>\n",
       "      <td>99.968</td>\n",
       "      <td>100</td>\n",
       "      <td>100.000</td>\n",
       "      <td>100.067</td>\n",
       "      <td>100.301</td>\n",
       "      <td>100.961</td>\n",
       "      <td>101.313</td>\n",
       "      <td>101.438</td>\n",
       "    </tr>\n",
       "    <tr>\n",
       "      <th>중구</th>\n",
       "      <td>69.88</td>\n",
       "      <td>70.342</td>\n",
       "      <td>70.493</td>\n",
       "      <td>70.975</td>\n",
       "      <td>71.295</td>\n",
       "      <td>71.498</td>\n",
       "      <td>71.795</td>\n",
       "      <td>72.262</td>\n",
       "      <td>72.996</td>\n",
       "      <td>73.399</td>\n",
       "      <td>...</td>\n",
       "      <td>98.31</td>\n",
       "      <td>99.47</td>\n",
       "      <td>99.918</td>\n",
       "      <td>100</td>\n",
       "      <td>100.000</td>\n",
       "      <td>100.000</td>\n",
       "      <td>100.055</td>\n",
       "      <td>100.161</td>\n",
       "      <td>100.237</td>\n",
       "      <td>100.309</td>\n",
       "    </tr>\n",
       "    <tr>\n",
       "      <th>용산구</th>\n",
       "      <td>64.771</td>\n",
       "      <td>65.541</td>\n",
       "      <td>65.81</td>\n",
       "      <td>66.061</td>\n",
       "      <td>66.408</td>\n",
       "      <td>66.758</td>\n",
       "      <td>67.524</td>\n",
       "      <td>68.343</td>\n",
       "      <td>69.736</td>\n",
       "      <td>70.501</td>\n",
       "      <td>...</td>\n",
       "      <td>97.028</td>\n",
       "      <td>98.75</td>\n",
       "      <td>99.639</td>\n",
       "      <td>100</td>\n",
       "      <td>100.234</td>\n",
       "      <td>100.436</td>\n",
       "      <td>100.703</td>\n",
       "      <td>101.684</td>\n",
       "      <td>102.413</td>\n",
       "      <td>102.620</td>\n",
       "    </tr>\n",
       "    <tr>\n",
       "      <th>...</th>\n",
       "      <td>...</td>\n",
       "      <td>...</td>\n",
       "      <td>...</td>\n",
       "      <td>...</td>\n",
       "      <td>...</td>\n",
       "      <td>...</td>\n",
       "      <td>...</td>\n",
       "      <td>...</td>\n",
       "      <td>...</td>\n",
       "      <td>...</td>\n",
       "      <td>...</td>\n",
       "      <td>...</td>\n",
       "      <td>...</td>\n",
       "      <td>...</td>\n",
       "      <td>...</td>\n",
       "      <td>...</td>\n",
       "      <td>...</td>\n",
       "      <td>...</td>\n",
       "      <td>...</td>\n",
       "      <td>...</td>\n",
       "      <td>...</td>\n",
       "    </tr>\n",
       "    <tr>\n",
       "      <th>포천시</th>\n",
       "      <td>-</td>\n",
       "      <td>-</td>\n",
       "      <td>-</td>\n",
       "      <td>-</td>\n",
       "      <td>-</td>\n",
       "      <td>-</td>\n",
       "      <td>-</td>\n",
       "      <td>-</td>\n",
       "      <td>-</td>\n",
       "      <td>-</td>\n",
       "      <td>...</td>\n",
       "      <td>-</td>\n",
       "      <td>-</td>\n",
       "      <td>-</td>\n",
       "      <td>100</td>\n",
       "      <td>100.397</td>\n",
       "      <td>100.653</td>\n",
       "      <td>101.592</td>\n",
       "      <td>102.737</td>\n",
       "      <td>103.708</td>\n",
       "      <td>104.391</td>\n",
       "    </tr>\n",
       "    <tr>\n",
       "      <th>여주시</th>\n",
       "      <td>-</td>\n",
       "      <td>-</td>\n",
       "      <td>-</td>\n",
       "      <td>-</td>\n",
       "      <td>-</td>\n",
       "      <td>-</td>\n",
       "      <td>-</td>\n",
       "      <td>-</td>\n",
       "      <td>-</td>\n",
       "      <td>-</td>\n",
       "      <td>...</td>\n",
       "      <td>-</td>\n",
       "      <td>-</td>\n",
       "      <td>-</td>\n",
       "      <td>100</td>\n",
       "      <td>100.566</td>\n",
       "      <td>100.466</td>\n",
       "      <td>101.089</td>\n",
       "      <td>103.793</td>\n",
       "      <td>104.849</td>\n",
       "      <td>105.261</td>\n",
       "    </tr>\n",
       "    <tr>\n",
       "      <th>연천군</th>\n",
       "      <td>-</td>\n",
       "      <td>-</td>\n",
       "      <td>-</td>\n",
       "      <td>-</td>\n",
       "      <td>-</td>\n",
       "      <td>-</td>\n",
       "      <td>-</td>\n",
       "      <td>-</td>\n",
       "      <td>-</td>\n",
       "      <td>-</td>\n",
       "      <td>...</td>\n",
       "      <td>-</td>\n",
       "      <td>-</td>\n",
       "      <td>-</td>\n",
       "      <td>100</td>\n",
       "      <td>100.462</td>\n",
       "      <td>100.100</td>\n",
       "      <td>101.442</td>\n",
       "      <td>103.251</td>\n",
       "      <td>103.658</td>\n",
       "      <td>103.658</td>\n",
       "    </tr>\n",
       "    <tr>\n",
       "      <th>가평군</th>\n",
       "      <td>-</td>\n",
       "      <td>-</td>\n",
       "      <td>-</td>\n",
       "      <td>-</td>\n",
       "      <td>-</td>\n",
       "      <td>-</td>\n",
       "      <td>-</td>\n",
       "      <td>-</td>\n",
       "      <td>-</td>\n",
       "      <td>-</td>\n",
       "      <td>...</td>\n",
       "      <td>-</td>\n",
       "      <td>-</td>\n",
       "      <td>-</td>\n",
       "      <td>100</td>\n",
       "      <td>100.012</td>\n",
       "      <td>100.110</td>\n",
       "      <td>100.379</td>\n",
       "      <td>101.382</td>\n",
       "      <td>102.120</td>\n",
       "      <td>102.120</td>\n",
       "    </tr>\n",
       "    <tr>\n",
       "      <th>양평군</th>\n",
       "      <td>-</td>\n",
       "      <td>-</td>\n",
       "      <td>-</td>\n",
       "      <td>-</td>\n",
       "      <td>-</td>\n",
       "      <td>-</td>\n",
       "      <td>-</td>\n",
       "      <td>-</td>\n",
       "      <td>-</td>\n",
       "      <td>-</td>\n",
       "      <td>...</td>\n",
       "      <td>-</td>\n",
       "      <td>-</td>\n",
       "      <td>-</td>\n",
       "      <td>100</td>\n",
       "      <td>100.528</td>\n",
       "      <td>100.611</td>\n",
       "      <td>100.685</td>\n",
       "      <td>101.015</td>\n",
       "      <td>101.444</td>\n",
       "      <td>101.779</td>\n",
       "    </tr>\n",
       "  </tbody>\n",
       "</table>\n",
       "<p>89 rows × 61 columns</p>\n",
       "</div>"
      ],
      "text/plain": [
       "    2017-07-01 09:00:00 2017-08-01 09:00:00 2017-09-01 09:00:00  \\\n",
       "지역명                                                               \n",
       "전국               73.149              73.358              73.399   \n",
       "서울               63.009              63.671              63.766   \n",
       "종로구               74.69               75.14              75.377   \n",
       "중구                69.88              70.342              70.493   \n",
       "용산구              64.771              65.541               65.81   \n",
       "..                  ...                 ...                 ...   \n",
       "포천시                   -                   -                   -   \n",
       "여주시                   -                   -                   -   \n",
       "연천군                   -                   -                   -   \n",
       "가평군                   -                   -                   -   \n",
       "양평군                   -                   -                   -   \n",
       "\n",
       "    2017-10-01 09:00:00 2017-11-01 09:00:00 2017-12-01 09:00:00  \\\n",
       "지역명                                                               \n",
       "전국               73.472              73.568              73.657   \n",
       "서울                64.05              64.447              64.873   \n",
       "종로구              75.755              75.965               76.32   \n",
       "중구               70.975              71.295              71.498   \n",
       "용산구              66.061              66.408              66.758   \n",
       "..                  ...                 ...                 ...   \n",
       "포천시                   -                   -                   -   \n",
       "여주시                   -                   -                   -   \n",
       "연천군                   -                   -                   -   \n",
       "가평군                   -                   -                   -   \n",
       "양평군                   -                   -                   -   \n",
       "\n",
       "    2018-01-01 09:00:00 2018-02-01 09:00:00 2018-03-01 09:00:00  \\\n",
       "지역명                                                               \n",
       "전국                73.81              73.961              74.163   \n",
       "서울               65.602              66.249               67.08   \n",
       "종로구              76.823              77.001              77.831   \n",
       "중구               71.795              72.262              72.996   \n",
       "용산구              67.524              68.343              69.736   \n",
       "..                  ...                 ...                 ...   \n",
       "포천시                   -                   -                   -   \n",
       "여주시                   -                   -                   -   \n",
       "연천군                   -                   -                   -   \n",
       "가평군                   -                   -                   -   \n",
       "양평군                   -                   -                   -   \n",
       "\n",
       "    2018-04-01 09:00:00  ... 2021-10-01 09:00:00 2021-11-01 09:00:00  \\\n",
       "지역명                      ...                                           \n",
       "전국               74.263  ...              97.563              99.065   \n",
       "서울               67.624  ...              98.269               99.31   \n",
       "종로구              78.296  ...              97.772              99.186   \n",
       "중구               73.399  ...               98.31               99.47   \n",
       "용산구              70.501  ...              97.028               98.75   \n",
       "..                  ...  ...                 ...                 ...   \n",
       "포천시                   -  ...                   -                   -   \n",
       "여주시                   -  ...                   -                   -   \n",
       "연천군                   -  ...                   -                   -   \n",
       "가평군                   -  ...                   -                   -   \n",
       "양평군                   -  ...                   -                   -   \n",
       "\n",
       "    2021-12-01 09:00:00 2022-01-01 09:00:00 2022-02-01 09:00:00  \\\n",
       "지역명                                                               \n",
       "전국               99.685                 100             100.163   \n",
       "서울               99.768                 100             100.092   \n",
       "종로구              99.968                 100             100.000   \n",
       "중구               99.918                 100             100.000   \n",
       "용산구              99.639                 100             100.234   \n",
       "..                  ...                 ...                 ...   \n",
       "포천시                   -                 100             100.397   \n",
       "여주시                   -                 100             100.566   \n",
       "연천군                   -                 100             100.462   \n",
       "가평군                   -                 100             100.012   \n",
       "양평군                   -                 100             100.528   \n",
       "\n",
       "    2022-03-01 09:00:00 2022-04-01 09:00:00 2022-05-01 09:00:00  \\\n",
       "지역명                                                               \n",
       "전국              100.266             100.460             100.712   \n",
       "서울              100.147             100.256             100.469   \n",
       "종로구             100.067             100.301             100.961   \n",
       "중구              100.000             100.055             100.161   \n",
       "용산구             100.436             100.703             101.684   \n",
       "..                  ...                 ...                 ...   \n",
       "포천시             100.653             101.592             102.737   \n",
       "여주시             100.466             101.089             103.793   \n",
       "연천군             100.100             101.442             103.251   \n",
       "가평군             100.110             100.379             101.382   \n",
       "양평군             100.611             100.685             101.015   \n",
       "\n",
       "    2022-06-01 09:00:00 2022-07-01 09:00:00  \n",
       "지역명                                          \n",
       "전국              100.752             100.678  \n",
       "서울              100.603             100.638  \n",
       "종로구             101.313             101.438  \n",
       "중구              100.237             100.309  \n",
       "용산구             102.413             102.620  \n",
       "..                  ...                 ...  \n",
       "포천시             103.708             104.391  \n",
       "여주시             104.849             105.261  \n",
       "연천군             103.658             103.658  \n",
       "가평군             102.120             102.120  \n",
       "양평군             101.444             101.779  \n",
       "\n",
       "[89 rows x 61 columns]"
      ]
     },
     "execution_count": 44,
     "metadata": {},
     "output_type": "execute_result"
    }
   ],
   "source": [
    "import pandas as pd\n",
    "\n",
    "path = r'C:\\Users\\admin\\Desktop\\KB\\월간 아파트 매매가격지수_20220822.xlsx'\n",
    "raw_data = pd.read_excel(path, sheet_name='월간 아파트 매매가격지수_20220822')\n",
    "raw_data = raw_data.set_index('지역명')\n",
    "row = list(raw_data.index)\n",
    "raw_data"
   ]
  },
  {
   "cell_type": "code",
   "execution_count": 45,
   "metadata": {},
   "outputs": [],
   "source": [
    "import matplotlib.pyplot as plt\n",
    "from matplotlib import font_manager,rc\n",
    "import seaborn; seaborn.set()\n",
    "%matplotlib inline\n",
    "\n",
    "font_name = font_manager.FontProperties(fname='c:\\Windows\\Fonts\\malgun.ttf').get_name()\n",
    "rc('font', family = font_name)\n",
    "plt.rcParams['axes.unicode_minus']=False"
   ]
  },
  {
   "cell_type": "code",
   "execution_count": 46,
   "metadata": {},
   "outputs": [
    {
     "data": {
      "image/png": "[encoded data removed]",
      "text/plain": [
       "<Figure size 432x288 with 1 Axes>"
      ]
     },
     "metadata": {
      "needs_background": "light"
     },
     "output_type": "display_data"
    }
   ],
   "source": [
    "path = r'C:\\Users\\admin\\Desktop\\KB\\월간 아파트 매매가격지수_20220822.xlsx'\n",
    "all_data = raw_data.loc['전국']\n",
    "all_data.plot(legend='전국')\n",
    "plt.show()"
   ]
  },
  {
   "cell_type": "code",
   "execution_count": 47,
   "metadata": {},
   "outputs": [
    {
     "data": {
      "image/png": "[encoded data removed]",
      "text/plain": [
       "<Figure size 720x720 with 3 Axes>"
      ]
     },
     "metadata": {
      "needs_background": "light"
     },
     "output_type": "display_data"
    }
   ],
   "source": [
    "plt.figure(figsize=(10,10))\n",
    "\n",
    "plt.subplot(2,2,1)\n",
    "plt.title('서울')\n",
    "seoul_data = raw_data.loc['서울']\n",
    "plt.plot(seoul_data)\n",
    "\n",
    "plt.subplot(2,2,2)\n",
    "plt.title('경기')\n",
    "seoul_data = raw_data.loc['경기']\n",
    "plt.plot(seoul_data)\n",
    "\n",
    "plt.subplot(2,2,3)\n",
    "plt.title('인천')\n",
    "seoul_data = raw_data.loc['인천']\n",
    "plt.plot(seoul_data)\n",
    "\n",
    "plt.show()"
   ]
  },
  {
   "cell_type": "code",
   "execution_count": 57,
   "metadata": {},
   "outputs": [
    {
     "data": {
      "image/png": "[encoded data removed]",
      "text/plain": [
       "<Figure size 720x1440 with 8 Axes>"
      ]
     },
     "metadata": {
      "needs_background": "light"
     },
     "output_type": "display_data"
    }
   ],
   "source": [
    "area = '서울 경기 강남 강북 인천 수원시 안양시 성남시'\n",
    "area_list = area.split(' ')\n",
    "num_row = int((len(area_list)-1)/2)+1\n",
    "\n",
    "plt.figure(figsize=(10,num_row*5))\n",
    "\n",
    "for i, area in enumerate(area_list):\n",
    "    plt.subplot(num_row,2,i+1)\n",
    "    plt.title(f'{area}')\n",
    "    new_data[i].append(raw_data.loc[f'{area}'])\n",
    "    plt.plot(new_data[i])\n",
    "\n",
    "plt.show()"
   ]
  },
  {
   "cell_type": "code",
   "execution_count": 67,
   "metadata": {},
   "outputs": [],
   "source": [
    "import numpy as np\n",
    "import pandas as pd\n",
    "import matplotlib.pyplot as plt\n",
    "import seaborn\n",
    "\n",
    "plt.style.use(['seaborn-whitegrid'])"
   ]
  },
  {
   "cell_type": "code",
   "execution_count": 68,
   "metadata": {},
   "outputs": [
    {
     "data": {
      "image/png": "[encoded data removed]",
      "text/plain": [
       "<Figure size 432x288 with 1 Axes>"
      ]
     },
     "metadata": {},
     "output_type": "display_data"
    }
   ],
   "source": [
    "x = 10 * np.random.rand(50)\n",
    "y = 2 * x + np.random.rand(50)\n",
    "plt.scatter(x,y);"
   ]
  },
  {
   "cell_type": "code",
   "execution_count": 69,
   "metadata": {},
   "outputs": [],
   "source": [
    "from sklearn.linear_model import LinearRegression"
   ]
  },
  {
   "cell_type": "code",
   "execution_count": 70,
   "metadata": {},
   "outputs": [
    {
     "data": {
      "text/plain": [
       "LinearRegression()"
      ]
     },
     "execution_count": 70,
     "metadata": {},
     "output_type": "execute_result"
    }
   ],
   "source": [
    "model = LinearRegression(fit_intercept=True)\n",
    "model"
   ]
  },
  {
   "cell_type": "code",
   "execution_count": 71,
   "metadata": {},
   "outputs": [
    {
     "data": {
      "text/plain": [
       "array([[2.86048562],\n",
       "       [8.29248463],\n",
       "       [7.88787053],\n",
       "       [2.54493718],\n",
       "       [6.33342888],\n",
       "       [5.35089177],\n",
       "       [8.13824602],\n",
       "       [0.08346122],\n",
       "       [2.22969331],\n",
       "       [9.8755063 ],\n",
       "       [4.85444192],\n",
       "       [8.59515983],\n",
       "       [1.42153581],\n",
       "       [6.18931819],\n",
       "       [1.68954505],\n",
       "       [7.09083326],\n",
       "       [4.96365007],\n",
       "       [8.202366  ],\n",
       "       [1.58948153],\n",
       "       [4.84402486],\n",
       "       [9.03176494],\n",
       "       [5.21711706],\n",
       "       [4.05911192],\n",
       "       [9.19321261],\n",
       "       [8.00359895],\n",
       "       [0.13675994],\n",
       "       [2.71372369],\n",
       "       [5.69571921],\n",
       "       [8.71457261],\n",
       "       [2.62933103],\n",
       "       [7.77199169],\n",
       "       [5.49330559],\n",
       "       [0.27035221],\n",
       "       [3.91965399],\n",
       "       [8.0849005 ],\n",
       "       [1.37634932],\n",
       "       [5.29387419],\n",
       "       [9.41633916],\n",
       "       [1.52184819],\n",
       "       [0.23607713],\n",
       "       [6.65434706],\n",
       "       [8.08385565],\n",
       "       [9.94511097],\n",
       "       [5.65243991],\n",
       "       [7.54990949],\n",
       "       [8.79390488],\n",
       "       [9.52308847],\n",
       "       [6.35166904],\n",
       "       [2.15647167],\n",
       "       [5.30110521]])"
      ]
     },
     "execution_count": 71,
     "metadata": {},
     "output_type": "execute_result"
    }
   ],
   "source": [
    "X = x[:,np.newaxis]\n",
    "X"
   ]
  },
  {
   "cell_type": "code",
   "execution_count": 73,
   "metadata": {},
   "outputs": [
    {
     "data": {
      "text/plain": [
       "LinearRegression()"
      ]
     },
     "execution_count": 73,
     "metadata": {},
     "output_type": "execute_result"
    }
   ],
   "source": [
    "model.fit(X,y)"
   ]
  },
  {
   "cell_type": "code",
   "execution_count": 75,
   "metadata": {},
   "outputs": [
    {
     "data": {
      "text/plain": [
       "array([2.00815486])"
      ]
     },
     "execution_count": 75,
     "metadata": {},
     "output_type": "execute_result"
    }
   ],
   "source": [
    "model.coef_"
   ]
  },
  {
   "cell_type": "code",
   "execution_count": 77,
   "metadata": {},
   "outputs": [
    {
     "data": {
      "text/plain": [
       "0.45426227410158404"
      ]
     },
     "execution_count": 77,
     "metadata": {},
     "output_type": "execute_result"
    }
   ],
   "source": [
    "model.intercept_"
   ]
  },
  {
   "cell_type": "code",
   "execution_count": 81,
   "metadata": {},
   "outputs": [
    {
     "data": {
      "text/plain": [
       "array([-1.55389259, -1.06209956, -0.57030653, -0.0785135 ,  0.41327952,\n",
       "        0.90507255,  1.39686558,  1.8886586 ,  2.38045163,  2.87224466,\n",
       "        3.36403768,  3.85583071,  4.34762374,  4.83941676,  5.33120979,\n",
       "        5.82300282,  6.31479584,  6.80658887,  7.2983819 ,  7.79017492,\n",
       "        8.28196795,  8.77376098,  9.26555401,  9.75734703, 10.24914006,\n",
       "       10.74093309, 11.23272611, 11.72451914, 12.21631217, 12.70810519,\n",
       "       13.19989822, 13.69169125, 14.18348427, 14.6752773 , 15.16707033,\n",
       "       15.65886335, 16.15065638, 16.64244941, 17.13424243, 17.62603546,\n",
       "       18.11782849, 18.60962152, 19.10141454, 19.59320757, 20.0850006 ,\n",
       "       20.57679362, 21.06858665, 21.56037968, 22.0521727 , 22.54396573])"
      ]
     },
     "execution_count": 81,
     "metadata": {},
     "output_type": "execute_result"
    }
   ],
   "source": [
    "xfit = np.linspace(-1,11)\n",
    "Xfit = xfit[:,np.newaxis]\n",
    "yfit = model.predict(Xfit)\n",
    "yfit"
   ]
  },
  {
   "cell_type": "code",
   "execution_count": 83,
   "metadata": {},
   "outputs": [
    {
     "data": {
      "image/png": "[encoded data removed]",
      "text/plain": [
       "<Figure size 432x288 with 1 Axes>"
      ]
     },
     "metadata": {},
     "output_type": "display_data"
    }
   ],
   "source": [
    "plt.scatter(x,y)\n",
    "plt.plot(xfit,yfit,'--r');"
   ]
  },
  {
   "cell_type": "code",
   "execution_count": 87,
   "metadata": {},
   "outputs": [
    {
     "name": "stdout",
     "output_type": "stream",
     "text": [
      "dict_keys(['data', 'target', 'feature_names', 'DESCR', 'filename'])\n"
     ]
    }
   ],
   "source": [
    "from sklearn.datasets import load_boston\n",
    "\n",
    "boston = load_boston()\n",
    "print(boston.keys())"
   ]
  },
  {
   "cell_type": "code",
   "execution_count": 88,
   "metadata": {},
   "outputs": [
    {
     "name": "stdout",
     "output_type": "stream",
     "text": [
      "[[6.3200e-03 1.8000e+01 2.3100e+00 ... 1.5300e+01 3.9690e+02 4.9800e+00]\n",
      " [2.7310e-02 0.0000e+00 7.0700e+00 ... 1.7800e+01 3.9690e+02 9.1400e+00]\n",
      " [2.7290e-02 0.0000e+00 7.0700e+00 ... 1.7800e+01 3.9283e+02 4.0300e+00]\n",
      " ...\n",
      " [6.0760e-02 0.0000e+00 1.1930e+01 ... 2.1000e+01 3.9690e+02 5.6400e+00]\n",
      " [1.0959e-01 0.0000e+00 1.1930e+01 ... 2.1000e+01 3.9345e+02 6.4800e+00]\n",
      " [4.7410e-02 0.0000e+00 1.1930e+01 ... 2.1000e+01 3.9690e+02 7.8800e+00]]\n"
     ]
    }
   ],
   "source": [
    "print(boston.data)"
   ]
  },
  {
   "cell_type": "code",
   "execution_count": 89,
   "metadata": {},
   "outputs": [
    {
     "name": "stdout",
     "output_type": "stream",
     "text": [
      "[24.  21.6 34.7 33.4 36.2 28.7 22.9 27.1 16.5 18.9 15.  18.9 21.7 20.4\n",
      " 18.2 19.9 23.1 17.5 20.2 18.2 13.6 19.6 15.2 14.5 15.6 13.9 16.6 14.8\n",
      " 18.4 21.  12.7 14.5 13.2 13.1 13.5 18.9 20.  21.  24.7 30.8 34.9 26.6\n",
      " 25.3 24.7 21.2 19.3 20.  16.6 14.4 19.4 19.7 20.5 25.  23.4 18.9 35.4\n",
      " 24.7 31.6 23.3 19.6 18.7 16.  22.2 25.  33.  23.5 19.4 22.  17.4 20.9\n",
      " 24.2 21.7 22.8 23.4 24.1 21.4 20.  20.8 21.2 20.3 28.  23.9 24.8 22.9\n",
      " 23.9 26.6 22.5 22.2 23.6 28.7 22.6 22.  22.9 25.  20.6 28.4 21.4 38.7\n",
      " 43.8 33.2 27.5 26.5 18.6 19.3 20.1 19.5 19.5 20.4 19.8 19.4 21.7 22.8\n",
      " 18.8 18.7 18.5 18.3 21.2 19.2 20.4 19.3 22.  20.3 20.5 17.3 18.8 21.4\n",
      " 15.7 16.2 18.  14.3 19.2 19.6 23.  18.4 15.6 18.1 17.4 17.1 13.3 17.8\n",
      " 14.  14.4 13.4 15.6 11.8 13.8 15.6 14.6 17.8 15.4 21.5 19.6 15.3 19.4\n",
      " 17.  15.6 13.1 41.3 24.3 23.3 27.  50.  50.  50.  22.7 25.  50.  23.8\n",
      " 23.8 22.3 17.4 19.1 23.1 23.6 22.6 29.4 23.2 24.6 29.9 37.2 39.8 36.2\n",
      " 37.9 32.5 26.4 29.6 50.  32.  29.8 34.9 37.  30.5 36.4 31.1 29.1 50.\n",
      " 33.3 30.3 34.6 34.9 32.9 24.1 42.3 48.5 50.  22.6 24.4 22.5 24.4 20.\n",
      " 21.7 19.3 22.4 28.1 23.7 25.  23.3 28.7 21.5 23.  26.7 21.7 27.5 30.1\n",
      " 44.8 50.  37.6 31.6 46.7 31.5 24.3 31.7 41.7 48.3 29.  24.  25.1 31.5\n",
      " 23.7 23.3 22.  20.1 22.2 23.7 17.6 18.5 24.3 20.5 24.5 26.2 24.4 24.8\n",
      " 29.6 42.8 21.9 20.9 44.  50.  36.  30.1 33.8 43.1 48.8 31.  36.5 22.8\n",
      " 30.7 50.  43.5 20.7 21.1 25.2 24.4 35.2 32.4 32.  33.2 33.1 29.1 35.1\n",
      " 45.4 35.4 46.  50.  32.2 22.  20.1 23.2 22.3 24.8 28.5 37.3 27.9 23.9\n",
      " 21.7 28.6 27.1 20.3 22.5 29.  24.8 22.  26.4 33.1 36.1 28.4 33.4 28.2\n",
      " 22.8 20.3 16.1 22.1 19.4 21.6 23.8 16.2 17.8 19.8 23.1 21.  23.8 23.1\n",
      " 20.4 18.5 25.  24.6 23.  22.2 19.3 22.6 19.8 17.1 19.4 22.2 20.7 21.1\n",
      " 19.5 18.5 20.6 19.  18.7 32.7 16.5 23.9 31.2 17.5 17.2 23.1 24.5 26.6\n",
      " 22.9 24.1 18.6 30.1 18.2 20.6 17.8 21.7 22.7 22.6 25.  19.9 20.8 16.8\n",
      " 21.9 27.5 21.9 23.1 50.  50.  50.  50.  50.  13.8 13.8 15.  13.9 13.3\n",
      " 13.1 10.2 10.4 10.9 11.3 12.3  8.8  7.2 10.5  7.4 10.2 11.5 15.1 23.2\n",
      "  9.7 13.8 12.7 13.1 12.5  8.5  5.   6.3  5.6  7.2 12.1  8.3  8.5  5.\n",
      " 11.9 27.9 17.2 27.5 15.  17.2 17.9 16.3  7.   7.2  7.5 10.4  8.8  8.4\n",
      " 16.7 14.2 20.8 13.4 11.7  8.3 10.2 10.9 11.   9.5 14.5 14.1 16.1 14.3\n",
      " 11.7 13.4  9.6  8.7  8.4 12.8 10.5 17.1 18.4 15.4 10.8 11.8 14.9 12.6\n",
      " 14.1 13.  13.4 15.2 16.1 17.8 14.9 14.1 12.7 13.5 14.9 20.  16.4 17.7\n",
      " 19.5 20.2 21.4 19.9 19.  19.1 19.1 20.1 19.9 19.6 23.2 29.8 13.8 13.3\n",
      " 16.7 12.  14.6 21.4 23.  23.7 25.  21.8 20.6 21.2 19.1 20.6 15.2  7.\n",
      "  8.1 13.6 20.1 21.8 24.5 23.1 19.7 18.3 21.2 17.5 16.8 22.4 20.6 23.9\n",
      " 22.  11.9]\n"
     ]
    }
   ],
   "source": [
    "print(boston.target)"
   ]
  },
  {
   "cell_type": "code",
   "execution_count": 90,
   "metadata": {},
   "outputs": [
    {
     "name": "stdout",
     "output_type": "stream",
     "text": [
      ".. _boston_dataset:\n",
      "\n",
      "Boston house prices dataset\n",
      "---------------------------\n",
      "\n",
      "**Data Set Characteristics:**  \n",
      "\n",
      "    :Number of Instances: 506 \n",
      "\n",
      "    :Number of Attributes: 13 numeric/categorical predictive. Median Value (attribute 14) is usually the target.\n",
      "\n",
      "    :Attribute Information (in order):\n",
      "        - CRIM     per capita crime rate by town\n",
      "        - ZN       proportion of residential land zoned for lots over 25,000 sq.ft.\n",
      "        - INDUS    proportion of non-retail business acres per town\n",
      "        - CHAS     Charles River dummy variable (= 1 if tract bounds river; 0 otherwise)\n",
      "        - NOX      nitric oxides concentration (parts per 10 million)\n",
      "        - RM       average number of rooms per dwelling\n",
      "        - AGE      proportion of owner-occupied units built prior to 1940\n",
      "        - DIS      weighted distances to five Boston employment centres\n",
      "        - RAD      index of accessibility to radial highways\n",
      "        - TAX      full-value property-tax rate per $10,000\n",
      "        - PTRATIO  pupil-teacher ratio by town\n",
      "        - B        1000(Bk - 0.63)^2 where Bk is the proportion of blacks by town\n",
      "        - LSTAT    % lower status of the population\n",
      "        - MEDV     Median value of owner-occupied homes in $1000's\n",
      "\n",
      "    :Missing Attribute Values: None\n",
      "\n",
      "    :Creator: Harrison, D. and Rubinfeld, D.L.\n",
      "\n",
      "This is a copy of UCI ML housing dataset.\n",
      "https://archive.ics.uci.edu/ml/machine-learning-databases/housing/\n",
      "\n",
      "\n",
      "This dataset was taken from the StatLib library which is maintained at Carnegie Mellon University.\n",
      "\n",
      "The Boston house-price data of Harrison, D. and Rubinfeld, D.L. 'Hedonic\n",
      "prices and the demand for clean air', J. Environ. Economics & Management,\n",
      "vol.5, 81-102, 1978.   Used in Belsley, Kuh & Welsch, 'Regression diagnostics\n",
      "...', Wiley, 1980.   N.B. Various transformations are used in the table on\n",
      "pages 244-261 of the latter.\n",
      "\n",
      "The Boston house-price data has been used in many machine learning papers that address regression\n",
      "problems.   \n",
      "     \n",
      ".. topic:: References\n",
      "\n",
      "   - Belsley, Kuh & Welsch, 'Regression diagnostics: Identifying Influential Data and Sources of Collinearity', Wiley, 1980. 244-261.\n",
      "   - Quinlan,R. (1993). Combining Instance-Based and Model-Based Learning. In Proceedings on the Tenth International Conference of Machine Learning, 236-243, University of Massachusetts, Amherst. Morgan Kaufmann.\n",
      "\n"
     ]
    }
   ],
   "source": [
    "print(boston.DESCR)"
   ]
  },
  {
   "cell_type": "code",
   "execution_count": 91,
   "metadata": {},
   "outputs": [
    {
     "name": "stdout",
     "output_type": "stream",
     "text": [
      "C:\\ProgramData\\Anaconda3\\lib\\site-packages\\sklearn\\datasets\\data\\boston_house_prices.csv\n"
     ]
    }
   ],
   "source": [
    "print(boston.filename)"
   ]
  },
  {
   "cell_type": "code",
   "execution_count": 92,
   "metadata": {},
   "outputs": [
    {
     "name": "stdout",
     "output_type": "stream",
     "text": [
      "['CRIM' 'ZN' 'INDUS' 'CHAS' 'NOX' 'RM' 'AGE' 'DIS' 'RAD' 'TAX' 'PTRATIO'\n",
      " 'B' 'LSTAT']\n"
     ]
    }
   ],
   "source": [
    "print(boston.feature_names)"
   ]
  },
  {
   "cell_type": "code",
   "execution_count": 109,
   "metadata": {},
   "outputs": [
    {
     "name": "stdout",
     "output_type": "stream",
     "text": [
      "학습데이터 점수: 0.7467642181049166\n",
      "평가데이터 점수: 0.7116949770022263\n"
     ]
    }
   ],
   "source": [
    "from sklearn.linear_model import LinearRegression\n",
    "from sklearn.model_selection import train_test_split\n",
    "from sklearn.datasets import load_boston\n",
    "\n",
    "boston = load_boston()\n",
    "X_train, X_test, y_train, y_test = train_test_split(boston.data, boston.target, test_size = 0.3)\n",
    "\n",
    "model = LinearRegression()\n",
    "model.fit(X_train, y_train)\n",
    "\n",
    "print('학습데이터 점수: {}'.format(model.score(X_train,y_train)))\n",
    "print('평가데이터 점수: {}'.format(model.score(X_test,y_test)))\n"
   ]
  },
  {
   "cell_type": "code",
   "execution_count": 113,
   "metadata": {},
   "outputs": [
    {
     "data": {
      "image/png": "[encoded data removed]",
      "text/plain": [
       "<Figure size 576x288 with 1 Axes>"
      ]
     },
     "metadata": {},
     "output_type": "display_data"
    }
   ],
   "source": [
    "import matplotlib.pyplot as plt\n",
    "\n",
    "predicted = model.predict(X_test)\n",
    "expected = y_test\n",
    "\n",
    "plt.figure(figsize=(8,4))\n",
    "plt.scatter(expected,predicted)\n",
    "plt.plot([0,50],[0,50],'--r')\n",
    "plt.tight_layout();"
   ]
  }
 ],
 "metadata": {
  "kernelspec": {
   "display_name": "Python 3",
   "language": "python",
   "name": "python3"
  },
  "language_info": {
   "codemirror_mode": {
    "name": "ipython",
    "version": 3
   },
   "file_extension": ".py",
   "mimetype": "text/x-python",
   "name": "python",
   "nbconvert_exporter": "python",
   "pygments_lexer": "ipython3",
   "version": "3.8.3"
  }
 },
 "nbformat": 4,
 "nbformat_minor": 4
}
