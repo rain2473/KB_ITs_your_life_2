{
 "cells": [
  {
   "cell_type": "code",
   "execution_count": 28,
   "metadata": {},
   "outputs": [
    {
     "name": "stdout",
     "output_type": "stream",
     "text": [
      "4\n",
      "3\n",
      "1 2 3\n",
      "3\n",
      "1 4 7\n",
      "5\n",
      "1 1 1 1 1\n",
      "4\n",
      "1 3 3 4\n",
      "['#0 2 \\n', '#1 4 \\n', '#2 0 \\n', '#3 8 \\n']\n"
     ]
    }
   ],
   "source": [
    "import itertools as it\n",
    "MAX = 5000\n",
    "T = int(input())\n",
    "asw =[]\n",
    "for t in range(T):\n",
    "    N = int(input())\n",
    "    dataset = []\n",
    "    for num in range(1,N+1):\n",
    "        dataset.append(num)\n",
    "    cnt = 0\n",
    "    b = []\n",
    "    b = input().split(' ')\n",
    "    for tmp in range(len(b)):\n",
    "        b[tmp] = int(b[tmp])\n",
    "    a = list(it.permutations(dataset,N))\n",
    "    for i in range(len(a)):\n",
    "        a[i] = list(a[i])\n",
    "        for j in range(len(a[i])):\n",
    "            if a[i][j] == b[j]:\n",
    "                a[i][j] = 0\n",
    "                \n",
    "    for tmp_a in a:\n",
    "        if 0 not in tmp_a:\n",
    "            cnt += 1\n",
    "    asw.append(f'#{t} {cnt} \\n')\n",
    "print(str(asw))"
   ]
  }
 ],
 "metadata": {
  "kernelspec": {
   "display_name": "Python 3",
   "language": "python",
   "name": "python3"
  },
  "language_info": {
   "codemirror_mode": {
    "name": "ipython",
    "version": 3
   },
   "file_extension": ".py",
   "mimetype": "text/x-python",
   "name": "python",
   "nbconvert_exporter": "python",
   "pygments_lexer": "ipython3",
   "version": "3.8.3"
  }
 },
 "nbformat": 4,
 "nbformat_minor": 4
}
