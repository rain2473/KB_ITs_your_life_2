{
 "cells": [
  {
   "cell_type": "code",
   "execution_count": 3,
   "metadata": {},
   "outputs": [
    {
     "name": "stdout",
     "output_type": "stream",
     "text": [
      "[1.0000e+00 2.4000e+01 3.6288e+05]\n",
      "[ 0.          3.17805383 12.80182748]\n",
      "[0.5        0.03333333 0.00909091]\n"
     ]
    }
   ],
   "source": [
    "from scipy import special\n",
    "x= [1,5,10]\n",
    "print(special.gamma(x))         #감마(팩토리얼(계승)의 일반화)  #1(1), 24(1~4) ,362880(1~9) \n",
    "print(special.gammaln(x))       #ln|감마|\n",
    "print(special.beta(x,2))        #베타 integral(0,1,(t^(x-1)*(1-t)^(p-1)),dt)"
   ]
  }
 ],
 "metadata": {
  "kernelspec": {
   "display_name": "Python 3",
   "language": "python",
   "name": "python3"
  },
  "language_info": {
   "codemirror_mode": {
    "name": "ipython",
    "version": 3
   },
   "file_extension": ".py",
   "mimetype": "text/x-python",
   "name": "python",
   "nbconvert_exporter": "python",
   "pygments_lexer": "ipython3",
   "version": "3.8.3"
  }
 },
 "nbformat": 4,
 "nbformat_minor": 4
}
