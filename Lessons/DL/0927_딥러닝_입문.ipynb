{
  "nbformat": 4,
  "nbformat_minor": 0,
  "metadata": {
    "colab": {
      "provenance": [],
      "collapsed_sections": []
    },
    "kernelspec": {
      "name": "python3",
      "display_name": "Python 3"
    },
    "language_info": {
      "name": "python"
    }
  },
  "cells": [
    {
      "cell_type": "code",
      "execution_count": null,
      "metadata": {
        "colab": {
          "base_uri": "https://localhost:8080/"
        },
        "id": "KJHlhpJYjdNl",
        "outputId": "086597c6-0c00-430c-806a-e63794fccb54"
      },
      "outputs": [
        {
          "output_type": "stream",
          "name": "stdout",
          "text": [
            "x의 평균값:  5.0\n",
            "y의 평균값:  90.5\n",
            "분모:  20.0\n",
            "분자:  46.0\n",
            "기울기 a =  2.3\n",
            "y 절편 b =  79.0\n"
          ]
        }
      ],
      "source": [
        "import numpy as np\n",
        "\n",
        "# 공부한 시간과 점수를 각각 x, y라는 이름의 넘파이 배열로 만듭니다.\n",
        "x = np.array([2, 4, 6, 8])\n",
        "y = np.array([81, 93, 91, 97])\n",
        "\n",
        "# x의 평균값을 구합니다.\n",
        "mx = np.mean(x)\n",
        "\n",
        "# y의 평균값을 구합니다.\n",
        "my = np.mean(y)\n",
        "\n",
        "# 출력으로 확인합니다.\n",
        "print(\"x의 평균값: \", mx)\n",
        "print(\"y의 평균값: \", my)\n",
        "\n",
        "# 기울기 공식의 분모 부분입니다.\n",
        "divisor = sum([(i - mx)**2 for i in x])\n",
        "\n",
        "# 기울기 공식의 분자 부분입니다.\n",
        "def top(x, mx, y, my):\n",
        "    d = 0\n",
        "    for i in range(len(x)):\n",
        "        d += (x[i] - mx) * (y[i] - my)\n",
        "    return d\n",
        "dividend = top(x, mx, y, my)\n",
        "\n",
        "# 출력으로 확인합니다.\n",
        "print(\"분모: \", divisor)\n",
        "print(\"분자: \", dividend)\n",
        "\n",
        "# 기울기 a를 구하는 공식입니다.\n",
        "a = dividend / divisor\n",
        "\n",
        "# y 절편 b를 구하는 공식입니다.\n",
        "b = my - (mx*a)\n",
        "\n",
        "# 출력으로 확인합니다.\n",
        "print(\"기울기 a = \", a)\n",
        "print(\"y 절편 b = \", b)"
      ]
    },
    {
      "cell_type": "code",
      "source": [
        "# 평균제곱오차\n",
        "# 점수 y,x 공부시간\n",
        "def mse(y,y_pred):\n",
        "  error = y - (x*a+b) # 실제 점수 - 예상점수\n",
        "  return np.mean(error**2)\n",
        "\n",
        "mse(y,x*a+b)"
      ],
      "metadata": {
        "colab": {
          "base_uri": "https://localhost:8080/"
        },
        "id": "nSMR5hjcpPmF",
        "outputId": "6f19c77e-0e77-4e6b-a170-f8fe6f543f8f"
      },
      "execution_count": null,
      "outputs": [
        {
          "output_type": "execute_result",
          "data": {
            "text/plain": [
              "8.299999999999985"
            ]
          },
          "metadata": {},
          "execution_count": 2
        }
      ]
    },
    {
      "cell_type": "code",
      "source": [
        "import numpy as np\n",
        "# 가상의 기울기 a와 y 절편 b를 정합니다.\n",
        "fake_a = 3\n",
        "fake_b = 76\n",
        "\n",
        "# 공부 시간 x와 성적 y의 넘파이 배열을 만듭니다.\n",
        "x = np.array([2, 4, 6, 8])\n",
        "y = np.array([81, 93, 91, 97])\n",
        "\n",
        "# y = ax + b에 가상의 a 값과 b 값을 대입한 결과를 출력하는 함수입니다.\n",
        "def predict(x):\n",
        "    return fake_a * x + fake_b\n",
        "\n",
        "# 예측 값이 들어갈 빈 리스트를 만듭니다.\n",
        "predict_result = []\n",
        "\n",
        "# 모든 x 값을 한 번씩 대입해 predict_result 리스트를 완성합니다.\n",
        "for i in range(len(x)):\n",
        "    predict_result.append(predict(x[i]))\n",
        "    print(\"공부시간=%.f, 실제점수=%.f, 예측점수=%.f\" % (x[i], y[i], predict(x[i])))\n",
        "    \n",
        "# 평균 제곱 오차 함수를 각 y 값에 대입해 최종 값을 구하는 함수입니다.\n",
        "n = len(x)  \n",
        "def mse(y, y_pred):\n",
        "    return (1/n) * sum((y - y_pred)**2)\n",
        "\n",
        "# 평균 제곱 오차 값을 출력합니다.\n",
        "print(\"평균 제곱 오차: \" + str(mse(y, predict_result)))"
      ],
      "metadata": {
        "colab": {
          "base_uri": "https://localhost:8080/"
        },
        "id": "Fm1Yy8RvzaXg",
        "outputId": "6ef070ce-ce35-4260-8c63-9882a13a0b45"
      },
      "execution_count": null,
      "outputs": [
        {
          "output_type": "stream",
          "name": "stdout",
          "text": [
            "공부시간=2, 실제점수=81, 예측점수=82\n",
            "공부시간=4, 실제점수=93, 예측점수=88\n",
            "공부시간=6, 실제점수=91, 예측점수=94\n",
            "공부시간=8, 실제점수=97, 예측점수=100\n",
            "평균 제곱 오차: 11.0\n"
          ]
        }
      ]
    },
    {
      "cell_type": "code",
      "source": [
        "y, x*a+b"
      ],
      "metadata": {
        "colab": {
          "base_uri": "https://localhost:8080/"
        },
        "id": "17ClYYBJzGoa",
        "outputId": "473334c6-9075-498b-850d-50e7f1f774ba"
      },
      "execution_count": null,
      "outputs": [
        {
          "output_type": "execute_result",
          "data": {
            "text/plain": [
              "(array([81, 93, 91, 97]), array([83.6, 88.2, 92.8, 97.4]))"
            ]
          },
          "metadata": {},
          "execution_count": 4
        }
      ]
    },
    {
      "cell_type": "code",
      "source": [
        "np.mean((y-(x*a+b))**2)"
      ],
      "metadata": {
        "colab": {
          "base_uri": "https://localhost:8080/"
        },
        "id": "NUhoPOTA0BeK",
        "outputId": "857fc0aa-7854-4119-ec58-d4ea1edb1456"
      },
      "execution_count": null,
      "outputs": [
        {
          "output_type": "execute_result",
          "data": {
            "text/plain": [
              "8.299999999999985"
            ]
          },
          "metadata": {},
          "execution_count": 5
        }
      ]
    },
    {
      "cell_type": "code",
      "source": [
        "import numpy as np\n",
        "import matplotlib.pyplot as plt\n",
        "\n",
        "# 공부 시간 X와 성 y의 넘파이 배열을 만듭니다.\n",
        "x = np.array([2, 4, 6, 8])\n",
        "y = np.array([81, 93, 91, 97])\n",
        "\n",
        "# 데이터의 분포를 그래프로 나타냅니다.\n",
        "plt.scatter(x, y)\n",
        "plt.show()\n",
        "\n",
        "# 기울기 a의 값과 절편 b의 값을 초기화합니다.\n",
        "a = 0\n",
        "b = 0\n",
        "\n",
        "# 학습률을 정합니다.\n",
        "lr = 0.03\n",
        "\n",
        "# 몇 번 반복될지 설정합니다.\n",
        "epochs = 1461 \n",
        "\n",
        "# x 값이 총 몇 개인지 셉니다.\n",
        "n = len(x)\n",
        "\n",
        "# 경사 하강법을 시작합니다.\n",
        "for i in range(epochs):      # 에포크 수만큼 반복합니다.\n",
        "    y_pred = a * x + b       # 예측 값을 구하는 식입니다.\n",
        "    error = y - y_pred       # 실제 값과 비교한 오차를 error로 놓습니다.\n",
        "\n",
        "    a_diff = (2/n) * sum(-x * (error))   # 오차 함수를 a로 편미분한 값입니다.\n",
        "    b_diff = (2/n) * sum(-(error))       # 오차 함수를 b로 편미분한 값입니다.\n",
        "\n",
        "    a = a - lr * a_diff   # 학습률을 곱해 기존의 a 값을 업데이트합니다.\n",
        "    b = b - lr * b_diff   # 학습률을 곱해 기존의 b 값을 업데이트합니다.\n",
        "\n",
        "    if i > 1450:      # 100번 반복될 때마다 현재의 a 값, b 값을 출력합니다.\n",
        "        print(\"epoch=%.f, 기울기=%.04f, 절편=%.04f\" % (i, a, b))\n",
        "        \n",
        "# 앞서 구한 최종 a 값을 기울기, b 값을 y 절편에 대입해 그래프를 그립니다.\n",
        "y_pred = a * x + b      \n",
        "\n",
        "# 그래프를 출력합니다.\n",
        "plt.scatter(x, y)\n",
        "plt.plot(x, y_pred,'r')\n",
        "plt.show()"
      ],
      "metadata": {
        "colab": {
          "base_uri": "https://localhost:8080/",
          "height": 695
        },
        "id": "L62C45Y703Wo",
        "outputId": "b7b1891e-4778-414d-882d-e7f58c1b3838"
      },
      "execution_count": null,
      "outputs": [
        {
          "output_type": "display_data",
          "data": {
            "text/plain": [
              "<Figure size 432x288 with 1 Axes>"
            ],
            "image/png": "[encoded data removed]"
          },
          "metadata": {
            "needs_background": "light"
          }
        },
        {
          "output_type": "stream",
          "name": "stdout",
          "text": [
            "epoch=1451, 기울기=2.3000, 절편=78.9999\n",
            "epoch=1452, 기울기=2.3000, 절편=78.9999\n",
            "epoch=1453, 기울기=2.3000, 절편=78.9999\n",
            "epoch=1454, 기울기=2.3000, 절편=78.9999\n",
            "epoch=1455, 기울기=2.3000, 절편=78.9999\n",
            "epoch=1456, 기울기=2.3000, 절편=79.0000\n",
            "epoch=1457, 기울기=2.3000, 절편=79.0000\n",
            "epoch=1458, 기울기=2.3000, 절편=79.0000\n",
            "epoch=1459, 기울기=2.3000, 절편=79.0000\n",
            "epoch=1460, 기울기=2.3000, 절편=79.0000\n"
          ]
        },
        {
          "output_type": "display_data",
          "data": {
            "text/plain": [
              "<Figure size 432x288 with 1 Axes>"
            ],
            "image/png": "[encoded data removed]"
          },
          "metadata": {
            "needs_background": "light"
          }
        }
      ]
    },
    {
      "cell_type": "code",
      "source": [
        "# 경사하강법 한줄식 테스트"
      ],
      "metadata": {
        "id": "5XUXXhQk6nUd"
      },
      "execution_count": null,
      "outputs": []
    },
    {
      "cell_type": "code",
      "source": [
        "import numpy as np\n",
        "import matplotlib.pyplot as plt\n",
        "\n",
        "# 공부 시간 X와 성 y의 넘파이 배열을 만듭니다.\n",
        "x = np.array([2, 4, 6, 8])\n",
        "y = np.array([81, 93, 91, 97])\n",
        "\n",
        "# 데이터의 분포를 그래프로 나타냅니다.\n",
        "plt.scatter(x, y)\n",
        "plt.ylim(75,100)\n",
        "plt.xlim(0,25)\n",
        "plt.show()\n",
        "\n",
        "# 기울기 a의 값과 절편 b의 값을 초기화합니다.\n",
        "a = 0   # 목표 2.3\n",
        "b = 0   # 목표 79"
      ],
      "metadata": {
        "colab": {
          "base_uri": "https://localhost:8080/",
          "height": 269
        },
        "id": "Snmgf57fXqZa",
        "outputId": "8114ff1b-a4a4-47e0-c9b1-5c9a0ef15836"
      },
      "execution_count": null,
      "outputs": [
        {
          "output_type": "display_data",
          "data": {
            "text/plain": [
              "<Figure size 432x288 with 1 Axes>"
            ],
            "image/png": "[encoded data removed]"
          },
          "metadata": {
            "needs_background": "light"
          }
        }
      ]
    },
    {
      "cell_type": "code",
      "source": [
        "\n",
        "# 학습률을 정합니다.\n",
        "lr = 0.03\n",
        "\n",
        "# 몇 번 반복될지 설정합니다.\n",
        "epochs = 2001    # 학습단위\n",
        "\n",
        "# x 값이 총 몇 개인지 셉니다.\n",
        "n = len(x)\n",
        "\n",
        "# 경사 하강법을 시작합니다.\n",
        "# 평균제곱오차값 계산\n",
        "mse = np.mean((y-(a*x+b))**2)\n",
        "print('mse = ', mse)\n",
        "\n",
        "# y_pred = a * x + b       # 예측 값을 구하는 식입니다.\n",
        "error = y - y_pred       # 실제 값과 비교한 오차를 error로 놓습니다.\n",
        "\n",
        "a_diff = (2/n) * sum(-x * (error))   # 오차 함수를 a로 편미분한 값입니다.\n",
        "b_diff = (2/n) * sum(-(error))       # 오차 함수를 b로 편미분한 값입니다.\n",
        "\n",
        "a = a - lr * a_diff   # 학습률을 곱해 기존의 a 값을 업데이트합니다.\n",
        "b = b - lr * b_diff   # 학습률을 곱해 기존의 b 값을 업데이트합니다.\n",
        "\n",
        "print(\"epoch=%.f, 기울기=%.04f, 절편=%.04f\" % (i, a, b))\n",
        "    \n",
        "# 앞서 구한 최종 a 값을 기울기, b 값을 y 절편에 대입해 그래프를 그립니다.\n",
        "y_pred = a * x + b      \n",
        "\n",
        "\n",
        "# 그래프를 출력합니다.\n",
        "plt.scatter(x, y)\n",
        "plt.plot(x, y_pred,'r')\n",
        "plt.show()"
      ],
      "metadata": {
        "colab": {
          "base_uri": "https://localhost:8080/",
          "height": 301
        },
        "id": "1vVpz-_LZxBx",
        "outputId": "7b890007-388d-4cae-bdbb-1032890b7a83"
      },
      "execution_count": null,
      "outputs": [
        {
          "output_type": "stream",
          "name": "stdout",
          "text": [
            "mse =  8.300000000414085\n",
            "epoch=2000, 기울기=2.3000, 절편=79.0000\n"
          ]
        },
        {
          "output_type": "display_data",
          "data": {
            "text/plain": [
              "<Figure size 432x288 with 1 Axes>"
            ],
            "image/png": "[encoded data removed]"
          },
          "metadata": {
            "needs_background": "light"
          }
        }
      ]
    },
    {
      "cell_type": "code",
      "source": [],
      "metadata": {
        "id": "vJ5N4lNtyOtn"
      },
      "execution_count": null,
      "outputs": []
    }
  ]
}