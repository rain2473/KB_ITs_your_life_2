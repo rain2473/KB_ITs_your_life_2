{
 "cells": [
  {
   "cell_type": "markdown",
   "id": "aa6ac93f",
   "metadata": {},
   "source": [
    "# 딥러닝 -DNN\n",
    "\n",
    "## 퍼셉트론\n",
    "1958년 Frank Rosenblatt(프랭크 로젠블랫)  \n",
    "생물학적 뇌의 뉴런을 모방하여 만든 인공신경망의 기본 단위  \n",
    "여러 입력을 값으로 받아 하나의 0 ~ 1을 출력하는 함수  \n",
    "뇌의 신경세포 즉, 뉴런과 같은 역할  \n",
    "한계 : XOR 문제 해결 불가  \n",
    "1974 ~ 1980 : 1차 암흑기  \n",
    "역전파 알고리즘 => 한계 해결  \n",
    "순환 신경망 RNN  \n",
    "1987 ~ 1993 : 2차 암흑기 => 컴퓨터 성능의 발달  \n",
    "2006 딥러닝(이름 바꾸기) : 다층 퍼셉트론 => 깊이^ => 딥 러닝  \n",
    "이미지 처리 기술 관심 증가 => Imagene => CNN  \n",
    "딥마인드 알파고  "
   ]
  },
  {
   "cell_type": "markdown",
   "id": "5ee8c77e",
   "metadata": {},
   "source": [
    "## 가상환경\n",
    "\n",
    "venv : 파이선 기본 + 원하는 패키지설치  \n",
    "python3.8 + 텐서플로+ 케라스  \n",
    "python3.8 + VS코드  \n",
    "python3.6 + 파이토치  "
   ]
  },
  {
   "cell_type": "markdown",
   "id": "53e74c6d",
   "metadata": {},
   "source": [
    "3rd party : 남이 만든 제품"
   ]
  }
 ],
 "metadata": {
  "kernelspec": {
   "display_name": "Python 3 (ipykernel)",
   "language": "python",
   "name": "python3"
  },
  "language_info": {
   "codemirror_mode": {
    "name": "ipython",
    "version": 3
   },
   "file_extension": ".py",
   "mimetype": "text/x-python",
   "name": "python",
   "nbconvert_exporter": "python",
   "pygments_lexer": "ipython3",
   "version": "3.9.12"
  }
 },
 "nbformat": 4,
 "nbformat_minor": 5
}
