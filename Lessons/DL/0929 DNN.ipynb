{
 "cells": [
  {
   "cell_type": "markdown",
   "id": "10690108",
   "metadata": {},
   "source": [
    "# 타이타닉 생존율 예측"
   ]
  },
  {
   "cell_type": "code",
   "execution_count": 1,
   "id": "0904610b",
   "metadata": {},
   "outputs": [
    {
     "name": "stdout",
     "output_type": "stream",
     "text": [
      "Index(['survived', 'pclass', 'sex', 'age', 'sibsp', 'parch', 'fare',\n",
      "       'embarked', 'class', 'who', 'adult_male', 'deck', 'embark_town',\n",
      "       'alive', 'alone'],\n",
      "      dtype='object')\n"
     ]
    }
   ],
   "source": [
    "# 데이터로딩\n",
    "from tensorflow.keras import models, layers\n",
    "import pandas as pd\n",
    "import seaborn as sns\n",
    "\n",
    "ti = sns.load_dataset(\"titanic\")\n",
    "print(ti.columns)"
   ]
  },
  {
   "cell_type": "code",
   "execution_count": 2,
   "id": "9fd998ea",
   "metadata": {},
   "outputs": [],
   "source": [
    "# X,y 정의 (독립, 종속 변인 구분)\n",
    "y = ti[\"survived\"]\n",
    "X = ti[[\"pclass\",\"age\",\"sibsp\",\"parch\"]]"
   ]
  },
  {
   "cell_type": "code",
   "execution_count": 11,
   "id": "8dad381e",
   "metadata": {},
   "outputs": [
    {
     "name": "stderr",
     "output_type": "stream",
     "text": [
      "C:\\Users\\admin\\AppData\\Local\\Temp\\ipykernel_15548\\3981624435.py:2: SettingWithCopyWarning: \n",
      "A value is trying to be set on a copy of a slice from a DataFrame\n",
      "\n",
      "See the caveats in the documentation: https://pandas.pydata.org/pandas-docs/stable/user_guide/indexing.html#returning-a-view-versus-a-copy\n",
      "  X[\"age\"].fillna(X[\"age\"].mean(),inplace=True)\n"
     ]
    },
    {
     "data": {
      "text/plain": [
       "pclass    0\n",
       "age       0\n",
       "sibsp     0\n",
       "parch     0\n",
       "dtype: int64"
      ]
     },
     "execution_count": 11,
     "metadata": {},
     "output_type": "execute_result"
    }
   ],
   "source": [
    "# X의 결측치 처리\n",
    "X[\"age\"].fillna(X[\"age\"].mean(),inplace=True)\n",
    "X.isna().sum()"
   ]
  },
  {
   "cell_type": "code",
   "execution_count": 6,
   "id": "84249dd7",
   "metadata": {},
   "outputs": [],
   "source": [
    "# X의 표준화(평균을 0)/정규화(0~1)\n",
    "# 표준화 : 각 칼럼이 독립적일 경우\n",
    "# 정규화 : 모든 칼럼이 동일한 의미의 정보를 가지는 경우(ex 픽셀정보)\n",
    "from  sklearn.preprocessing import StandardScaler\n",
    "ss = StandardScaler()\n",
    "X_ss = ss.fit_transform(X)"
   ]
  },
  {
   "cell_type": "code",
   "execution_count": 7,
   "id": "c5bb4bd0",
   "metadata": {},
   "outputs": [],
   "source": [
    "# 훈련, 테스트데이터 분리\n",
    "from sklearn.model_selection import train_test_split\n",
    "x_tr, x_te, y_tr, y_te = train_test_split(\n",
    "    X_ss, y, random_state=100, stratify=y\n",
    ")"
   ]
  },
  {
   "cell_type": "markdown",
   "id": "6e503876",
   "metadata": {},
   "source": [
    "여기까지 머신러닝과 같음"
   ]
  },
  {
   "cell_type": "code",
   "execution_count": 8,
   "id": "19eeac98",
   "metadata": {},
   "outputs": [],
   "source": [
    "# 모델 생성\n",
    "import tensorflow as tf\n",
    "model = tf.keras.Sequential([\n",
    "    tf.keras.layers.Dense(4, activation='relu', input_shape=(x_tr.shape[1],)),\n",
    "    tf.keras.layers.Dense(4, activation='relu'),\n",
    "    tf.keras.layers.Dense(1, activation='sigmoid')\n",
    "])"
   ]
  },
  {
   "cell_type": "code",
   "execution_count": 9,
   "id": "b0fd073f",
   "metadata": {},
   "outputs": [],
   "source": [
    "# model.summary()\n",
    "model.compile(loss='binary_crossentropy', optimizer='Adam', metrics=['accuracy'])"
   ]
  },
  {
   "cell_type": "code",
   "execution_count": 10,
   "id": "bbf92ce0",
   "metadata": {
    "scrolled": true
   },
   "outputs": [
    {
     "name": "stdout",
     "output_type": "stream",
     "text": [
      "7/7 [==============================] - 0s 1ms/step - loss: 0.6006 - accuracy: 0.7040\n"
     ]
    },
    {
     "data": {
      "text/plain": [
       "[0.6005939841270447, 0.7040358781814575]"
      ]
     },
     "execution_count": 10,
     "metadata": {},
     "output_type": "execute_result"
    }
   ],
   "source": [
    "# 모델 훈련\n",
    "model.fit(x_tr, y_tr, epochs=5000, verbose=0)\n",
    "model.evaluate(x_te, y_te)"
   ]
  },
  {
   "cell_type": "markdown",
   "id": "4c939ecc",
   "metadata": {},
   "source": [
    "이하 머신러닝"
   ]
  },
  {
   "cell_type": "code",
   "execution_count": 14,
   "id": "a4bfd36b",
   "metadata": {},
   "outputs": [
    {
     "data": {
      "text/plain": [
       "(0.6946107784431138, 0.6860986547085202)"
      ]
     },
     "execution_count": 14,
     "metadata": {},
     "output_type": "execute_result"
    }
   ],
   "source": [
    "# 머신러닝(이항분류)\n",
    "from sklearn.linear_model import LogisticRegression\n",
    "model = LogisticRegression(max_iter= 1000).fit(x_tr,y_tr)\n",
    "model.score(x_tr, y_tr), model.score(x_te,y_te)"
   ]
  },
  {
   "cell_type": "markdown",
   "id": "7aa2d994",
   "metadata": {},
   "source": [
    "이하 딥러닝"
   ]
  },
  {
   "cell_type": "code",
   "execution_count": 15,
   "id": "822d00db",
   "metadata": {},
   "outputs": [],
   "source": [
    "# 딥러닝(이항분류-생존여부)\n",
    "import tensorflow as tf\n",
    "\n",
    "model = tf.keras.Sequential()\n",
    "\n",
    "model.add(\n",
    "    tf.keras.layers.Dense(10, activation='relu', input_shape=(x_tr.shape[1],))\n",
    ")\n",
    "model.add(\n",
    "    tf.keras.layers.Dense(1, activation='sigmoid')\n",
    ")"
   ]
  },
  {
   "cell_type": "code",
   "execution_count": 16,
   "id": "56bf0709",
   "metadata": {},
   "outputs": [],
   "source": [
    "# 1개 정답과 예측값의 차이 : 오차\n",
    "# 모든 입력값의 오차의 합: 비용(cost,loss)\n",
    "# 정받 찾는 방법 정의\n",
    "model.compile(\n",
    "    loss='binary_crossentropy', # 회귀 : mse, 다항 : (sparse_)categorical_c\n",
    "    optimizer = 'adam', # 기울기 미분, 가중치 업데이트 자동화\n",
    "    metrics=['acc']\n",
    ")"
   ]
  },
  {
   "cell_type": "code",
   "execution_count": 18,
   "id": "a08ea457",
   "metadata": {},
   "outputs": [
    {
     "name": "stdout",
     "output_type": "stream",
     "text": [
      "Epoch 1/10\n",
      "21/21 [==============================] - 0s 1ms/step - loss: 0.6191 - acc: 0.6886\n",
      "Epoch 2/10\n",
      "21/21 [==============================] - 0s 1ms/step - loss: 0.6135 - acc: 0.6946\n",
      "Epoch 3/10\n",
      "21/21 [==============================] - 0s 1ms/step - loss: 0.6085 - acc: 0.7036\n",
      "Epoch 4/10\n",
      "21/21 [==============================] - 0s 1ms/step - loss: 0.6039 - acc: 0.7111\n",
      "Epoch 5/10\n",
      "21/21 [==============================] - 0s 1ms/step - loss: 0.5995 - acc: 0.7096\n",
      "Epoch 6/10\n",
      "21/21 [==============================] - 0s 1ms/step - loss: 0.5958 - acc: 0.7081\n",
      "Epoch 7/10\n",
      "21/21 [==============================] - 0s 1ms/step - loss: 0.5924 - acc: 0.7096\n",
      "Epoch 8/10\n",
      "21/21 [==============================] - 0s 2ms/step - loss: 0.5896 - acc: 0.7066\n",
      "Epoch 9/10\n",
      "21/21 [==============================] - 0s 2ms/step - loss: 0.5870 - acc: 0.7096\n",
      "Epoch 10/10\n",
      "21/21 [==============================] - 0s 2ms/step - loss: 0.5848 - acc: 0.7051\n"
     ]
    },
    {
     "data": {
      "text/plain": [
       "<keras.callbacks.History at 0x171bd05b820>"
      ]
     },
     "execution_count": 18,
     "metadata": {},
     "output_type": "execute_result"
    }
   ],
   "source": [
    "# 모델 훈련\n",
    "model.fit(x_tr,y_tr,epochs=10,verbose=1)"
   ]
  },
  {
   "cell_type": "code",
   "execution_count": 19,
   "id": "6220cf2d",
   "metadata": {},
   "outputs": [
    {
     "name": "stdout",
     "output_type": "stream",
     "text": [
      "7/7 [==============================] - 0s 1ms/step - loss: 0.5799 - acc: 0.6951\n"
     ]
    },
    {
     "data": {
      "text/plain": [
       "[0.5798682570457458, 0.695067286491394]"
      ]
     },
     "execution_count": 19,
     "metadata": {},
     "output_type": "execute_result"
    }
   ],
   "source": [
    "model.evaluate(x_te,y_te)"
   ]
  },
  {
   "cell_type": "code",
   "execution_count": 20,
   "id": "b4483975",
   "metadata": {},
   "outputs": [
    {
     "name": "stdout",
     "output_type": "stream",
     "text": [
      "(404, 13) (102, 13)\n",
      "[  1.23247   0.        8.14      0.        0.538     6.142    91.7\n",
      "   3.9769    4.      307.       21.      396.9      18.72   ]\n",
      "[-0.27224633 -0.48361547 -0.43576161 -0.25683275 -0.1652266  -0.1764426\n",
      "  0.81306188  0.1166983  -0.62624905 -0.59517003  1.14850044  0.44807713\n",
      "  0.8252202 ]\n",
      "Epoch 1/50\n",
      "7/7 [==============================] - 1s 32ms/step - loss: 560.5266 - mae: 21.8191 - val_loss: 615.0005 - val_mae: 23.0137\n",
      "Epoch 2/50\n",
      "7/7 [==============================] - 0s 6ms/step - loss: 533.4075 - mae: 21.1758 - val_loss: 586.2869 - val_mae: 22.3748\n",
      "Epoch 3/50\n",
      "7/7 [==============================] - 0s 6ms/step - loss: 505.1454 - mae: 20.4926 - val_loss: 555.1706 - val_mae: 21.6590\n",
      "Epoch 4/50\n",
      "7/7 [==============================] - 0s 5ms/step - loss: 473.9006 - mae: 19.7177 - val_loss: 519.5596 - val_mae: 20.8114\n",
      "Epoch 5/50\n",
      "7/7 [==============================] - 0s 5ms/step - loss: 437.1833 - mae: 18.7796 - val_loss: 477.6934 - val_mae: 19.7891\n",
      "Epoch 6/50\n",
      "7/7 [==============================] - 0s 5ms/step - loss: 394.2904 - mae: 17.6460 - val_loss: 428.0795 - val_mae: 18.5446\n",
      "Epoch 7/50\n",
      "7/7 [==============================] - 0s 5ms/step - loss: 344.2373 - mae: 16.2349 - val_loss: 371.5948 - val_mae: 17.0177\n",
      "Epoch 8/50\n",
      "7/7 [==============================] - 0s 6ms/step - loss: 288.9130 - mae: 14.6872 - val_loss: 310.7561 - val_mae: 15.2041\n",
      "Epoch 9/50\n",
      "7/7 [==============================] - 0s 5ms/step - loss: 232.8226 - mae: 12.9302 - val_loss: 248.8353 - val_mae: 13.2341\n",
      "Epoch 10/50\n",
      "7/7 [==============================] - 0s 5ms/step - loss: 179.1067 - mae: 11.0246 - val_loss: 191.6242 - val_mae: 11.2065\n",
      "Epoch 11/50\n",
      "7/7 [==============================] - 0s 5ms/step - loss: 133.7478 - mae: 9.3025 - val_loss: 145.5272 - val_mae: 9.4788\n",
      "Epoch 12/50\n",
      "7/7 [==============================] - 0s 5ms/step - loss: 100.1460 - mae: 8.0236 - val_loss: 113.7828 - val_mae: 8.2809\n",
      "Epoch 13/50\n",
      "7/7 [==============================] - 0s 6ms/step - loss: 80.5711 - mae: 7.0838 - val_loss: 93.3519 - val_mae: 7.4983\n",
      "Epoch 14/50\n",
      "7/7 [==============================] - 0s 6ms/step - loss: 69.9995 - mae: 6.4929 - val_loss: 79.3801 - val_mae: 6.9790\n",
      "Epoch 15/50\n",
      "7/7 [==============================] - 0s 5ms/step - loss: 60.6071 - mae: 5.9866 - val_loss: 68.3455 - val_mae: 6.4408\n",
      "Epoch 16/50\n",
      "7/7 [==============================] - 0s 6ms/step - loss: 51.8009 - mae: 5.4717 - val_loss: 58.6486 - val_mae: 5.8760\n",
      "Epoch 17/50\n",
      "7/7 [==============================] - 0s 6ms/step - loss: 44.3931 - mae: 4.9851 - val_loss: 50.5694 - val_mae: 5.3434\n",
      "Epoch 18/50\n",
      "7/7 [==============================] - 0s 6ms/step - loss: 38.1555 - mae: 4.5680 - val_loss: 44.0716 - val_mae: 4.9224\n",
      "Epoch 19/50\n",
      "7/7 [==============================] - 0s 5ms/step - loss: 33.2569 - mae: 4.2257 - val_loss: 38.9342 - val_mae: 4.5918\n",
      "Epoch 20/50\n",
      "7/7 [==============================] - 0s 5ms/step - loss: 29.8966 - mae: 3.9644 - val_loss: 34.4743 - val_mae: 4.3301\n",
      "Epoch 21/50\n",
      "7/7 [==============================] - 0s 5ms/step - loss: 26.8410 - mae: 3.7452 - val_loss: 31.1658 - val_mae: 4.1341\n",
      "Epoch 22/50\n",
      "7/7 [==============================] - 0s 5ms/step - loss: 24.8273 - mae: 3.5772 - val_loss: 28.6787 - val_mae: 3.9857\n",
      "Epoch 23/50\n",
      "7/7 [==============================] - 0s 5ms/step - loss: 23.0576 - mae: 3.4267 - val_loss: 26.8509 - val_mae: 3.8512\n",
      "Epoch 24/50\n",
      "7/7 [==============================] - 0s 5ms/step - loss: 21.8438 - mae: 3.3032 - val_loss: 25.3911 - val_mae: 3.7656\n",
      "Epoch 25/50\n",
      "7/7 [==============================] - 0s 5ms/step - loss: 20.6721 - mae: 3.2113 - val_loss: 24.2775 - val_mae: 3.6885\n",
      "Epoch 26/50\n",
      "7/7 [==============================] - 0s 5ms/step - loss: 19.8315 - mae: 3.1371 - val_loss: 23.3255 - val_mae: 3.6160\n",
      "Epoch 27/50\n",
      "7/7 [==============================] - 0s 6ms/step - loss: 19.0988 - mae: 3.0739 - val_loss: 22.5609 - val_mae: 3.5542\n",
      "Epoch 28/50\n",
      "7/7 [==============================] - 0s 5ms/step - loss: 18.5177 - mae: 3.0223 - val_loss: 21.8804 - val_mae: 3.5026\n",
      "Epoch 29/50\n",
      "7/7 [==============================] - 0s 5ms/step - loss: 17.9234 - mae: 2.9734 - val_loss: 21.3556 - val_mae: 3.4565\n",
      "Epoch 30/50\n",
      "7/7 [==============================] - 0s 6ms/step - loss: 17.3936 - mae: 2.9247 - val_loss: 20.7869 - val_mae: 3.3949\n",
      "Epoch 31/50\n",
      "7/7 [==============================] - 0s 5ms/step - loss: 16.9375 - mae: 2.8736 - val_loss: 20.3155 - val_mae: 3.3390\n",
      "Epoch 32/50\n",
      "7/7 [==============================] - 0s 5ms/step - loss: 16.5578 - mae: 2.8309 - val_loss: 19.8954 - val_mae: 3.2949\n",
      "Epoch 33/50\n",
      "7/7 [==============================] - 0s 5ms/step - loss: 16.1753 - mae: 2.8015 - val_loss: 19.5550 - val_mae: 3.2638\n",
      "Epoch 34/50\n",
      "7/7 [==============================] - 0s 5ms/step - loss: 15.7854 - mae: 2.7808 - val_loss: 19.2963 - val_mae: 3.2554\n",
      "Epoch 35/50\n",
      "7/7 [==============================] - 0s 5ms/step - loss: 15.3780 - mae: 2.7572 - val_loss: 18.9523 - val_mae: 3.2200\n",
      "Epoch 36/50\n",
      "7/7 [==============================] - 0s 5ms/step - loss: 15.0350 - mae: 2.7205 - val_loss: 18.4699 - val_mae: 3.1755\n",
      "Epoch 37/50\n",
      "7/7 [==============================] - 0s 5ms/step - loss: 14.7345 - mae: 2.6888 - val_loss: 18.3077 - val_mae: 3.1629\n",
      "Epoch 38/50\n",
      "7/7 [==============================] - 0s 5ms/step - loss: 14.3758 - mae: 2.6634 - val_loss: 17.9235 - val_mae: 3.1360\n",
      "Epoch 39/50\n",
      "7/7 [==============================] - 0s 7ms/step - loss: 14.0701 - mae: 2.6257 - val_loss: 17.6083 - val_mae: 3.1069\n",
      "Epoch 40/50\n",
      "7/7 [==============================] - 0s 6ms/step - loss: 13.7864 - mae: 2.5917 - val_loss: 17.3736 - val_mae: 3.0882\n",
      "Epoch 41/50\n",
      "7/7 [==============================] - 0s 6ms/step - loss: 13.5380 - mae: 2.5645 - val_loss: 17.1538 - val_mae: 3.0638\n",
      "Epoch 42/50\n",
      "7/7 [==============================] - 0s 6ms/step - loss: 13.2623 - mae: 2.5371 - val_loss: 17.0013 - val_mae: 3.0436\n",
      "Epoch 43/50\n",
      "7/7 [==============================] - 0s 10ms/step - loss: 13.0493 - mae: 2.5154 - val_loss: 16.8329 - val_mae: 3.0345\n",
      "Epoch 44/50\n",
      "7/7 [==============================] - 0s 5ms/step - loss: 12.7997 - mae: 2.4854 - val_loss: 16.6544 - val_mae: 3.0233\n",
      "Epoch 45/50\n",
      "7/7 [==============================] - 0s 5ms/step - loss: 12.6833 - mae: 2.4608 - val_loss: 16.4276 - val_mae: 3.0102\n",
      "Epoch 46/50\n",
      "7/7 [==============================] - 0s 6ms/step - loss: 12.3680 - mae: 2.4326 - val_loss: 16.3403 - val_mae: 2.9877\n",
      "Epoch 47/50\n",
      "7/7 [==============================] - 0s 5ms/step - loss: 12.2030 - mae: 2.4386 - val_loss: 16.4156 - val_mae: 2.9850\n",
      "Epoch 48/50\n",
      "7/7 [==============================] - 0s 6ms/step - loss: 12.0094 - mae: 2.4286 - val_loss: 16.2235 - val_mae: 2.9657\n",
      "Epoch 49/50\n",
      "7/7 [==============================] - 0s 5ms/step - loss: 11.8401 - mae: 2.4027 - val_loss: 16.0038 - val_mae: 2.9466\n",
      "Epoch 50/50\n",
      "7/7 [==============================] - 0s 5ms/step - loss: 11.7376 - mae: 2.3747 - val_loss: 15.7634 - val_mae: 2.9377\n",
      "4/4 [==============================] - 0s 1ms/step - loss: 26.8682 - mae: 3.5234\n"
     ]
    },
    {
     "data": {
      "text/plain": [
       "[26.86817169189453, 3.523407220840454]"
      ]
     },
     "execution_count": 20,
     "metadata": {},
     "output_type": "execute_result"
    }
   ],
   "source": [
    "from tensorflow.keras.datasets import boston_housing\n",
    "from tensorflow.keras import models, layers\n",
    "\n",
    "(X_train, y_train), (X_test, y_test) = boston_housing.load_data()\n",
    "print(X_train.shape, X_test.shape)\n",
    "print(X_train[0])\n",
    "\n",
    "mean = X_train.mean(axis=0)\n",
    "X_train -= mean\n",
    "std = X_train.std(axis=0)\n",
    "X_train /= std \n",
    "\n",
    "X_test -=mean \n",
    "X_test /=std\n",
    "print(X_train[0])\n",
    "\n",
    "model = models.Sequential() \n",
    "model.add(layers.Dense(256, activation='relu'\n",
    "               , input_shape=(X_train.shape[1],)))\n",
    "model.add(layers.Dense(256, activation='relu'))\n",
    "model.add(layers.Dense(1))     # 마지막 Dense의 activation 생략(linear기본), unit 기본 1\n",
    "model.compile(optimizer='adam', loss='mse',metrics=['mae'])\n",
    "\n",
    "history = model.fit(X_train, y_train ,epochs =1.0, batch_size=50, validation_split=(x_test,y_test))\n",
    "model.evaluate(X_test, y_test)  #score 같은거"
   ]
  },
  {
   "cell_type": "code",
   "execution_count": 73,
   "id": "70004ca3",
   "metadata": {},
   "outputs": [],
   "source": [
    "# 모듈 임포팅\n",
    "from tensorflow.keras import models, layers\n",
    "import pandas as pd\n",
    "import seaborn as sns"
   ]
  },
  {
   "cell_type": "code",
   "execution_count": 74,
   "id": "a09d05fe",
   "metadata": {},
   "outputs": [
    {
     "name": "stdout",
     "output_type": "stream",
     "text": [
      "Index(['sepal_length', 'sepal_width', 'petal_length', 'petal_width',\n",
      "       'species'],\n",
      "      dtype='object')\n"
     ]
    }
   ],
   "source": [
    "# 데이터로딩\n",
    "iris = sns.load_dataset(\"iris\")\n",
    "print(iris.columns)"
   ]
  },
  {
   "cell_type": "code",
   "execution_count": 75,
   "id": "254d8124",
   "metadata": {},
   "outputs": [],
   "source": [
    "# X,y 정의 (독립, 종속 변인 구분)\n",
    "y = iris[\"species\"]\n",
    "X = iris[[\"sepal_length\",\"sepal_width\",\"petal_length\",\"petal_width\"]]"
   ]
  },
  {
   "cell_type": "code",
   "execution_count": 76,
   "id": "5cd0da2c",
   "metadata": {},
   "outputs": [],
   "source": [
    "# 원핫 인코딩\n",
    "y = pd.get_dummies(y)\n",
    "# 원핫 인코딩보단 카테고리화(정수화) 시키는 것이 나음"
   ]
  },
  {
   "cell_type": "code",
   "execution_count": 77,
   "id": "c3adf623",
   "metadata": {},
   "outputs": [],
   "source": [
    "# X의 결측치 처리\n",
    "iris.isna().sum()\n",
    "pass"
   ]
  },
  {
   "cell_type": "code",
   "execution_count": 78,
   "id": "75ef73e5",
   "metadata": {},
   "outputs": [],
   "source": [
    "# X의 표준화/정규화\n",
    "from  sklearn.preprocessing import StandardScaler\n",
    "ss = StandardScaler()\n",
    "X_ss = ss.fit_transform(X)"
   ]
  },
  {
   "cell_type": "code",
   "execution_count": 79,
   "id": "fcc56958",
   "metadata": {},
   "outputs": [],
   "source": [
    "# 훈련, 테스트데이터 분리\n",
    "from sklearn.model_selection import train_test_split\n",
    "x_tr, x_te, y_tr, y_te = train_test_split(\n",
    "    X_ss, y, random_state=100, stratify=y\n",
    ")"
   ]
  },
  {
   "cell_type": "markdown",
   "id": "8367c607",
   "metadata": {},
   "source": [
    "여기까지 머신러닝과 같음"
   ]
  },
  {
   "cell_type": "code",
   "execution_count": 84,
   "id": "19f78091",
   "metadata": {},
   "outputs": [],
   "source": [
    "# 모델 생성\n",
    "import tensorflow as tf\n",
    "model = tf.keras.Sequential([\n",
    "    tf.keras.layers.Dense(4, activation='relu', input_shape=(x_tr.shape[1],)),\n",
    "    tf.keras.layers.Dense(4, activation='relu'),\n",
    "    tf.keras.layers.Dense(3, activation='softmax')  # 각각의 라벨에 대한 확률 저장\n",
    "])"
   ]
  },
  {
   "cell_type": "code",
   "execution_count": 85,
   "id": "f17a4ca8",
   "metadata": {},
   "outputs": [],
   "source": [
    "# 모델 컴파일링\n",
    "model.compile(loss='categorical_crossentropy', optimizer='Adam', metrics=['accuracy'])"
   ]
  },
  {
   "cell_type": "code",
   "execution_count": 86,
   "id": "6a72e7d3",
   "metadata": {
    "scrolled": true
   },
   "outputs": [
    {
     "data": {
      "text/plain": [
       "<keras.callbacks.History at 0x171cc037b20>"
      ]
     },
     "execution_count": 86,
     "metadata": {},
     "output_type": "execute_result"
    }
   ],
   "source": [
    "# 모델 훈련\n",
    "model.fit(x_tr, y_tr, epochs=100, verbose=0)"
   ]
  },
  {
   "cell_type": "code",
   "execution_count": 87,
   "id": "2a4340a7",
   "metadata": {},
   "outputs": [
    {
     "name": "stdout",
     "output_type": "stream",
     "text": [
      "2/2 [==============================] - 0s 4ms/step - loss: 0.4578 - accuracy: 0.8947\n"
     ]
    },
    {
     "data": {
      "text/plain": [
       "[0.4577954411506653, 0.8947368264198303]"
      ]
     },
     "execution_count": 87,
     "metadata": {},
     "output_type": "execute_result"
    }
   ],
   "source": [
    "# 모델 평가\n",
    "model.evaluate(x_te, y_te)"
   ]
  },
  {
   "cell_type": "code",
   "execution_count": 94,
   "id": "3a70d12c",
   "metadata": {},
   "outputs": [
    {
     "name": "stdout",
     "output_type": "stream",
     "text": [
      "Index(['sepal_length', 'sepal_width', 'petal_length', 'petal_width',\n",
      "       'species'],\n",
      "      dtype='object')\n",
      "WARNING:tensorflow:5 out of the last 13 calls to <function Model.make_test_function.<locals>.test_function at 0x00000171CD5A88B0> triggered tf.function retracing. Tracing is expensive and the excessive number of tracings could be due to (1) creating @tf.function repeatedly in a loop, (2) passing tensors with different shapes, (3) passing Python objects instead of tensors. For (1), please define your @tf.function outside of the loop. For (2), @tf.function has reduce_retracing=True option that can avoid unnecessary retracing. For (3), please refer to https://www.tensorflow.org/guide/function#controlling_retracing and https://www.tensorflow.org/api_docs/python/tf/function for  more details.\n",
      "2/2 [==============================] - 0s 2ms/step - loss: 0.4470 - accuracy: 0.7632\n"
     ]
    },
    {
     "data": {
      "text/plain": [
       "[0.44703519344329834, 0.7631579041481018]"
      ]
     },
     "execution_count": 94,
     "metadata": {},
     "output_type": "execute_result"
    }
   ],
   "source": [
    "# 모듈 임포팅\n",
    "from tensorflow.keras import models, layers\n",
    "import pandas as pd\n",
    "import seaborn as sns\n",
    "\n",
    "# 데이터로딩\n",
    "iris = sns.load_dataset(\"iris\")\n",
    "\n",
    "# X,y 정의 (독립, 종속 변인 구분)\n",
    "y = iris[\"species\"]\n",
    "X = iris.drop(columns = 'species')\n",
    "\n",
    "# 카테고리화\n",
    "y = y.replace({'setosa':0,'versicolor':1,'virginica':2})\n",
    "\n",
    "# X의 결측치 처리\n",
    "iris.isna().sum()\n",
    "pass\n",
    "\n",
    "# X의 표준화/정규화\n",
    "from  sklearn.preprocessing import StandardScaler\n",
    "ss = StandardScaler()\n",
    "X_ss = ss.fit_transform(X)\n",
    "\n",
    "# 훈련, 테스트데이터 분리\n",
    "from sklearn.model_selection import train_test_split\n",
    "x_tr, x_te, y_tr, y_te = train_test_split(\n",
    "    X_ss, y, random_state=100, stratify=y\n",
    ")\n",
    "\n",
    "# 모델 생성\n",
    "import tensorflow as tf\n",
    "model = tf.keras.Sequential([\n",
    "    tf.keras.layers.Dense(4, activation='relu', input_shape=(x_tr.shape[1],)),\n",
    "    tf.keras.layers.Dense(4, activation='relu'),\n",
    "    tf.keras.layers.Dense(3, activation='softmax')\n",
    "])\n",
    "\n",
    "# 모델 컴파일링\n",
    "model.compile(loss='sparse_categorical_crossentropy', optimizer='Adam', metrics=['accuracy'])\n",
    "\n",
    "# 모델 훈련\n",
    "model.fit(x_tr, y_tr, epochs=100, verbose=0)\n",
    "\n",
    "# 모델 평가\n",
    "model.evaluate(x_te, y_te)"
   ]
  }
 ],
 "metadata": {
  "kernelspec": {
   "display_name": "Python 3 (ipykernel)",
   "language": "python",
   "name": "python3"
  },
  "language_info": {
   "codemirror_mode": {
    "name": "ipython",
    "version": 3
   },
   "file_extension": ".py",
   "mimetype": "text/x-python",
   "name": "python",
   "nbconvert_exporter": "python",
   "pygments_lexer": "ipython3",
   "version": "3.9.12"
  }
 },
 "nbformat": 4,
 "nbformat_minor": 5
}
