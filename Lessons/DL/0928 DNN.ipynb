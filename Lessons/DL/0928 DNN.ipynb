{
 "cells": [
  {
   "cell_type": "markdown",
   "id": "dd6282fa",
   "metadata": {},
   "source": [
    "# DNN 설정시 주의사항\n",
    "\n",
    "- Sequantial()내부 첫번째 Dense()는 input_shape=.. 필수  \n",
    "- Dense()의 unit수는 임의로 정함.  \n",
    "  \n",
    "1. 이진분류(0,1)  \n",
    "- Sequantial()내부 히든 Dense()의 activation=\"relu\", unit수는 임의로  \n",
    "- Sequantial()내부 마지막 Dense()의 activation=\"sigmoid\", unit수는 1  \n",
    "- compile()내 loss=\"binary_crossentropy\"  \n",
    "- predict() 는 1이 될 확률 반환  \n",
    "  \n",
    "2. 다항분류  \n",
    "- Sequantial()내부 히든 Dense()의 activation=\"relu\", unit수는 임의로  \n",
    "- Sequantial()내부 마지막 Dense()의 activation=\"softmax\", unit수는 종류갯수  \n",
    "- compile()내 loss=\"sparse_categorical_crossentropy\"  \n",
    "- predict() 는 1이 될 확률이 가장 큰 순번 반환(0 시작)  \n",
    "  \n",
    "3. 회귀  \n",
    "- Sequantial()내부 마지막 Dense()의 activation 생략(linear기본), unit수는 1  \n",
    "- compile()내 loss=\"mse\" mean_squared_error  \n",
    "- predict() 는 1이 될 확률 반환  "
   ]
  },
  {
   "cell_type": "code",
   "execution_count": 1,
   "id": "acd90226",
   "metadata": {},
   "outputs": [
    {
     "name": "stdout",
     "output_type": "stream",
     "text": [
      "Index(['survived', 'pclass', 'sex', 'age', 'sibsp', 'parch', 'fare',\n",
      "       'embarked', 'class', 'who', 'adult_male', 'deck', 'embark_town',\n",
      "       'alive', 'alone'],\n",
      "      dtype='object')\n"
     ]
    },
    {
     "name": "stderr",
     "output_type": "stream",
     "text": [
      "C:\\Users\\admin\\AppData\\Local\\Temp\\ipykernel_14628\\4209251764.py:15: SettingWithCopyWarning: \n",
      "A value is trying to be set on a copy of a slice from a DataFrame.\n",
      "Try using .loc[row_indexer,col_indexer] = value instead\n",
      "\n",
      "See the caveats in the documentation: https://pandas.pydata.org/pandas-docs/stable/user_guide/indexing.html#returning-a-view-versus-a-copy\n",
      "  X[\"age\"] = X[\"age\"].fillna(X[\"age\"].mean())\n"
     ]
    },
    {
     "name": "stdout",
     "output_type": "stream",
     "text": [
      "7/7 [==============================] - 0s 1ms/step - loss: 0.5956 - accuracy: 0.7040\n"
     ]
    },
    {
     "data": {
      "text/plain": [
       "[0.5955715179443359, 0.7040358781814575]"
      ]
     },
     "execution_count": 1,
     "metadata": {},
     "output_type": "execute_result"
    }
   ],
   "source": [
    "# 타이타닉 생존율 예측\n",
    "# 데이터로딩\n",
    "from tensorflow.keras import models, layers\n",
    "import pandas as pd\n",
    "import seaborn as sns\n",
    "\n",
    "ti = sns.load_dataset(\"titanic\")\n",
    "print(ti.columns)\n",
    "\n",
    "# X,y 정의\n",
    "y = ti[\"survived\"]\n",
    "X = ti[[\"pclass\",\"age\",\"sibsp\",\"parch\"]]\n",
    "\n",
    "# X의 결측치 처리\n",
    "X[\"age\"] = X[\"age\"].fillna(X[\"age\"].mean())\n",
    "\n",
    "# X의 표준화(평균을 0)/정규화(0~1)\n",
    "# 표준화 : 각 칼럼이 독립적일 경우\n",
    "# 정규화 : 모든 칼럼이 동일한 의미의 정보를 가지는 경우(ex 픽셀정보)\n",
    "from  sklearn.preprocessing import StandardScaler\n",
    "ss = StandardScaler()\n",
    "X_ss = ss.fit_transform(X)\n",
    "\n",
    "# 훈련, 테스트데이터 분리\n",
    "from sklearn.model_selection import train_test_split\n",
    "x_tr, x_te, y_tr, y_te = train_test_split(\n",
    "    X_ss, y, random_state=100, stratify=y\n",
    ")\n",
    "# 모델 생성\n",
    "import tensorflow as tf\n",
    "model = tf.keras.Sequential([\n",
    "    tf.keras.layers.Dense(4, activation='relu', input_shape=(x_tr.shape[1],)),\n",
    "    tf.keras.layers.Dense(4, activation='relu'),\n",
    "    tf.keras.layers.Dense(1, activation='sigmoid')\n",
    "])\n",
    "# model.summary()\n",
    "model.compile(loss='binary_crossentropy', optimizer='Adam', metrics=['accuracy'])\n",
    "\n",
    "# 모델 훈련\n",
    "model.fit(x_tr, y_tr, epochs=5000, verbose=0)\n",
    "model.evaluate(x_te, y_te)"
   ]
  },
  {
   "cell_type": "code",
   "execution_count": null,
   "id": "08ff4aee",
   "metadata": {},
   "outputs": [],
   "source": [
    "# 타이타닉 생존률 예측\n",
    "from tensorflow.keras import models, layers, Sequential\n",
    "from sklearn.model_selection import train_test_split\n",
    "import seaborn as sns\n",
    "import pandas as pd\n",
    "\n",
    "# 데이터 로딩\n",
    "ti = sns.load_dataset('titanic')\n",
    "\n",
    "# X,y 정의\n",
    "X = ti.drop('survived',axis=1)\n",
    "y = ti['survived']\n",
    "\n",
    "# X의 결측치 처리\n",
    "X['age'] = X['age'].fillna(X['age'].mean())\n",
    "X['embark_town'] = X['embark_town'].fillna(X['embark_town'].mode())\n",
    "X['embarked'] = X['embarked'].fillna(X['embarked'].mode())\n",
    "X.isna().sum()\n",
    "\n",
    "# 훈련, 테스트데이터 분리\n",
    "x_tr, x_te, y_tr, y_te = train_test_split(\n",
    "    X, y, random_state=100, stratify=y\n",
    ")\n",
    "\n",
    "# 모델 생성\n",
    "model = Sequential([\n",
    "    layers.Dense(4, activation='relu', input_shape=(x_tr.shape[1],)),\n",
    "    layers.Dense(4, activation='relu'),\n",
    "    layers.Dense(1, activation='sigmoid')\n",
    "])\n",
    "# model.summary()\n",
    "model.compile(loss='binary_crossentropy', optimizer='Adam', metrics=['accuracy'])\n",
    "\n",
    "# 모델 훈련\n",
    "model.fit(x_tr, y_tr, epochs=5000, verbose=0)\n",
    "model.evaluate(x_te, y_te)"
   ]
  }
 ],
 "metadata": {
  "kernelspec": {
   "display_name": "Python 3 (ipykernel)",
   "language": "python",
   "name": "python3"
  },
  "language_info": {
   "codemirror_mode": {
    "name": "ipython",
    "version": 3
   },
   "file_extension": ".py",
   "mimetype": "text/x-python",
   "name": "python",
   "nbconvert_exporter": "python",
   "pygments_lexer": "ipython3",
   "version": "3.9.12"
  }
 },
 "nbformat": 4,
 "nbformat_minor": 5
}
