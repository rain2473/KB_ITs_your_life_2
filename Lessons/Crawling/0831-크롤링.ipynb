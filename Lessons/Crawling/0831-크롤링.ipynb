{
 "cells": [
  {
   "cell_type": "markdown",
   "metadata": {},
   "source": [
    "# 크롤링(Crawling, Scraping)\n",
    "웹페이지에서 필요한 자료 추출"
   ]
  },
  {
   "cell_type": "markdown",
   "metadata": {},
   "source": [
    "## 기상청 크롤링"
   ]
  },
  {
   "cell_type": "code",
   "execution_count": 1,
   "metadata": {},
   "outputs": [
    {
     "name": "stderr",
     "output_type": "stream",
     "text": [
      "C:\\ProgramData\\Anaconda3\\lib\\site-packages\\requests\\__init__.py:89: RequestsDependencyWarning: urllib3 (1.26.12) or chardet (3.0.4) doesn't match a supported version!\n",
      "  warnings.warn(\"urllib3 ({}) or chardet ({}) doesn't match a supported \"\n"
     ]
    }
   ],
   "source": [
    "url = 'http://www.kma.go.kr/wid/queryDFSRSS.jsp?zone=1168064000'\n",
    "import requests\n",
    "res = requests.get(url)\n",
    "# res.text"
   ]
  },
  {
   "cell_type": "code",
   "execution_count": 2,
   "metadata": {},
   "outputs": [],
   "source": [
    "from bs4 import BeautifulSoup\n",
    "bs = BeautifulSoup(res.text,'html.parser')\n",
    "# bs.text"
   ]
  },
  {
   "cell_type": "code",
   "execution_count": 3,
   "metadata": {},
   "outputs": [
    {
     "data": {
      "text/plain": [
       "'서울특별시 강남구 역삼1동'"
      ]
     },
     "execution_count": 3,
     "metadata": {},
     "output_type": "execute_result"
    }
   ],
   "source": [
    "# bs.select('') 모든 태그 -> 리스트\n",
    "# bs.select_one('') 한개 태그\n",
    "bs.select_one('category').string"
   ]
  },
  {
   "cell_type": "code",
   "execution_count": 4,
   "metadata": {},
   "outputs": [
    {
     "name": "stdout",
     "output_type": "stream",
     "text": [
      "갯수:17\n"
     ]
    },
    {
     "data": {
      "text/plain": [
       "[{'시간': '24', '날짜': '오늘', '날씨': '맑음', '온도': '23.0', '강수': '0', '습도': '75'},\n",
       " {'시간': '3', '날짜': '내일', '날씨': '맑음', '온도': '21.0', '강수': '0', '습도': '80'},\n",
       " {'시간': '6', '날짜': '내일', '날씨': '맑음', '온도': '21.0', '강수': '0', '습도': '80'},\n",
       " {'시간': '9', '날짜': '내일', '날씨': '맑음', '온도': '24.0', '강수': '0', '습도': '70'},\n",
       " {'시간': '12', '날짜': '내일', '날씨': '맑음', '온도': '26.0', '강수': '10', '습도': '65'},\n",
       " {'시간': '15', '날짜': '내일', '날씨': '구름 많음', '온도': '27.0', '강수': '10', '습도': '60'},\n",
       " {'시간': '18', '날짜': '내일', '날씨': '흐림', '온도': '25.0', '강수': '30', '습도': '70'},\n",
       " {'시간': '21', '날짜': '내일', '날씨': '흐림', '온도': '24.0', '강수': '30', '습도': '75'},\n",
       " {'시간': '24', '날짜': '내일', '날씨': '흐림', '온도': '23.0', '강수': '30', '습도': '75'},\n",
       " {'시간': '3', '날짜': '모레', '날씨': '흐림', '온도': '23.0', '강수': '30', '습도': '80'},\n",
       " {'시간': '6', '날짜': '모레', '날씨': '흐림', '온도': '23.0', '강수': '30', '습도': '80'},\n",
       " {'시간': '9', '날짜': '모레', '날씨': '비', '온도': '24.0', '강수': '61', '습도': '85'},\n",
       " {'시간': '12', '날짜': '모레', '날씨': '비', '온도': '26.0', '강수': '77', '습도': '85'},\n",
       " {'시간': '15', '날짜': '모레', '날씨': '비', '온도': '26.0', '강수': '60', '습도': '85'},\n",
       " {'시간': '18', '날짜': '모레', '날씨': '비', '온도': '25.0', '강수': '63', '습도': '90'},\n",
       " {'시간': '21', '날짜': '모레', '날씨': '비', '온도': '25.0', '강수': '60', '습도': '90'},\n",
       " {'시간': '24', '날짜': '모레', '날씨': '비', '온도': '24.0', '강수': '60', '습도': '90'}]"
      ]
     },
     "execution_count": 4,
     "metadata": {},
     "output_type": "execute_result"
    }
   ],
   "source": [
    "#일기예보 데이터 추출 (3시간)\n",
    "data_list = bs.select('data')\n",
    "print(f'갯수:{len(data_list)}')\n",
    "data_arr = []\n",
    "day_arr = ['오늘','내일','모레']\n",
    "for dt in data_list:\n",
    "    data_dict = dict()\n",
    "    data_dict['시간'] = dt.select_one('hour').string\n",
    "    data_dict['날짜'] = day_arr[int(dt.select_one('day').string)]\n",
    "    data_dict['날씨'] = dt.select_one('wfkor').string\n",
    "    data_dict['온도'] = dt.select_one('temp').string\n",
    "    data_dict['강수'] = dt.select_one('pop').string\n",
    "    data_dict['습도'] = dt.select_one('reh').string\n",
    "    data_arr.append(data_dict)    \n",
    "data_arr"
   ]
  },
  {
   "cell_type": "markdown",
   "metadata": {},
   "source": [
    "</br>\n",
    "</br>"
   ]
  },
  {
   "cell_type": "markdown",
   "metadata": {},
   "source": [
    "## KOVO 경기결과 크롤링"
   ]
  },
  {
   "cell_type": "code",
   "execution_count": 5,
   "metadata": {},
   "outputs": [
    {
     "name": "stderr",
     "output_type": "stream",
     "text": [
      "C:\\Users\\admin\\AppData\\Roaming\\Python\\Python38\\site-packages\\urllib3\\connectionpool.py:1045: InsecureRequestWarning: Unverified HTTPS request is being made to host 'www.kovo.co.kr'. Adding certificate verification is strongly advised. See: https://urllib3.readthedocs.io/en/1.26.x/advanced-usage.html#ssl-warnings\n",
      "  warnings.warn(\n"
     ]
    }
   ],
   "source": [
    "import requests\n",
    "from bs4 import BeautifulSoup\n",
    "url = 'https://www.kovo.co.kr/game/v-league/11110_schedule_list.asp'\n",
    "res = requests.get(url,verify = False)\n",
    "bs = BeautifulSoup(res.text,'html.parser')"
   ]
  },
  {
   "cell_type": "code",
   "execution_count": 6,
   "metadata": {},
   "outputs": [
    {
     "data": {
      "text/plain": [
       "'10. 16 (토),대한항공,3,:,1,우리카드\\n10. 16 (토),GS칼텍스,3,:,0,흥국생명\\n10. 17 (일),현대캐피탈,3,:,1,OK금융그룹\\n10. 17 (일),현대건설,3,:,1,IBK기업은행\\n10. 19 (화),삼성화재,0,:,3,한국전력\\n10. 19 (화),페퍼저축은행,1,:,3,KGC인삼공사\\n10. 20 (수),KB손해보험,3,:,2,현대캐피탈\\n10. 20 (수),한국도로공사,0,:,3,현대건설\\n10. 21 (목),OK금융그룹,3,:,2,우리카드\\n10. 21 (목),IBK기업은행,1,:,3,흥국생명\\n10. 22 (금),삼성화재,3,:,0,대한항공\\n10. 22 (금),페퍼저축은행,0,:,3,GS칼텍스\\n10. 23 (토),한국전력,3,:,1,KB손해보험\\n10. 23 (토),KGC인삼공사,3,:,0,한국도로공사\\n10. 24 (일),우리카드,1,:,3,현대캐피탈\\n10. 24 (일),현대건설,3,:,1,흥국생명\\n10. 26 (화),OK금융그룹,3,:,1,KB손해보험\\n10. 26 (화),IBK기업은행,1,:,3,한국도로공사\\n10. 27 (수),현대캐피탈,3,:,2,대한항공\\n10. 27 (수),GS칼텍스,1,:,3,현대건설\\n10. 28 (목),우리카드,3,:,0,한국전력\\n10. 28 (목),KGC인삼공사,3,:,1,흥국생명\\n10. 29 (금),KB손해보험,2,:,3,삼성화재\\n10. 29 (금),한국도로공사,3,:,0,페퍼저축은행\\n10. 30 (토),대한항공,3,:,0,OK금융그룹\\n10. 30 (토),GS칼텍스,3,:,1,IBK기업은행\\n10. 31 (일),한국전력,3,:,0,현대캐피탈\\n10. 31 (일),KGC인삼공사,0,:,3,현대건설\\n'"
      ]
     },
     "execution_count": 6,
     "metadata": {},
     "output_type": "execute_result"
    }
   ],
   "source": [
    "#코보 데이터 추출\n",
    "\n",
    "tbl = bs.select_one('table.lst_schedule')\n",
    "tbl_tr = tbl.select('tr')\n",
    "data_list=''\n",
    "date = ''\n",
    "for tr in tbl_tr:\n",
    "    if len(tr.select('td.tright')) == 0:\n",
    "        continue\n",
    "    if tr.select_one('td.date').get_text() != '':\n",
    "        date = tr.select_one('td.date').get_text()\n",
    "    game_result = []\n",
    "    game_result.append(date)\n",
    "    tmp = tr.select_one('td.tright').get_text().replace(u'\\xa0', u' ')\n",
    "    tmp += tr.select_one('td.tleft').get_text().replace(u'\\xa0', u' ')\n",
    "    tmp = tmp.split(\" \")\n",
    "    for i in range(len(tmp)):\n",
    "        if tmp[i] !='':\n",
    "            game_result.append(tmp[i])\n",
    "    game_result=','.join(game_result)\n",
    "    data_list+=game_result+'\\n'\n",
    "data_list"
   ]
  },
  {
   "cell_type": "code",
   "execution_count": 7,
   "metadata": {},
   "outputs": [
    {
     "data": {
      "text/plain": [
       "<function TextIOWrapper.close()>"
      ]
     },
     "execution_count": 7,
     "metadata": {},
     "output_type": "execute_result"
    }
   ],
   "source": [
    "with open('배구승패.csv','w') as f:\n",
    "    f.write(data_list)\n",
    "f.close"
   ]
  },
  {
   "cell_type": "markdown",
   "metadata": {},
   "source": [
    "</br>\n",
    "</br> "
   ]
  },
  {
   "cell_type": "code",
   "execution_count": 11,
   "metadata": {},
   "outputs": [
    {
     "name": "stdout",
     "output_type": "stream",
     "text": [
      "['http://www.statiz.co.kr/stat.php?mid=stat&re=0&ys=2022&ye=2022&se=0&te=&tm=&ty=0&qu=auto&po=0&as=&ae=&hi=&un=&pl=&da=1&o1=TPA&&de=1&lr=0&tr=&cv=&ml=1&sn=265&pa=0&si=&cn=\\n', 'http://www.statiz.co.kr/stat.php?mid=stat&re=0&ys=2022&ye=2022&se=0&te=&tm=&ty=0&qu=auto&po=0&as=&ae=&hi=&un=&pl=&da=2&o1=TPA&&de=1&lr=0&tr=&cv=&ml=1&sn=265&pa=0&si=&cn=\\n', 'http://www.statiz.co.kr/stat.php?mid=stat&re=0&ys=2022&ye=2022&se=0&te=&tm=&ty=0&qu=auto&po=0&as=&ae=&hi=&un=&pl=&da=3&o1=TPA&&de=1&lr=0&tr=&cv=&ml=1&sn=265&pa=0&si=&cn=\\n', 'http://www.statiz.co.kr/stat.php?mid=stat&re=0&ys=2022&ye=2022&se=0&te=&tm=&ty=0&qu=auto&po=0&as=&ae=&hi=&un=&pl=&da=4&o1=TPA&&de=1&lr=0&tr=&cv=&ml=1&sn=265&pa=0&si=&cn=\\n', 'http://www.statiz.co.kr/stat.php?mid=stat&re=0&ys=2022&ye=2022&se=0&te=&tm=&ty=0&qu=auto&po=0&as=&ae=&hi=&un=&pl=&da=5&o1=TPA&&de=1&lr=0&tr=&cv=&ml=1&sn=265&pa=0&si=&cn=\\n', 'http://www.statiz.co.kr/stat.php?mid=stat&re=0&ys=2022&ye=2022&se=0&te=&tm=&ty=0&qu=auto&po=0&as=&ae=&hi=&un=&pl=&da=6&o1=TPA&&de=1&lr=0&tr=&cv=&ml=1&sn=265&pa=0&si=&cn=\\n', 'http://www.statiz.co.kr/stat.php?mid=stat&re=0&ys=2022&ye=2022&se=0&te=&tm=&ty=0&qu=auto&po=0&as=&ae=&hi=&un=&pl=&da=7&o1=TPA&&de=1&lr=0&tr=&cv=&ml=1&sn=265&pa=0&si=&cn=\\n', 'http://www.statiz.co.kr/stat.php?mid=stat&re=0&ys=2022&ye=2022&se=0&te=&tm=&ty=0&qu=auto&po=0&as=&ae=&hi=&un=&pl=&da=8&o1=TPA&&de=1&lr=0&tr=&cv=&ml=1&sn=265&pa=0&si=&cn=\\n', 'http://www.statiz.co.kr/stat.php?mid=stat&re=0&ys=2022&ye=2022&se=0&te=&tm=&ty=0&qu=auto&po=0&as=&ae=&hi=&un=&pl=&da=9&o1=TPA&&de=1&lr=0&tr=&cv=&ml=1&sn=265&pa=0&si=&cn=\\n', 'http://www.statiz.co.kr/stat.php?mid=stat&re=0&ys=2022&ye=2022&se=0&te=&tm=&ty=0&qu=auto&po=0&as=&ae=&hi=&un=&pl=&da=10&o1=TPA&&de=1&lr=0&tr=&cv=&ml=1&sn=265&pa=0&si=&cn=\\n', 'http://www.statiz.co.kr/stat.php?mid=stat&re=0&ys=2022&ye=2022&se=0&te=&tm=&ty=0&qu=auto&po=0&as=&ae=&hi=&un=&pl=&da=11&o1=TPA&&de=1&lr=0&tr=&cv=&ml=1&sn=265&pa=0&si=&cn=\\n', 'http://www.statiz.co.kr/stat.php?mid=stat&re=0&ys=2022&ye=2022&se=0&te=&tm=&ty=0&qu=auto&po=0&as=&ae=&hi=&un=&pl=&da=12&o1=TPA&&de=1&lr=0&tr=&cv=&ml=1&sn=265&pa=0&si=&cn=\\n', 'http://www.statiz.co.kr/stat.php?mid=stat&re=0&ys=2022&ye=2022&se=0&te=&tm=&ty=0&qu=auto&po=0&as=&ae=&hi=&un=&pl=&da=13&o1=TPA&&de=1&lr=0&tr=&cv=&ml=1&sn=265&pa=0&si=&cn=\\n', 'http://www.statiz.co.kr/stat.php?mid=stat&re=0&ys=2022&ye=2022&se=0&te=&tm=&ty=0&qu=auto&po=0&as=&ae=&hi=&un=&pl=&da=14&o1=TPA&&de=1&lr=0&tr=&cv=&ml=1&sn=265&pa=0&si=&cn=\\n']\n"
     ]
    }
   ],
   "source": [
    "url_list = []\n",
    "for cnt in range(1,15):\n",
    "    target_url = f'http://www.statiz.co.kr/stat.php?mid=stat&re=0&ys=2022&ye=2022&se=0&te=&tm=&ty=0&qu=auto&po=0&as=&ae=&hi=&un=&pl=&da={cnt}&o1=TPA&&de=1&lr=0&tr=&cv=&ml=1&sn=265&pa=0&si=&cn='\n",
    "    url_list.append(target_url+'\\n')\n",
    "print(url_list)"
   ]
  }
 ],
 "metadata": {
  "kernelspec": {
   "display_name": "Python 3 (ipykernel)",
   "language": "python",
   "name": "python3"
  },
  "language_info": {
   "codemirror_mode": {
    "name": "ipython",
    "version": 3
   },
   "file_extension": ".py",
   "mimetype": "text/x-python",
   "name": "python",
   "nbconvert_exporter": "python",
   "pygments_lexer": "ipython3",
   "version": "3.9.12"
  }
 },
 "nbformat": 4,
 "nbformat_minor": 4
}
